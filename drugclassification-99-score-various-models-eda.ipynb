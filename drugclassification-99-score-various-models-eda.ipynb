{
 "cells": [
  {
   "cell_type": "code",
   "execution_count": 1,
   "id": "2c832136",
   "metadata": {
    "_kg_hide-input": true,
    "_kg_hide-output": true,
    "execution": {
     "iopub.execute_input": "2021-11-15T05:04:04.323057Z",
     "iopub.status.busy": "2021-11-15T05:04:04.322090Z",
     "iopub.status.idle": "2021-11-15T05:04:04.326558Z",
     "shell.execute_reply": "2021-11-15T05:04:04.325838Z",
     "shell.execute_reply.started": "2021-11-15T05:00:43.605810Z"
    },
    "papermill": {
     "duration": 0.067925,
     "end_time": "2021-11-15T05:04:04.326743",
     "exception": false,
     "start_time": "2021-11-15T05:04:04.258818",
     "status": "completed"
    },
    "tags": []
   },
   "outputs": [],
   "source": [
    "import warnings\n",
    "warnings.filterwarnings('ignore')"
   ]
  },
  {
   "cell_type": "markdown",
   "id": "8994c645",
   "metadata": {
    "papermill": {
     "duration": 0.046628,
     "end_time": "2021-11-15T05:04:04.421667",
     "exception": false,
     "start_time": "2021-11-15T05:04:04.375039",
     "status": "completed"
    },
    "tags": []
   },
   "source": [
    "# DRUG CLASSIFICATION\n",
    "!['DRUG'](https://images.unsplash.com/photo-1584362917137-56406a73241c?ixid=MnwxMjA3fDB8MHxwaG90by1wYWdlfHx8fGVufDB8fHx8&ixlib=rb-1.2.1&auto=format&fit=crop&w=914&q=80)"
   ]
  },
  {
   "cell_type": "markdown",
   "id": "c4576847",
   "metadata": {
    "papermill": {
     "duration": 0.048957,
     "end_time": "2021-11-15T05:04:04.518652",
     "exception": false,
     "start_time": "2021-11-15T05:04:04.469695",
     "status": "completed"
    },
    "tags": []
   },
   "source": [
    " READING THE DATA"
   ]
  },
  {
   "cell_type": "code",
   "execution_count": 2,
   "id": "c7f2923a",
   "metadata": {
    "execution": {
     "iopub.execute_input": "2021-11-15T05:04:04.624167Z",
     "iopub.status.busy": "2021-11-15T05:04:04.622941Z",
     "iopub.status.idle": "2021-11-15T05:04:04.626441Z",
     "shell.execute_reply": "2021-11-15T05:04:04.627041Z",
     "shell.execute_reply.started": "2021-11-15T05:00:43.611761Z"
    },
    "papermill": {
     "duration": 0.06012,
     "end_time": "2021-11-15T05:04:04.627279",
     "exception": false,
     "start_time": "2021-11-15T05:04:04.567159",
     "status": "completed"
    },
    "tags": []
   },
   "outputs": [],
   "source": [
    "import pandas as pd\n",
    "import numpy as np"
   ]
  },
  {
   "cell_type": "code",
   "execution_count": 3,
   "id": "37c14712",
   "metadata": {
    "execution": {
     "iopub.execute_input": "2021-11-15T05:04:04.754650Z",
     "iopub.status.busy": "2021-11-15T05:04:04.753551Z",
     "iopub.status.idle": "2021-11-15T05:04:04.775660Z",
     "shell.execute_reply": "2021-11-15T05:04:04.776264Z",
     "shell.execute_reply.started": "2021-11-15T05:00:43.631579Z"
    },
    "papermill": {
     "duration": 0.088278,
     "end_time": "2021-11-15T05:04:04.776479",
     "exception": false,
     "start_time": "2021-11-15T05:04:04.688201",
     "status": "completed"
    },
    "tags": []
   },
   "outputs": [],
   "source": [
    "df = pd.read_csv(\"../input/drug-classification/drug200.csv\")"
   ]
  },
  {
   "cell_type": "code",
   "execution_count": 4,
   "id": "fec6c508",
   "metadata": {
    "execution": {
     "iopub.execute_input": "2021-11-15T05:04:04.970045Z",
     "iopub.status.busy": "2021-11-15T05:04:04.968804Z",
     "iopub.status.idle": "2021-11-15T05:04:04.991756Z",
     "shell.execute_reply": "2021-11-15T05:04:04.992319Z",
     "shell.execute_reply.started": "2021-11-15T05:00:43.661831Z"
    },
    "papermill": {
     "duration": 0.075888,
     "end_time": "2021-11-15T05:04:04.992539",
     "exception": false,
     "start_time": "2021-11-15T05:04:04.916651",
     "status": "completed"
    },
    "tags": []
   },
   "outputs": [
    {
     "data": {
      "text/html": [
       "<div>\n",
       "<style scoped>\n",
       "    .dataframe tbody tr th:only-of-type {\n",
       "        vertical-align: middle;\n",
       "    }\n",
       "\n",
       "    .dataframe tbody tr th {\n",
       "        vertical-align: top;\n",
       "    }\n",
       "\n",
       "    .dataframe thead th {\n",
       "        text-align: right;\n",
       "    }\n",
       "</style>\n",
       "<table border=\"1\" class=\"dataframe\">\n",
       "  <thead>\n",
       "    <tr style=\"text-align: right;\">\n",
       "      <th></th>\n",
       "      <th>Age</th>\n",
       "      <th>Sex</th>\n",
       "      <th>BP</th>\n",
       "      <th>Cholesterol</th>\n",
       "      <th>Na_to_K</th>\n",
       "      <th>Drug</th>\n",
       "    </tr>\n",
       "  </thead>\n",
       "  <tbody>\n",
       "    <tr>\n",
       "      <th>0</th>\n",
       "      <td>23</td>\n",
       "      <td>F</td>\n",
       "      <td>HIGH</td>\n",
       "      <td>HIGH</td>\n",
       "      <td>25.355</td>\n",
       "      <td>DrugY</td>\n",
       "    </tr>\n",
       "    <tr>\n",
       "      <th>1</th>\n",
       "      <td>47</td>\n",
       "      <td>M</td>\n",
       "      <td>LOW</td>\n",
       "      <td>HIGH</td>\n",
       "      <td>13.093</td>\n",
       "      <td>drugC</td>\n",
       "    </tr>\n",
       "    <tr>\n",
       "      <th>2</th>\n",
       "      <td>47</td>\n",
       "      <td>M</td>\n",
       "      <td>LOW</td>\n",
       "      <td>HIGH</td>\n",
       "      <td>10.114</td>\n",
       "      <td>drugC</td>\n",
       "    </tr>\n",
       "    <tr>\n",
       "      <th>3</th>\n",
       "      <td>28</td>\n",
       "      <td>F</td>\n",
       "      <td>NORMAL</td>\n",
       "      <td>HIGH</td>\n",
       "      <td>7.798</td>\n",
       "      <td>drugX</td>\n",
       "    </tr>\n",
       "    <tr>\n",
       "      <th>4</th>\n",
       "      <td>61</td>\n",
       "      <td>F</td>\n",
       "      <td>LOW</td>\n",
       "      <td>HIGH</td>\n",
       "      <td>18.043</td>\n",
       "      <td>DrugY</td>\n",
       "    </tr>\n",
       "  </tbody>\n",
       "</table>\n",
       "</div>"
      ],
      "text/plain": [
       "   Age Sex      BP Cholesterol  Na_to_K   Drug\n",
       "0   23   F    HIGH        HIGH   25.355  DrugY\n",
       "1   47   M     LOW        HIGH   13.093  drugC\n",
       "2   47   M     LOW        HIGH   10.114  drugC\n",
       "3   28   F  NORMAL        HIGH    7.798  drugX\n",
       "4   61   F     LOW        HIGH   18.043  DrugY"
      ]
     },
     "execution_count": 4,
     "metadata": {},
     "output_type": "execute_result"
    }
   ],
   "source": [
    "df.head()"
   ]
  },
  {
   "cell_type": "code",
   "execution_count": 5,
   "id": "d72f7cfd",
   "metadata": {
    "execution": {
     "iopub.execute_input": "2021-11-15T05:04:05.098144Z",
     "iopub.status.busy": "2021-11-15T05:04:05.097290Z",
     "iopub.status.idle": "2021-11-15T05:04:05.100250Z",
     "shell.execute_reply": "2021-11-15T05:04:05.100767Z",
     "shell.execute_reply.started": "2021-11-15T05:00:43.680924Z"
    },
    "papermill": {
     "duration": 0.059974,
     "end_time": "2021-11-15T05:04:05.101032",
     "exception": false,
     "start_time": "2021-11-15T05:04:05.041058",
     "status": "completed"
    },
    "tags": []
   },
   "outputs": [
    {
     "data": {
      "text/plain": [
       "Age              int64\n",
       "Sex             object\n",
       "BP              object\n",
       "Cholesterol     object\n",
       "Na_to_K        float64\n",
       "Drug            object\n",
       "dtype: object"
      ]
     },
     "execution_count": 5,
     "metadata": {},
     "output_type": "execute_result"
    }
   ],
   "source": [
    "df.dtypes"
   ]
  },
  {
   "cell_type": "code",
   "execution_count": 6,
   "id": "90e8516e",
   "metadata": {
    "execution": {
     "iopub.execute_input": "2021-11-15T05:04:05.203632Z",
     "iopub.status.busy": "2021-11-15T05:04:05.202751Z",
     "iopub.status.idle": "2021-11-15T05:04:05.235857Z",
     "shell.execute_reply": "2021-11-15T05:04:05.236440Z",
     "shell.execute_reply.started": "2021-11-15T05:00:43.701024Z"
    },
    "papermill": {
     "duration": 0.08671,
     "end_time": "2021-11-15T05:04:05.236678",
     "exception": false,
     "start_time": "2021-11-15T05:04:05.149968",
     "status": "completed"
    },
    "tags": []
   },
   "outputs": [
    {
     "data": {
      "text/html": [
       "<div>\n",
       "<style scoped>\n",
       "    .dataframe tbody tr th:only-of-type {\n",
       "        vertical-align: middle;\n",
       "    }\n",
       "\n",
       "    .dataframe tbody tr th {\n",
       "        vertical-align: top;\n",
       "    }\n",
       "\n",
       "    .dataframe thead th {\n",
       "        text-align: right;\n",
       "    }\n",
       "</style>\n",
       "<table border=\"1\" class=\"dataframe\">\n",
       "  <thead>\n",
       "    <tr style=\"text-align: right;\">\n",
       "      <th></th>\n",
       "      <th>count</th>\n",
       "      <th>mean</th>\n",
       "      <th>std</th>\n",
       "      <th>min</th>\n",
       "      <th>25%</th>\n",
       "      <th>50%</th>\n",
       "      <th>75%</th>\n",
       "      <th>max</th>\n",
       "    </tr>\n",
       "  </thead>\n",
       "  <tbody>\n",
       "    <tr>\n",
       "      <th>Age</th>\n",
       "      <td>200.0</td>\n",
       "      <td>44.315000</td>\n",
       "      <td>16.544315</td>\n",
       "      <td>15.000</td>\n",
       "      <td>31.0000</td>\n",
       "      <td>45.0000</td>\n",
       "      <td>58.00</td>\n",
       "      <td>74.000</td>\n",
       "    </tr>\n",
       "    <tr>\n",
       "      <th>Na_to_K</th>\n",
       "      <td>200.0</td>\n",
       "      <td>16.084485</td>\n",
       "      <td>7.223956</td>\n",
       "      <td>6.269</td>\n",
       "      <td>10.4455</td>\n",
       "      <td>13.9365</td>\n",
       "      <td>19.38</td>\n",
       "      <td>38.247</td>\n",
       "    </tr>\n",
       "  </tbody>\n",
       "</table>\n",
       "</div>"
      ],
      "text/plain": [
       "         count       mean        std     min      25%      50%    75%     max\n",
       "Age      200.0  44.315000  16.544315  15.000  31.0000  45.0000  58.00  74.000\n",
       "Na_to_K  200.0  16.084485   7.223956   6.269  10.4455  13.9365  19.38  38.247"
      ]
     },
     "execution_count": 6,
     "metadata": {},
     "output_type": "execute_result"
    }
   ],
   "source": [
    "df.describe().T"
   ]
  },
  {
   "cell_type": "markdown",
   "id": "98bc6ebd",
   "metadata": {
    "papermill": {
     "duration": 0.048508,
     "end_time": "2021-11-15T05:04:05.335100",
     "exception": false,
     "start_time": "2021-11-15T05:04:05.286592",
     "status": "completed"
    },
    "tags": []
   },
   "source": [
    "Checking for Null Values"
   ]
  },
  {
   "cell_type": "code",
   "execution_count": 7,
   "id": "9e5ee6a0",
   "metadata": {
    "execution": {
     "iopub.execute_input": "2021-11-15T05:04:05.447165Z",
     "iopub.status.busy": "2021-11-15T05:04:05.446272Z",
     "iopub.status.idle": "2021-11-15T05:04:05.449317Z",
     "shell.execute_reply": "2021-11-15T05:04:05.449841Z",
     "shell.execute_reply.started": "2021-11-15T05:00:43.731487Z"
    },
    "papermill": {
     "duration": 0.064074,
     "end_time": "2021-11-15T05:04:05.450101",
     "exception": false,
     "start_time": "2021-11-15T05:04:05.386027",
     "status": "completed"
    },
    "tags": []
   },
   "outputs": [
    {
     "data": {
      "text/plain": [
       "Age            0\n",
       "Sex            0\n",
       "BP             0\n",
       "Cholesterol    0\n",
       "Na_to_K        0\n",
       "Drug           0\n",
       "dtype: int64"
      ]
     },
     "execution_count": 7,
     "metadata": {},
     "output_type": "execute_result"
    }
   ],
   "source": [
    "df.isnull().sum()"
   ]
  },
  {
   "cell_type": "code",
   "execution_count": 8,
   "id": "c493772f",
   "metadata": {
    "execution": {
     "iopub.execute_input": "2021-11-15T05:04:05.553973Z",
     "iopub.status.busy": "2021-11-15T05:04:05.552984Z",
     "iopub.status.idle": "2021-11-15T05:04:05.558425Z",
     "shell.execute_reply": "2021-11-15T05:04:05.559055Z",
     "shell.execute_reply.started": "2021-11-15T05:00:43.749832Z"
    },
    "papermill": {
     "duration": 0.059199,
     "end_time": "2021-11-15T05:04:05.559275",
     "exception": false,
     "start_time": "2021-11-15T05:04:05.500076",
     "status": "completed"
    },
    "tags": []
   },
   "outputs": [
    {
     "data": {
      "text/plain": [
       "200"
      ]
     },
     "execution_count": 8,
     "metadata": {},
     "output_type": "execute_result"
    }
   ],
   "source": [
    "len(df)"
   ]
  },
  {
   "cell_type": "markdown",
   "id": "2ebc9b52",
   "metadata": {
    "papermill": {
     "duration": 0.049341,
     "end_time": "2021-11-15T05:04:05.658820",
     "exception": false,
     "start_time": "2021-11-15T05:04:05.609479",
     "status": "completed"
    },
    "tags": []
   },
   "source": [
    "CHECK FOR DUPLICATE ROWS"
   ]
  },
  {
   "cell_type": "code",
   "execution_count": 9,
   "id": "0214f1af",
   "metadata": {
    "execution": {
     "iopub.execute_input": "2021-11-15T05:04:05.763594Z",
     "iopub.status.busy": "2021-11-15T05:04:05.762772Z",
     "iopub.status.idle": "2021-11-15T05:04:05.772863Z",
     "shell.execute_reply": "2021-11-15T05:04:05.773456Z",
     "shell.execute_reply.started": "2021-11-15T05:00:43.766726Z"
    },
    "papermill": {
     "duration": 0.064433,
     "end_time": "2021-11-15T05:04:05.773665",
     "exception": false,
     "start_time": "2021-11-15T05:04:05.709232",
     "status": "completed"
    },
    "tags": []
   },
   "outputs": [
    {
     "data": {
      "text/plain": [
       "0"
      ]
     },
     "execution_count": 9,
     "metadata": {},
     "output_type": "execute_result"
    }
   ],
   "source": [
    "df.duplicated().sum()"
   ]
  },
  {
   "cell_type": "markdown",
   "id": "a2b0f944",
   "metadata": {
    "papermill": {
     "duration": 0.049845,
     "end_time": "2021-11-15T05:04:05.876191",
     "exception": false,
     "start_time": "2021-11-15T05:04:05.826346",
     "status": "completed"
    },
    "tags": []
   },
   "source": [
    "Column descriptions\n",
    "* 1.Age->Age of patient\n",
    "* 2.Sex->Gender of Patient\n",
    "* 3.BP->Blood Pressure\n",
    "* 4.Cholesterol\n",
    "* 5.Na_to_K->Sodium to Potassium ratio\n",
    "* 6.Drug->Drug type(Target Variable)"
   ]
  },
  {
   "cell_type": "code",
   "execution_count": 10,
   "id": "e2351a57",
   "metadata": {
    "execution": {
     "iopub.execute_input": "2021-11-15T05:04:05.987094Z",
     "iopub.status.busy": "2021-11-15T05:04:05.983858Z",
     "iopub.status.idle": "2021-11-15T05:04:05.989795Z",
     "shell.execute_reply": "2021-11-15T05:04:05.990373Z",
     "shell.execute_reply.started": "2021-11-15T05:00:43.958593Z"
    },
    "papermill": {
     "duration": 0.064483,
     "end_time": "2021-11-15T05:04:05.990593",
     "exception": false,
     "start_time": "2021-11-15T05:04:05.926110",
     "status": "completed"
    },
    "tags": []
   },
   "outputs": [
    {
     "data": {
      "text/plain": [
       "array(['F', 'M'], dtype=object)"
      ]
     },
     "execution_count": 10,
     "metadata": {},
     "output_type": "execute_result"
    }
   ],
   "source": [
    "df['Sex'].unique()"
   ]
  },
  {
   "cell_type": "markdown",
   "id": "7454d9e9",
   "metadata": {
    "papermill": {
     "duration": 0.051034,
     "end_time": "2021-11-15T05:04:06.093402",
     "exception": false,
     "start_time": "2021-11-15T05:04:06.042368",
     "status": "completed"
    },
    "tags": []
   },
   "source": [
    "Dataset contains only male and female data"
   ]
  },
  {
   "cell_type": "code",
   "execution_count": 11,
   "id": "349d3cd6",
   "metadata": {
    "execution": {
     "iopub.execute_input": "2021-11-15T05:04:06.201238Z",
     "iopub.status.busy": "2021-11-15T05:04:06.200367Z",
     "iopub.status.idle": "2021-11-15T05:04:06.206767Z",
     "shell.execute_reply": "2021-11-15T05:04:06.207407Z",
     "shell.execute_reply.started": "2021-11-15T05:00:43.978496Z"
    },
    "papermill": {
     "duration": 0.061494,
     "end_time": "2021-11-15T05:04:06.207661",
     "exception": false,
     "start_time": "2021-11-15T05:04:06.146167",
     "status": "completed"
    },
    "tags": []
   },
   "outputs": [
    {
     "data": {
      "text/plain": [
       "array(['HIGH', 'LOW', 'NORMAL'], dtype=object)"
      ]
     },
     "execution_count": 11,
     "metadata": {},
     "output_type": "execute_result"
    }
   ],
   "source": [
    "df['BP'].unique()"
   ]
  },
  {
   "cell_type": "code",
   "execution_count": 12,
   "id": "1e6ec77c",
   "metadata": {
    "execution": {
     "iopub.execute_input": "2021-11-15T05:04:06.323783Z",
     "iopub.status.busy": "2021-11-15T05:04:06.323028Z",
     "iopub.status.idle": "2021-11-15T05:04:06.325963Z",
     "shell.execute_reply": "2021-11-15T05:04:06.326525Z",
     "shell.execute_reply.started": "2021-11-15T05:00:43.993716Z"
    },
    "papermill": {
     "duration": 0.062995,
     "end_time": "2021-11-15T05:04:06.326768",
     "exception": false,
     "start_time": "2021-11-15T05:04:06.263773",
     "status": "completed"
    },
    "tags": []
   },
   "outputs": [
    {
     "data": {
      "text/plain": [
       "array(['HIGH', 'NORMAL'], dtype=object)"
      ]
     },
     "execution_count": 12,
     "metadata": {},
     "output_type": "execute_result"
    }
   ],
   "source": [
    "df['Cholesterol'].unique()"
   ]
  },
  {
   "cell_type": "code",
   "execution_count": 13,
   "id": "7085d1df",
   "metadata": {
    "execution": {
     "iopub.execute_input": "2021-11-15T05:04:06.432841Z",
     "iopub.status.busy": "2021-11-15T05:04:06.432126Z",
     "iopub.status.idle": "2021-11-15T05:04:06.439375Z",
     "shell.execute_reply": "2021-11-15T05:04:06.439873Z",
     "shell.execute_reply.started": "2021-11-15T05:00:44.011435Z"
    },
    "papermill": {
     "duration": 0.062252,
     "end_time": "2021-11-15T05:04:06.440124",
     "exception": false,
     "start_time": "2021-11-15T05:04:06.377872",
     "status": "completed"
    },
    "tags": []
   },
   "outputs": [
    {
     "data": {
      "text/plain": [
       "array(['DrugY', 'drugC', 'drugX', 'drugA', 'drugB'], dtype=object)"
      ]
     },
     "execution_count": 13,
     "metadata": {},
     "output_type": "execute_result"
    }
   ],
   "source": [
    "df['Drug'].unique()"
   ]
  },
  {
   "cell_type": "markdown",
   "id": "9b32f7ba",
   "metadata": {
    "papermill": {
     "duration": 0.051369,
     "end_time": "2021-11-15T05:04:06.543189",
     "exception": false,
     "start_time": "2021-11-15T05:04:06.491820",
     "status": "completed"
    },
    "tags": []
   },
   "source": [
    "# **BASIC EDA**"
   ]
  },
  {
   "cell_type": "code",
   "execution_count": 14,
   "id": "0fea97b2",
   "metadata": {
    "execution": {
     "iopub.execute_input": "2021-11-15T05:04:06.653196Z",
     "iopub.status.busy": "2021-11-15T05:04:06.652177Z",
     "iopub.status.idle": "2021-11-15T05:04:08.111224Z",
     "shell.execute_reply": "2021-11-15T05:04:08.110629Z",
     "shell.execute_reply.started": "2021-11-15T05:00:44.029919Z"
    },
    "papermill": {
     "duration": 1.517067,
     "end_time": "2021-11-15T05:04:08.111389",
     "exception": false,
     "start_time": "2021-11-15T05:04:06.594322",
     "status": "completed"
    },
    "tags": []
   },
   "outputs": [
    {
     "data": {
      "text/plain": [
       "<AxesSubplot:title={'center':'AGE DISTRIBUTION'}, ylabel='Density'>"
      ]
     },
     "execution_count": 14,
     "metadata": {},
     "output_type": "execute_result"
    },
    {
     "data": {
      "image/png": "[encoded data removed]",
      "text/plain": [
       "<Figure size 432x288 with 1 Axes>"
      ]
     },
     "metadata": {
      "needs_background": "light"
     },
     "output_type": "display_data"
    }
   ],
   "source": [
    "import matplotlib.pyplot as plt\n",
    "import seaborn as sns\n",
    "plt.title(\"AGE DISTRIBUTION\")\n",
    "df['Age'].plot(kind='kde')"
   ]
  },
  {
   "cell_type": "code",
   "execution_count": 15,
   "id": "0192b018",
   "metadata": {
    "execution": {
     "iopub.execute_input": "2021-11-15T05:04:08.223697Z",
     "iopub.status.busy": "2021-11-15T05:04:08.222605Z",
     "iopub.status.idle": "2021-11-15T05:04:08.226383Z",
     "shell.execute_reply": "2021-11-15T05:04:08.226937Z",
     "shell.execute_reply.started": "2021-11-15T05:00:44.266768Z"
    },
    "papermill": {
     "duration": 0.062986,
     "end_time": "2021-11-15T05:04:08.227162",
     "exception": false,
     "start_time": "2021-11-15T05:04:08.164176",
     "status": "completed"
    },
    "tags": []
   },
   "outputs": [
    {
     "name": "stdout",
     "output_type": "stream",
     "text": [
      "Mean Patient Age is: 44.315\n"
     ]
    }
   ],
   "source": [
    "print(\"Mean Patient Age is: \"+str(df['Age'].mean()))"
   ]
  },
  {
   "cell_type": "code",
   "execution_count": 16,
   "id": "4f994de0",
   "metadata": {
    "execution": {
     "iopub.execute_input": "2021-11-15T05:04:08.340997Z",
     "iopub.status.busy": "2021-11-15T05:04:08.339815Z",
     "iopub.status.idle": "2021-11-15T05:04:08.530083Z",
     "shell.execute_reply": "2021-11-15T05:04:08.530615Z",
     "shell.execute_reply.started": "2021-11-15T05:00:44.275991Z"
    },
    "papermill": {
     "duration": 0.250685,
     "end_time": "2021-11-15T05:04:08.530825",
     "exception": false,
     "start_time": "2021-11-15T05:04:08.280140",
     "status": "completed"
    },
    "tags": []
   },
   "outputs": [
    {
     "data": {
      "text/plain": [
       "<AxesSubplot:title={'center':'MALE & FEMALE COUNT'}, xlabel='Sex', ylabel='count'>"
      ]
     },
     "execution_count": 16,
     "metadata": {},
     "output_type": "execute_result"
    },
    {
     "data": {
      "image/png": "[encoded data removed]",
      "text/plain": [
       "<Figure size 432x288 with 1 Axes>"
      ]
     },
     "metadata": {
      "needs_background": "light"
     },
     "output_type": "display_data"
    }
   ],
   "source": [
    "plt.title(\"MALE & FEMALE COUNT\")\n",
    "sns.countplot(df['Sex'],palette='flare')"
   ]
  },
  {
   "cell_type": "code",
   "execution_count": 17,
   "id": "3609b67d",
   "metadata": {
    "execution": {
     "iopub.execute_input": "2021-11-15T05:04:08.645974Z",
     "iopub.status.busy": "2021-11-15T05:04:08.644835Z",
     "iopub.status.idle": "2021-11-15T05:04:08.656132Z",
     "shell.execute_reply": "2021-11-15T05:04:08.657248Z",
     "shell.execute_reply.started": "2021-11-15T05:00:44.446155Z"
    },
    "papermill": {
     "duration": 0.070203,
     "end_time": "2021-11-15T05:04:08.657531",
     "exception": false,
     "start_time": "2021-11-15T05:04:08.587328",
     "status": "completed"
    },
    "tags": []
   },
   "outputs": [
    {
     "name": "stdout",
     "output_type": "stream",
     "text": [
      "% of male & female\n"
     ]
    },
    {
     "data": {
      "text/plain": [
       "M    52.0\n",
       "F    48.0\n",
       "Name: Sex, dtype: float64"
      ]
     },
     "execution_count": 17,
     "metadata": {},
     "output_type": "execute_result"
    }
   ],
   "source": [
    "print(\"% of male & female\")\n",
    "(df.Sex.value_counts()/200)*100"
   ]
  },
  {
   "cell_type": "markdown",
   "id": "3cd25509",
   "metadata": {
    "papermill": {
     "duration": 0.054526,
     "end_time": "2021-11-15T05:04:08.769009",
     "exception": false,
     "start_time": "2021-11-15T05:04:08.714483",
     "status": "completed"
    },
    "tags": []
   },
   "source": [
    "* All most equal number of Females and males present in Data"
   ]
  },
  {
   "cell_type": "code",
   "execution_count": 18,
   "id": "04feca83",
   "metadata": {
    "execution": {
     "iopub.execute_input": "2021-11-15T05:04:08.909008Z",
     "iopub.status.busy": "2021-11-15T05:04:08.908098Z",
     "iopub.status.idle": "2021-11-15T05:04:09.099796Z",
     "shell.execute_reply": "2021-11-15T05:04:09.100357Z",
     "shell.execute_reply.started": "2021-11-15T05:00:44.460520Z"
    },
    "papermill": {
     "duration": 0.276643,
     "end_time": "2021-11-15T05:04:09.100597",
     "exception": false,
     "start_time": "2021-11-15T05:04:08.823954",
     "status": "completed"
    },
    "tags": []
   },
   "outputs": [
    {
     "data": {
      "text/plain": [
       "<AxesSubplot:xlabel='BP', ylabel='count'>"
      ]
     },
     "execution_count": 18,
     "metadata": {},
     "output_type": "execute_result"
    },
    {
     "data": {
      "image/png": "[encoded data removed]",
      "text/plain": [
       "<Figure size 432x288 with 1 Axes>"
      ]
     },
     "metadata": {
      "needs_background": "light"
     },
     "output_type": "display_data"
    }
   ],
   "source": [
    "sns.countplot(df['BP'],palette='crest')"
   ]
  },
  {
   "cell_type": "code",
   "execution_count": 19,
   "id": "095a5884",
   "metadata": {
    "execution": {
     "iopub.execute_input": "2021-11-15T05:04:09.222172Z",
     "iopub.status.busy": "2021-11-15T05:04:09.221379Z",
     "iopub.status.idle": "2021-11-15T05:04:09.224136Z",
     "shell.execute_reply": "2021-11-15T05:04:09.224635Z",
     "shell.execute_reply.started": "2021-11-15T05:00:44.622669Z"
    },
    "papermill": {
     "duration": 0.068149,
     "end_time": "2021-11-15T05:04:09.224851",
     "exception": false,
     "start_time": "2021-11-15T05:04:09.156702",
     "status": "completed"
    },
    "tags": []
   },
   "outputs": [
    {
     "data": {
      "text/plain": [
       "HIGH      38.5\n",
       "LOW       32.0\n",
       "NORMAL    29.5\n",
       "Name: BP, dtype: float64"
      ]
     },
     "execution_count": 19,
     "metadata": {},
     "output_type": "execute_result"
    }
   ],
   "source": [
    "(df['BP'].value_counts())*100/200"
   ]
  },
  {
   "cell_type": "markdown",
   "id": "d7cc1423",
   "metadata": {
    "papermill": {
     "duration": 0.055655,
     "end_time": "2021-11-15T05:04:09.336493",
     "exception": false,
     "start_time": "2021-11-15T05:04:09.280838",
     "status": "completed"
    },
    "tags": []
   },
   "source": [
    "* Only about 30 percent of the patients have normal BP "
   ]
  },
  {
   "cell_type": "code",
   "execution_count": 20,
   "id": "bc7c9b73",
   "metadata": {
    "execution": {
     "iopub.execute_input": "2021-11-15T05:04:09.453563Z",
     "iopub.status.busy": "2021-11-15T05:04:09.452759Z",
     "iopub.status.idle": "2021-11-15T05:04:09.636156Z",
     "shell.execute_reply": "2021-11-15T05:04:09.636736Z",
     "shell.execute_reply.started": "2021-11-15T05:00:44.636852Z"
    },
    "papermill": {
     "duration": 0.242914,
     "end_time": "2021-11-15T05:04:09.636981",
     "exception": false,
     "start_time": "2021-11-15T05:04:09.394067",
     "status": "completed"
    },
    "tags": []
   },
   "outputs": [
    {
     "data": {
      "text/plain": [
       "<AxesSubplot:xlabel='Cholesterol', ylabel='count'>"
      ]
     },
     "execution_count": 20,
     "metadata": {},
     "output_type": "execute_result"
    },
    {
     "data": {
      "image/png": "[encoded data removed]",
      "text/plain": [
       "<Figure size 432x288 with 1 Axes>"
      ]
     },
     "metadata": {
      "needs_background": "light"
     },
     "output_type": "display_data"
    }
   ],
   "source": [
    "sns.countplot(df['Cholesterol'],palette='crest')"
   ]
  },
  {
   "cell_type": "code",
   "execution_count": 21,
   "id": "4a4eae50",
   "metadata": {
    "execution": {
     "iopub.execute_input": "2021-11-15T05:04:09.755668Z",
     "iopub.status.busy": "2021-11-15T05:04:09.754841Z",
     "iopub.status.idle": "2021-11-15T05:04:09.764308Z",
     "shell.execute_reply": "2021-11-15T05:04:09.763680Z",
     "shell.execute_reply.started": "2021-11-15T05:00:44.799747Z"
    },
    "papermill": {
     "duration": 0.06997,
     "end_time": "2021-11-15T05:04:09.764473",
     "exception": false,
     "start_time": "2021-11-15T05:04:09.694503",
     "status": "completed"
    },
    "tags": []
   },
   "outputs": [
    {
     "data": {
      "text/plain": [
       "HIGH      51.5\n",
       "NORMAL    48.5\n",
       "Name: Cholesterol, dtype: float64"
      ]
     },
     "execution_count": 21,
     "metadata": {},
     "output_type": "execute_result"
    }
   ],
   "source": [
    "(df['Cholesterol'].value_counts())*100/200"
   ]
  },
  {
   "cell_type": "markdown",
   "id": "cf63e069",
   "metadata": {
    "papermill": {
     "duration": 0.05684,
     "end_time": "2021-11-15T05:04:09.879031",
     "exception": false,
     "start_time": "2021-11-15T05:04:09.822191",
     "status": "completed"
    },
    "tags": []
   },
   "source": [
    "* Almost half of the patients have high cholestrol"
   ]
  },
  {
   "cell_type": "code",
   "execution_count": 22,
   "id": "ff86aaf7",
   "metadata": {
    "execution": {
     "iopub.execute_input": "2021-11-15T05:04:10.000437Z",
     "iopub.status.busy": "2021-11-15T05:04:09.999726Z",
     "iopub.status.idle": "2021-11-15T05:04:10.252753Z",
     "shell.execute_reply": "2021-11-15T05:04:10.253350Z",
     "shell.execute_reply.started": "2021-11-15T05:00:44.815338Z"
    },
    "papermill": {
     "duration": 0.316607,
     "end_time": "2021-11-15T05:04:10.253574",
     "exception": false,
     "start_time": "2021-11-15T05:04:09.936967",
     "status": "completed"
    },
    "tags": []
   },
   "outputs": [
    {
     "data": {
      "text/plain": [
       "<AxesSubplot:title={'center':'Na to K ratio distribution'}, ylabel='Density'>"
      ]
     },
     "execution_count": 22,
     "metadata": {},
     "output_type": "execute_result"
    },
    {
     "data": {
      "image/png": "[encoded data removed]",
      "text/plain": [
       "<Figure size 432x288 with 1 Axes>"
      ]
     },
     "metadata": {
      "needs_background": "light"
     },
     "output_type": "display_data"
    }
   ],
   "source": [
    "plt.title(\"Na to K ratio distribution\")\n",
    "df['Na_to_K'].plot(kind='kde')"
   ]
  },
  {
   "cell_type": "code",
   "execution_count": 23,
   "id": "10fecbba",
   "metadata": {
    "execution": {
     "iopub.execute_input": "2021-11-15T05:04:10.412838Z",
     "iopub.status.busy": "2021-11-15T05:04:10.411522Z",
     "iopub.status.idle": "2021-11-15T05:04:10.596916Z",
     "shell.execute_reply": "2021-11-15T05:04:10.595752Z",
     "shell.execute_reply.started": "2021-11-15T05:00:45.023025Z"
    },
    "papermill": {
     "duration": 0.285059,
     "end_time": "2021-11-15T05:04:10.597178",
     "exception": false,
     "start_time": "2021-11-15T05:04:10.312119",
     "status": "completed"
    },
    "tags": []
   },
   "outputs": [
    {
     "data": {
      "text/plain": [
       "<AxesSubplot:xlabel='Drug', ylabel='count'>"
      ]
     },
     "execution_count": 23,
     "metadata": {},
     "output_type": "execute_result"
    },
    {
     "data": {
      "image/png": "[encoded data removed]",
      "text/plain": [
       "<Figure size 432x288 with 1 Axes>"
      ]
     },
     "metadata": {
      "needs_background": "light"
     },
     "output_type": "display_data"
    }
   ],
   "source": [
    "sns.countplot(df['Drug'],palette='magma')"
   ]
  },
  {
   "cell_type": "markdown",
   "id": "8aa844ec",
   "metadata": {
    "papermill": {
     "duration": 0.060272,
     "end_time": "2021-11-15T05:04:10.718968",
     "exception": false,
     "start_time": "2021-11-15T05:04:10.658696",
     "status": "completed"
    },
    "tags": []
   },
   "source": [
    "* Drug Y is the most used among patient\n",
    "* Drug used is unbalanced"
   ]
  },
  {
   "cell_type": "code",
   "execution_count": 24,
   "id": "369c9323",
   "metadata": {
    "execution": {
     "iopub.execute_input": "2021-11-15T05:04:10.896662Z",
     "iopub.status.busy": "2021-11-15T05:04:10.847982Z",
     "iopub.status.idle": "2021-11-15T05:04:11.432731Z",
     "shell.execute_reply": "2021-11-15T05:04:11.432111Z",
     "shell.execute_reply.started": "2021-11-15T05:00:45.149298Z"
    },
    "papermill": {
     "duration": 0.654401,
     "end_time": "2021-11-15T05:04:11.432945",
     "exception": false,
     "start_time": "2021-11-15T05:04:10.778544",
     "status": "completed"
    },
    "tags": []
   },
   "outputs": [
    {
     "data": {
      "text/plain": [
       "<seaborn.axisgrid.FacetGrid at 0x7f8198bf81d0>"
      ]
     },
     "execution_count": 24,
     "metadata": {},
     "output_type": "execute_result"
    },
    {
     "data": {
      "image/png": "[encoded data removed]",
      "text/plain": [
       "<Figure size 404.625x360 with 1 Axes>"
      ]
     },
     "metadata": {
      "needs_background": "light"
     },
     "output_type": "display_data"
    }
   ],
   "source": [
    "sns.catplot(x=\"Drug\", y=\"Age\",hue=\"Sex\",data=df,palette='viridis')"
   ]
  },
  {
   "cell_type": "markdown",
   "id": "49122808",
   "metadata": {
    "papermill": {
     "duration": 0.060334,
     "end_time": "2021-11-15T05:04:11.554607",
     "exception": false,
     "start_time": "2021-11-15T05:04:11.494273",
     "status": "completed"
    },
    "tags": []
   },
   "source": [
    "* Drug B is only used by patients of Age > 50\n",
    "* Drug A is only used by patients of Age < 50"
   ]
  },
  {
   "cell_type": "code",
   "execution_count": 25,
   "id": "14d03ad3",
   "metadata": {
    "execution": {
     "iopub.execute_input": "2021-11-15T05:04:11.682274Z",
     "iopub.status.busy": "2021-11-15T05:04:11.681539Z",
     "iopub.status.idle": "2021-11-15T05:04:11.940262Z",
     "shell.execute_reply": "2021-11-15T05:04:11.939634Z",
     "shell.execute_reply.started": "2021-11-15T05:00:45.587092Z"
    },
    "papermill": {
     "duration": 0.324279,
     "end_time": "2021-11-15T05:04:11.940498",
     "exception": false,
     "start_time": "2021-11-15T05:04:11.616219",
     "status": "completed"
    },
    "tags": []
   },
   "outputs": [
    {
     "data": {
      "text/plain": [
       "<AxesSubplot:xlabel='Drug', ylabel='count'>"
      ]
     },
     "execution_count": 25,
     "metadata": {},
     "output_type": "execute_result"
    },
    {
     "data": {
      "image/png": "[encoded data removed]",
      "text/plain": [
       "<Figure size 432x288 with 1 Axes>"
      ]
     },
     "metadata": {
      "needs_background": "light"
     },
     "output_type": "display_data"
    }
   ],
   "source": [
    "sns.countplot(data=df,x='Drug',hue='Sex',palette='magma')"
   ]
  },
  {
   "cell_type": "markdown",
   "id": "e3af6d3b",
   "metadata": {
    "papermill": {
     "duration": 0.061502,
     "end_time": "2021-11-15T05:04:12.065291",
     "exception": false,
     "start_time": "2021-11-15T05:04:12.003789",
     "status": "completed"
    },
    "tags": []
   },
   "source": [
    "Drug Y is used more by Females while some others are used more by males "
   ]
  },
  {
   "cell_type": "code",
   "execution_count": 26,
   "id": "edcda6f2",
   "metadata": {
    "execution": {
     "iopub.execute_input": "2021-11-15T05:04:12.196732Z",
     "iopub.status.busy": "2021-11-15T05:04:12.195788Z",
     "iopub.status.idle": "2021-11-15T05:04:12.500294Z",
     "shell.execute_reply": "2021-11-15T05:04:12.499546Z",
     "shell.execute_reply.started": "2021-11-15T05:00:45.808937Z"
    },
    "papermill": {
     "duration": 0.372926,
     "end_time": "2021-11-15T05:04:12.500467",
     "exception": false,
     "start_time": "2021-11-15T05:04:12.127541",
     "status": "completed"
    },
    "tags": []
   },
   "outputs": [
    {
     "data": {
      "text/plain": [
       "<AxesSubplot:xlabel='Drug', ylabel='count'>"
      ]
     },
     "execution_count": 26,
     "metadata": {},
     "output_type": "execute_result"
    },
    {
     "data": {
      "image/png": "[encoded data removed]",
      "text/plain": [
       "<Figure size 432x288 with 1 Axes>"
      ]
     },
     "metadata": {
      "needs_background": "light"
     },
     "output_type": "display_data"
    }
   ],
   "source": [
    "sns.countplot(data=df,x='Drug',hue='BP',palette='magma')"
   ]
  },
  {
   "cell_type": "markdown",
   "id": "0d36da57",
   "metadata": {
    "papermill": {
     "duration": 0.06415,
     "end_time": "2021-11-15T05:04:12.627295",
     "exception": false,
     "start_time": "2021-11-15T05:04:12.563145",
     "status": "completed"
    },
    "tags": []
   },
   "source": [
    "* Drug Y are mostly used by people with HIGH bp\n",
    "* Drug C is only used by people with LOW bp\n",
    "* Drug X is not used by people with HIGH bp\n",
    "* Drug A & B is only used by people with HIGH bp"
   ]
  },
  {
   "cell_type": "code",
   "execution_count": 27,
   "id": "c8486f3e",
   "metadata": {
    "execution": {
     "iopub.execute_input": "2021-11-15T05:04:12.765056Z",
     "iopub.status.busy": "2021-11-15T05:04:12.764285Z",
     "iopub.status.idle": "2021-11-15T05:04:13.021454Z",
     "shell.execute_reply": "2021-11-15T05:04:13.020746Z",
     "shell.execute_reply.started": "2021-11-15T05:00:46.020404Z"
    },
    "papermill": {
     "duration": 0.32914,
     "end_time": "2021-11-15T05:04:13.021618",
     "exception": false,
     "start_time": "2021-11-15T05:04:12.692478",
     "status": "completed"
    },
    "tags": []
   },
   "outputs": [
    {
     "data": {
      "text/plain": [
       "<AxesSubplot:xlabel='Drug', ylabel='count'>"
      ]
     },
     "execution_count": 27,
     "metadata": {},
     "output_type": "execute_result"
    },
    {
     "data": {
      "image/png": "[encoded data removed]",
      "text/plain": [
       "<Figure size 432x288 with 1 Axes>"
      ]
     },
     "metadata": {
      "needs_background": "light"
     },
     "output_type": "display_data"
    }
   ],
   "source": [
    "sns.countplot(data=df,x='Drug',hue='Cholesterol',palette='magma')"
   ]
  },
  {
   "cell_type": "markdown",
   "id": "4c5c98af",
   "metadata": {
    "papermill": {
     "duration": 0.066,
     "end_time": "2021-11-15T05:04:13.152781",
     "exception": false,
     "start_time": "2021-11-15T05:04:13.086781",
     "status": "completed"
    },
    "tags": []
   },
   "source": [
    "* Drug C is only taken by people with HIGH cholestrol"
   ]
  },
  {
   "cell_type": "code",
   "execution_count": 28,
   "id": "c9346f4e",
   "metadata": {
    "execution": {
     "iopub.execute_input": "2021-11-15T05:04:13.289706Z",
     "iopub.status.busy": "2021-11-15T05:04:13.288839Z",
     "iopub.status.idle": "2021-11-15T05:04:13.616980Z",
     "shell.execute_reply": "2021-11-15T05:04:13.616222Z",
     "shell.execute_reply.started": "2021-11-15T05:00:46.245649Z"
    },
    "papermill": {
     "duration": 0.399792,
     "end_time": "2021-11-15T05:04:13.617163",
     "exception": false,
     "start_time": "2021-11-15T05:04:13.217371",
     "status": "completed"
    },
    "tags": []
   },
   "outputs": [
    {
     "data": {
      "text/plain": [
       "<seaborn.axisgrid.FacetGrid at 0x7f8198b6bcd0>"
      ]
     },
     "execution_count": 28,
     "metadata": {},
     "output_type": "execute_result"
    },
    {
     "data": {
      "image/png": "[encoded data removed]",
      "text/plain": [
       "<Figure size 360x360 with 1 Axes>"
      ]
     },
     "metadata": {
      "needs_background": "light"
     },
     "output_type": "display_data"
    }
   ],
   "source": [
    "sns.catplot(x=\"Drug\", y=\"Na_to_K\",data=df,palette='viridis')"
   ]
  },
  {
   "cell_type": "markdown",
   "id": "1d78eb91",
   "metadata": {
    "papermill": {
     "duration": 0.066126,
     "end_time": "2021-11-15T05:04:13.750699",
     "exception": false,
     "start_time": "2021-11-15T05:04:13.684573",
     "status": "completed"
    },
    "tags": []
   },
   "source": [
    "* Drug Y is only used by patients with Na to k ratio > 15"
   ]
  },
  {
   "cell_type": "code",
   "execution_count": 29,
   "id": "8202a364",
   "metadata": {
    "execution": {
     "iopub.execute_input": "2021-11-15T05:04:13.920849Z",
     "iopub.status.busy": "2021-11-15T05:04:13.914564Z",
     "iopub.status.idle": "2021-11-15T05:04:14.179528Z",
     "shell.execute_reply": "2021-11-15T05:04:14.180335Z",
     "shell.execute_reply.started": "2021-11-15T05:00:46.452595Z"
    },
    "papermill": {
     "duration": 0.36441,
     "end_time": "2021-11-15T05:04:14.180658",
     "exception": false,
     "start_time": "2021-11-15T05:04:13.816248",
     "status": "completed"
    },
    "tags": []
   },
   "outputs": [
    {
     "data": {
      "text/plain": [
       "<AxesSubplot:title={'center':'Correlation Matrix'}>"
      ]
     },
     "execution_count": 29,
     "metadata": {},
     "output_type": "execute_result"
    },
    {
     "data": {
      "image/png": "[encoded data removed]",
      "text/plain": [
       "<Figure size 432x288 with 2 Axes>"
      ]
     },
     "metadata": {
      "needs_background": "light"
     },
     "output_type": "display_data"
    }
   ],
   "source": [
    "plt.title(\"Correlation Matrix\")\n",
    "sns.heatmap(df.corr(),cmap='binary')"
   ]
  },
  {
   "cell_type": "markdown",
   "id": "c1cca1ce",
   "metadata": {
    "papermill": {
     "duration": 0.066998,
     "end_time": "2021-11-15T05:04:14.315038",
     "exception": false,
     "start_time": "2021-11-15T05:04:14.248040",
     "status": "completed"
    },
    "tags": []
   },
   "source": [
    "* Age is Not related to Na to K ratio"
   ]
  },
  {
   "cell_type": "code",
   "execution_count": 30,
   "id": "37fd90a4",
   "metadata": {
    "execution": {
     "iopub.execute_input": "2021-11-15T05:04:14.485599Z",
     "iopub.status.busy": "2021-11-15T05:04:14.478463Z",
     "iopub.status.idle": "2021-11-15T05:04:14.631095Z",
     "shell.execute_reply": "2021-11-15T05:04:14.630484Z",
     "shell.execute_reply.started": "2021-11-15T05:00:46.680660Z"
    },
    "papermill": {
     "duration": 0.249586,
     "end_time": "2021-11-15T05:04:14.631271",
     "exception": false,
     "start_time": "2021-11-15T05:04:14.381685",
     "status": "completed"
    },
    "tags": []
   },
   "outputs": [
    {
     "data": {
      "text/plain": [
       "<AxesSubplot:xlabel='Age'>"
      ]
     },
     "execution_count": 30,
     "metadata": {},
     "output_type": "execute_result"
    },
    {
     "data": {
      "image/png": "[encoded data removed]",
      "text/plain": [
       "<Figure size 432x288 with 1 Axes>"
      ]
     },
     "metadata": {
      "needs_background": "light"
     },
     "output_type": "display_data"
    }
   ],
   "source": [
    "sns.boxplot(df['Age'])"
   ]
  },
  {
   "cell_type": "code",
   "execution_count": 31,
   "id": "31acd7b9",
   "metadata": {
    "execution": {
     "iopub.execute_input": "2021-11-15T05:04:14.795515Z",
     "iopub.status.busy": "2021-11-15T05:04:14.778107Z",
     "iopub.status.idle": "2021-11-15T05:04:14.942940Z",
     "shell.execute_reply": "2021-11-15T05:04:14.944093Z",
     "shell.execute_reply.started": "2021-11-15T05:00:46.841273Z"
    },
    "papermill": {
     "duration": 0.242262,
     "end_time": "2021-11-15T05:04:14.944426",
     "exception": false,
     "start_time": "2021-11-15T05:04:14.702164",
     "status": "completed"
    },
    "tags": []
   },
   "outputs": [
    {
     "data": {
      "text/plain": [
       "<AxesSubplot:xlabel='Na_to_K'>"
      ]
     },
     "execution_count": 31,
     "metadata": {},
     "output_type": "execute_result"
    },
    {
     "data": {
      "image/png": "[encoded data removed]",
      "text/plain": [
       "<Figure size 432x288 with 1 Axes>"
      ]
     },
     "metadata": {
      "needs_background": "light"
     },
     "output_type": "display_data"
    }
   ],
   "source": [
    "sns.boxplot(df['Na_to_K'])"
   ]
  },
  {
   "cell_type": "markdown",
   "id": "a9ddd014",
   "metadata": {
    "papermill": {
     "duration": 0.0718,
     "end_time": "2021-11-15T05:04:15.086561",
     "exception": false,
     "start_time": "2021-11-15T05:04:15.014761",
     "status": "completed"
    },
    "tags": []
   },
   "source": [
    "There are some outliers"
   ]
  },
  {
   "cell_type": "markdown",
   "id": "566e3fea",
   "metadata": {
    "papermill": {
     "duration": 0.075982,
     "end_time": "2021-11-15T05:04:15.246196",
     "exception": false,
     "start_time": "2021-11-15T05:04:15.170214",
     "status": "completed"
    },
    "tags": []
   },
   "source": [
    "# **Feature Engineering**"
   ]
  },
  {
   "cell_type": "markdown",
   "id": "b740545d",
   "metadata": {
    "papermill": {
     "duration": 0.073729,
     "end_time": "2021-11-15T05:04:15.396258",
     "exception": false,
     "start_time": "2021-11-15T05:04:15.322529",
     "status": "completed"
    },
    "tags": []
   },
   "source": [
    "* Na to K can be used to create a new feature<br>\n",
    "* Use Na to K >= 15 to create new feature"
   ]
  },
  {
   "cell_type": "code",
   "execution_count": 32,
   "id": "9688a8c4",
   "metadata": {
    "execution": {
     "iopub.execute_input": "2021-11-15T05:04:15.553806Z",
     "iopub.status.busy": "2021-11-15T05:04:15.548239Z",
     "iopub.status.idle": "2021-11-15T05:04:15.555743Z",
     "shell.execute_reply": "2021-11-15T05:04:15.556486Z",
     "shell.execute_reply.started": "2021-11-15T05:00:46.963141Z"
    },
    "papermill": {
     "duration": 0.083784,
     "end_time": "2021-11-15T05:04:15.556757",
     "exception": false,
     "start_time": "2021-11-15T05:04:15.472973",
     "status": "completed"
    },
    "tags": []
   },
   "outputs": [],
   "source": [
    "df['NAK'] = df['Na_to_K'].apply(lambda x: 1 if x >= 15 else 0)"
   ]
  },
  {
   "cell_type": "markdown",
   "id": "ff27236e",
   "metadata": {
    "papermill": {
     "duration": 0.096528,
     "end_time": "2021-11-15T05:04:15.748160",
     "exception": false,
     "start_time": "2021-11-15T05:04:15.651632",
     "status": "completed"
    },
    "tags": []
   },
   "source": [
    "# **Preparing data for modelling**"
   ]
  },
  {
   "cell_type": "code",
   "execution_count": 33,
   "id": "ab51cae6",
   "metadata": {
    "execution": {
     "iopub.execute_input": "2021-11-15T05:04:15.894869Z",
     "iopub.status.busy": "2021-11-15T05:04:15.893618Z",
     "iopub.status.idle": "2021-11-15T05:04:15.901022Z",
     "shell.execute_reply": "2021-11-15T05:04:15.901751Z",
     "shell.execute_reply.started": "2021-11-15T05:00:46.974736Z"
    },
    "papermill": {
     "duration": 0.082621,
     "end_time": "2021-11-15T05:04:15.902002",
     "exception": false,
     "start_time": "2021-11-15T05:04:15.819381",
     "status": "completed"
    },
    "tags": []
   },
   "outputs": [
    {
     "data": {
      "text/plain": [
       "Index(['Age', 'Sex', 'BP', 'Cholesterol', 'Na_to_K', 'Drug', 'NAK'], dtype='object')"
      ]
     },
     "execution_count": 33,
     "metadata": {},
     "output_type": "execute_result"
    }
   ],
   "source": [
    "df.columns"
   ]
  },
  {
   "cell_type": "code",
   "execution_count": 34,
   "id": "61102dd1",
   "metadata": {
    "execution": {
     "iopub.execute_input": "2021-11-15T05:04:16.047300Z",
     "iopub.status.busy": "2021-11-15T05:04:16.046237Z",
     "iopub.status.idle": "2021-11-15T05:04:16.050547Z",
     "shell.execute_reply": "2021-11-15T05:04:16.051205Z",
     "shell.execute_reply.started": "2021-11-15T05:00:46.992995Z"
    },
    "papermill": {
     "duration": 0.079277,
     "end_time": "2021-11-15T05:04:16.051410",
     "exception": false,
     "start_time": "2021-11-15T05:04:15.972133",
     "status": "completed"
    },
    "tags": []
   },
   "outputs": [],
   "source": [
    "###Categorical Variables\n",
    "cols = ['Sex','BP','Cholesterol','Drug','NAK']"
   ]
  },
  {
   "cell_type": "code",
   "execution_count": 35,
   "id": "1e80d85a",
   "metadata": {
    "execution": {
     "iopub.execute_input": "2021-11-15T05:04:16.196545Z",
     "iopub.status.busy": "2021-11-15T05:04:16.195376Z",
     "iopub.status.idle": "2021-11-15T05:04:16.334370Z",
     "shell.execute_reply": "2021-11-15T05:04:16.334977Z",
     "shell.execute_reply.started": "2021-11-15T05:00:47.009357Z"
    },
    "papermill": {
     "duration": 0.212711,
     "end_time": "2021-11-15T05:04:16.335279",
     "exception": false,
     "start_time": "2021-11-15T05:04:16.122568",
     "status": "completed"
    },
    "tags": []
   },
   "outputs": [],
   "source": [
    "###label encoding\n",
    "from sklearn.preprocessing import LabelEncoder\n",
    "for col in cols:\n",
    "    le = LabelEncoder()\n",
    "    df[col] = le.fit_transform(df[col])"
   ]
  },
  {
   "cell_type": "code",
   "execution_count": 36,
   "id": "5ed9e092",
   "metadata": {
    "execution": {
     "iopub.execute_input": "2021-11-15T05:04:16.482801Z",
     "iopub.status.busy": "2021-11-15T05:04:16.482011Z",
     "iopub.status.idle": "2021-11-15T05:04:16.488798Z",
     "shell.execute_reply": "2021-11-15T05:04:16.489349Z",
     "shell.execute_reply.started": "2021-11-15T05:00:47.031343Z"
    },
    "papermill": {
     "duration": 0.085328,
     "end_time": "2021-11-15T05:04:16.489586",
     "exception": false,
     "start_time": "2021-11-15T05:04:16.404258",
     "status": "completed"
    },
    "tags": []
   },
   "outputs": [
    {
     "data": {
      "text/html": [
       "<div>\n",
       "<style scoped>\n",
       "    .dataframe tbody tr th:only-of-type {\n",
       "        vertical-align: middle;\n",
       "    }\n",
       "\n",
       "    .dataframe tbody tr th {\n",
       "        vertical-align: top;\n",
       "    }\n",
       "\n",
       "    .dataframe thead th {\n",
       "        text-align: right;\n",
       "    }\n",
       "</style>\n",
       "<table border=\"1\" class=\"dataframe\">\n",
       "  <thead>\n",
       "    <tr style=\"text-align: right;\">\n",
       "      <th></th>\n",
       "      <th>Age</th>\n",
       "      <th>Sex</th>\n",
       "      <th>BP</th>\n",
       "      <th>Cholesterol</th>\n",
       "      <th>Na_to_K</th>\n",
       "      <th>Drug</th>\n",
       "      <th>NAK</th>\n",
       "    </tr>\n",
       "  </thead>\n",
       "  <tbody>\n",
       "    <tr>\n",
       "      <th>0</th>\n",
       "      <td>23</td>\n",
       "      <td>0</td>\n",
       "      <td>0</td>\n",
       "      <td>0</td>\n",
       "      <td>25.355</td>\n",
       "      <td>0</td>\n",
       "      <td>1</td>\n",
       "    </tr>\n",
       "    <tr>\n",
       "      <th>1</th>\n",
       "      <td>47</td>\n",
       "      <td>1</td>\n",
       "      <td>1</td>\n",
       "      <td>0</td>\n",
       "      <td>13.093</td>\n",
       "      <td>3</td>\n",
       "      <td>0</td>\n",
       "    </tr>\n",
       "    <tr>\n",
       "      <th>2</th>\n",
       "      <td>47</td>\n",
       "      <td>1</td>\n",
       "      <td>1</td>\n",
       "      <td>0</td>\n",
       "      <td>10.114</td>\n",
       "      <td>3</td>\n",
       "      <td>0</td>\n",
       "    </tr>\n",
       "    <tr>\n",
       "      <th>3</th>\n",
       "      <td>28</td>\n",
       "      <td>0</td>\n",
       "      <td>2</td>\n",
       "      <td>0</td>\n",
       "      <td>7.798</td>\n",
       "      <td>4</td>\n",
       "      <td>0</td>\n",
       "    </tr>\n",
       "    <tr>\n",
       "      <th>4</th>\n",
       "      <td>61</td>\n",
       "      <td>0</td>\n",
       "      <td>1</td>\n",
       "      <td>0</td>\n",
       "      <td>18.043</td>\n",
       "      <td>0</td>\n",
       "      <td>1</td>\n",
       "    </tr>\n",
       "  </tbody>\n",
       "</table>\n",
       "</div>"
      ],
      "text/plain": [
       "   Age  Sex  BP  Cholesterol  Na_to_K  Drug  NAK\n",
       "0   23    0   0            0   25.355     0    1\n",
       "1   47    1   1            0   13.093     3    0\n",
       "2   47    1   1            0   10.114     3    0\n",
       "3   28    0   2            0    7.798     4    0\n",
       "4   61    0   1            0   18.043     0    1"
      ]
     },
     "execution_count": 36,
     "metadata": {},
     "output_type": "execute_result"
    }
   ],
   "source": [
    "df.head()"
   ]
  },
  {
   "cell_type": "code",
   "execution_count": 37,
   "id": "cffeeab8",
   "metadata": {
    "execution": {
     "iopub.execute_input": "2021-11-15T05:04:16.634078Z",
     "iopub.status.busy": "2021-11-15T05:04:16.633197Z",
     "iopub.status.idle": "2021-11-15T05:04:16.644119Z",
     "shell.execute_reply": "2021-11-15T05:04:16.644741Z",
     "shell.execute_reply.started": "2021-11-15T05:00:47.049496Z"
    },
    "papermill": {
     "duration": 0.084456,
     "end_time": "2021-11-15T05:04:16.644993",
     "exception": false,
     "start_time": "2021-11-15T05:04:16.560537",
     "status": "completed"
    },
    "tags": []
   },
   "outputs": [],
   "source": [
    "###scaling\n",
    "from sklearn.preprocessing import MinMaxScaler\n",
    "ms = MinMaxScaler()\n",
    "ncols = ['Age','Na_to_K']\n",
    "df[ncols] = ms.fit_transform(df[ncols])"
   ]
  },
  {
   "cell_type": "code",
   "execution_count": 38,
   "id": "a3fa3cb9",
   "metadata": {
    "execution": {
     "iopub.execute_input": "2021-11-15T05:04:16.804166Z",
     "iopub.status.busy": "2021-11-15T05:04:16.791839Z",
     "iopub.status.idle": "2021-11-15T05:04:16.808659Z",
     "shell.execute_reply": "2021-11-15T05:04:16.807992Z",
     "shell.execute_reply.started": "2021-11-15T05:00:47.066506Z"
    },
    "papermill": {
     "duration": 0.094539,
     "end_time": "2021-11-15T05:04:16.808874",
     "exception": false,
     "start_time": "2021-11-15T05:04:16.714335",
     "status": "completed"
    },
    "tags": []
   },
   "outputs": [
    {
     "data": {
      "text/html": [
       "<div>\n",
       "<style scoped>\n",
       "    .dataframe tbody tr th:only-of-type {\n",
       "        vertical-align: middle;\n",
       "    }\n",
       "\n",
       "    .dataframe tbody tr th {\n",
       "        vertical-align: top;\n",
       "    }\n",
       "\n",
       "    .dataframe thead th {\n",
       "        text-align: right;\n",
       "    }\n",
       "</style>\n",
       "<table border=\"1\" class=\"dataframe\">\n",
       "  <thead>\n",
       "    <tr style=\"text-align: right;\">\n",
       "      <th></th>\n",
       "      <th>Age</th>\n",
       "      <th>Sex</th>\n",
       "      <th>BP</th>\n",
       "      <th>Cholesterol</th>\n",
       "      <th>Na_to_K</th>\n",
       "      <th>Drug</th>\n",
       "      <th>NAK</th>\n",
       "    </tr>\n",
       "  </thead>\n",
       "  <tbody>\n",
       "    <tr>\n",
       "      <th>0</th>\n",
       "      <td>0.135593</td>\n",
       "      <td>0</td>\n",
       "      <td>0</td>\n",
       "      <td>0</td>\n",
       "      <td>0.596848</td>\n",
       "      <td>0</td>\n",
       "      <td>1</td>\n",
       "    </tr>\n",
       "    <tr>\n",
       "      <th>1</th>\n",
       "      <td>0.542373</td>\n",
       "      <td>1</td>\n",
       "      <td>1</td>\n",
       "      <td>0</td>\n",
       "      <td>0.213397</td>\n",
       "      <td>3</td>\n",
       "      <td>0</td>\n",
       "    </tr>\n",
       "    <tr>\n",
       "      <th>2</th>\n",
       "      <td>0.542373</td>\n",
       "      <td>1</td>\n",
       "      <td>1</td>\n",
       "      <td>0</td>\n",
       "      <td>0.120239</td>\n",
       "      <td>3</td>\n",
       "      <td>0</td>\n",
       "    </tr>\n",
       "    <tr>\n",
       "      <th>3</th>\n",
       "      <td>0.220339</td>\n",
       "      <td>0</td>\n",
       "      <td>2</td>\n",
       "      <td>0</td>\n",
       "      <td>0.047814</td>\n",
       "      <td>4</td>\n",
       "      <td>0</td>\n",
       "    </tr>\n",
       "    <tr>\n",
       "      <th>4</th>\n",
       "      <td>0.779661</td>\n",
       "      <td>0</td>\n",
       "      <td>1</td>\n",
       "      <td>0</td>\n",
       "      <td>0.368191</td>\n",
       "      <td>0</td>\n",
       "      <td>1</td>\n",
       "    </tr>\n",
       "  </tbody>\n",
       "</table>\n",
       "</div>"
      ],
      "text/plain": [
       "        Age  Sex  BP  Cholesterol   Na_to_K  Drug  NAK\n",
       "0  0.135593    0   0            0  0.596848     0    1\n",
       "1  0.542373    1   1            0  0.213397     3    0\n",
       "2  0.542373    1   1            0  0.120239     3    0\n",
       "3  0.220339    0   2            0  0.047814     4    0\n",
       "4  0.779661    0   1            0  0.368191     0    1"
      ]
     },
     "execution_count": 38,
     "metadata": {},
     "output_type": "execute_result"
    }
   ],
   "source": [
    "df.head()"
   ]
  },
  {
   "cell_type": "code",
   "execution_count": 39,
   "id": "9bac3e45",
   "metadata": {
    "execution": {
     "iopub.execute_input": "2021-11-15T05:04:16.957252Z",
     "iopub.status.busy": "2021-11-15T05:04:16.956168Z",
     "iopub.status.idle": "2021-11-15T05:04:16.961453Z",
     "shell.execute_reply": "2021-11-15T05:04:16.961984Z",
     "shell.execute_reply.started": "2021-11-15T05:00:47.089945Z"
    },
    "papermill": {
     "duration": 0.081261,
     "end_time": "2021-11-15T05:04:16.962200",
     "exception": false,
     "start_time": "2021-11-15T05:04:16.880939",
     "status": "completed"
    },
    "tags": []
   },
   "outputs": [],
   "source": [
    "y = df['Drug']\n",
    "X = df.drop('Drug',axis=1)"
   ]
  },
  {
   "cell_type": "markdown",
   "id": "51df25b4",
   "metadata": {
    "papermill": {
     "duration": 0.070119,
     "end_time": "2021-11-15T05:04:17.104295",
     "exception": false,
     "start_time": "2021-11-15T05:04:17.034176",
     "status": "completed"
    },
    "tags": []
   },
   "source": [
    "# **MODELLING**"
   ]
  },
  {
   "cell_type": "code",
   "execution_count": 40,
   "id": "d65be3b5",
   "metadata": {
    "execution": {
     "iopub.execute_input": "2021-11-15T05:04:17.248114Z",
     "iopub.status.busy": "2021-11-15T05:04:17.246840Z",
     "iopub.status.idle": "2021-11-15T05:04:17.251725Z",
     "shell.execute_reply": "2021-11-15T05:04:17.252610Z",
     "shell.execute_reply.started": "2021-11-15T05:00:47.102945Z"
    },
    "papermill": {
     "duration": 0.079457,
     "end_time": "2021-11-15T05:04:17.252932",
     "exception": false,
     "start_time": "2021-11-15T05:04:17.173475",
     "status": "completed"
    },
    "tags": []
   },
   "outputs": [],
   "source": [
    "scores = {}"
   ]
  },
  {
   "cell_type": "markdown",
   "id": "0a43f180",
   "metadata": {
    "papermill": {
     "duration": 0.069,
     "end_time": "2021-11-15T05:04:17.391455",
     "exception": false,
     "start_time": "2021-11-15T05:04:17.322455",
     "status": "completed"
    },
    "tags": []
   },
   "source": [
    "1.KNN using kfold cross validation"
   ]
  },
  {
   "cell_type": "code",
   "execution_count": 41,
   "id": "a689ce7a",
   "metadata": {
    "execution": {
     "iopub.execute_input": "2021-11-15T05:04:17.538700Z",
     "iopub.status.busy": "2021-11-15T05:04:17.537845Z",
     "iopub.status.idle": "2021-11-15T05:04:17.790094Z",
     "shell.execute_reply": "2021-11-15T05:04:17.788846Z",
     "shell.execute_reply.started": "2021-11-15T05:00:47.115685Z"
    },
    "papermill": {
     "duration": 0.329551,
     "end_time": "2021-11-15T05:04:17.790352",
     "exception": false,
     "start_time": "2021-11-15T05:04:17.460801",
     "status": "completed"
    },
    "tags": []
   },
   "outputs": [
    {
     "name": "stdout",
     "output_type": "stream",
     "text": [
      "KNN SCORE : 0.985\n"
     ]
    }
   ],
   "source": [
    "from sklearn.neighbors import KNeighborsClassifier\n",
    "from sklearn.model_selection import cross_val_score\n",
    "knn_cv = KNeighborsClassifier(n_neighbors=3)\n",
    "cv_scores = cross_val_score(knn_cv, X, y, cv=5)\n",
    "scores['Knn'] = np.mean(cv_scores)\n",
    "print(f\"KNN SCORE : {np.mean(cv_scores)}\")"
   ]
  },
  {
   "cell_type": "markdown",
   "id": "fec61f9e",
   "metadata": {
    "papermill": {
     "duration": 0.069766,
     "end_time": "2021-11-15T05:04:17.931095",
     "exception": false,
     "start_time": "2021-11-15T05:04:17.861329",
     "status": "completed"
    },
    "tags": []
   },
   "source": [
    "2.Random Forest"
   ]
  },
  {
   "cell_type": "code",
   "execution_count": 42,
   "id": "c2162f5c",
   "metadata": {
    "execution": {
     "iopub.execute_input": "2021-11-15T05:04:18.080068Z",
     "iopub.status.busy": "2021-11-15T05:04:18.079135Z",
     "iopub.status.idle": "2021-11-15T05:04:19.147199Z",
     "shell.execute_reply": "2021-11-15T05:04:19.146441Z",
     "shell.execute_reply.started": "2021-11-15T05:00:47.165154Z"
    },
    "papermill": {
     "duration": 1.145876,
     "end_time": "2021-11-15T05:04:19.147380",
     "exception": false,
     "start_time": "2021-11-15T05:04:18.001504",
     "status": "completed"
    },
    "tags": []
   },
   "outputs": [
    {
     "name": "stdout",
     "output_type": "stream",
     "text": [
      "Random Forest Score : 0.99\n"
     ]
    }
   ],
   "source": [
    "from sklearn.ensemble import RandomForestClassifier\n",
    "rfc = RandomForestClassifier(random_state = 42)\n",
    "cv_scores = cross_val_score(rfc, X, y, cv=5)\n",
    "scores['RandomForest'] = np.mean(cv_scores)\n",
    "print(f\"Random Forest Score : {np.mean(cv_scores)}\")"
   ]
  },
  {
   "cell_type": "markdown",
   "id": "8c293838",
   "metadata": {
    "papermill": {
     "duration": 0.070402,
     "end_time": "2021-11-15T05:04:19.288699",
     "exception": false,
     "start_time": "2021-11-15T05:04:19.218297",
     "status": "completed"
    },
    "tags": []
   },
   "source": [
    "3.Extra Tress"
   ]
  },
  {
   "cell_type": "code",
   "execution_count": 43,
   "id": "51d034e8",
   "metadata": {
    "execution": {
     "iopub.execute_input": "2021-11-15T05:04:19.443368Z",
     "iopub.status.busy": "2021-11-15T05:04:19.440930Z",
     "iopub.status.idle": "2021-11-15T05:04:20.182729Z",
     "shell.execute_reply": "2021-11-15T05:04:20.183392Z",
     "shell.execute_reply.started": "2021-11-15T05:00:48.155337Z"
    },
    "papermill": {
     "duration": 0.823688,
     "end_time": "2021-11-15T05:04:20.183627",
     "exception": false,
     "start_time": "2021-11-15T05:04:19.359939",
     "status": "completed"
    },
    "tags": []
   },
   "outputs": [
    {
     "name": "stdout",
     "output_type": "stream",
     "text": [
      "ExtraTrees Score : 0.99\n"
     ]
    }
   ],
   "source": [
    "from sklearn.ensemble import ExtraTreesClassifier\n",
    "etc = ExtraTreesClassifier(random_state = 42)\n",
    "cv_scores = cross_val_score(etc, X, y, cv=5)\n",
    "scores['ExtraTree'] =  np.mean(cv_scores)\n",
    "print(f\"ExtraTrees Score : {np.mean(cv_scores)}\")"
   ]
  },
  {
   "cell_type": "code",
   "execution_count": 44,
   "id": "13183cf0",
   "metadata": {
    "execution": {
     "iopub.execute_input": "2021-11-15T05:04:20.362151Z",
     "iopub.status.busy": "2021-11-15T05:04:20.360614Z",
     "iopub.status.idle": "2021-11-15T05:04:20.521556Z",
     "shell.execute_reply": "2021-11-15T05:04:20.522239Z",
     "shell.execute_reply.started": "2021-11-15T05:01:48.134116Z"
    },
    "papermill": {
     "duration": 0.264339,
     "end_time": "2021-11-15T05:04:20.522490",
     "exception": false,
     "start_time": "2021-11-15T05:04:20.258151",
     "status": "completed"
    },
    "tags": []
   },
   "outputs": [
    {
     "data": {
      "text/plain": [
       "(array([1., 0., 0., 0., 0., 1., 0., 0., 0., 1.]),\n",
       " array([0. , 0.2, 0.4, 0.6, 0.8, 1. , 1.2, 1.4, 1.6, 1.8, 2. ]),\n",
       " <BarContainer object of 10 artists>)"
      ]
     },
     "execution_count": 44,
     "metadata": {},
     "output_type": "execute_result"
    },
    {
     "data": {
      "image/png": "[encoded data removed]",
      "text/plain": [
       "<Figure size 432x288 with 1 Axes>"
      ]
     },
     "metadata": {
      "needs_background": "light"
     },
     "output_type": "display_data"
    }
   ],
   "source": [
    "plt.title(\"SCORES\")\n",
    "plt.hist(scores)"
   ]
  }
 ],
 "metadata": {
  "kernelspec": {
   "display_name": "Python 3",
   "language": "python",
   "name": "python3"
  },
  "language_info": {
   "codemirror_mode": {
    "name": "ipython",
    "version": 3
   },
   "file_extension": ".py",
   "mimetype": "text/x-python",
   "name": "python",
   "nbconvert_exporter": "python",
   "pygments_lexer": "ipython3",
   "version": "3.7.10"
  },
  "papermill": {
   "default_parameters": {},
   "duration": 27.695972,
   "end_time": "2021-11-15T05:04:21.810947",
   "environment_variables": {},
   "exception": null,
   "input_path": "__notebook__.ipynb",
   "output_path": "__notebook__.ipynb",
   "parameters": {},
   "start_time": "2021-11-15T05:03:54.114975",
   "version": "2.3.3"
  }
 },
 "nbformat": 4,
 "nbformat_minor": 5
}
