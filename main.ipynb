{
 "cells": [
  {
   "cell_type": "markdown",
   "source": [
    "# Data Fusion project"
   ],
   "metadata": {
    "collapsed": false
   }
  },
  {
   "cell_type": "markdown",
   "source": [
    "## Load dataset"
   ],
   "metadata": {
    "collapsed": false
   }
  },
  {
   "cell_type": "code",
   "execution_count": 1,
   "outputs": [
    {
     "data": {
      "text/plain": "             entity_id        state                last_updated\n0       device_tracker          NaN  2023-01-20 15:47:16.741658\n1        battery_level           46  2023-01-20 15:47:19.575981\n2        battery_state  discharging  2023-01-20 15:47:19.639222\n3          is_charging          off  2023-01-20 15:47:19.708801\n4         charger_type         none  2023-01-20 15:47:19.774636\n...                ...          ...                         ...\n15234       app_memory        0.016  2023-01-25 09:42:35.545960\n15235    battery_power         -1.7  2023-01-25 09:42:35.547854\n15236  pressure_sensor       1026.3  2023-01-25 09:42:35.555762\n15237        app_rx_gb       0.1487  2023-01-25 09:42:35.689290\n15238       app_memory        0.018  2023-01-25 09:42:35.691141\n\n[15239 rows x 3 columns]",
      "text/html": "<div>\n<style scoped>\n    .dataframe tbody tr th:only-of-type {\n        vertical-align: middle;\n    }\n\n    .dataframe tbody tr th {\n        vertical-align: top;\n    }\n\n    .dataframe thead th {\n        text-align: right;\n    }\n</style>\n<table border=\"1\" class=\"dataframe\">\n  <thead>\n    <tr style=\"text-align: right;\">\n      <th></th>\n      <th>entity_id</th>\n      <th>state</th>\n      <th>last_updated</th>\n    </tr>\n  </thead>\n  <tbody>\n    <tr>\n      <th>0</th>\n      <td>device_tracker</td>\n      <td>NaN</td>\n      <td>2023-01-20 15:47:16.741658</td>\n    </tr>\n    <tr>\n      <th>1</th>\n      <td>battery_level</td>\n      <td>46</td>\n      <td>2023-01-20 15:47:19.575981</td>\n    </tr>\n    <tr>\n      <th>2</th>\n      <td>battery_state</td>\n      <td>discharging</td>\n      <td>2023-01-20 15:47:19.639222</td>\n    </tr>\n    <tr>\n      <th>3</th>\n      <td>is_charging</td>\n      <td>off</td>\n      <td>2023-01-20 15:47:19.708801</td>\n    </tr>\n    <tr>\n      <th>4</th>\n      <td>charger_type</td>\n      <td>none</td>\n      <td>2023-01-20 15:47:19.774636</td>\n    </tr>\n    <tr>\n      <th>...</th>\n      <td>...</td>\n      <td>...</td>\n      <td>...</td>\n    </tr>\n    <tr>\n      <th>15234</th>\n      <td>app_memory</td>\n      <td>0.016</td>\n      <td>2023-01-25 09:42:35.545960</td>\n    </tr>\n    <tr>\n      <th>15235</th>\n      <td>battery_power</td>\n      <td>-1.7</td>\n      <td>2023-01-25 09:42:35.547854</td>\n    </tr>\n    <tr>\n      <th>15236</th>\n      <td>pressure_sensor</td>\n      <td>1026.3</td>\n      <td>2023-01-25 09:42:35.555762</td>\n    </tr>\n    <tr>\n      <th>15237</th>\n      <td>app_rx_gb</td>\n      <td>0.1487</td>\n      <td>2023-01-25 09:42:35.689290</td>\n    </tr>\n    <tr>\n      <th>15238</th>\n      <td>app_memory</td>\n      <td>0.018</td>\n      <td>2023-01-25 09:42:35.691141</td>\n    </tr>\n  </tbody>\n</table>\n<p>15239 rows × 3 columns</p>\n</div>"
     },
     "execution_count": 1,
     "metadata": {},
     "output_type": "execute_result"
    }
   ],
   "source": [
    "import numpy as np\n",
    "import pandas as pd\n",
    "\n",
    "# Load dataset\n",
    "dataframe = pd.read_csv('dataset.csv')\n",
    "dataframe"
   ],
   "metadata": {
    "collapsed": false
   }
  },
  {
   "cell_type": "code",
   "execution_count": 2,
   "outputs": [
    {
     "name": "stdout",
     "output_type": "stream",
     "text": [
      "<class 'pandas.core.frame.DataFrame'>\n",
      "RangeIndex: 15239 entries, 0 to 15238\n",
      "Data columns (total 3 columns):\n",
      " #   Column        Non-Null Count  Dtype \n",
      "---  ------        --------------  ----- \n",
      " 0   entity_id     15239 non-null  object\n",
      " 1   state         14890 non-null  object\n",
      " 2   last_updated  15239 non-null  object\n",
      "dtypes: object(3)\n",
      "memory usage: 357.3+ KB\n",
      "None\n"
     ]
    },
    {
     "data": {
      "text/plain": "entity_id       object\nstate           object\nlast_updated    object\ndtype: object"
     },
     "execution_count": 2,
     "metadata": {},
     "output_type": "execute_result"
    }
   ],
   "source": [
    "print(dataframe.info())\n",
    "dataframe.dtypes"
   ],
   "metadata": {
    "collapsed": false
   }
  },
  {
   "cell_type": "code",
   "execution_count": 3,
   "outputs": [
    {
     "data": {
      "text/plain": "app_memory                    2006\nbattery_power                 1788\nlast_update_trigger           1554\nlight_sensor                  1157\ninteractive                    877\nbattery_temperature            851\npressure_sensor                848\nscreen_brightness              557\nwifi_link_speed                555\nsteps_sensor                   492\nactive_notification_count      439\ntotal_rx_gb                    389\ndetected_activity              381\nproximity_sensor               323\ndevice_locked                  293\nbattery_level                  293\nlast_used_app                  253\napp_rx_gb                      228\ntotal_tx_gb                    192\nmobile_rx_gb                   165\nvolume_level_music             148\nwifi_signal_strength           146\ndoze_mode                      139\nvolume_level_accessibility     137\napp_tx_gb                      127\nmusic_active                   119\nwifi_frequency                 104\nwifi_connection                 86\nmobile_tx_gb                    59\nnetwork_type                    53\nvolume_level_call               48\ncharger_type                    36\nis_charging                     36\nbattery_state                   36\nheadphones                      31\nmobile_data                     30\naudio_mode                      27\nbluetooth_connection            27\nphone_state                     24\ndo_not_disturb_sensor           23\nble_transmitter                 22\ndevice_tracker                  21\nbattery_health                  21\nwifi_state                      20\nbluetooth_state                 19\nspeakerphone                    17\nscreen_off_timeout              13\nvolume_level_system             13\npower_save                      11\naccent_color                     5\nName: entity_id, dtype: int64"
     },
     "execution_count": 3,
     "metadata": {},
     "output_type": "execute_result"
    }
   ],
   "source": [
    "dataframe['entity_id'].value_counts()"
   ],
   "metadata": {
    "collapsed": false
   }
  },
  {
   "cell_type": "markdown",
   "source": [
    "## Data manipulation"
   ],
   "metadata": {
    "collapsed": false
   }
  },
  {
   "cell_type": "code",
   "execution_count": 4,
   "outputs": [
    {
     "data": {
      "text/plain": "array(['device_tracker', 'battery_level', 'battery_state', 'is_charging',\n       'charger_type', 'battery_health', 'battery_temperature',\n       'battery_power', 'detected_activity', 'app_rx_gb', 'app_tx_gb',\n       'app_memory', 'audio_mode', 'headphones', 'music_active',\n       'volume_level_call', 'volume_level_music', 'volume_level_system',\n       'volume_level_accessibility', 'bluetooth_connection',\n       'ble_transmitter', 'screen_brightness', 'screen_off_timeout',\n       'do_not_disturb_sensor', 'accent_color', 'last_used_app',\n       'last_update_trigger', 'light_sensor', 'wifi_connection',\n       'wifi_link_speed', 'wifi_frequency', 'wifi_signal_strength',\n       'network_type', 'speakerphone', 'bluetooth_state', 'device_locked',\n       'mobile_data', 'wifi_state', 'active_notification_count',\n       'phone_state', 'pressure_sensor', 'proximity_sensor',\n       'steps_sensor', 'mobile_rx_gb', 'mobile_tx_gb', 'total_rx_gb',\n       'total_tx_gb', 'interactive', 'doze_mode', 'power_save'],\n      dtype=object)"
     },
     "execution_count": 4,
     "metadata": {},
     "output_type": "execute_result"
    }
   ],
   "source": [
    "# get all unique sensors\n",
    "sensor_columns = dataframe['entity_id'].unique()\n",
    "sensor_columns"
   ],
   "metadata": {
    "collapsed": false
   }
  },
  {
   "cell_type": "markdown",
   "source": [
    "### Create new dataframe"
   ],
   "metadata": {
    "collapsed": false
   }
  },
  {
   "cell_type": "code",
   "execution_count": 5,
   "outputs": [
    {
     "data": {
      "text/plain": "                     last_updated device_tracker battery_level battery_state  \\\n0      2023-01-20 15:47:16.741658            NaN           NaN           NaN   \n1      2023-01-20 15:47:19.575981            NaN           NaN           NaN   \n2      2023-01-20 15:47:19.639222            NaN           NaN           NaN   \n3      2023-01-20 15:47:19.708801            NaN           NaN           NaN   \n4      2023-01-20 15:47:19.774636            NaN           NaN           NaN   \n...                           ...            ...           ...           ...   \n15234  2023-01-25 09:42:35.545960            NaN           NaN           NaN   \n15235  2023-01-25 09:42:35.547854            NaN           NaN           NaN   \n15236  2023-01-25 09:42:35.555762            NaN           NaN           NaN   \n15237  2023-01-25 09:42:35.689290            NaN           NaN           NaN   \n15238  2023-01-25 09:42:35.691141            NaN           NaN           NaN   \n\n      is_charging charger_type battery_health battery_temperature  \\\n0             NaN          NaN            NaN                 NaN   \n1             NaN          NaN            NaN                 NaN   \n2             NaN          NaN            NaN                 NaN   \n3             NaN          NaN            NaN                 NaN   \n4             NaN          NaN            NaN                 NaN   \n...           ...          ...            ...                 ...   \n15234         NaN          NaN            NaN                 NaN   \n15235         NaN          NaN            NaN                 NaN   \n15236         NaN          NaN            NaN                 NaN   \n15237         NaN          NaN            NaN                 NaN   \n15238         NaN          NaN            NaN                 NaN   \n\n      battery_power detected_activity  ... pressure_sensor proximity_sensor  \\\n0               NaN               NaN  ...             NaN              NaN   \n1               NaN               NaN  ...             NaN              NaN   \n2               NaN               NaN  ...             NaN              NaN   \n3               NaN               NaN  ...             NaN              NaN   \n4               NaN               NaN  ...             NaN              NaN   \n...             ...               ...  ...             ...              ...   \n15234           NaN               NaN  ...             NaN              NaN   \n15235           NaN               NaN  ...             NaN              NaN   \n15236           NaN               NaN  ...             NaN              NaN   \n15237           NaN               NaN  ...             NaN              NaN   \n15238           NaN               NaN  ...             NaN              NaN   \n\n      steps_sensor mobile_rx_gb mobile_tx_gb total_rx_gb total_tx_gb  \\\n0              NaN          NaN          NaN         NaN         NaN   \n1              NaN          NaN          NaN         NaN         NaN   \n2              NaN          NaN          NaN         NaN         NaN   \n3              NaN          NaN          NaN         NaN         NaN   \n4              NaN          NaN          NaN         NaN         NaN   \n...            ...          ...          ...         ...         ...   \n15234          NaN          NaN          NaN         NaN         NaN   \n15235          NaN          NaN          NaN         NaN         NaN   \n15236          NaN          NaN          NaN         NaN         NaN   \n15237          NaN          NaN          NaN         NaN         NaN   \n15238          NaN          NaN          NaN         NaN         NaN   \n\n      interactive doze_mode power_save  \n0             NaN       NaN        NaN  \n1             NaN       NaN        NaN  \n2             NaN       NaN        NaN  \n3             NaN       NaN        NaN  \n4             NaN       NaN        NaN  \n...           ...       ...        ...  \n15234         NaN       NaN        NaN  \n15235         NaN       NaN        NaN  \n15236         NaN       NaN        NaN  \n15237         NaN       NaN        NaN  \n15238         NaN       NaN        NaN  \n\n[15239 rows x 51 columns]",
      "text/html": "<div>\n<style scoped>\n    .dataframe tbody tr th:only-of-type {\n        vertical-align: middle;\n    }\n\n    .dataframe tbody tr th {\n        vertical-align: top;\n    }\n\n    .dataframe thead tr th {\n        text-align: left;\n    }\n</style>\n<table border=\"1\" class=\"dataframe\">\n  <thead>\n    <tr>\n      <th></th>\n      <th>last_updated</th>\n      <th>device_tracker</th>\n      <th>battery_level</th>\n      <th>battery_state</th>\n      <th>is_charging</th>\n      <th>charger_type</th>\n      <th>battery_health</th>\n      <th>battery_temperature</th>\n      <th>battery_power</th>\n      <th>detected_activity</th>\n      <th>...</th>\n      <th>pressure_sensor</th>\n      <th>proximity_sensor</th>\n      <th>steps_sensor</th>\n      <th>mobile_rx_gb</th>\n      <th>mobile_tx_gb</th>\n      <th>total_rx_gb</th>\n      <th>total_tx_gb</th>\n      <th>interactive</th>\n      <th>doze_mode</th>\n      <th>power_save</th>\n    </tr>\n  </thead>\n  <tbody>\n    <tr>\n      <th>0</th>\n      <td>2023-01-20 15:47:16.741658</td>\n      <td>NaN</td>\n      <td>NaN</td>\n      <td>NaN</td>\n      <td>NaN</td>\n      <td>NaN</td>\n      <td>NaN</td>\n      <td>NaN</td>\n      <td>NaN</td>\n      <td>NaN</td>\n      <td>...</td>\n      <td>NaN</td>\n      <td>NaN</td>\n      <td>NaN</td>\n      <td>NaN</td>\n      <td>NaN</td>\n      <td>NaN</td>\n      <td>NaN</td>\n      <td>NaN</td>\n      <td>NaN</td>\n      <td>NaN</td>\n    </tr>\n    <tr>\n      <th>1</th>\n      <td>2023-01-20 15:47:19.575981</td>\n      <td>NaN</td>\n      <td>NaN</td>\n      <td>NaN</td>\n      <td>NaN</td>\n      <td>NaN</td>\n      <td>NaN</td>\n      <td>NaN</td>\n      <td>NaN</td>\n      <td>NaN</td>\n      <td>...</td>\n      <td>NaN</td>\n      <td>NaN</td>\n      <td>NaN</td>\n      <td>NaN</td>\n      <td>NaN</td>\n      <td>NaN</td>\n      <td>NaN</td>\n      <td>NaN</td>\n      <td>NaN</td>\n      <td>NaN</td>\n    </tr>\n    <tr>\n      <th>2</th>\n      <td>2023-01-20 15:47:19.639222</td>\n      <td>NaN</td>\n      <td>NaN</td>\n      <td>NaN</td>\n      <td>NaN</td>\n      <td>NaN</td>\n      <td>NaN</td>\n      <td>NaN</td>\n      <td>NaN</td>\n      <td>NaN</td>\n      <td>...</td>\n      <td>NaN</td>\n      <td>NaN</td>\n      <td>NaN</td>\n      <td>NaN</td>\n      <td>NaN</td>\n      <td>NaN</td>\n      <td>NaN</td>\n      <td>NaN</td>\n      <td>NaN</td>\n      <td>NaN</td>\n    </tr>\n    <tr>\n      <th>3</th>\n      <td>2023-01-20 15:47:19.708801</td>\n      <td>NaN</td>\n      <td>NaN</td>\n      <td>NaN</td>\n      <td>NaN</td>\n      <td>NaN</td>\n      <td>NaN</td>\n      <td>NaN</td>\n      <td>NaN</td>\n      <td>NaN</td>\n      <td>...</td>\n      <td>NaN</td>\n      <td>NaN</td>\n      <td>NaN</td>\n      <td>NaN</td>\n      <td>NaN</td>\n      <td>NaN</td>\n      <td>NaN</td>\n      <td>NaN</td>\n      <td>NaN</td>\n      <td>NaN</td>\n    </tr>\n    <tr>\n      <th>4</th>\n      <td>2023-01-20 15:47:19.774636</td>\n      <td>NaN</td>\n      <td>NaN</td>\n      <td>NaN</td>\n      <td>NaN</td>\n      <td>NaN</td>\n      <td>NaN</td>\n      <td>NaN</td>\n      <td>NaN</td>\n      <td>NaN</td>\n      <td>...</td>\n      <td>NaN</td>\n      <td>NaN</td>\n      <td>NaN</td>\n      <td>NaN</td>\n      <td>NaN</td>\n      <td>NaN</td>\n      <td>NaN</td>\n      <td>NaN</td>\n      <td>NaN</td>\n      <td>NaN</td>\n    </tr>\n    <tr>\n      <th>...</th>\n      <td>...</td>\n      <td>...</td>\n      <td>...</td>\n      <td>...</td>\n      <td>...</td>\n      <td>...</td>\n      <td>...</td>\n      <td>...</td>\n      <td>...</td>\n      <td>...</td>\n      <td>...</td>\n      <td>...</td>\n      <td>...</td>\n      <td>...</td>\n      <td>...</td>\n      <td>...</td>\n      <td>...</td>\n      <td>...</td>\n      <td>...</td>\n      <td>...</td>\n      <td>...</td>\n    </tr>\n    <tr>\n      <th>15234</th>\n      <td>2023-01-25 09:42:35.545960</td>\n      <td>NaN</td>\n      <td>NaN</td>\n      <td>NaN</td>\n      <td>NaN</td>\n      <td>NaN</td>\n      <td>NaN</td>\n      <td>NaN</td>\n      <td>NaN</td>\n      <td>NaN</td>\n      <td>...</td>\n      <td>NaN</td>\n      <td>NaN</td>\n      <td>NaN</td>\n      <td>NaN</td>\n      <td>NaN</td>\n      <td>NaN</td>\n      <td>NaN</td>\n      <td>NaN</td>\n      <td>NaN</td>\n      <td>NaN</td>\n    </tr>\n    <tr>\n      <th>15235</th>\n      <td>2023-01-25 09:42:35.547854</td>\n      <td>NaN</td>\n      <td>NaN</td>\n      <td>NaN</td>\n      <td>NaN</td>\n      <td>NaN</td>\n      <td>NaN</td>\n      <td>NaN</td>\n      <td>NaN</td>\n      <td>NaN</td>\n      <td>...</td>\n      <td>NaN</td>\n      <td>NaN</td>\n      <td>NaN</td>\n      <td>NaN</td>\n      <td>NaN</td>\n      <td>NaN</td>\n      <td>NaN</td>\n      <td>NaN</td>\n      <td>NaN</td>\n      <td>NaN</td>\n    </tr>\n    <tr>\n      <th>15236</th>\n      <td>2023-01-25 09:42:35.555762</td>\n      <td>NaN</td>\n      <td>NaN</td>\n      <td>NaN</td>\n      <td>NaN</td>\n      <td>NaN</td>\n      <td>NaN</td>\n      <td>NaN</td>\n      <td>NaN</td>\n      <td>NaN</td>\n      <td>...</td>\n      <td>NaN</td>\n      <td>NaN</td>\n      <td>NaN</td>\n      <td>NaN</td>\n      <td>NaN</td>\n      <td>NaN</td>\n      <td>NaN</td>\n      <td>NaN</td>\n      <td>NaN</td>\n      <td>NaN</td>\n    </tr>\n    <tr>\n      <th>15237</th>\n      <td>2023-01-25 09:42:35.689290</td>\n      <td>NaN</td>\n      <td>NaN</td>\n      <td>NaN</td>\n      <td>NaN</td>\n      <td>NaN</td>\n      <td>NaN</td>\n      <td>NaN</td>\n      <td>NaN</td>\n      <td>NaN</td>\n      <td>...</td>\n      <td>NaN</td>\n      <td>NaN</td>\n      <td>NaN</td>\n      <td>NaN</td>\n      <td>NaN</td>\n      <td>NaN</td>\n      <td>NaN</td>\n      <td>NaN</td>\n      <td>NaN</td>\n      <td>NaN</td>\n    </tr>\n    <tr>\n      <th>15238</th>\n      <td>2023-01-25 09:42:35.691141</td>\n      <td>NaN</td>\n      <td>NaN</td>\n      <td>NaN</td>\n      <td>NaN</td>\n      <td>NaN</td>\n      <td>NaN</td>\n      <td>NaN</td>\n      <td>NaN</td>\n      <td>NaN</td>\n      <td>...</td>\n      <td>NaN</td>\n      <td>NaN</td>\n      <td>NaN</td>\n      <td>NaN</td>\n      <td>NaN</td>\n      <td>NaN</td>\n      <td>NaN</td>\n      <td>NaN</td>\n      <td>NaN</td>\n      <td>NaN</td>\n    </tr>\n  </tbody>\n</table>\n<p>15239 rows × 51 columns</p>\n</div>"
     },
     "execution_count": 5,
     "metadata": {},
     "output_type": "execute_result"
    }
   ],
   "source": [
    "# create new dataframe with sensors as column headers\n",
    "df = pd.DataFrame(columns =[sensor_columns])\n",
    "df.insert(0, 'last_updated', dataframe['last_updated'])\n",
    "df"
   ],
   "metadata": {
    "collapsed": false
   }
  },
  {
   "cell_type": "markdown",
   "source": [
    "### Fill new dataframe"
   ],
   "metadata": {
    "collapsed": false
   }
  },
  {
   "cell_type": "code",
   "execution_count": 6,
   "outputs": [
    {
     "data": {
      "text/plain": "                     last_updated device_tracker battery_level battery_state  \\\n0      2023-01-20 15:47:16.741658            NaN           NaN           NaN   \n1      2023-01-20 15:47:19.575981            NaN            46           NaN   \n2      2023-01-20 15:47:19.639222            NaN           NaN   discharging   \n3      2023-01-20 15:47:19.708801            NaN           NaN           NaN   \n4      2023-01-20 15:47:19.774636            NaN           NaN           NaN   \n...                           ...            ...           ...           ...   \n15234  2023-01-25 09:42:35.545960            NaN           NaN           NaN   \n15235  2023-01-25 09:42:35.547854            NaN           NaN           NaN   \n15236  2023-01-25 09:42:35.555762            NaN           NaN           NaN   \n15237  2023-01-25 09:42:35.689290            NaN           NaN           NaN   \n15238  2023-01-25 09:42:35.691141            NaN           NaN           NaN   \n\n      is_charging charger_type battery_health battery_temperature  \\\n0             NaN          NaN            NaN                 NaN   \n1             NaN          NaN            NaN                 NaN   \n2             NaN          NaN            NaN                 NaN   \n3             off          NaN            NaN                 NaN   \n4             NaN         none            NaN                 NaN   \n...           ...          ...            ...                 ...   \n15234         NaN          NaN            NaN                 NaN   \n15235         NaN          NaN            NaN                 NaN   \n15236         NaN          NaN            NaN                 NaN   \n15237         NaN          NaN            NaN                 NaN   \n15238         NaN          NaN            NaN                 NaN   \n\n      battery_power detected_activity  ... pressure_sensor proximity_sensor  \\\n0               NaN               NaN  ...             NaN              NaN   \n1               NaN               NaN  ...             NaN              NaN   \n2               NaN               NaN  ...             NaN              NaN   \n3               NaN               NaN  ...             NaN              NaN   \n4               NaN               NaN  ...             NaN              NaN   \n...             ...               ...  ...             ...              ...   \n15234           NaN               NaN  ...             NaN              NaN   \n15235          -1.7               NaN  ...             NaN              NaN   \n15236           NaN               NaN  ...          1026.3              NaN   \n15237           NaN               NaN  ...             NaN              NaN   \n15238           NaN               NaN  ...             NaN              NaN   \n\n      steps_sensor mobile_rx_gb mobile_tx_gb total_rx_gb total_tx_gb  \\\n0              NaN          NaN          NaN         NaN         NaN   \n1              NaN          NaN          NaN         NaN         NaN   \n2              NaN          NaN          NaN         NaN         NaN   \n3              NaN          NaN          NaN         NaN         NaN   \n4              NaN          NaN          NaN         NaN         NaN   \n...            ...          ...          ...         ...         ...   \n15234          NaN          NaN          NaN         NaN         NaN   \n15235          NaN          NaN          NaN         NaN         NaN   \n15236          NaN          NaN          NaN         NaN         NaN   \n15237          NaN          NaN          NaN         NaN         NaN   \n15238          NaN          NaN          NaN         NaN         NaN   \n\n      interactive doze_mode power_save  \n0             NaN       NaN        NaN  \n1             NaN       NaN        NaN  \n2             NaN       NaN        NaN  \n3             NaN       NaN        NaN  \n4             NaN       NaN        NaN  \n...           ...       ...        ...  \n15234         NaN       NaN        NaN  \n15235         NaN       NaN        NaN  \n15236         NaN       NaN        NaN  \n15237         NaN       NaN        NaN  \n15238         NaN       NaN        NaN  \n\n[15239 rows x 51 columns]",
      "text/html": "<div>\n<style scoped>\n    .dataframe tbody tr th:only-of-type {\n        vertical-align: middle;\n    }\n\n    .dataframe tbody tr th {\n        vertical-align: top;\n    }\n\n    .dataframe thead tr th {\n        text-align: left;\n    }\n</style>\n<table border=\"1\" class=\"dataframe\">\n  <thead>\n    <tr>\n      <th></th>\n      <th>last_updated</th>\n      <th>device_tracker</th>\n      <th>battery_level</th>\n      <th>battery_state</th>\n      <th>is_charging</th>\n      <th>charger_type</th>\n      <th>battery_health</th>\n      <th>battery_temperature</th>\n      <th>battery_power</th>\n      <th>detected_activity</th>\n      <th>...</th>\n      <th>pressure_sensor</th>\n      <th>proximity_sensor</th>\n      <th>steps_sensor</th>\n      <th>mobile_rx_gb</th>\n      <th>mobile_tx_gb</th>\n      <th>total_rx_gb</th>\n      <th>total_tx_gb</th>\n      <th>interactive</th>\n      <th>doze_mode</th>\n      <th>power_save</th>\n    </tr>\n  </thead>\n  <tbody>\n    <tr>\n      <th>0</th>\n      <td>2023-01-20 15:47:16.741658</td>\n      <td>NaN</td>\n      <td>NaN</td>\n      <td>NaN</td>\n      <td>NaN</td>\n      <td>NaN</td>\n      <td>NaN</td>\n      <td>NaN</td>\n      <td>NaN</td>\n      <td>NaN</td>\n      <td>...</td>\n      <td>NaN</td>\n      <td>NaN</td>\n      <td>NaN</td>\n      <td>NaN</td>\n      <td>NaN</td>\n      <td>NaN</td>\n      <td>NaN</td>\n      <td>NaN</td>\n      <td>NaN</td>\n      <td>NaN</td>\n    </tr>\n    <tr>\n      <th>1</th>\n      <td>2023-01-20 15:47:19.575981</td>\n      <td>NaN</td>\n      <td>46</td>\n      <td>NaN</td>\n      <td>NaN</td>\n      <td>NaN</td>\n      <td>NaN</td>\n      <td>NaN</td>\n      <td>NaN</td>\n      <td>NaN</td>\n      <td>...</td>\n      <td>NaN</td>\n      <td>NaN</td>\n      <td>NaN</td>\n      <td>NaN</td>\n      <td>NaN</td>\n      <td>NaN</td>\n      <td>NaN</td>\n      <td>NaN</td>\n      <td>NaN</td>\n      <td>NaN</td>\n    </tr>\n    <tr>\n      <th>2</th>\n      <td>2023-01-20 15:47:19.639222</td>\n      <td>NaN</td>\n      <td>NaN</td>\n      <td>discharging</td>\n      <td>NaN</td>\n      <td>NaN</td>\n      <td>NaN</td>\n      <td>NaN</td>\n      <td>NaN</td>\n      <td>NaN</td>\n      <td>...</td>\n      <td>NaN</td>\n      <td>NaN</td>\n      <td>NaN</td>\n      <td>NaN</td>\n      <td>NaN</td>\n      <td>NaN</td>\n      <td>NaN</td>\n      <td>NaN</td>\n      <td>NaN</td>\n      <td>NaN</td>\n    </tr>\n    <tr>\n      <th>3</th>\n      <td>2023-01-20 15:47:19.708801</td>\n      <td>NaN</td>\n      <td>NaN</td>\n      <td>NaN</td>\n      <td>off</td>\n      <td>NaN</td>\n      <td>NaN</td>\n      <td>NaN</td>\n      <td>NaN</td>\n      <td>NaN</td>\n      <td>...</td>\n      <td>NaN</td>\n      <td>NaN</td>\n      <td>NaN</td>\n      <td>NaN</td>\n      <td>NaN</td>\n      <td>NaN</td>\n      <td>NaN</td>\n      <td>NaN</td>\n      <td>NaN</td>\n      <td>NaN</td>\n    </tr>\n    <tr>\n      <th>4</th>\n      <td>2023-01-20 15:47:19.774636</td>\n      <td>NaN</td>\n      <td>NaN</td>\n      <td>NaN</td>\n      <td>NaN</td>\n      <td>none</td>\n      <td>NaN</td>\n      <td>NaN</td>\n      <td>NaN</td>\n      <td>NaN</td>\n      <td>...</td>\n      <td>NaN</td>\n      <td>NaN</td>\n      <td>NaN</td>\n      <td>NaN</td>\n      <td>NaN</td>\n      <td>NaN</td>\n      <td>NaN</td>\n      <td>NaN</td>\n      <td>NaN</td>\n      <td>NaN</td>\n    </tr>\n    <tr>\n      <th>...</th>\n      <td>...</td>\n      <td>...</td>\n      <td>...</td>\n      <td>...</td>\n      <td>...</td>\n      <td>...</td>\n      <td>...</td>\n      <td>...</td>\n      <td>...</td>\n      <td>...</td>\n      <td>...</td>\n      <td>...</td>\n      <td>...</td>\n      <td>...</td>\n      <td>...</td>\n      <td>...</td>\n      <td>...</td>\n      <td>...</td>\n      <td>...</td>\n      <td>...</td>\n      <td>...</td>\n    </tr>\n    <tr>\n      <th>15234</th>\n      <td>2023-01-25 09:42:35.545960</td>\n      <td>NaN</td>\n      <td>NaN</td>\n      <td>NaN</td>\n      <td>NaN</td>\n      <td>NaN</td>\n      <td>NaN</td>\n      <td>NaN</td>\n      <td>NaN</td>\n      <td>NaN</td>\n      <td>...</td>\n      <td>NaN</td>\n      <td>NaN</td>\n      <td>NaN</td>\n      <td>NaN</td>\n      <td>NaN</td>\n      <td>NaN</td>\n      <td>NaN</td>\n      <td>NaN</td>\n      <td>NaN</td>\n      <td>NaN</td>\n    </tr>\n    <tr>\n      <th>15235</th>\n      <td>2023-01-25 09:42:35.547854</td>\n      <td>NaN</td>\n      <td>NaN</td>\n      <td>NaN</td>\n      <td>NaN</td>\n      <td>NaN</td>\n      <td>NaN</td>\n      <td>NaN</td>\n      <td>-1.7</td>\n      <td>NaN</td>\n      <td>...</td>\n      <td>NaN</td>\n      <td>NaN</td>\n      <td>NaN</td>\n      <td>NaN</td>\n      <td>NaN</td>\n      <td>NaN</td>\n      <td>NaN</td>\n      <td>NaN</td>\n      <td>NaN</td>\n      <td>NaN</td>\n    </tr>\n    <tr>\n      <th>15236</th>\n      <td>2023-01-25 09:42:35.555762</td>\n      <td>NaN</td>\n      <td>NaN</td>\n      <td>NaN</td>\n      <td>NaN</td>\n      <td>NaN</td>\n      <td>NaN</td>\n      <td>NaN</td>\n      <td>NaN</td>\n      <td>NaN</td>\n      <td>...</td>\n      <td>1026.3</td>\n      <td>NaN</td>\n      <td>NaN</td>\n      <td>NaN</td>\n      <td>NaN</td>\n      <td>NaN</td>\n      <td>NaN</td>\n      <td>NaN</td>\n      <td>NaN</td>\n      <td>NaN</td>\n    </tr>\n    <tr>\n      <th>15237</th>\n      <td>2023-01-25 09:42:35.689290</td>\n      <td>NaN</td>\n      <td>NaN</td>\n      <td>NaN</td>\n      <td>NaN</td>\n      <td>NaN</td>\n      <td>NaN</td>\n      <td>NaN</td>\n      <td>NaN</td>\n      <td>NaN</td>\n      <td>...</td>\n      <td>NaN</td>\n      <td>NaN</td>\n      <td>NaN</td>\n      <td>NaN</td>\n      <td>NaN</td>\n      <td>NaN</td>\n      <td>NaN</td>\n      <td>NaN</td>\n      <td>NaN</td>\n      <td>NaN</td>\n    </tr>\n    <tr>\n      <th>15238</th>\n      <td>2023-01-25 09:42:35.691141</td>\n      <td>NaN</td>\n      <td>NaN</td>\n      <td>NaN</td>\n      <td>NaN</td>\n      <td>NaN</td>\n      <td>NaN</td>\n      <td>NaN</td>\n      <td>NaN</td>\n      <td>NaN</td>\n      <td>...</td>\n      <td>NaN</td>\n      <td>NaN</td>\n      <td>NaN</td>\n      <td>NaN</td>\n      <td>NaN</td>\n      <td>NaN</td>\n      <td>NaN</td>\n      <td>NaN</td>\n      <td>NaN</td>\n      <td>NaN</td>\n    </tr>\n  </tbody>\n</table>\n<p>15239 rows × 51 columns</p>\n</div>"
     },
     "execution_count": 6,
     "metadata": {},
     "output_type": "execute_result"
    }
   ],
   "source": [
    "for i, row in dataframe.iterrows():\n",
    "    df.at[i, row['entity_id']] = row['state']\n",
    "\n",
    "#df = df.set_index('last_updated')\n",
    "df"
   ],
   "metadata": {
    "collapsed": false
   }
  },
  {
   "cell_type": "code",
   "execution_count": 7,
   "outputs": [
    {
     "name": "stdout",
     "output_type": "stream",
     "text": [
      "<class 'pandas.core.frame.DataFrame'>\n",
      "RangeIndex: 15239 entries, 0 to 15238\n",
      "Data columns (total 51 columns):\n",
      " #   Column                         Non-Null Count  Dtype \n",
      "---  ------                         --------------  ----- \n",
      " 0   (last_updated,)                15239 non-null  object\n",
      " 1   (device_tracker,)              0 non-null      object\n",
      " 2   (battery_level,)               288 non-null    object\n",
      " 3   (battery_state,)               31 non-null     object\n",
      " 4   (is_charging,)                 31 non-null     object\n",
      " 5   (charger_type,)                31 non-null     object\n",
      " 6   (battery_health,)              16 non-null     object\n",
      " 7   (battery_temperature,)         846 non-null    object\n",
      " 8   (battery_power,)               1783 non-null   object\n",
      " 9   (detected_activity,)           213 non-null    object\n",
      " 10  (app_rx_gb,)                   223 non-null    object\n",
      " 11  (app_tx_gb,)                   122 non-null    object\n",
      " 12  (app_memory,)                  2001 non-null   object\n",
      " 13  (audio_mode,)                  20 non-null     object\n",
      " 14  (headphones,)                  28 non-null     object\n",
      " 15  (music_active,)                116 non-null    object\n",
      " 16  (volume_level_call,)           45 non-null     object\n",
      " 17  (volume_level_music,)          145 non-null    object\n",
      " 18  (volume_level_system,)         0 non-null      object\n",
      " 19  (volume_level_accessibility,)  134 non-null    object\n",
      " 20  (bluetooth_connection,)        24 non-null     object\n",
      " 21  (ble_transmitter,)             19 non-null     object\n",
      " 22  (screen_brightness,)           554 non-null    object\n",
      " 23  (screen_off_timeout,)          0 non-null      object\n",
      " 24  (do_not_disturb_sensor,)       20 non-null     object\n",
      " 25  (accent_color,)                0 non-null      object\n",
      " 26  (last_used_app,)               251 non-null    object\n",
      " 27  (last_update_trigger,)         1551 non-null   object\n",
      " 28  (light_sensor,)                1155 non-null   object\n",
      " 29  (wifi_connection,)             83 non-null     object\n",
      " 30  (wifi_link_speed,)             552 non-null    object\n",
      " 31  (wifi_frequency,)              101 non-null    object\n",
      " 32  (wifi_signal_strength,)        143 non-null    object\n",
      " 33  (network_type,)                50 non-null     object\n",
      " 34  (speakerphone,)                15 non-null     object\n",
      " 35  (bluetooth_state,)             17 non-null     object\n",
      " 36  (device_locked,)               291 non-null    object\n",
      " 37  (mobile_data,)                 28 non-null     object\n",
      " 38  (wifi_state,)                  18 non-null     object\n",
      " 39  (active_notification_count,)   437 non-null    object\n",
      " 40  (phone_state,)                 23 non-null     object\n",
      " 41  (pressure_sensor,)             847 non-null    object\n",
      " 42  (proximity_sensor,)            322 non-null    object\n",
      " 43  (steps_sensor,)                491 non-null    object\n",
      " 44  (mobile_rx_gb,)                164 non-null    object\n",
      " 45  (mobile_tx_gb,)                58 non-null     object\n",
      " 46  (total_rx_gb,)                 388 non-null    object\n",
      " 47  (total_tx_gb,)                 191 non-null    object\n",
      " 48  (interactive,)                 876 non-null    object\n",
      " 49  (doze_mode,)                   138 non-null    object\n",
      " 50  (power_save,)                  10 non-null     object\n",
      "dtypes: object(51)\n",
      "memory usage: 5.9+ MB\n",
      "None\n"
     ]
    },
    {
     "data": {
      "text/plain": "last_updated                  object\ndevice_tracker                object\nbattery_level                 object\nbattery_state                 object\nis_charging                   object\ncharger_type                  object\nbattery_health                object\nbattery_temperature           object\nbattery_power                 object\ndetected_activity             object\napp_rx_gb                     object\napp_tx_gb                     object\napp_memory                    object\naudio_mode                    object\nheadphones                    object\nmusic_active                  object\nvolume_level_call             object\nvolume_level_music            object\nvolume_level_system           object\nvolume_level_accessibility    object\nbluetooth_connection          object\nble_transmitter               object\nscreen_brightness             object\nscreen_off_timeout            object\ndo_not_disturb_sensor         object\naccent_color                  object\nlast_used_app                 object\nlast_update_trigger           object\nlight_sensor                  object\nwifi_connection               object\nwifi_link_speed               object\nwifi_frequency                object\nwifi_signal_strength          object\nnetwork_type                  object\nspeakerphone                  object\nbluetooth_state               object\ndevice_locked                 object\nmobile_data                   object\nwifi_state                    object\nactive_notification_count     object\nphone_state                   object\npressure_sensor               object\nproximity_sensor              object\nsteps_sensor                  object\nmobile_rx_gb                  object\nmobile_tx_gb                  object\ntotal_rx_gb                   object\ntotal_tx_gb                   object\ninteractive                   object\ndoze_mode                     object\npower_save                    object\ndtype: object"
     },
     "execution_count": 7,
     "metadata": {},
     "output_type": "execute_result"
    }
   ],
   "source": [
    "print(df.info())\n",
    "df.dtypes"
   ],
   "metadata": {
    "collapsed": false
   }
  },
  {
   "cell_type": "code",
   "execution_count": 8,
   "outputs": [
    {
     "data": {
      "text/plain": "last_updated                      0\ndevice_tracker                15239\nbattery_level                 14951\nbattery_state                 15208\nis_charging                   15208\ncharger_type                  15208\nbattery_health                15223\nbattery_temperature           14393\nbattery_power                 13456\ndetected_activity             15026\napp_rx_gb                     15016\napp_tx_gb                     15117\napp_memory                    13238\naudio_mode                    15219\nheadphones                    15211\nmusic_active                  15123\nvolume_level_call             15194\nvolume_level_music            15094\nvolume_level_system           15239\nvolume_level_accessibility    15105\nbluetooth_connection          15215\nble_transmitter               15220\nscreen_brightness             14685\nscreen_off_timeout            15239\ndo_not_disturb_sensor         15219\naccent_color                  15239\nlast_used_app                 14988\nlast_update_trigger           13688\nlight_sensor                  14084\nwifi_connection               15156\nwifi_link_speed               14687\nwifi_frequency                15138\nwifi_signal_strength          15096\nnetwork_type                  15189\nspeakerphone                  15224\nbluetooth_state               15222\ndevice_locked                 14948\nmobile_data                   15211\nwifi_state                    15221\nactive_notification_count     14802\nphone_state                   15216\npressure_sensor               14392\nproximity_sensor              14917\nsteps_sensor                  14748\nmobile_rx_gb                  15075\nmobile_tx_gb                  15181\ntotal_rx_gb                   14851\ntotal_tx_gb                   15048\ninteractive                   14363\ndoze_mode                     15101\npower_save                    15229\ndtype: int64"
     },
     "execution_count": 8,
     "metadata": {},
     "output_type": "execute_result"
    }
   ],
   "source": [
    "# check missing values in variables\n",
    "df.isnull().sum()"
   ],
   "metadata": {
    "collapsed": false
   }
  },
  {
   "cell_type": "code",
   "execution_count": null,
   "outputs": [],
   "source": [
    "# df = df.astype({'device_tracker': str, 'battery_level': np.float64})\n",
    "# df = df.astype(str)\n",
    "# df.dtypes"
   ],
   "metadata": {
    "collapsed": false
   }
  }
 ],
 "metadata": {
  "kernelspec": {
   "display_name": "Python 3",
   "language": "python",
   "name": "python3"
  },
  "language_info": {
   "codemirror_mode": {
    "name": "ipython",
    "version": 2
   },
   "file_extension": ".py",
   "mimetype": "text/x-python",
   "name": "python",
   "nbconvert_exporter": "python",
   "pygments_lexer": "ipython2",
   "version": "2.7.6"
  }
 },
 "nbformat": 4,
 "nbformat_minor": 0
}
