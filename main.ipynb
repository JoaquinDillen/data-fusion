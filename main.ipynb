{
 "cells": [
  {
   "cell_type": "markdown",
   "metadata": {
    "collapsed": false
   },
   "source": [
    "# Data Fusion project"
   ]
  },
  {
   "cell_type": "markdown",
   "metadata": {
    "collapsed": false
   },
   "source": [
    "## Load dataset"
   ]
  },
  {
   "cell_type": "code",
   "execution_count": 56,
   "outputs": [
    {
     "data": {
      "text/plain": "                      entity_id         state                last_updated\n0                    app_memory         0.022  2023-01-27 00:02:53.470979\n1                 battery_power           0.0  2023-01-27 00:02:53.473223\n2           last_update_trigger  SensorWorker  2023-01-27 00:02:53.477684\n3                  light_sensor            86  2023-01-27 00:02:53.479552\n4     active_notification_count             1  2023-01-27 00:02:53.485171\n...                         ...           ...                         ...\n9972               light_sensor           255  2023-01-30 10:54:42.332498\n9973            pressure_sensor        1028.7  2023-01-30 10:54:42.334350\n9974                 app_memory         0.015  2023-01-30 11:01:38.050349\n9975        battery_temperature          21.4  2023-01-30 11:01:38.052370\n9976              battery_power           0.0  2023-01-30 11:01:38.055871\n\n[9977 rows x 3 columns]",
      "text/html": "<div>\n<style scoped>\n    .dataframe tbody tr th:only-of-type {\n        vertical-align: middle;\n    }\n\n    .dataframe tbody tr th {\n        vertical-align: top;\n    }\n\n    .dataframe thead th {\n        text-align: right;\n    }\n</style>\n<table border=\"1\" class=\"dataframe\">\n  <thead>\n    <tr style=\"text-align: right;\">\n      <th></th>\n      <th>entity_id</th>\n      <th>state</th>\n      <th>last_updated</th>\n    </tr>\n  </thead>\n  <tbody>\n    <tr>\n      <th>0</th>\n      <td>app_memory</td>\n      <td>0.022</td>\n      <td>2023-01-27 00:02:53.470979</td>\n    </tr>\n    <tr>\n      <th>1</th>\n      <td>battery_power</td>\n      <td>0.0</td>\n      <td>2023-01-27 00:02:53.473223</td>\n    </tr>\n    <tr>\n      <th>2</th>\n      <td>last_update_trigger</td>\n      <td>SensorWorker</td>\n      <td>2023-01-27 00:02:53.477684</td>\n    </tr>\n    <tr>\n      <th>3</th>\n      <td>light_sensor</td>\n      <td>86</td>\n      <td>2023-01-27 00:02:53.479552</td>\n    </tr>\n    <tr>\n      <th>4</th>\n      <td>active_notification_count</td>\n      <td>1</td>\n      <td>2023-01-27 00:02:53.485171</td>\n    </tr>\n    <tr>\n      <th>...</th>\n      <td>...</td>\n      <td>...</td>\n      <td>...</td>\n    </tr>\n    <tr>\n      <th>9972</th>\n      <td>light_sensor</td>\n      <td>255</td>\n      <td>2023-01-30 10:54:42.332498</td>\n    </tr>\n    <tr>\n      <th>9973</th>\n      <td>pressure_sensor</td>\n      <td>1028.7</td>\n      <td>2023-01-30 10:54:42.334350</td>\n    </tr>\n    <tr>\n      <th>9974</th>\n      <td>app_memory</td>\n      <td>0.015</td>\n      <td>2023-01-30 11:01:38.050349</td>\n    </tr>\n    <tr>\n      <th>9975</th>\n      <td>battery_temperature</td>\n      <td>21.4</td>\n      <td>2023-01-30 11:01:38.052370</td>\n    </tr>\n    <tr>\n      <th>9976</th>\n      <td>battery_power</td>\n      <td>0.0</td>\n      <td>2023-01-30 11:01:38.055871</td>\n    </tr>\n  </tbody>\n</table>\n<p>9977 rows × 3 columns</p>\n</div>"
     },
     "execution_count": 56,
     "metadata": {},
     "output_type": "execute_result"
    }
   ],
   "source": [
    "import numpy as np\n",
    "import pandas as pd\n",
    "\n",
    "# Load dataset\n",
    "dataframe = pd.read_csv('joaq.csv')\n",
    "dataframe"
   ],
   "metadata": {}
  },
  {
   "cell_type": "code",
   "execution_count": 57,
   "outputs": [
    {
     "data": {
      "text/plain": "            last_updated                  entity_id  \\\n0    2023-01-27 00:00:00  active_notification_count   \n1    2023-01-27 00:00:00                 app_memory   \n2    2023-01-27 00:00:00              battery_power   \n3    2023-01-27 00:00:00        last_update_trigger   \n4    2023-01-27 00:00:00               light_sensor   \n...                  ...                        ...   \n2970 2023-01-30 11:00:00        battery_temperature   \n2971 2023-01-30 11:00:00       bluetooth_connection   \n2972 2023-01-30 11:00:00        last_update_trigger   \n2973 2023-01-30 11:00:00               light_sensor   \n2974 2023-01-30 11:00:00            pressure_sensor   \n\n                                              state  \n0                                                 1  \n1                                             0.022  \n2                                               0.0  \n3                                      SensorWorker  \n4                                                86  \n...                                             ...  \n2970                                           21.5  \n2971                                              1  \n2972  android.bluetooth.device.action.ACL_CONNECTED  \n2973                                            255  \n2974                                         1028.7  \n\n[2975 rows x 3 columns]",
      "text/html": "<div>\n<style scoped>\n    .dataframe tbody tr th:only-of-type {\n        vertical-align: middle;\n    }\n\n    .dataframe tbody tr th {\n        vertical-align: top;\n    }\n\n    .dataframe thead th {\n        text-align: right;\n    }\n</style>\n<table border=\"1\" class=\"dataframe\">\n  <thead>\n    <tr style=\"text-align: right;\">\n      <th></th>\n      <th>last_updated</th>\n      <th>entity_id</th>\n      <th>state</th>\n    </tr>\n  </thead>\n  <tbody>\n    <tr>\n      <th>0</th>\n      <td>2023-01-27 00:00:00</td>\n      <td>active_notification_count</td>\n      <td>1</td>\n    </tr>\n    <tr>\n      <th>1</th>\n      <td>2023-01-27 00:00:00</td>\n      <td>app_memory</td>\n      <td>0.022</td>\n    </tr>\n    <tr>\n      <th>2</th>\n      <td>2023-01-27 00:00:00</td>\n      <td>battery_power</td>\n      <td>0.0</td>\n    </tr>\n    <tr>\n      <th>3</th>\n      <td>2023-01-27 00:00:00</td>\n      <td>last_update_trigger</td>\n      <td>SensorWorker</td>\n    </tr>\n    <tr>\n      <th>4</th>\n      <td>2023-01-27 00:00:00</td>\n      <td>light_sensor</td>\n      <td>86</td>\n    </tr>\n    <tr>\n      <th>...</th>\n      <td>...</td>\n      <td>...</td>\n      <td>...</td>\n    </tr>\n    <tr>\n      <th>2970</th>\n      <td>2023-01-30 11:00:00</td>\n      <td>battery_temperature</td>\n      <td>21.5</td>\n    </tr>\n    <tr>\n      <th>2971</th>\n      <td>2023-01-30 11:00:00</td>\n      <td>bluetooth_connection</td>\n      <td>1</td>\n    </tr>\n    <tr>\n      <th>2972</th>\n      <td>2023-01-30 11:00:00</td>\n      <td>last_update_trigger</td>\n      <td>android.bluetooth.device.action.ACL_CONNECTED</td>\n    </tr>\n    <tr>\n      <th>2973</th>\n      <td>2023-01-30 11:00:00</td>\n      <td>light_sensor</td>\n      <td>255</td>\n    </tr>\n    <tr>\n      <th>2974</th>\n      <td>2023-01-30 11:00:00</td>\n      <td>pressure_sensor</td>\n      <td>1028.7</td>\n    </tr>\n  </tbody>\n</table>\n<p>2975 rows × 3 columns</p>\n</div>"
     },
     "execution_count": 57,
     "metadata": {},
     "output_type": "execute_result"
    }
   ],
   "source": [
    "dataframe['last_updated'] = pd.to_datetime(dataframe['last_updated']).dt.round('15min')\n",
    "dataframe = dataframe.groupby(['last_updated', 'entity_id']).agg({'state': 'max'}).reset_index()\n",
    "dataframe"
   ],
   "metadata": {
    "collapsed": false
   }
  },
  {
   "cell_type": "code",
   "execution_count": 58,
   "outputs": [
    {
     "name": "stdout",
     "output_type": "stream",
     "text": [
      "<class 'pandas.core.frame.DataFrame'>\n",
      "RangeIndex: 2975 entries, 0 to 2974\n",
      "Data columns (total 3 columns):\n",
      " #   Column        Non-Null Count  Dtype         \n",
      "---  ------        --------------  -----         \n",
      " 0   last_updated  2975 non-null   datetime64[ns]\n",
      " 1   entity_id     2975 non-null   object        \n",
      " 2   state         2975 non-null   object        \n",
      "dtypes: datetime64[ns](1), object(2)\n",
      "memory usage: 69.9+ KB\n",
      "None\n"
     ]
    },
    {
     "data": {
      "text/plain": "last_updated    datetime64[ns]\nentity_id               object\nstate                   object\ndtype: object"
     },
     "execution_count": 58,
     "metadata": {},
     "output_type": "execute_result"
    }
   ],
   "source": [
    "print(dataframe.info())\n",
    "dataframe.dtypes"
   ],
   "metadata": {}
  },
  {
   "cell_type": "code",
   "execution_count": 59,
   "outputs": [
    {
     "data": {
      "text/plain": "app_memory                    221\nbattery_power                 219\nbattery_temperature           199\nbattery_level                 188\npressure_sensor               166\nlast_update_trigger           165\nactive_notification_count     164\nlight_sensor                  133\ndevice_tracker                124\ntotal_rx_gb                   106\ndoze_mode                     106\nscreen_brightness             105\napp_rx_gb                     105\ninteractive                   101\nproximity_sensor               92\nmobile_rx_gb                   91\nlast_used_app                  90\ndevice_locked                  87\nsteps_sensor                   77\ndetected_activity              76\ntotal_tx_gb                    73\nmobile_tx_gb                   63\napp_tx_gb                      61\nwifi_signal_strength           20\nwifi_link_speed                20\nvolume_level_accessibility     17\nvolume_level_music             17\nwifi_frequency                 14\nbluetooth_connection            9\nwifi_connection                 8\nis_charging                     7\ncharger_type                    7\nbattery_state                   7\nvolume_level_call               6\nmusic_active                    6\nheadphones                      4\nvolume_level_system             3\nnetwork_type                    3\nbluetooth_state                 2\nphone_state                     2\naudio_mode                      2\nwifi_state                      2\nbattery_health                  1\nble_transmitter                 1\ndo_not_disturb_sensor           1\nmobile_data                     1\npower_save                      1\nscreen_off_timeout              1\nspeakerphone                    1\nName: entity_id, dtype: int64"
     },
     "execution_count": 59,
     "metadata": {},
     "output_type": "execute_result"
    }
   ],
   "source": [
    "dataframe['entity_id'].value_counts()"
   ],
   "metadata": {}
  },
  {
   "cell_type": "markdown",
   "metadata": {
    "collapsed": false
   },
   "source": [
    "## Data manipulation"
   ]
  },
  {
   "cell_type": "code",
   "execution_count": 60,
   "outputs": [
    {
     "data": {
      "text/plain": "array(['active_notification_count', 'app_memory', 'battery_power',\n       'last_update_trigger', 'light_sensor', 'pressure_sensor',\n       'app_rx_gb', 'app_tx_gb', 'battery_level', 'battery_temperature',\n       'detected_activity', 'device_locked', 'device_tracker',\n       'doze_mode', 'interactive', 'last_used_app', 'proximity_sensor',\n       'screen_brightness', 'steps_sensor', 'total_rx_gb', 'total_tx_gb',\n       'wifi_frequency', 'wifi_link_speed', 'wifi_signal_strength',\n       'headphones', 'volume_level_accessibility', 'volume_level_call',\n       'volume_level_music', 'music_active', 'mobile_rx_gb',\n       'mobile_tx_gb', 'network_type', 'wifi_connection', 'audio_mode',\n       'phone_state', 'volume_level_system', 'bluetooth_connection',\n       'bluetooth_state', 'battery_state', 'charger_type', 'is_charging',\n       'battery_health', 'ble_transmitter', 'do_not_disturb_sensor',\n       'mobile_data', 'power_save', 'screen_off_timeout', 'speakerphone',\n       'wifi_state'], dtype=object)"
     },
     "execution_count": 60,
     "metadata": {},
     "output_type": "execute_result"
    }
   ],
   "source": [
    "# get all unique sensors\n",
    "sensor_columns = dataframe['entity_id'].unique()\n",
    "sensor_columns"
   ],
   "metadata": {}
  },
  {
   "cell_type": "markdown",
   "metadata": {
    "collapsed": false
   },
   "source": [
    "### Create new dataframe"
   ]
  },
  {
   "cell_type": "code",
   "execution_count": 61,
   "outputs": [
    {
     "data": {
      "text/plain": "                    active_notification_count app_memory battery_power  \\\ntimestamp                                                                \n2023-01-27 00:00:00                       NaN        NaN           NaN   \n2023-01-27 00:15:00                       NaN        NaN           NaN   \n2023-01-27 00:30:00                       NaN        NaN           NaN   \n2023-01-27 00:45:00                       NaN        NaN           NaN   \n2023-01-27 01:00:00                       NaN        NaN           NaN   \n...                                       ...        ...           ...   \n2023-01-30 10:00:00                       NaN        NaN           NaN   \n2023-01-30 10:15:00                       NaN        NaN           NaN   \n2023-01-30 10:30:00                       NaN        NaN           NaN   \n2023-01-30 10:45:00                       NaN        NaN           NaN   \n2023-01-30 11:00:00                       NaN        NaN           NaN   \n\n                    last_update_trigger light_sensor pressure_sensor  \\\ntimestamp                                                              \n2023-01-27 00:00:00                 NaN          NaN             NaN   \n2023-01-27 00:15:00                 NaN          NaN             NaN   \n2023-01-27 00:30:00                 NaN          NaN             NaN   \n2023-01-27 00:45:00                 NaN          NaN             NaN   \n2023-01-27 01:00:00                 NaN          NaN             NaN   \n...                                 ...          ...             ...   \n2023-01-30 10:00:00                 NaN          NaN             NaN   \n2023-01-30 10:15:00                 NaN          NaN             NaN   \n2023-01-30 10:30:00                 NaN          NaN             NaN   \n2023-01-30 10:45:00                 NaN          NaN             NaN   \n2023-01-30 11:00:00                 NaN          NaN             NaN   \n\n                    app_rx_gb app_tx_gb battery_level battery_temperature  \\\ntimestamp                                                                   \n2023-01-27 00:00:00       NaN       NaN           NaN                 NaN   \n2023-01-27 00:15:00       NaN       NaN           NaN                 NaN   \n2023-01-27 00:30:00       NaN       NaN           NaN                 NaN   \n2023-01-27 00:45:00       NaN       NaN           NaN                 NaN   \n2023-01-27 01:00:00       NaN       NaN           NaN                 NaN   \n...                       ...       ...           ...                 ...   \n2023-01-30 10:00:00       NaN       NaN           NaN                 NaN   \n2023-01-30 10:15:00       NaN       NaN           NaN                 NaN   \n2023-01-30 10:30:00       NaN       NaN           NaN                 NaN   \n2023-01-30 10:45:00       NaN       NaN           NaN                 NaN   \n2023-01-30 11:00:00       NaN       NaN           NaN                 NaN   \n\n                     ... charger_type is_charging battery_health  \\\ntimestamp            ...                                           \n2023-01-27 00:00:00  ...          NaN         NaN            NaN   \n2023-01-27 00:15:00  ...          NaN         NaN            NaN   \n2023-01-27 00:30:00  ...          NaN         NaN            NaN   \n2023-01-27 00:45:00  ...          NaN         NaN            NaN   \n2023-01-27 01:00:00  ...          NaN         NaN            NaN   \n...                  ...          ...         ...            ...   \n2023-01-30 10:00:00  ...          NaN         NaN            NaN   \n2023-01-30 10:15:00  ...          NaN         NaN            NaN   \n2023-01-30 10:30:00  ...          NaN         NaN            NaN   \n2023-01-30 10:45:00  ...          NaN         NaN            NaN   \n2023-01-30 11:00:00  ...          NaN         NaN            NaN   \n\n                    ble_transmitter do_not_disturb_sensor mobile_data  \\\ntimestamp                                                               \n2023-01-27 00:00:00             NaN                   NaN         NaN   \n2023-01-27 00:15:00             NaN                   NaN         NaN   \n2023-01-27 00:30:00             NaN                   NaN         NaN   \n2023-01-27 00:45:00             NaN                   NaN         NaN   \n2023-01-27 01:00:00             NaN                   NaN         NaN   \n...                             ...                   ...         ...   \n2023-01-30 10:00:00             NaN                   NaN         NaN   \n2023-01-30 10:15:00             NaN                   NaN         NaN   \n2023-01-30 10:30:00             NaN                   NaN         NaN   \n2023-01-30 10:45:00             NaN                   NaN         NaN   \n2023-01-30 11:00:00             NaN                   NaN         NaN   \n\n                    power_save screen_off_timeout speakerphone wifi_state  \ntimestamp                                                                  \n2023-01-27 00:00:00        NaN                NaN          NaN        NaN  \n2023-01-27 00:15:00        NaN                NaN          NaN        NaN  \n2023-01-27 00:30:00        NaN                NaN          NaN        NaN  \n2023-01-27 00:45:00        NaN                NaN          NaN        NaN  \n2023-01-27 01:00:00        NaN                NaN          NaN        NaN  \n...                        ...                ...          ...        ...  \n2023-01-30 10:00:00        NaN                NaN          NaN        NaN  \n2023-01-30 10:15:00        NaN                NaN          NaN        NaN  \n2023-01-30 10:30:00        NaN                NaN          NaN        NaN  \n2023-01-30 10:45:00        NaN                NaN          NaN        NaN  \n2023-01-30 11:00:00        NaN                NaN          NaN        NaN  \n\n[222 rows x 49 columns]",
      "text/html": "<div>\n<style scoped>\n    .dataframe tbody tr th:only-of-type {\n        vertical-align: middle;\n    }\n\n    .dataframe tbody tr th {\n        vertical-align: top;\n    }\n\n    .dataframe thead th {\n        text-align: right;\n    }\n</style>\n<table border=\"1\" class=\"dataframe\">\n  <thead>\n    <tr style=\"text-align: right;\">\n      <th></th>\n      <th>active_notification_count</th>\n      <th>app_memory</th>\n      <th>battery_power</th>\n      <th>last_update_trigger</th>\n      <th>light_sensor</th>\n      <th>pressure_sensor</th>\n      <th>app_rx_gb</th>\n      <th>app_tx_gb</th>\n      <th>battery_level</th>\n      <th>battery_temperature</th>\n      <th>...</th>\n      <th>charger_type</th>\n      <th>is_charging</th>\n      <th>battery_health</th>\n      <th>ble_transmitter</th>\n      <th>do_not_disturb_sensor</th>\n      <th>mobile_data</th>\n      <th>power_save</th>\n      <th>screen_off_timeout</th>\n      <th>speakerphone</th>\n      <th>wifi_state</th>\n    </tr>\n    <tr>\n      <th>timestamp</th>\n      <th></th>\n      <th></th>\n      <th></th>\n      <th></th>\n      <th></th>\n      <th></th>\n      <th></th>\n      <th></th>\n      <th></th>\n      <th></th>\n      <th></th>\n      <th></th>\n      <th></th>\n      <th></th>\n      <th></th>\n      <th></th>\n      <th></th>\n      <th></th>\n      <th></th>\n      <th></th>\n      <th></th>\n    </tr>\n  </thead>\n  <tbody>\n    <tr>\n      <th>2023-01-27 00:00:00</th>\n      <td>NaN</td>\n      <td>NaN</td>\n      <td>NaN</td>\n      <td>NaN</td>\n      <td>NaN</td>\n      <td>NaN</td>\n      <td>NaN</td>\n      <td>NaN</td>\n      <td>NaN</td>\n      <td>NaN</td>\n      <td>...</td>\n      <td>NaN</td>\n      <td>NaN</td>\n      <td>NaN</td>\n      <td>NaN</td>\n      <td>NaN</td>\n      <td>NaN</td>\n      <td>NaN</td>\n      <td>NaN</td>\n      <td>NaN</td>\n      <td>NaN</td>\n    </tr>\n    <tr>\n      <th>2023-01-27 00:15:00</th>\n      <td>NaN</td>\n      <td>NaN</td>\n      <td>NaN</td>\n      <td>NaN</td>\n      <td>NaN</td>\n      <td>NaN</td>\n      <td>NaN</td>\n      <td>NaN</td>\n      <td>NaN</td>\n      <td>NaN</td>\n      <td>...</td>\n      <td>NaN</td>\n      <td>NaN</td>\n      <td>NaN</td>\n      <td>NaN</td>\n      <td>NaN</td>\n      <td>NaN</td>\n      <td>NaN</td>\n      <td>NaN</td>\n      <td>NaN</td>\n      <td>NaN</td>\n    </tr>\n    <tr>\n      <th>2023-01-27 00:30:00</th>\n      <td>NaN</td>\n      <td>NaN</td>\n      <td>NaN</td>\n      <td>NaN</td>\n      <td>NaN</td>\n      <td>NaN</td>\n      <td>NaN</td>\n      <td>NaN</td>\n      <td>NaN</td>\n      <td>NaN</td>\n      <td>...</td>\n      <td>NaN</td>\n      <td>NaN</td>\n      <td>NaN</td>\n      <td>NaN</td>\n      <td>NaN</td>\n      <td>NaN</td>\n      <td>NaN</td>\n      <td>NaN</td>\n      <td>NaN</td>\n      <td>NaN</td>\n    </tr>\n    <tr>\n      <th>2023-01-27 00:45:00</th>\n      <td>NaN</td>\n      <td>NaN</td>\n      <td>NaN</td>\n      <td>NaN</td>\n      <td>NaN</td>\n      <td>NaN</td>\n      <td>NaN</td>\n      <td>NaN</td>\n      <td>NaN</td>\n      <td>NaN</td>\n      <td>...</td>\n      <td>NaN</td>\n      <td>NaN</td>\n      <td>NaN</td>\n      <td>NaN</td>\n      <td>NaN</td>\n      <td>NaN</td>\n      <td>NaN</td>\n      <td>NaN</td>\n      <td>NaN</td>\n      <td>NaN</td>\n    </tr>\n    <tr>\n      <th>2023-01-27 01:00:00</th>\n      <td>NaN</td>\n      <td>NaN</td>\n      <td>NaN</td>\n      <td>NaN</td>\n      <td>NaN</td>\n      <td>NaN</td>\n      <td>NaN</td>\n      <td>NaN</td>\n      <td>NaN</td>\n      <td>NaN</td>\n      <td>...</td>\n      <td>NaN</td>\n      <td>NaN</td>\n      <td>NaN</td>\n      <td>NaN</td>\n      <td>NaN</td>\n      <td>NaN</td>\n      <td>NaN</td>\n      <td>NaN</td>\n      <td>NaN</td>\n      <td>NaN</td>\n    </tr>\n    <tr>\n      <th>...</th>\n      <td>...</td>\n      <td>...</td>\n      <td>...</td>\n      <td>...</td>\n      <td>...</td>\n      <td>...</td>\n      <td>...</td>\n      <td>...</td>\n      <td>...</td>\n      <td>...</td>\n      <td>...</td>\n      <td>...</td>\n      <td>...</td>\n      <td>...</td>\n      <td>...</td>\n      <td>...</td>\n      <td>...</td>\n      <td>...</td>\n      <td>...</td>\n      <td>...</td>\n      <td>...</td>\n    </tr>\n    <tr>\n      <th>2023-01-30 10:00:00</th>\n      <td>NaN</td>\n      <td>NaN</td>\n      <td>NaN</td>\n      <td>NaN</td>\n      <td>NaN</td>\n      <td>NaN</td>\n      <td>NaN</td>\n      <td>NaN</td>\n      <td>NaN</td>\n      <td>NaN</td>\n      <td>...</td>\n      <td>NaN</td>\n      <td>NaN</td>\n      <td>NaN</td>\n      <td>NaN</td>\n      <td>NaN</td>\n      <td>NaN</td>\n      <td>NaN</td>\n      <td>NaN</td>\n      <td>NaN</td>\n      <td>NaN</td>\n    </tr>\n    <tr>\n      <th>2023-01-30 10:15:00</th>\n      <td>NaN</td>\n      <td>NaN</td>\n      <td>NaN</td>\n      <td>NaN</td>\n      <td>NaN</td>\n      <td>NaN</td>\n      <td>NaN</td>\n      <td>NaN</td>\n      <td>NaN</td>\n      <td>NaN</td>\n      <td>...</td>\n      <td>NaN</td>\n      <td>NaN</td>\n      <td>NaN</td>\n      <td>NaN</td>\n      <td>NaN</td>\n      <td>NaN</td>\n      <td>NaN</td>\n      <td>NaN</td>\n      <td>NaN</td>\n      <td>NaN</td>\n    </tr>\n    <tr>\n      <th>2023-01-30 10:30:00</th>\n      <td>NaN</td>\n      <td>NaN</td>\n      <td>NaN</td>\n      <td>NaN</td>\n      <td>NaN</td>\n      <td>NaN</td>\n      <td>NaN</td>\n      <td>NaN</td>\n      <td>NaN</td>\n      <td>NaN</td>\n      <td>...</td>\n      <td>NaN</td>\n      <td>NaN</td>\n      <td>NaN</td>\n      <td>NaN</td>\n      <td>NaN</td>\n      <td>NaN</td>\n      <td>NaN</td>\n      <td>NaN</td>\n      <td>NaN</td>\n      <td>NaN</td>\n    </tr>\n    <tr>\n      <th>2023-01-30 10:45:00</th>\n      <td>NaN</td>\n      <td>NaN</td>\n      <td>NaN</td>\n      <td>NaN</td>\n      <td>NaN</td>\n      <td>NaN</td>\n      <td>NaN</td>\n      <td>NaN</td>\n      <td>NaN</td>\n      <td>NaN</td>\n      <td>...</td>\n      <td>NaN</td>\n      <td>NaN</td>\n      <td>NaN</td>\n      <td>NaN</td>\n      <td>NaN</td>\n      <td>NaN</td>\n      <td>NaN</td>\n      <td>NaN</td>\n      <td>NaN</td>\n      <td>NaN</td>\n    </tr>\n    <tr>\n      <th>2023-01-30 11:00:00</th>\n      <td>NaN</td>\n      <td>NaN</td>\n      <td>NaN</td>\n      <td>NaN</td>\n      <td>NaN</td>\n      <td>NaN</td>\n      <td>NaN</td>\n      <td>NaN</td>\n      <td>NaN</td>\n      <td>NaN</td>\n      <td>...</td>\n      <td>NaN</td>\n      <td>NaN</td>\n      <td>NaN</td>\n      <td>NaN</td>\n      <td>NaN</td>\n      <td>NaN</td>\n      <td>NaN</td>\n      <td>NaN</td>\n      <td>NaN</td>\n      <td>NaN</td>\n    </tr>\n  </tbody>\n</table>\n<p>222 rows × 49 columns</p>\n</div>"
     },
     "execution_count": 61,
     "metadata": {},
     "output_type": "execute_result"
    }
   ],
   "source": [
    "# create new dataframe with sensors as column headers\n",
    "df = pd.DataFrame(columns=sensor_columns)\n",
    "# insert timestamp column as index\n",
    "df.insert(0, 'timestamp', dataframe['last_updated'].unique())\n",
    "df = df.set_index('timestamp')\n",
    "df"
   ],
   "metadata": {}
  },
  {
   "cell_type": "code",
   "execution_count": 62,
   "outputs": [
    {
     "name": "stdout",
     "output_type": "stream",
     "text": [
      "<class 'pandas.core.frame.DataFrame'>\n",
      "DatetimeIndex: 222 entries, 2023-01-27 00:00:00 to 2023-01-30 11:00:00\n",
      "Data columns (total 49 columns):\n",
      " #   Column                      Non-Null Count  Dtype \n",
      "---  ------                      --------------  ----- \n",
      " 0   active_notification_count   0 non-null      object\n",
      " 1   app_memory                  0 non-null      object\n",
      " 2   battery_power               0 non-null      object\n",
      " 3   last_update_trigger         0 non-null      object\n",
      " 4   light_sensor                0 non-null      object\n",
      " 5   pressure_sensor             0 non-null      object\n",
      " 6   app_rx_gb                   0 non-null      object\n",
      " 7   app_tx_gb                   0 non-null      object\n",
      " 8   battery_level               0 non-null      object\n",
      " 9   battery_temperature         0 non-null      object\n",
      " 10  detected_activity           0 non-null      object\n",
      " 11  device_locked               0 non-null      object\n",
      " 12  device_tracker              0 non-null      object\n",
      " 13  doze_mode                   0 non-null      object\n",
      " 14  interactive                 0 non-null      object\n",
      " 15  last_used_app               0 non-null      object\n",
      " 16  proximity_sensor            0 non-null      object\n",
      " 17  screen_brightness           0 non-null      object\n",
      " 18  steps_sensor                0 non-null      object\n",
      " 19  total_rx_gb                 0 non-null      object\n",
      " 20  total_tx_gb                 0 non-null      object\n",
      " 21  wifi_frequency              0 non-null      object\n",
      " 22  wifi_link_speed             0 non-null      object\n",
      " 23  wifi_signal_strength        0 non-null      object\n",
      " 24  headphones                  0 non-null      object\n",
      " 25  volume_level_accessibility  0 non-null      object\n",
      " 26  volume_level_call           0 non-null      object\n",
      " 27  volume_level_music          0 non-null      object\n",
      " 28  music_active                0 non-null      object\n",
      " 29  mobile_rx_gb                0 non-null      object\n",
      " 30  mobile_tx_gb                0 non-null      object\n",
      " 31  network_type                0 non-null      object\n",
      " 32  wifi_connection             0 non-null      object\n",
      " 33  audio_mode                  0 non-null      object\n",
      " 34  phone_state                 0 non-null      object\n",
      " 35  volume_level_system         0 non-null      object\n",
      " 36  bluetooth_connection        0 non-null      object\n",
      " 37  bluetooth_state             0 non-null      object\n",
      " 38  battery_state               0 non-null      object\n",
      " 39  charger_type                0 non-null      object\n",
      " 40  is_charging                 0 non-null      object\n",
      " 41  battery_health              0 non-null      object\n",
      " 42  ble_transmitter             0 non-null      object\n",
      " 43  do_not_disturb_sensor       0 non-null      object\n",
      " 44  mobile_data                 0 non-null      object\n",
      " 45  power_save                  0 non-null      object\n",
      " 46  screen_off_timeout          0 non-null      object\n",
      " 47  speakerphone                0 non-null      object\n",
      " 48  wifi_state                  0 non-null      object\n",
      "dtypes: object(49)\n",
      "memory usage: 86.7+ KB\n",
      "None\n"
     ]
    },
    {
     "data": {
      "text/plain": "active_notification_count     object\napp_memory                    object\nbattery_power                 object\nlast_update_trigger           object\nlight_sensor                  object\npressure_sensor               object\napp_rx_gb                     object\napp_tx_gb                     object\nbattery_level                 object\nbattery_temperature           object\ndetected_activity             object\ndevice_locked                 object\ndevice_tracker                object\ndoze_mode                     object\ninteractive                   object\nlast_used_app                 object\nproximity_sensor              object\nscreen_brightness             object\nsteps_sensor                  object\ntotal_rx_gb                   object\ntotal_tx_gb                   object\nwifi_frequency                object\nwifi_link_speed               object\nwifi_signal_strength          object\nheadphones                    object\nvolume_level_accessibility    object\nvolume_level_call             object\nvolume_level_music            object\nmusic_active                  object\nmobile_rx_gb                  object\nmobile_tx_gb                  object\nnetwork_type                  object\nwifi_connection               object\naudio_mode                    object\nphone_state                   object\nvolume_level_system           object\nbluetooth_connection          object\nbluetooth_state               object\nbattery_state                 object\ncharger_type                  object\nis_charging                   object\nbattery_health                object\nble_transmitter               object\ndo_not_disturb_sensor         object\nmobile_data                   object\npower_save                    object\nscreen_off_timeout            object\nspeakerphone                  object\nwifi_state                    object\ndtype: object"
     },
     "execution_count": 62,
     "metadata": {},
     "output_type": "execute_result"
    }
   ],
   "source": [
    "print(df.info())\n",
    "df.dtypes"
   ],
   "metadata": {
    "collapsed": false
   }
  },
  {
   "cell_type": "markdown",
   "metadata": {
    "collapsed": false
   },
   "source": [
    "### Fill new dataframe"
   ]
  },
  {
   "cell_type": "code",
   "execution_count": 63,
   "outputs": [
    {
     "data": {
      "text/plain": "                    active_notification_count app_memory battery_power  \\\ntimestamp                                                                \n2023-01-27 00:00:00                         1      0.022           0.0   \n2023-01-27 00:15:00                         1      0.023           0.0   \n2023-01-27 00:30:00                         3      0.024           0.0   \n2023-01-27 00:45:00                         1      0.023           0.0   \n2023-01-27 01:00:00                         1      0.021           0.0   \n...                                       ...        ...           ...   \n2023-01-30 10:00:00                         2      0.018           0.0   \n2023-01-30 10:15:00                         2      0.018           0.0   \n2023-01-30 10:30:00                         2      0.017           0.0   \n2023-01-30 10:45:00                         1      0.017           0.0   \n2023-01-30 11:00:00                       NaN      0.015           0.0   \n\n                                                   last_update_trigger  \\\ntimestamp                                                                \n2023-01-27 00:00:00                                       SensorWorker   \n2023-01-27 00:15:00  io.homeassistant.companion.android.UPDATE_SENSORS   \n2023-01-27 00:30:00  io.homeassistant.companion.android.UPDATE_SENSORS   \n2023-01-27 00:45:00  io.homeassistant.companion.android.UPDATE_SENSORS   \n2023-01-27 01:00:00         android.os.action.DEVICE_IDLE_MODE_CHANGED   \n...                                                                ...   \n2023-01-30 10:00:00         android.os.action.DEVICE_IDLE_MODE_CHANGED   \n2023-01-30 10:15:00         android.os.action.DEVICE_IDLE_MODE_CHANGED   \n2023-01-30 10:30:00         android.os.action.DEVICE_IDLE_MODE_CHANGED   \n2023-01-30 10:45:00                    android.intent.action.TIME_TICK   \n2023-01-30 11:00:00      android.bluetooth.device.action.ACL_CONNECTED   \n\n                    light_sensor pressure_sensor app_rx_gb app_tx_gb  \\\ntimestamp                                                              \n2023-01-27 00:00:00           86          1014.6       NaN       NaN   \n2023-01-27 00:15:00            6          1014.6    0.0202    0.0097   \n2023-01-27 00:30:00           62          1014.7    0.0204       NaN   \n2023-01-27 00:45:00            8          1014.7     0.021    0.0099   \n2023-01-27 01:00:00          NaN          1014.6       NaN       NaN   \n...                          ...             ...       ...       ...   \n2023-01-30 10:00:00          920          1029.0    0.0546    0.0268   \n2023-01-30 10:15:00            7          1029.2    0.0548    0.0269   \n2023-01-30 10:30:00          246          1028.7     0.055     0.027   \n2023-01-30 10:45:00           45          1029.1    0.0552    0.0271   \n2023-01-30 11:00:00          255          1028.7       NaN       NaN   \n\n                    battery_level battery_temperature  ... charger_type  \\\ntimestamp                                              ...                \n2023-01-27 00:00:00           NaN                 NaN  ...          NaN   \n2023-01-27 00:15:00            69                20.1  ...          NaN   \n2023-01-27 00:30:00            67                30.8  ...          NaN   \n2023-01-27 00:45:00            62                28.9  ...          NaN   \n2023-01-27 01:00:00            57                30.6  ...          NaN   \n...                           ...                 ...  ...          ...   \n2023-01-30 10:00:00            31                27.3  ...          NaN   \n2023-01-30 10:15:00            25                25.8  ...          NaN   \n2023-01-30 10:30:00            23                23.6  ...          NaN   \n2023-01-30 10:45:00            20                22.6  ...          NaN   \n2023-01-30 11:00:00           NaN                21.5  ...          NaN   \n\n                    is_charging battery_health ble_transmitter  \\\ntimestamp                                                        \n2023-01-27 00:00:00         NaN            NaN             NaN   \n2023-01-27 00:15:00         NaN            NaN             NaN   \n2023-01-27 00:30:00         NaN            NaN             NaN   \n2023-01-27 00:45:00         NaN            NaN             NaN   \n2023-01-27 01:00:00         NaN            NaN             NaN   \n...                         ...            ...             ...   \n2023-01-30 10:00:00         NaN            NaN             NaN   \n2023-01-30 10:15:00         NaN            NaN             NaN   \n2023-01-30 10:30:00         NaN            NaN             NaN   \n2023-01-30 10:45:00         NaN            NaN             NaN   \n2023-01-30 11:00:00         NaN            NaN             NaN   \n\n                    do_not_disturb_sensor mobile_data power_save  \\\ntimestamp                                                          \n2023-01-27 00:00:00                   NaN         NaN        NaN   \n2023-01-27 00:15:00                   NaN         NaN        NaN   \n2023-01-27 00:30:00                   NaN         NaN        NaN   \n2023-01-27 00:45:00                   NaN         NaN        NaN   \n2023-01-27 01:00:00                   NaN         NaN        NaN   \n...                                   ...         ...        ...   \n2023-01-30 10:00:00                   NaN         NaN        NaN   \n2023-01-30 10:15:00                   NaN         NaN        NaN   \n2023-01-30 10:30:00                   NaN         NaN        NaN   \n2023-01-30 10:45:00                   NaN         NaN        NaN   \n2023-01-30 11:00:00                   NaN         NaN        NaN   \n\n                    screen_off_timeout speakerphone wifi_state  \ntimestamp                                                       \n2023-01-27 00:00:00                NaN          NaN        NaN  \n2023-01-27 00:15:00                NaN          NaN        NaN  \n2023-01-27 00:30:00                NaN          NaN        NaN  \n2023-01-27 00:45:00                NaN          NaN        NaN  \n2023-01-27 01:00:00                NaN          NaN        NaN  \n...                                ...          ...        ...  \n2023-01-30 10:00:00                NaN          NaN        NaN  \n2023-01-30 10:15:00                NaN          NaN        NaN  \n2023-01-30 10:30:00                NaN          NaN        NaN  \n2023-01-30 10:45:00                NaN          NaN        NaN  \n2023-01-30 11:00:00                NaN          NaN        NaN  \n\n[222 rows x 49 columns]",
      "text/html": "<div>\n<style scoped>\n    .dataframe tbody tr th:only-of-type {\n        vertical-align: middle;\n    }\n\n    .dataframe tbody tr th {\n        vertical-align: top;\n    }\n\n    .dataframe thead th {\n        text-align: right;\n    }\n</style>\n<table border=\"1\" class=\"dataframe\">\n  <thead>\n    <tr style=\"text-align: right;\">\n      <th></th>\n      <th>active_notification_count</th>\n      <th>app_memory</th>\n      <th>battery_power</th>\n      <th>last_update_trigger</th>\n      <th>light_sensor</th>\n      <th>pressure_sensor</th>\n      <th>app_rx_gb</th>\n      <th>app_tx_gb</th>\n      <th>battery_level</th>\n      <th>battery_temperature</th>\n      <th>...</th>\n      <th>charger_type</th>\n      <th>is_charging</th>\n      <th>battery_health</th>\n      <th>ble_transmitter</th>\n      <th>do_not_disturb_sensor</th>\n      <th>mobile_data</th>\n      <th>power_save</th>\n      <th>screen_off_timeout</th>\n      <th>speakerphone</th>\n      <th>wifi_state</th>\n    </tr>\n    <tr>\n      <th>timestamp</th>\n      <th></th>\n      <th></th>\n      <th></th>\n      <th></th>\n      <th></th>\n      <th></th>\n      <th></th>\n      <th></th>\n      <th></th>\n      <th></th>\n      <th></th>\n      <th></th>\n      <th></th>\n      <th></th>\n      <th></th>\n      <th></th>\n      <th></th>\n      <th></th>\n      <th></th>\n      <th></th>\n      <th></th>\n    </tr>\n  </thead>\n  <tbody>\n    <tr>\n      <th>2023-01-27 00:00:00</th>\n      <td>1</td>\n      <td>0.022</td>\n      <td>0.0</td>\n      <td>SensorWorker</td>\n      <td>86</td>\n      <td>1014.6</td>\n      <td>NaN</td>\n      <td>NaN</td>\n      <td>NaN</td>\n      <td>NaN</td>\n      <td>...</td>\n      <td>NaN</td>\n      <td>NaN</td>\n      <td>NaN</td>\n      <td>NaN</td>\n      <td>NaN</td>\n      <td>NaN</td>\n      <td>NaN</td>\n      <td>NaN</td>\n      <td>NaN</td>\n      <td>NaN</td>\n    </tr>\n    <tr>\n      <th>2023-01-27 00:15:00</th>\n      <td>1</td>\n      <td>0.023</td>\n      <td>0.0</td>\n      <td>io.homeassistant.companion.android.UPDATE_SENSORS</td>\n      <td>6</td>\n      <td>1014.6</td>\n      <td>0.0202</td>\n      <td>0.0097</td>\n      <td>69</td>\n      <td>20.1</td>\n      <td>...</td>\n      <td>NaN</td>\n      <td>NaN</td>\n      <td>NaN</td>\n      <td>NaN</td>\n      <td>NaN</td>\n      <td>NaN</td>\n      <td>NaN</td>\n      <td>NaN</td>\n      <td>NaN</td>\n      <td>NaN</td>\n    </tr>\n    <tr>\n      <th>2023-01-27 00:30:00</th>\n      <td>3</td>\n      <td>0.024</td>\n      <td>0.0</td>\n      <td>io.homeassistant.companion.android.UPDATE_SENSORS</td>\n      <td>62</td>\n      <td>1014.7</td>\n      <td>0.0204</td>\n      <td>NaN</td>\n      <td>67</td>\n      <td>30.8</td>\n      <td>...</td>\n      <td>NaN</td>\n      <td>NaN</td>\n      <td>NaN</td>\n      <td>NaN</td>\n      <td>NaN</td>\n      <td>NaN</td>\n      <td>NaN</td>\n      <td>NaN</td>\n      <td>NaN</td>\n      <td>NaN</td>\n    </tr>\n    <tr>\n      <th>2023-01-27 00:45:00</th>\n      <td>1</td>\n      <td>0.023</td>\n      <td>0.0</td>\n      <td>io.homeassistant.companion.android.UPDATE_SENSORS</td>\n      <td>8</td>\n      <td>1014.7</td>\n      <td>0.021</td>\n      <td>0.0099</td>\n      <td>62</td>\n      <td>28.9</td>\n      <td>...</td>\n      <td>NaN</td>\n      <td>NaN</td>\n      <td>NaN</td>\n      <td>NaN</td>\n      <td>NaN</td>\n      <td>NaN</td>\n      <td>NaN</td>\n      <td>NaN</td>\n      <td>NaN</td>\n      <td>NaN</td>\n    </tr>\n    <tr>\n      <th>2023-01-27 01:00:00</th>\n      <td>1</td>\n      <td>0.021</td>\n      <td>0.0</td>\n      <td>android.os.action.DEVICE_IDLE_MODE_CHANGED</td>\n      <td>NaN</td>\n      <td>1014.6</td>\n      <td>NaN</td>\n      <td>NaN</td>\n      <td>57</td>\n      <td>30.6</td>\n      <td>...</td>\n      <td>NaN</td>\n      <td>NaN</td>\n      <td>NaN</td>\n      <td>NaN</td>\n      <td>NaN</td>\n      <td>NaN</td>\n      <td>NaN</td>\n      <td>NaN</td>\n      <td>NaN</td>\n      <td>NaN</td>\n    </tr>\n    <tr>\n      <th>...</th>\n      <td>...</td>\n      <td>...</td>\n      <td>...</td>\n      <td>...</td>\n      <td>...</td>\n      <td>...</td>\n      <td>...</td>\n      <td>...</td>\n      <td>...</td>\n      <td>...</td>\n      <td>...</td>\n      <td>...</td>\n      <td>...</td>\n      <td>...</td>\n      <td>...</td>\n      <td>...</td>\n      <td>...</td>\n      <td>...</td>\n      <td>...</td>\n      <td>...</td>\n      <td>...</td>\n    </tr>\n    <tr>\n      <th>2023-01-30 10:00:00</th>\n      <td>2</td>\n      <td>0.018</td>\n      <td>0.0</td>\n      <td>android.os.action.DEVICE_IDLE_MODE_CHANGED</td>\n      <td>920</td>\n      <td>1029.0</td>\n      <td>0.0546</td>\n      <td>0.0268</td>\n      <td>31</td>\n      <td>27.3</td>\n      <td>...</td>\n      <td>NaN</td>\n      <td>NaN</td>\n      <td>NaN</td>\n      <td>NaN</td>\n      <td>NaN</td>\n      <td>NaN</td>\n      <td>NaN</td>\n      <td>NaN</td>\n      <td>NaN</td>\n      <td>NaN</td>\n    </tr>\n    <tr>\n      <th>2023-01-30 10:15:00</th>\n      <td>2</td>\n      <td>0.018</td>\n      <td>0.0</td>\n      <td>android.os.action.DEVICE_IDLE_MODE_CHANGED</td>\n      <td>7</td>\n      <td>1029.2</td>\n      <td>0.0548</td>\n      <td>0.0269</td>\n      <td>25</td>\n      <td>25.8</td>\n      <td>...</td>\n      <td>NaN</td>\n      <td>NaN</td>\n      <td>NaN</td>\n      <td>NaN</td>\n      <td>NaN</td>\n      <td>NaN</td>\n      <td>NaN</td>\n      <td>NaN</td>\n      <td>NaN</td>\n      <td>NaN</td>\n    </tr>\n    <tr>\n      <th>2023-01-30 10:30:00</th>\n      <td>2</td>\n      <td>0.017</td>\n      <td>0.0</td>\n      <td>android.os.action.DEVICE_IDLE_MODE_CHANGED</td>\n      <td>246</td>\n      <td>1028.7</td>\n      <td>0.055</td>\n      <td>0.027</td>\n      <td>23</td>\n      <td>23.6</td>\n      <td>...</td>\n      <td>NaN</td>\n      <td>NaN</td>\n      <td>NaN</td>\n      <td>NaN</td>\n      <td>NaN</td>\n      <td>NaN</td>\n      <td>NaN</td>\n      <td>NaN</td>\n      <td>NaN</td>\n      <td>NaN</td>\n    </tr>\n    <tr>\n      <th>2023-01-30 10:45:00</th>\n      <td>1</td>\n      <td>0.017</td>\n      <td>0.0</td>\n      <td>android.intent.action.TIME_TICK</td>\n      <td>45</td>\n      <td>1029.1</td>\n      <td>0.0552</td>\n      <td>0.0271</td>\n      <td>20</td>\n      <td>22.6</td>\n      <td>...</td>\n      <td>NaN</td>\n      <td>NaN</td>\n      <td>NaN</td>\n      <td>NaN</td>\n      <td>NaN</td>\n      <td>NaN</td>\n      <td>NaN</td>\n      <td>NaN</td>\n      <td>NaN</td>\n      <td>NaN</td>\n    </tr>\n    <tr>\n      <th>2023-01-30 11:00:00</th>\n      <td>NaN</td>\n      <td>0.015</td>\n      <td>0.0</td>\n      <td>android.bluetooth.device.action.ACL_CONNECTED</td>\n      <td>255</td>\n      <td>1028.7</td>\n      <td>NaN</td>\n      <td>NaN</td>\n      <td>NaN</td>\n      <td>21.5</td>\n      <td>...</td>\n      <td>NaN</td>\n      <td>NaN</td>\n      <td>NaN</td>\n      <td>NaN</td>\n      <td>NaN</td>\n      <td>NaN</td>\n      <td>NaN</td>\n      <td>NaN</td>\n      <td>NaN</td>\n      <td>NaN</td>\n    </tr>\n  </tbody>\n</table>\n<p>222 rows × 49 columns</p>\n</div>"
     },
     "execution_count": 63,
     "metadata": {},
     "output_type": "execute_result"
    }
   ],
   "source": [
    "for i, row in dataframe.iterrows():\n",
    "    df.at[row['last_updated'], row['entity_id']] = row['state']\n",
    "\n",
    "df"
   ],
   "metadata": {}
  },
  {
   "cell_type": "code",
   "execution_count": 64,
   "outputs": [
    {
     "name": "stdout",
     "output_type": "stream",
     "text": [
      "<class 'pandas.core.frame.DataFrame'>\n",
      "DatetimeIndex: 222 entries, 2023-01-27 00:00:00 to 2023-01-30 11:00:00\n",
      "Data columns (total 49 columns):\n",
      " #   Column                      Non-Null Count  Dtype \n",
      "---  ------                      --------------  ----- \n",
      " 0   active_notification_count   164 non-null    object\n",
      " 1   app_memory                  221 non-null    object\n",
      " 2   battery_power               219 non-null    object\n",
      " 3   last_update_trigger         165 non-null    object\n",
      " 4   light_sensor                133 non-null    object\n",
      " 5   pressure_sensor             166 non-null    object\n",
      " 6   app_rx_gb                   105 non-null    object\n",
      " 7   app_tx_gb                   61 non-null     object\n",
      " 8   battery_level               188 non-null    object\n",
      " 9   battery_temperature         199 non-null    object\n",
      " 10  detected_activity           76 non-null     object\n",
      " 11  device_locked               87 non-null     object\n",
      " 12  device_tracker              124 non-null    object\n",
      " 13  doze_mode                   106 non-null    object\n",
      " 14  interactive                 101 non-null    object\n",
      " 15  last_used_app               90 non-null     object\n",
      " 16  proximity_sensor            92 non-null     object\n",
      " 17  screen_brightness           105 non-null    object\n",
      " 18  steps_sensor                77 non-null     object\n",
      " 19  total_rx_gb                 106 non-null    object\n",
      " 20  total_tx_gb                 73 non-null     object\n",
      " 21  wifi_frequency              14 non-null     object\n",
      " 22  wifi_link_speed             20 non-null     object\n",
      " 23  wifi_signal_strength        20 non-null     object\n",
      " 24  headphones                  4 non-null      object\n",
      " 25  volume_level_accessibility  17 non-null     object\n",
      " 26  volume_level_call           6 non-null      object\n",
      " 27  volume_level_music          17 non-null     object\n",
      " 28  music_active                6 non-null      object\n",
      " 29  mobile_rx_gb                91 non-null     object\n",
      " 30  mobile_tx_gb                63 non-null     object\n",
      " 31  network_type                3 non-null      object\n",
      " 32  wifi_connection             8 non-null      object\n",
      " 33  audio_mode                  2 non-null      object\n",
      " 34  phone_state                 2 non-null      object\n",
      " 35  volume_level_system         3 non-null      object\n",
      " 36  bluetooth_connection        9 non-null      object\n",
      " 37  bluetooth_state             2 non-null      object\n",
      " 38  battery_state               7 non-null      object\n",
      " 39  charger_type                7 non-null      object\n",
      " 40  is_charging                 7 non-null      object\n",
      " 41  battery_health              1 non-null      object\n",
      " 42  ble_transmitter             1 non-null      object\n",
      " 43  do_not_disturb_sensor       1 non-null      object\n",
      " 44  mobile_data                 1 non-null      object\n",
      " 45  power_save                  1 non-null      object\n",
      " 46  screen_off_timeout          1 non-null      object\n",
      " 47  speakerphone                1 non-null      object\n",
      " 48  wifi_state                  2 non-null      object\n",
      "dtypes: object(49)\n",
      "memory usage: 94.8+ KB\n",
      "None\n"
     ]
    },
    {
     "data": {
      "text/plain": "active_notification_count     object\napp_memory                    object\nbattery_power                 object\nlast_update_trigger           object\nlight_sensor                  object\npressure_sensor               object\napp_rx_gb                     object\napp_tx_gb                     object\nbattery_level                 object\nbattery_temperature           object\ndetected_activity             object\ndevice_locked                 object\ndevice_tracker                object\ndoze_mode                     object\ninteractive                   object\nlast_used_app                 object\nproximity_sensor              object\nscreen_brightness             object\nsteps_sensor                  object\ntotal_rx_gb                   object\ntotal_tx_gb                   object\nwifi_frequency                object\nwifi_link_speed               object\nwifi_signal_strength          object\nheadphones                    object\nvolume_level_accessibility    object\nvolume_level_call             object\nvolume_level_music            object\nmusic_active                  object\nmobile_rx_gb                  object\nmobile_tx_gb                  object\nnetwork_type                  object\nwifi_connection               object\naudio_mode                    object\nphone_state                   object\nvolume_level_system           object\nbluetooth_connection          object\nbluetooth_state               object\nbattery_state                 object\ncharger_type                  object\nis_charging                   object\nbattery_health                object\nble_transmitter               object\ndo_not_disturb_sensor         object\nmobile_data                   object\npower_save                    object\nscreen_off_timeout            object\nspeakerphone                  object\nwifi_state                    object\ndtype: object"
     },
     "execution_count": 64,
     "metadata": {},
     "output_type": "execute_result"
    }
   ],
   "source": [
    "print(df.info())\n",
    "df.dtypes"
   ],
   "metadata": {}
  },
  {
   "cell_type": "code",
   "execution_count": 65,
   "outputs": [
    {
     "data": {
      "text/plain": "active_notification_count      58\napp_memory                      1\nbattery_power                   3\nlast_update_trigger            57\nlight_sensor                   89\npressure_sensor                56\napp_rx_gb                     117\napp_tx_gb                     161\nbattery_level                  34\nbattery_temperature            23\ndetected_activity             146\ndevice_locked                 135\ndevice_tracker                 98\ndoze_mode                     116\ninteractive                   121\nlast_used_app                 132\nproximity_sensor              130\nscreen_brightness             117\nsteps_sensor                  145\ntotal_rx_gb                   116\ntotal_tx_gb                   149\nwifi_frequency                208\nwifi_link_speed               202\nwifi_signal_strength          202\nheadphones                    218\nvolume_level_accessibility    205\nvolume_level_call             216\nvolume_level_music            205\nmusic_active                  216\nmobile_rx_gb                  131\nmobile_tx_gb                  159\nnetwork_type                  219\nwifi_connection               214\naudio_mode                    220\nphone_state                   220\nvolume_level_system           219\nbluetooth_connection          213\nbluetooth_state               220\nbattery_state                 215\ncharger_type                  215\nis_charging                   215\nbattery_health                221\nble_transmitter               221\ndo_not_disturb_sensor         221\nmobile_data                   221\npower_save                    221\nscreen_off_timeout            221\nspeakerphone                  221\nwifi_state                    220\ndtype: int64"
     },
     "execution_count": 65,
     "metadata": {},
     "output_type": "execute_result"
    }
   ],
   "source": [
    "# check missing values in variables\n",
    "df.isnull().sum()"
   ],
   "metadata": {}
  },
  {
   "cell_type": "code",
   "execution_count": 66,
   "outputs": [
    {
     "name": "stdout",
     "output_type": "stream",
     "text": [
      "last_update_trigger\n",
      "detected_activity\n",
      "device_locked\n",
      "device_tracker\n",
      "doze_mode\n",
      "interactive\n",
      "last_used_app\n",
      "headphones\n",
      "music_active\n",
      "network_type\n",
      "wifi_connection\n",
      "audio_mode\n",
      "phone_state\n",
      "bluetooth_state\n",
      "battery_state\n",
      "charger_type\n",
      "is_charging\n",
      "battery_health\n",
      "ble_transmitter\n",
      "do_not_disturb_sensor\n",
      "mobile_data\n",
      "power_save\n",
      "screen_off_timeout\n",
      "speakerphone\n",
      "wifi_state\n",
      "# of failed parses: 25\n"
     ]
    }
   ],
   "source": [
    "unparsed_column = []\n",
    "for column in df:\n",
    "    try:\n",
    "        df[f'{column}'] = df[f'{column}'].astype(np.float64)\n",
    "    except Exception as e:\n",
    "        unparsed_column.append(column)\n",
    "        print(column)\n",
    "\n",
    "print(f'# of failed parses: {len(unparsed_column)}')"
   ],
   "metadata": {
    "collapsed": false
   }
  },
  {
   "cell_type": "code",
   "execution_count": 67,
   "outputs": [
    {
     "data": {
      "text/plain": "                     active_notification_count  app_memory  battery_power  \\\ntimestamp                                                                   \n2023-01-27 00:00:00                        1.0       0.022            0.0   \n2023-01-27 00:15:00                        1.0       0.023            0.0   \n2023-01-27 00:30:00                        3.0       0.024            0.0   \n2023-01-27 00:45:00                        1.0       0.023            0.0   \n2023-01-27 01:00:00                        1.0       0.021            0.0   \n...                                        ...         ...            ...   \n2023-01-30 10:00:00                        2.0       0.018            0.0   \n2023-01-30 10:15:00                        2.0       0.018            0.0   \n2023-01-30 10:30:00                        2.0       0.017            0.0   \n2023-01-30 10:45:00                        1.0       0.017            0.0   \n2023-01-30 11:00:00                        NaN       0.015            0.0   \n\n                                                   last_update_trigger  \\\ntimestamp                                                                \n2023-01-27 00:00:00                                       SensorWorker   \n2023-01-27 00:15:00  io.homeassistant.companion.android.UPDATE_SENSORS   \n2023-01-27 00:30:00  io.homeassistant.companion.android.UPDATE_SENSORS   \n2023-01-27 00:45:00  io.homeassistant.companion.android.UPDATE_SENSORS   \n2023-01-27 01:00:00         android.os.action.DEVICE_IDLE_MODE_CHANGED   \n...                                                                ...   \n2023-01-30 10:00:00         android.os.action.DEVICE_IDLE_MODE_CHANGED   \n2023-01-30 10:15:00         android.os.action.DEVICE_IDLE_MODE_CHANGED   \n2023-01-30 10:30:00         android.os.action.DEVICE_IDLE_MODE_CHANGED   \n2023-01-30 10:45:00                    android.intent.action.TIME_TICK   \n2023-01-30 11:00:00      android.bluetooth.device.action.ACL_CONNECTED   \n\n                     light_sensor  pressure_sensor  app_rx_gb  app_tx_gb  \\\ntimestamp                                                                  \n2023-01-27 00:00:00          86.0           1014.6        NaN        NaN   \n2023-01-27 00:15:00           6.0           1014.6     0.0202     0.0097   \n2023-01-27 00:30:00          62.0           1014.7     0.0204        NaN   \n2023-01-27 00:45:00           8.0           1014.7     0.0210     0.0099   \n2023-01-27 01:00:00           NaN           1014.6        NaN        NaN   \n...                           ...              ...        ...        ...   \n2023-01-30 10:00:00         920.0           1029.0     0.0546     0.0268   \n2023-01-30 10:15:00           7.0           1029.2     0.0548     0.0269   \n2023-01-30 10:30:00         246.0           1028.7     0.0550     0.0270   \n2023-01-30 10:45:00          45.0           1029.1     0.0552     0.0271   \n2023-01-30 11:00:00         255.0           1028.7        NaN        NaN   \n\n                     battery_level  battery_temperature  ... charger_type  \\\ntimestamp                                                ...                \n2023-01-27 00:00:00            NaN                  NaN  ...          NaN   \n2023-01-27 00:15:00           69.0                 20.1  ...          NaN   \n2023-01-27 00:30:00           67.0                 30.8  ...          NaN   \n2023-01-27 00:45:00           62.0                 28.9  ...          NaN   \n2023-01-27 01:00:00           57.0                 30.6  ...          NaN   \n...                            ...                  ...  ...          ...   \n2023-01-30 10:00:00           31.0                 27.3  ...          NaN   \n2023-01-30 10:15:00           25.0                 25.8  ...          NaN   \n2023-01-30 10:30:00           23.0                 23.6  ...          NaN   \n2023-01-30 10:45:00           20.0                 22.6  ...          NaN   \n2023-01-30 11:00:00            NaN                 21.5  ...          NaN   \n\n                    is_charging battery_health ble_transmitter  \\\ntimestamp                                                        \n2023-01-27 00:00:00         NaN            NaN             NaN   \n2023-01-27 00:15:00         NaN            NaN             NaN   \n2023-01-27 00:30:00         NaN            NaN             NaN   \n2023-01-27 00:45:00         NaN            NaN             NaN   \n2023-01-27 01:00:00         NaN            NaN             NaN   \n...                         ...            ...             ...   \n2023-01-30 10:00:00         NaN            NaN             NaN   \n2023-01-30 10:15:00         NaN            NaN             NaN   \n2023-01-30 10:30:00         NaN            NaN             NaN   \n2023-01-30 10:45:00         NaN            NaN             NaN   \n2023-01-30 11:00:00         NaN            NaN             NaN   \n\n                    do_not_disturb_sensor mobile_data  power_save  \\\ntimestamp                                                           \n2023-01-27 00:00:00                   NaN         NaN         NaN   \n2023-01-27 00:15:00                   NaN         NaN         NaN   \n2023-01-27 00:30:00                   NaN         NaN         NaN   \n2023-01-27 00:45:00                   NaN         NaN         NaN   \n2023-01-27 01:00:00                   NaN         NaN         NaN   \n...                                   ...         ...         ...   \n2023-01-30 10:00:00                   NaN         NaN         NaN   \n2023-01-30 10:15:00                   NaN         NaN         NaN   \n2023-01-30 10:30:00                   NaN         NaN         NaN   \n2023-01-30 10:45:00                   NaN         NaN         NaN   \n2023-01-30 11:00:00                   NaN         NaN         NaN   \n\n                     screen_off_timeout  speakerphone  wifi_state  \ntimestamp                                                          \n2023-01-27 00:00:00                 NaN           NaN         NaN  \n2023-01-27 00:15:00                 NaN           NaN         NaN  \n2023-01-27 00:30:00                 NaN           NaN         NaN  \n2023-01-27 00:45:00                 NaN           NaN         NaN  \n2023-01-27 01:00:00                 NaN           NaN         NaN  \n...                                 ...           ...         ...  \n2023-01-30 10:00:00                 NaN           NaN         NaN  \n2023-01-30 10:15:00                 NaN           NaN         NaN  \n2023-01-30 10:30:00                 NaN           NaN         NaN  \n2023-01-30 10:45:00                 NaN           NaN         NaN  \n2023-01-30 11:00:00                 NaN           NaN         NaN  \n\n[222 rows x 49 columns]",
      "text/html": "<div>\n<style scoped>\n    .dataframe tbody tr th:only-of-type {\n        vertical-align: middle;\n    }\n\n    .dataframe tbody tr th {\n        vertical-align: top;\n    }\n\n    .dataframe thead th {\n        text-align: right;\n    }\n</style>\n<table border=\"1\" class=\"dataframe\">\n  <thead>\n    <tr style=\"text-align: right;\">\n      <th></th>\n      <th>active_notification_count</th>\n      <th>app_memory</th>\n      <th>battery_power</th>\n      <th>last_update_trigger</th>\n      <th>light_sensor</th>\n      <th>pressure_sensor</th>\n      <th>app_rx_gb</th>\n      <th>app_tx_gb</th>\n      <th>battery_level</th>\n      <th>battery_temperature</th>\n      <th>...</th>\n      <th>charger_type</th>\n      <th>is_charging</th>\n      <th>battery_health</th>\n      <th>ble_transmitter</th>\n      <th>do_not_disturb_sensor</th>\n      <th>mobile_data</th>\n      <th>power_save</th>\n      <th>screen_off_timeout</th>\n      <th>speakerphone</th>\n      <th>wifi_state</th>\n    </tr>\n    <tr>\n      <th>timestamp</th>\n      <th></th>\n      <th></th>\n      <th></th>\n      <th></th>\n      <th></th>\n      <th></th>\n      <th></th>\n      <th></th>\n      <th></th>\n      <th></th>\n      <th></th>\n      <th></th>\n      <th></th>\n      <th></th>\n      <th></th>\n      <th></th>\n      <th></th>\n      <th></th>\n      <th></th>\n      <th></th>\n      <th></th>\n    </tr>\n  </thead>\n  <tbody>\n    <tr>\n      <th>2023-01-27 00:00:00</th>\n      <td>1.0</td>\n      <td>0.022</td>\n      <td>0.0</td>\n      <td>SensorWorker</td>\n      <td>86.0</td>\n      <td>1014.6</td>\n      <td>NaN</td>\n      <td>NaN</td>\n      <td>NaN</td>\n      <td>NaN</td>\n      <td>...</td>\n      <td>NaN</td>\n      <td>NaN</td>\n      <td>NaN</td>\n      <td>NaN</td>\n      <td>NaN</td>\n      <td>NaN</td>\n      <td>NaN</td>\n      <td>NaN</td>\n      <td>NaN</td>\n      <td>NaN</td>\n    </tr>\n    <tr>\n      <th>2023-01-27 00:15:00</th>\n      <td>1.0</td>\n      <td>0.023</td>\n      <td>0.0</td>\n      <td>io.homeassistant.companion.android.UPDATE_SENSORS</td>\n      <td>6.0</td>\n      <td>1014.6</td>\n      <td>0.0202</td>\n      <td>0.0097</td>\n      <td>69.0</td>\n      <td>20.1</td>\n      <td>...</td>\n      <td>NaN</td>\n      <td>NaN</td>\n      <td>NaN</td>\n      <td>NaN</td>\n      <td>NaN</td>\n      <td>NaN</td>\n      <td>NaN</td>\n      <td>NaN</td>\n      <td>NaN</td>\n      <td>NaN</td>\n    </tr>\n    <tr>\n      <th>2023-01-27 00:30:00</th>\n      <td>3.0</td>\n      <td>0.024</td>\n      <td>0.0</td>\n      <td>io.homeassistant.companion.android.UPDATE_SENSORS</td>\n      <td>62.0</td>\n      <td>1014.7</td>\n      <td>0.0204</td>\n      <td>NaN</td>\n      <td>67.0</td>\n      <td>30.8</td>\n      <td>...</td>\n      <td>NaN</td>\n      <td>NaN</td>\n      <td>NaN</td>\n      <td>NaN</td>\n      <td>NaN</td>\n      <td>NaN</td>\n      <td>NaN</td>\n      <td>NaN</td>\n      <td>NaN</td>\n      <td>NaN</td>\n    </tr>\n    <tr>\n      <th>2023-01-27 00:45:00</th>\n      <td>1.0</td>\n      <td>0.023</td>\n      <td>0.0</td>\n      <td>io.homeassistant.companion.android.UPDATE_SENSORS</td>\n      <td>8.0</td>\n      <td>1014.7</td>\n      <td>0.0210</td>\n      <td>0.0099</td>\n      <td>62.0</td>\n      <td>28.9</td>\n      <td>...</td>\n      <td>NaN</td>\n      <td>NaN</td>\n      <td>NaN</td>\n      <td>NaN</td>\n      <td>NaN</td>\n      <td>NaN</td>\n      <td>NaN</td>\n      <td>NaN</td>\n      <td>NaN</td>\n      <td>NaN</td>\n    </tr>\n    <tr>\n      <th>2023-01-27 01:00:00</th>\n      <td>1.0</td>\n      <td>0.021</td>\n      <td>0.0</td>\n      <td>android.os.action.DEVICE_IDLE_MODE_CHANGED</td>\n      <td>NaN</td>\n      <td>1014.6</td>\n      <td>NaN</td>\n      <td>NaN</td>\n      <td>57.0</td>\n      <td>30.6</td>\n      <td>...</td>\n      <td>NaN</td>\n      <td>NaN</td>\n      <td>NaN</td>\n      <td>NaN</td>\n      <td>NaN</td>\n      <td>NaN</td>\n      <td>NaN</td>\n      <td>NaN</td>\n      <td>NaN</td>\n      <td>NaN</td>\n    </tr>\n    <tr>\n      <th>...</th>\n      <td>...</td>\n      <td>...</td>\n      <td>...</td>\n      <td>...</td>\n      <td>...</td>\n      <td>...</td>\n      <td>...</td>\n      <td>...</td>\n      <td>...</td>\n      <td>...</td>\n      <td>...</td>\n      <td>...</td>\n      <td>...</td>\n      <td>...</td>\n      <td>...</td>\n      <td>...</td>\n      <td>...</td>\n      <td>...</td>\n      <td>...</td>\n      <td>...</td>\n      <td>...</td>\n    </tr>\n    <tr>\n      <th>2023-01-30 10:00:00</th>\n      <td>2.0</td>\n      <td>0.018</td>\n      <td>0.0</td>\n      <td>android.os.action.DEVICE_IDLE_MODE_CHANGED</td>\n      <td>920.0</td>\n      <td>1029.0</td>\n      <td>0.0546</td>\n      <td>0.0268</td>\n      <td>31.0</td>\n      <td>27.3</td>\n      <td>...</td>\n      <td>NaN</td>\n      <td>NaN</td>\n      <td>NaN</td>\n      <td>NaN</td>\n      <td>NaN</td>\n      <td>NaN</td>\n      <td>NaN</td>\n      <td>NaN</td>\n      <td>NaN</td>\n      <td>NaN</td>\n    </tr>\n    <tr>\n      <th>2023-01-30 10:15:00</th>\n      <td>2.0</td>\n      <td>0.018</td>\n      <td>0.0</td>\n      <td>android.os.action.DEVICE_IDLE_MODE_CHANGED</td>\n      <td>7.0</td>\n      <td>1029.2</td>\n      <td>0.0548</td>\n      <td>0.0269</td>\n      <td>25.0</td>\n      <td>25.8</td>\n      <td>...</td>\n      <td>NaN</td>\n      <td>NaN</td>\n      <td>NaN</td>\n      <td>NaN</td>\n      <td>NaN</td>\n      <td>NaN</td>\n      <td>NaN</td>\n      <td>NaN</td>\n      <td>NaN</td>\n      <td>NaN</td>\n    </tr>\n    <tr>\n      <th>2023-01-30 10:30:00</th>\n      <td>2.0</td>\n      <td>0.017</td>\n      <td>0.0</td>\n      <td>android.os.action.DEVICE_IDLE_MODE_CHANGED</td>\n      <td>246.0</td>\n      <td>1028.7</td>\n      <td>0.0550</td>\n      <td>0.0270</td>\n      <td>23.0</td>\n      <td>23.6</td>\n      <td>...</td>\n      <td>NaN</td>\n      <td>NaN</td>\n      <td>NaN</td>\n      <td>NaN</td>\n      <td>NaN</td>\n      <td>NaN</td>\n      <td>NaN</td>\n      <td>NaN</td>\n      <td>NaN</td>\n      <td>NaN</td>\n    </tr>\n    <tr>\n      <th>2023-01-30 10:45:00</th>\n      <td>1.0</td>\n      <td>0.017</td>\n      <td>0.0</td>\n      <td>android.intent.action.TIME_TICK</td>\n      <td>45.0</td>\n      <td>1029.1</td>\n      <td>0.0552</td>\n      <td>0.0271</td>\n      <td>20.0</td>\n      <td>22.6</td>\n      <td>...</td>\n      <td>NaN</td>\n      <td>NaN</td>\n      <td>NaN</td>\n      <td>NaN</td>\n      <td>NaN</td>\n      <td>NaN</td>\n      <td>NaN</td>\n      <td>NaN</td>\n      <td>NaN</td>\n      <td>NaN</td>\n    </tr>\n    <tr>\n      <th>2023-01-30 11:00:00</th>\n      <td>NaN</td>\n      <td>0.015</td>\n      <td>0.0</td>\n      <td>android.bluetooth.device.action.ACL_CONNECTED</td>\n      <td>255.0</td>\n      <td>1028.7</td>\n      <td>NaN</td>\n      <td>NaN</td>\n      <td>NaN</td>\n      <td>21.5</td>\n      <td>...</td>\n      <td>NaN</td>\n      <td>NaN</td>\n      <td>NaN</td>\n      <td>NaN</td>\n      <td>NaN</td>\n      <td>NaN</td>\n      <td>NaN</td>\n      <td>NaN</td>\n      <td>NaN</td>\n      <td>NaN</td>\n    </tr>\n  </tbody>\n</table>\n<p>222 rows × 49 columns</p>\n</div>"
     },
     "execution_count": 67,
     "metadata": {},
     "output_type": "execute_result"
    }
   ],
   "source": [
    "df"
   ],
   "metadata": {
    "collapsed": false
   }
  },
  {
   "cell_type": "code",
   "execution_count": 68,
   "outputs": [
    {
     "name": "stdout",
     "output_type": "stream",
     "text": [
      "<class 'pandas.core.frame.DataFrame'>\n",
      "DatetimeIndex: 222 entries, 2023-01-27 00:00:00 to 2023-01-30 11:00:00\n",
      "Data columns (total 49 columns):\n",
      " #   Column                      Non-Null Count  Dtype  \n",
      "---  ------                      --------------  -----  \n",
      " 0   active_notification_count   164 non-null    float64\n",
      " 1   app_memory                  221 non-null    float64\n",
      " 2   battery_power               219 non-null    float64\n",
      " 3   last_update_trigger         165 non-null    object \n",
      " 4   light_sensor                133 non-null    float64\n",
      " 5   pressure_sensor             166 non-null    float64\n",
      " 6   app_rx_gb                   105 non-null    float64\n",
      " 7   app_tx_gb                   61 non-null     float64\n",
      " 8   battery_level               188 non-null    float64\n",
      " 9   battery_temperature         199 non-null    float64\n",
      " 10  detected_activity           76 non-null     object \n",
      " 11  device_locked               87 non-null     object \n",
      " 12  device_tracker              124 non-null    object \n",
      " 13  doze_mode                   106 non-null    object \n",
      " 14  interactive                 101 non-null    object \n",
      " 15  last_used_app               90 non-null     object \n",
      " 16  proximity_sensor            92 non-null     float64\n",
      " 17  screen_brightness           105 non-null    float64\n",
      " 18  steps_sensor                77 non-null     float64\n",
      " 19  total_rx_gb                 106 non-null    float64\n",
      " 20  total_tx_gb                 73 non-null     float64\n",
      " 21  wifi_frequency              14 non-null     float64\n",
      " 22  wifi_link_speed             20 non-null     float64\n",
      " 23  wifi_signal_strength        20 non-null     float64\n",
      " 24  headphones                  4 non-null      object \n",
      " 25  volume_level_accessibility  17 non-null     float64\n",
      " 26  volume_level_call           6 non-null      float64\n",
      " 27  volume_level_music          17 non-null     float64\n",
      " 28  music_active                6 non-null      object \n",
      " 29  mobile_rx_gb                91 non-null     float64\n",
      " 30  mobile_tx_gb                63 non-null     float64\n",
      " 31  network_type                3 non-null      object \n",
      " 32  wifi_connection             8 non-null      object \n",
      " 33  audio_mode                  2 non-null      object \n",
      " 34  phone_state                 2 non-null      object \n",
      " 35  volume_level_system         3 non-null      float64\n",
      " 36  bluetooth_connection        9 non-null      float64\n",
      " 37  bluetooth_state             2 non-null      object \n",
      " 38  battery_state               7 non-null      object \n",
      " 39  charger_type                7 non-null      object \n",
      " 40  is_charging                 7 non-null      object \n",
      " 41  battery_health              1 non-null      object \n",
      " 42  ble_transmitter             1 non-null      object \n",
      " 43  do_not_disturb_sensor       1 non-null      object \n",
      " 44  mobile_data                 1 non-null      object \n",
      " 45  power_save                  1 non-null      object \n",
      " 46  screen_off_timeout          1 non-null      object \n",
      " 47  speakerphone                1 non-null      object \n",
      " 48  wifi_state                  2 non-null      object \n",
      "dtypes: float64(24), object(25)\n",
      "memory usage: 94.8+ KB\n",
      "None\n"
     ]
    },
    {
     "data": {
      "text/plain": "active_notification_count     float64\napp_memory                    float64\nbattery_power                 float64\nlast_update_trigger            object\nlight_sensor                  float64\npressure_sensor               float64\napp_rx_gb                     float64\napp_tx_gb                     float64\nbattery_level                 float64\nbattery_temperature           float64\ndetected_activity              object\ndevice_locked                  object\ndevice_tracker                 object\ndoze_mode                      object\ninteractive                    object\nlast_used_app                  object\nproximity_sensor              float64\nscreen_brightness             float64\nsteps_sensor                  float64\ntotal_rx_gb                   float64\ntotal_tx_gb                   float64\nwifi_frequency                float64\nwifi_link_speed               float64\nwifi_signal_strength          float64\nheadphones                     object\nvolume_level_accessibility    float64\nvolume_level_call             float64\nvolume_level_music            float64\nmusic_active                   object\nmobile_rx_gb                  float64\nmobile_tx_gb                  float64\nnetwork_type                   object\nwifi_connection                object\naudio_mode                     object\nphone_state                    object\nvolume_level_system           float64\nbluetooth_connection          float64\nbluetooth_state                object\nbattery_state                  object\ncharger_type                   object\nis_charging                    object\nbattery_health                 object\nble_transmitter                object\ndo_not_disturb_sensor          object\nmobile_data                    object\npower_save                     object\nscreen_off_timeout             object\nspeakerphone                   object\nwifi_state                     object\ndtype: object"
     },
     "execution_count": 68,
     "metadata": {},
     "output_type": "execute_result"
    }
   ],
   "source": [
    "print(df.info())\n",
    "df.dtypes"
   ],
   "metadata": {
    "collapsed": false
   }
  }
 ],
 "metadata": {
  "kernelspec": {
   "display_name": "Python 3",
   "language": "python",
   "name": "python3"
  },
  "language_info": {
   "codemirror_mode": {
    "name": "ipython",
    "version": 2
   },
   "file_extension": ".py",
   "mimetype": "text/x-python",
   "name": "python",
   "nbconvert_exporter": "python",
   "pygments_lexer": "ipython2",
   "version": "2.7.6"
  }
 },
 "nbformat": 4,
 "nbformat_minor": 0
}
