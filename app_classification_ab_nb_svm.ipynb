{
 "cells": [
  {
   "cell_type": "markdown",
   "metadata": {},
   "source": [
    "# Mobile Activity & Usage Prediction Dataset \n",
    "\n",
    "Topic:\n",
    "Study and manipulation of data from different sources for class classification using \n",
    "artificial intelligence (AI) algorithms.\n",
    "\n",
    "The data acquisition can be done using datasets available on the web or else acquired\n",
    "through systems with sensors.\n",
    "\n",
    "The dataset must have at least **5 features** (columns with different characteristics).\n",
    "\n",
    "## Project Requirements \n",
    "\n",
    "<input type=\"checkbox\"/> Analysis of Dataset Features.\n",
    "\n",
    "<input type=\"checkbox\"/> Preparation of the data to put into an AI model.\n",
    "\n",
    "<input type=\"checkbox\"/> Study of the most suitable Ai model for the chosen dataset.\n",
    "\n",
    "<input type=\"checkbox\"/> Application of the selected Ai model to the dataset with and without the application of PCA/LDA techniques.\n",
    "\n",
    "<input type=\"checkbox\"/> Analysis of the Ai model training (Confusion matrix, learning curves, etc...).\n",
    "\n",
    "<input type=\"checkbox\"/> Study of the most important features of the dataset (feature importance) to improve the accuracy of the Ai model.\n",
    "\n",
    "<input type=\"checkbox\"/> Feature Importance self Obtained.\n",
    "\n",
    "## Valorization of the Process\n",
    "\n",
    "<input type=\"checkbox\"/>  Hardware for acquiring the dataset.\n",
    "\n",
    "<input type=\"checkbox\"/>  Application of data combination techniques (example: data alignment, \n",
    "downsampling/upsampling, etc...).\n",
    "\n",
    "<input type=\"checkbox\"/>  Application of data quality improvement techniques (example: filters).\n",
    "\n",
    "<input type=\"checkbox\"/>  Extraction of additional features from the initial data (example: FFT/MFCC from an audio window \n",
    "from an audio window, etc...).\n",
    "\n",
    "<input type=\"checkbox\"/>  Other approaches...\n",
    "\n",
    "## Brief Description of the Work\n",
    "\n",
    "The following code analyses two datasets collected from 6 different cell phones using the as a collection method Home Assistant resources to gather data from 51 different features with the objective of test and develop skills in the field of data fusion according with the project defined by the professor V. Oliveira (voliveira@ipca.pt)\n",
    "\n",
    "The authors of the following project and respective data are: \n",
    "\n",
    "@fandrepm18\n",
    "@JoaquinDillen\n",
    "@nunof98\n",
    "\n",
    "\n"
   ]
  },
  {
   "cell_type": "markdown",
   "metadata": {},
   "source": [
    "# Load Dataset"
   ]
  },
  {
   "cell_type": "code",
   "execution_count": null,
   "metadata": {},
   "outputs": [],
   "source": [
    "import pandas as pd\n",
    "\n",
    "filename = 'reclassifying_features/dataset_v1.csv'\n",
    "\n",
    "# load dataset\n",
    "df = pd.read_csv(f'datasets/{filename}')\n",
    "df"
   ]
  },
  {
   "cell_type": "code",
   "execution_count": 3,
   "metadata": {},
   "outputs": [
    {
     "data": {
      "text/html": [
       "<div>\n",
       "<style scoped>\n",
       "    .dataframe tbody tr th:only-of-type {\n",
       "        vertical-align: middle;\n",
       "    }\n",
       "\n",
       "    .dataframe tbody tr th {\n",
       "        vertical-align: top;\n",
       "    }\n",
       "\n",
       "    .dataframe thead th {\n",
       "        text-align: right;\n",
       "    }\n",
       "</style>\n",
       "<table border=\"1\" class=\"dataframe\">\n",
       "  <thead>\n",
       "    <tr style=\"text-align: right;\">\n",
       "      <th></th>\n",
       "      <th>app_memory</th>\n",
       "      <th>battery_power</th>\n",
       "      <th>last_update_trigger</th>\n",
       "      <th>light_sensor</th>\n",
       "      <th>active_notification_count</th>\n",
       "      <th>...</th>\n",
       "      <th>speakerphone</th>\n",
       "      <th>mobile_data</th>\n",
       "      <th>wifi_state</th>\n",
       "      <th>power_save</th>\n",
       "      <th>device_id</th>\n",
       "    </tr>\n",
       "    <tr>\n",
       "      <th>time</th>\n",
       "      <th></th>\n",
       "      <th></th>\n",
       "      <th></th>\n",
       "      <th></th>\n",
       "      <th></th>\n",
       "      <th></th>\n",
       "      <th></th>\n",
       "      <th></th>\n",
       "      <th></th>\n",
       "      <th></th>\n",
       "      <th></th>\n",
       "    </tr>\n",
       "  </thead>\n",
       "  <tbody>\n",
       "    <tr>\n",
       "      <th>2023-01-17 00:15:00</th>\n",
       "      <td>0.00000</td>\n",
       "      <td>0.000000</td>\n",
       "      <td>SensorWorker</td>\n",
       "      <td>0.000000</td>\n",
       "      <td>0.00</td>\n",
       "      <td>...</td>\n",
       "      <td>off</td>\n",
       "      <td>off</td>\n",
       "      <td>off</td>\n",
       "      <td>off</td>\n",
       "      <td>SMG960F</td>\n",
       "    </tr>\n",
       "    <tr>\n",
       "      <th>2023-01-17 00:30:00</th>\n",
       "      <td>0.00000</td>\n",
       "      <td>0.000000</td>\n",
       "      <td>SensorWorker</td>\n",
       "      <td>0.000000</td>\n",
       "      <td>0.00</td>\n",
       "      <td>...</td>\n",
       "      <td>off</td>\n",
       "      <td>off</td>\n",
       "      <td>off</td>\n",
       "      <td>off</td>\n",
       "      <td>SMG960F</td>\n",
       "    </tr>\n",
       "    <tr>\n",
       "      <th>2023-01-17 00:45:00</th>\n",
       "      <td>0.00000</td>\n",
       "      <td>0.000000</td>\n",
       "      <td>SensorWorker</td>\n",
       "      <td>0.000000</td>\n",
       "      <td>0.00</td>\n",
       "      <td>...</td>\n",
       "      <td>off</td>\n",
       "      <td>off</td>\n",
       "      <td>off</td>\n",
       "      <td>off</td>\n",
       "      <td>SMG960F</td>\n",
       "    </tr>\n",
       "    <tr>\n",
       "      <th>2023-01-17 01:00:00</th>\n",
       "      <td>0.00000</td>\n",
       "      <td>0.000000</td>\n",
       "      <td>SensorWorker</td>\n",
       "      <td>0.000000</td>\n",
       "      <td>0.00</td>\n",
       "      <td>...</td>\n",
       "      <td>off</td>\n",
       "      <td>off</td>\n",
       "      <td>off</td>\n",
       "      <td>off</td>\n",
       "      <td>SMG960F</td>\n",
       "    </tr>\n",
       "    <tr>\n",
       "      <th>2023-01-17 01:15:00</th>\n",
       "      <td>0.00000</td>\n",
       "      <td>0.000000</td>\n",
       "      <td>SensorWorker</td>\n",
       "      <td>0.000000</td>\n",
       "      <td>0.00</td>\n",
       "      <td>...</td>\n",
       "      <td>off</td>\n",
       "      <td>off</td>\n",
       "      <td>off</td>\n",
       "      <td>off</td>\n",
       "      <td>SMG960F</td>\n",
       "    </tr>\n",
       "    <tr>\n",
       "      <th>...</th>\n",
       "      <td>...</td>\n",
       "      <td>...</td>\n",
       "      <td>...</td>\n",
       "      <td>...</td>\n",
       "      <td>...</td>\n",
       "      <td>...</td>\n",
       "      <td>...</td>\n",
       "      <td>...</td>\n",
       "      <td>...</td>\n",
       "      <td>...</td>\n",
       "      <td>...</td>\n",
       "    </tr>\n",
       "    <tr>\n",
       "      <th>2023-01-26 19:00:00</th>\n",
       "      <td>0.01175</td>\n",
       "      <td>-0.002500</td>\n",
       "      <td>android.intent.action.SCREEN_ON</td>\n",
       "      <td>21.333333</td>\n",
       "      <td>9.00</td>\n",
       "      <td>...</td>\n",
       "      <td>on</td>\n",
       "      <td>off</td>\n",
       "      <td>off</td>\n",
       "      <td>off</td>\n",
       "      <td>SMA528B</td>\n",
       "    </tr>\n",
       "    <tr>\n",
       "      <th>2023-01-26 19:15:00</th>\n",
       "      <td>0.01450</td>\n",
       "      <td>0.000000</td>\n",
       "      <td>android.net.wifi.STATE_CHANGE</td>\n",
       "      <td>13.500000</td>\n",
       "      <td>10.00</td>\n",
       "      <td>...</td>\n",
       "      <td>on</td>\n",
       "      <td>off</td>\n",
       "      <td>off</td>\n",
       "      <td>off</td>\n",
       "      <td>SMA528B</td>\n",
       "    </tr>\n",
       "    <tr>\n",
       "      <th>2023-01-26 19:30:00</th>\n",
       "      <td>0.01200</td>\n",
       "      <td>-0.003333</td>\n",
       "      <td>android.intent.action.PHONE_STATE</td>\n",
       "      <td>0.666667</td>\n",
       "      <td>11.75</td>\n",
       "      <td>...</td>\n",
       "      <td>on</td>\n",
       "      <td>off</td>\n",
       "      <td>off</td>\n",
       "      <td>off</td>\n",
       "      <td>SMA528B</td>\n",
       "    </tr>\n",
       "    <tr>\n",
       "      <th>2023-01-26 19:45:00</th>\n",
       "      <td>0.01150</td>\n",
       "      <td>0.000000</td>\n",
       "      <td>android.net.wifi.STATE_CHANGE</td>\n",
       "      <td>0.666667</td>\n",
       "      <td>16.00</td>\n",
       "      <td>...</td>\n",
       "      <td>on</td>\n",
       "      <td>off</td>\n",
       "      <td>off</td>\n",
       "      <td>off</td>\n",
       "      <td>SMA528B</td>\n",
       "    </tr>\n",
       "    <tr>\n",
       "      <th>2023-01-26 20:00:00</th>\n",
       "      <td>0.01150</td>\n",
       "      <td>0.000000</td>\n",
       "      <td>android.net.wifi.STATE_CHANGE</td>\n",
       "      <td>0.666667</td>\n",
       "      <td>16.00</td>\n",
       "      <td>...</td>\n",
       "      <td>on</td>\n",
       "      <td>off</td>\n",
       "      <td>off</td>\n",
       "      <td>off</td>\n",
       "      <td>SMA528B</td>\n",
       "    </tr>\n",
       "  </tbody>\n",
       "</table>\n",
       "<p>5664 rows × 49 columns</p>\n",
       "</div>"
      ],
      "text/plain": [
       "                     app_memory  battery_power  \\\n",
       "time                                             \n",
       "2023-01-17 00:15:00     0.00000       0.000000   \n",
       "2023-01-17 00:30:00     0.00000       0.000000   \n",
       "2023-01-17 00:45:00     0.00000       0.000000   \n",
       "2023-01-17 01:00:00     0.00000       0.000000   \n",
       "2023-01-17 01:15:00     0.00000       0.000000   \n",
       "...                         ...            ...   \n",
       "2023-01-26 19:00:00     0.01175      -0.002500   \n",
       "2023-01-26 19:15:00     0.01450       0.000000   \n",
       "2023-01-26 19:30:00     0.01200      -0.003333   \n",
       "2023-01-26 19:45:00     0.01150       0.000000   \n",
       "2023-01-26 20:00:00     0.01150       0.000000   \n",
       "\n",
       "                                   last_update_trigger  light_sensor  \\\n",
       "time                                                                   \n",
       "2023-01-17 00:15:00                       SensorWorker      0.000000   \n",
       "2023-01-17 00:30:00                       SensorWorker      0.000000   \n",
       "2023-01-17 00:45:00                       SensorWorker      0.000000   \n",
       "2023-01-17 01:00:00                       SensorWorker      0.000000   \n",
       "2023-01-17 01:15:00                       SensorWorker      0.000000   \n",
       "...                                                ...           ...   \n",
       "2023-01-26 19:00:00    android.intent.action.SCREEN_ON     21.333333   \n",
       "2023-01-26 19:15:00      android.net.wifi.STATE_CHANGE     13.500000   \n",
       "2023-01-26 19:30:00  android.intent.action.PHONE_STATE      0.666667   \n",
       "2023-01-26 19:45:00      android.net.wifi.STATE_CHANGE      0.666667   \n",
       "2023-01-26 20:00:00      android.net.wifi.STATE_CHANGE      0.666667   \n",
       "\n",
       "                     active_notification_count  ...  speakerphone  \\\n",
       "time                                            ...                 \n",
       "2023-01-17 00:15:00                       0.00  ...           off   \n",
       "2023-01-17 00:30:00                       0.00  ...           off   \n",
       "2023-01-17 00:45:00                       0.00  ...           off   \n",
       "2023-01-17 01:00:00                       0.00  ...           off   \n",
       "2023-01-17 01:15:00                       0.00  ...           off   \n",
       "...                                        ...  ...           ...   \n",
       "2023-01-26 19:00:00                       9.00  ...            on   \n",
       "2023-01-26 19:15:00                      10.00  ...            on   \n",
       "2023-01-26 19:30:00                      11.75  ...            on   \n",
       "2023-01-26 19:45:00                      16.00  ...            on   \n",
       "2023-01-26 20:00:00                      16.00  ...            on   \n",
       "\n",
       "                     mobile_data  wifi_state power_save  device_id  \n",
       "time                                                                \n",
       "2023-01-17 00:15:00          off         off        off    SMG960F  \n",
       "2023-01-17 00:30:00          off         off        off    SMG960F  \n",
       "2023-01-17 00:45:00          off         off        off    SMG960F  \n",
       "2023-01-17 01:00:00          off         off        off    SMG960F  \n",
       "2023-01-17 01:15:00          off         off        off    SMG960F  \n",
       "...                          ...         ...        ...        ...  \n",
       "2023-01-26 19:00:00          off         off        off    SMA528B  \n",
       "2023-01-26 19:15:00          off         off        off    SMA528B  \n",
       "2023-01-26 19:30:00          off         off        off    SMA528B  \n",
       "2023-01-26 19:45:00          off         off        off    SMA528B  \n",
       "2023-01-26 20:00:00          off         off        off    SMA528B  \n",
       "\n",
       "[5664 rows x 49 columns]"
      ]
     },
     "execution_count": 3,
     "metadata": {},
     "output_type": "execute_result"
    }
   ],
   "source": [
    "# set timestamp column as index\n",
    "df = df.set_index('time')\n",
    "df"
   ]
  },
  {
   "cell_type": "code",
   "execution_count": null,
   "metadata": {},
   "outputs": [],
   "source": [
    "\n"
   ]
  },
  {
   "cell_type": "markdown",
   "metadata": {},
   "source": [
    "## Analysis of dataset features\n",
    "Analyses the statistical information about each variable."
   ]
  },
  {
   "cell_type": "code",
   "execution_count": 4,
   "metadata": {},
   "outputs": [
    {
     "data": {
      "text/html": [
       "<div>\n",
       "<style scoped>\n",
       "    .dataframe tbody tr th:only-of-type {\n",
       "        vertical-align: middle;\n",
       "    }\n",
       "\n",
       "    .dataframe tbody tr th {\n",
       "        vertical-align: top;\n",
       "    }\n",
       "\n",
       "    .dataframe thead th {\n",
       "        text-align: right;\n",
       "    }\n",
       "</style>\n",
       "<table border=\"1\" class=\"dataframe\">\n",
       "  <thead>\n",
       "    <tr style=\"text-align: right;\">\n",
       "      <th></th>\n",
       "      <th>app_memory</th>\n",
       "      <th>battery_power</th>\n",
       "      <th>light_sensor</th>\n",
       "      <th>active_notification_count</th>\n",
       "      <th>pressure_sensor</th>\n",
       "      <th>...</th>\n",
       "      <th>volume_level_accessibility</th>\n",
       "      <th>mobile_rx_gb</th>\n",
       "      <th>mobile_tx_gb</th>\n",
       "      <th>volume_level_system</th>\n",
       "      <th>bluetooth_connection</th>\n",
       "    </tr>\n",
       "  </thead>\n",
       "  <tbody>\n",
       "    <tr>\n",
       "      <th>count</th>\n",
       "      <td>5664.000000</td>\n",
       "      <td>5664.000000</td>\n",
       "      <td>5664.000000</td>\n",
       "      <td>5664.000000</td>\n",
       "      <td>5664.000000</td>\n",
       "      <td>...</td>\n",
       "      <td>5664.000000</td>\n",
       "      <td>5664.000000</td>\n",
       "      <td>5664.000000</td>\n",
       "      <td>5664.000000</td>\n",
       "      <td>5664.000000</td>\n",
       "    </tr>\n",
       "    <tr>\n",
       "      <th>mean</th>\n",
       "      <td>0.012281</td>\n",
       "      <td>-0.082329</td>\n",
       "      <td>65.701824</td>\n",
       "      <td>2.571404</td>\n",
       "      <td>212.029130</td>\n",
       "      <td>...</td>\n",
       "      <td>3.812421</td>\n",
       "      <td>0.671618</td>\n",
       "      <td>0.035222</td>\n",
       "      <td>0.962688</td>\n",
       "      <td>0.332182</td>\n",
       "    </tr>\n",
       "    <tr>\n",
       "      <th>std</th>\n",
       "      <td>0.012065</td>\n",
       "      <td>0.414615</td>\n",
       "      <td>429.619220</td>\n",
       "      <td>3.731159</td>\n",
       "      <td>412.718471</td>\n",
       "      <td>...</td>\n",
       "      <td>4.328333</td>\n",
       "      <td>1.292121</td>\n",
       "      <td>0.068907</td>\n",
       "      <td>2.355609</td>\n",
       "      <td>0.457608</td>\n",
       "    </tr>\n",
       "    <tr>\n",
       "      <th>min</th>\n",
       "      <td>0.000000</td>\n",
       "      <td>-3.010000</td>\n",
       "      <td>0.000000</td>\n",
       "      <td>0.000000</td>\n",
       "      <td>0.000000</td>\n",
       "      <td>...</td>\n",
       "      <td>0.000000</td>\n",
       "      <td>0.000000</td>\n",
       "      <td>0.000000</td>\n",
       "      <td>0.000000</td>\n",
       "      <td>0.000000</td>\n",
       "    </tr>\n",
       "    <tr>\n",
       "      <th>25%</th>\n",
       "      <td>0.000000</td>\n",
       "      <td>0.000000</td>\n",
       "      <td>0.000000</td>\n",
       "      <td>0.000000</td>\n",
       "      <td>0.000000</td>\n",
       "      <td>...</td>\n",
       "      <td>0.000000</td>\n",
       "      <td>0.000000</td>\n",
       "      <td>0.000000</td>\n",
       "      <td>0.000000</td>\n",
       "      <td>0.000000</td>\n",
       "    </tr>\n",
       "    <tr>\n",
       "      <th>50%</th>\n",
       "      <td>0.012000</td>\n",
       "      <td>0.000000</td>\n",
       "      <td>0.000000</td>\n",
       "      <td>1.000000</td>\n",
       "      <td>0.000000</td>\n",
       "      <td>...</td>\n",
       "      <td>2.000000</td>\n",
       "      <td>0.000000</td>\n",
       "      <td>0.000000</td>\n",
       "      <td>0.000000</td>\n",
       "      <td>0.000000</td>\n",
       "    </tr>\n",
       "    <tr>\n",
       "      <th>75%</th>\n",
       "      <td>0.021000</td>\n",
       "      <td>0.000000</td>\n",
       "      <td>21.714286</td>\n",
       "      <td>3.800000</td>\n",
       "      <td>0.000000</td>\n",
       "      <td>...</td>\n",
       "      <td>7.333333</td>\n",
       "      <td>0.726000</td>\n",
       "      <td>0.039000</td>\n",
       "      <td>0.000000</td>\n",
       "      <td>0.500000</td>\n",
       "    </tr>\n",
       "    <tr>\n",
       "      <th>max</th>\n",
       "      <td>0.064000</td>\n",
       "      <td>5.480000</td>\n",
       "      <td>15635.727273</td>\n",
       "      <td>22.500000</td>\n",
       "      <td>1029.650000</td>\n",
       "      <td>...</td>\n",
       "      <td>15.000000</td>\n",
       "      <td>5.681000</td>\n",
       "      <td>0.340500</td>\n",
       "      <td>14.000000</td>\n",
       "      <td>2.000000</td>\n",
       "    </tr>\n",
       "  </tbody>\n",
       "</table>\n",
       "<p>8 rows × 24 columns</p>\n",
       "</div>"
      ],
      "text/plain": [
       "        app_memory  battery_power  light_sensor  active_notification_count  \\\n",
       "count  5664.000000    5664.000000   5664.000000                5664.000000   \n",
       "mean      0.012281      -0.082329     65.701824                   2.571404   \n",
       "std       0.012065       0.414615    429.619220                   3.731159   \n",
       "min       0.000000      -3.010000      0.000000                   0.000000   \n",
       "25%       0.000000       0.000000      0.000000                   0.000000   \n",
       "50%       0.012000       0.000000      0.000000                   1.000000   \n",
       "75%       0.021000       0.000000     21.714286                   3.800000   \n",
       "max       0.064000       5.480000  15635.727273                  22.500000   \n",
       "\n",
       "       pressure_sensor  ...  volume_level_accessibility  mobile_rx_gb  \\\n",
       "count      5664.000000  ...                 5664.000000   5664.000000   \n",
       "mean        212.029130  ...                    3.812421      0.671618   \n",
       "std         412.718471  ...                    4.328333      1.292121   \n",
       "min           0.000000  ...                    0.000000      0.000000   \n",
       "25%           0.000000  ...                    0.000000      0.000000   \n",
       "50%           0.000000  ...                    2.000000      0.000000   \n",
       "75%           0.000000  ...                    7.333333      0.726000   \n",
       "max        1029.650000  ...                   15.000000      5.681000   \n",
       "\n",
       "       mobile_tx_gb  volume_level_system  bluetooth_connection  \n",
       "count   5664.000000          5664.000000           5664.000000  \n",
       "mean       0.035222             0.962688              0.332182  \n",
       "std        0.068907             2.355609              0.457608  \n",
       "min        0.000000             0.000000              0.000000  \n",
       "25%        0.000000             0.000000              0.000000  \n",
       "50%        0.000000             0.000000              0.000000  \n",
       "75%        0.039000             0.000000              0.500000  \n",
       "max        0.340500            14.000000              2.000000  \n",
       "\n",
       "[8 rows x 24 columns]"
      ]
     },
     "execution_count": 4,
     "metadata": {},
     "output_type": "execute_result"
    }
   ],
   "source": [
    "df.describe()"
   ]
  },
  {
   "cell_type": "code",
   "execution_count": 5,
   "metadata": {},
   "outputs": [
    {
     "name": "stdout",
     "output_type": "stream",
     "text": [
      "<class 'pandas.core.frame.DataFrame'>\n",
      "Index: 5664 entries, 2023-01-17 00:15:00 to 2023-01-26 20:00:00\n",
      "Data columns (total 49 columns):\n",
      " #   Column                      Non-Null Count  Dtype  \n",
      "---  ------                      --------------  -----  \n",
      " 0   app_memory                  5664 non-null   float64\n",
      " 1   battery_power               5664 non-null   float64\n",
      " 2   last_update_trigger         5664 non-null   object \n",
      " 3   light_sensor                5664 non-null   float64\n",
      " 4   active_notification_count   5664 non-null   float64\n",
      " 5   pressure_sensor             5664 non-null   float64\n",
      " 6   battery_temperature         5664 non-null   float64\n",
      " 7   screen_brightness           5664 non-null   float64\n",
      " 8   device_locked               5664 non-null   object \n",
      " 9   wifi_link_speed             5664 non-null   float64\n",
      " 10  interactive                 5664 non-null   object \n",
      " 11  doze_mode                   5664 non-null   object \n",
      " 12  battery_level               5664 non-null   float64\n",
      " 13  wifi_signal_strength        5664 non-null   float64\n",
      " 14  total_tx_gb                 5664 non-null   float64\n",
      " 15  wifi_frequency              5664 non-null   float64\n",
      " 16  app_rx_gb                   5664 non-null   float64\n",
      " 17  app_tx_gb                   5664 non-null   float64\n",
      " 18  last_used_app               5664 non-null   object \n",
      " 19  total_rx_gb                 5664 non-null   float64\n",
      " 20  detected_activity           5664 non-null   object \n",
      " 21  proximity_sensor            5664 non-null   float64\n",
      " 22  steps_sensor                5664 non-null   float64\n",
      " 23  headphones                  5664 non-null   object \n",
      " 24  volume_level_call           5664 non-null   float64\n",
      " 25  volume_level_music          5664 non-null   float64\n",
      " 26  volume_level_accessibility  5664 non-null   float64\n",
      " 27  music_active                5664 non-null   object \n",
      " 28  wifi_connection             5664 non-null   object \n",
      " 29  network_type                5664 non-null   object \n",
      " 30  mobile_rx_gb                5664 non-null   float64\n",
      " 31  mobile_tx_gb                5664 non-null   float64\n",
      " 32  audio_mode                  5664 non-null   object \n",
      " 33  phone_state                 5664 non-null   object \n",
      " 34  volume_level_system         5664 non-null   float64\n",
      " 35  bluetooth_connection        5664 non-null   float64\n",
      " 36  bluetooth_state             5664 non-null   object \n",
      " 37  battery_state               5664 non-null   object \n",
      " 38  is_charging                 5664 non-null   object \n",
      " 39  charger_type                5664 non-null   object \n",
      " 40  battery_health              5664 non-null   object \n",
      " 41  ble_transmitter             5664 non-null   object \n",
      " 42  do_not_disturb_sensor       5664 non-null   object \n",
      " 43  screen_off_timeout          5664 non-null   object \n",
      " 44  speakerphone                5664 non-null   object \n",
      " 45  mobile_data                 5664 non-null   object \n",
      " 46  wifi_state                  5664 non-null   object \n",
      " 47  power_save                  5664 non-null   object \n",
      " 48  device_id                   5664 non-null   object \n",
      "dtypes: float64(24), object(25)\n",
      "memory usage: 2.2+ MB\n",
      "None\n"
     ]
    }
   ],
   "source": [
    "print(df.info())"
   ]
  },
  {
   "cell_type": "code",
   "execution_count": 6,
   "metadata": {},
   "outputs": [
    {
     "data": {
      "text/plain": [
       "app_memory                   0\n",
       "battery_power                0\n",
       "last_update_trigger          0\n",
       "light_sensor                 0\n",
       "active_notification_count    0\n",
       "                            ..\n",
       "speakerphone                 0\n",
       "mobile_data                  0\n",
       "wifi_state                   0\n",
       "power_save                   0\n",
       "device_id                    0\n",
       "Length: 49, dtype: int64"
      ]
     },
     "execution_count": 6,
     "metadata": {},
     "output_type": "execute_result"
    },
    {
     "data": {
      "image/png": "[encoded data removed]",
      "text/plain": [
       "<Figure size 2500x1000 with 2 Axes>"
      ]
     },
     "metadata": {},
     "output_type": "display_data"
    }
   ],
   "source": [
    "import missingno as msno\n",
    "\n",
    "# check for missing values\n",
    "msno.matrix(df)\n",
    "df.isnull().sum()"
   ]
  },
  {
   "cell_type": "code",
   "execution_count": 7,
   "metadata": {},
   "outputs": [
    {
     "data": {
      "text/plain": [
       "app_memory                   float64\n",
       "battery_power                float64\n",
       "last_update_trigger           object\n",
       "light_sensor                 float64\n",
       "active_notification_count    float64\n",
       "                              ...   \n",
       "speakerphone                  object\n",
       "mobile_data                   object\n",
       "wifi_state                    object\n",
       "power_save                    object\n",
       "device_id                     object\n",
       "Length: 49, dtype: object"
      ]
     },
     "execution_count": 7,
     "metadata": {},
     "output_type": "execute_result"
    }
   ],
   "source": [
    "df.dtypes"
   ]
  },
  {
   "cell_type": "code",
   "execution_count": 3,
   "metadata": {
    "collapsed": false,
    "jupyter": {
     "outputs_hidden": false
    }
   },
   "outputs": [
    {
     "data": {
      "text/plain": [
       "<AxesSubplot: >"
      ]
     },
     "execution_count": 3,
     "metadata": {},
     "output_type": "execute_result"
    },
    {
     "data": {
      "image/png": "[encoded data removed]",
      "text/plain": [
       "<Figure size 640x480 with 1 Axes>"
      ]
     },
     "metadata": {},
     "output_type": "display_data"
    }
   ],
   "source": [
    "df['last_used_app'].hist()"
   ]
  },
  {
   "cell_type": "markdown",
   "metadata": {},
   "source": [
    "## Encode categorical features"
   ]
  },
  {
   "cell_type": "code",
   "execution_count": 8,
   "metadata": {
    "collapsed": false,
    "jupyter": {
     "outputs_hidden": false
    }
   },
   "outputs": [
    {
     "data": {
      "text/html": [
       "<div>\n",
       "<style scoped>\n",
       "    .dataframe tbody tr th:only-of-type {\n",
       "        vertical-align: middle;\n",
       "    }\n",
       "\n",
       "    .dataframe tbody tr th {\n",
       "        vertical-align: top;\n",
       "    }\n",
       "\n",
       "    .dataframe thead th {\n",
       "        text-align: right;\n",
       "    }\n",
       "</style>\n",
       "<table border=\"1\" class=\"dataframe\">\n",
       "  <thead>\n",
       "    <tr style=\"text-align: right;\">\n",
       "      <th></th>\n",
       "      <th>app_memory</th>\n",
       "      <th>battery_power</th>\n",
       "      <th>last_update_trigger</th>\n",
       "      <th>light_sensor</th>\n",
       "      <th>active_notification_count</th>\n",
       "      <th>...</th>\n",
       "      <th>speakerphone</th>\n",
       "      <th>mobile_data</th>\n",
       "      <th>wifi_state</th>\n",
       "      <th>power_save</th>\n",
       "      <th>device_id</th>\n",
       "    </tr>\n",
       "    <tr>\n",
       "      <th>time</th>\n",
       "      <th></th>\n",
       "      <th></th>\n",
       "      <th></th>\n",
       "      <th></th>\n",
       "      <th></th>\n",
       "      <th></th>\n",
       "      <th></th>\n",
       "      <th></th>\n",
       "      <th></th>\n",
       "      <th></th>\n",
       "      <th></th>\n",
       "    </tr>\n",
       "  </thead>\n",
       "  <tbody>\n",
       "    <tr>\n",
       "      <th>2023-01-17 00:15:00</th>\n",
       "      <td>0.00000</td>\n",
       "      <td>0.000000</td>\n",
       "      <td>1</td>\n",
       "      <td>0.000000</td>\n",
       "      <td>0.00</td>\n",
       "      <td>...</td>\n",
       "      <td>1</td>\n",
       "      <td>1</td>\n",
       "      <td>1</td>\n",
       "      <td>1</td>\n",
       "      <td>1</td>\n",
       "    </tr>\n",
       "    <tr>\n",
       "      <th>2023-01-17 00:30:00</th>\n",
       "      <td>0.00000</td>\n",
       "      <td>0.000000</td>\n",
       "      <td>1</td>\n",
       "      <td>0.000000</td>\n",
       "      <td>0.00</td>\n",
       "      <td>...</td>\n",
       "      <td>1</td>\n",
       "      <td>1</td>\n",
       "      <td>1</td>\n",
       "      <td>1</td>\n",
       "      <td>1</td>\n",
       "    </tr>\n",
       "    <tr>\n",
       "      <th>2023-01-17 00:45:00</th>\n",
       "      <td>0.00000</td>\n",
       "      <td>0.000000</td>\n",
       "      <td>1</td>\n",
       "      <td>0.000000</td>\n",
       "      <td>0.00</td>\n",
       "      <td>...</td>\n",
       "      <td>1</td>\n",
       "      <td>1</td>\n",
       "      <td>1</td>\n",
       "      <td>1</td>\n",
       "      <td>1</td>\n",
       "    </tr>\n",
       "    <tr>\n",
       "      <th>2023-01-17 01:00:00</th>\n",
       "      <td>0.00000</td>\n",
       "      <td>0.000000</td>\n",
       "      <td>1</td>\n",
       "      <td>0.000000</td>\n",
       "      <td>0.00</td>\n",
       "      <td>...</td>\n",
       "      <td>1</td>\n",
       "      <td>1</td>\n",
       "      <td>1</td>\n",
       "      <td>1</td>\n",
       "      <td>1</td>\n",
       "    </tr>\n",
       "    <tr>\n",
       "      <th>2023-01-17 01:15:00</th>\n",
       "      <td>0.00000</td>\n",
       "      <td>0.000000</td>\n",
       "      <td>1</td>\n",
       "      <td>0.000000</td>\n",
       "      <td>0.00</td>\n",
       "      <td>...</td>\n",
       "      <td>1</td>\n",
       "      <td>1</td>\n",
       "      <td>1</td>\n",
       "      <td>1</td>\n",
       "      <td>1</td>\n",
       "    </tr>\n",
       "    <tr>\n",
       "      <th>...</th>\n",
       "      <td>...</td>\n",
       "      <td>...</td>\n",
       "      <td>...</td>\n",
       "      <td>...</td>\n",
       "      <td>...</td>\n",
       "      <td>...</td>\n",
       "      <td>...</td>\n",
       "      <td>...</td>\n",
       "      <td>...</td>\n",
       "      <td>...</td>\n",
       "      <td>...</td>\n",
       "    </tr>\n",
       "    <tr>\n",
       "      <th>2023-01-26 19:00:00</th>\n",
       "      <td>0.01175</td>\n",
       "      <td>-0.002500</td>\n",
       "      <td>3</td>\n",
       "      <td>21.333333</td>\n",
       "      <td>9.00</td>\n",
       "      <td>...</td>\n",
       "      <td>2</td>\n",
       "      <td>1</td>\n",
       "      <td>1</td>\n",
       "      <td>1</td>\n",
       "      <td>6</td>\n",
       "    </tr>\n",
       "    <tr>\n",
       "      <th>2023-01-26 19:15:00</th>\n",
       "      <td>0.01450</td>\n",
       "      <td>0.000000</td>\n",
       "      <td>10</td>\n",
       "      <td>13.500000</td>\n",
       "      <td>10.00</td>\n",
       "      <td>...</td>\n",
       "      <td>2</td>\n",
       "      <td>1</td>\n",
       "      <td>1</td>\n",
       "      <td>1</td>\n",
       "      <td>6</td>\n",
       "    </tr>\n",
       "    <tr>\n",
       "      <th>2023-01-26 19:30:00</th>\n",
       "      <td>0.01200</td>\n",
       "      <td>-0.003333</td>\n",
       "      <td>11</td>\n",
       "      <td>0.666667</td>\n",
       "      <td>11.75</td>\n",
       "      <td>...</td>\n",
       "      <td>2</td>\n",
       "      <td>1</td>\n",
       "      <td>1</td>\n",
       "      <td>1</td>\n",
       "      <td>6</td>\n",
       "    </tr>\n",
       "    <tr>\n",
       "      <th>2023-01-26 19:45:00</th>\n",
       "      <td>0.01150</td>\n",
       "      <td>0.000000</td>\n",
       "      <td>10</td>\n",
       "      <td>0.666667</td>\n",
       "      <td>16.00</td>\n",
       "      <td>...</td>\n",
       "      <td>2</td>\n",
       "      <td>1</td>\n",
       "      <td>1</td>\n",
       "      <td>1</td>\n",
       "      <td>6</td>\n",
       "    </tr>\n",
       "    <tr>\n",
       "      <th>2023-01-26 20:00:00</th>\n",
       "      <td>0.01150</td>\n",
       "      <td>0.000000</td>\n",
       "      <td>10</td>\n",
       "      <td>0.666667</td>\n",
       "      <td>16.00</td>\n",
       "      <td>...</td>\n",
       "      <td>2</td>\n",
       "      <td>1</td>\n",
       "      <td>1</td>\n",
       "      <td>1</td>\n",
       "      <td>6</td>\n",
       "    </tr>\n",
       "  </tbody>\n",
       "</table>\n",
       "<p>5664 rows × 49 columns</p>\n",
       "</div>"
      ],
      "text/plain": [
       "                     app_memory  battery_power  last_update_trigger  \\\n",
       "time                                                                  \n",
       "2023-01-17 00:15:00     0.00000       0.000000                    1   \n",
       "2023-01-17 00:30:00     0.00000       0.000000                    1   \n",
       "2023-01-17 00:45:00     0.00000       0.000000                    1   \n",
       "2023-01-17 01:00:00     0.00000       0.000000                    1   \n",
       "2023-01-17 01:15:00     0.00000       0.000000                    1   \n",
       "...                         ...            ...                  ...   \n",
       "2023-01-26 19:00:00     0.01175      -0.002500                    3   \n",
       "2023-01-26 19:15:00     0.01450       0.000000                   10   \n",
       "2023-01-26 19:30:00     0.01200      -0.003333                   11   \n",
       "2023-01-26 19:45:00     0.01150       0.000000                   10   \n",
       "2023-01-26 20:00:00     0.01150       0.000000                   10   \n",
       "\n",
       "                     light_sensor  active_notification_count  ...  \\\n",
       "time                                                          ...   \n",
       "2023-01-17 00:15:00      0.000000                       0.00  ...   \n",
       "2023-01-17 00:30:00      0.000000                       0.00  ...   \n",
       "2023-01-17 00:45:00      0.000000                       0.00  ...   \n",
       "2023-01-17 01:00:00      0.000000                       0.00  ...   \n",
       "2023-01-17 01:15:00      0.000000                       0.00  ...   \n",
       "...                           ...                        ...  ...   \n",
       "2023-01-26 19:00:00     21.333333                       9.00  ...   \n",
       "2023-01-26 19:15:00     13.500000                      10.00  ...   \n",
       "2023-01-26 19:30:00      0.666667                      11.75  ...   \n",
       "2023-01-26 19:45:00      0.666667                      16.00  ...   \n",
       "2023-01-26 20:00:00      0.666667                      16.00  ...   \n",
       "\n",
       "                     speakerphone  mobile_data  wifi_state  power_save  \\\n",
       "time                                                                     \n",
       "2023-01-17 00:15:00             1            1           1           1   \n",
       "2023-01-17 00:30:00             1            1           1           1   \n",
       "2023-01-17 00:45:00             1            1           1           1   \n",
       "2023-01-17 01:00:00             1            1           1           1   \n",
       "2023-01-17 01:15:00             1            1           1           1   \n",
       "...                           ...          ...         ...         ...   \n",
       "2023-01-26 19:00:00             2            1           1           1   \n",
       "2023-01-26 19:15:00             2            1           1           1   \n",
       "2023-01-26 19:30:00             2            1           1           1   \n",
       "2023-01-26 19:45:00             2            1           1           1   \n",
       "2023-01-26 20:00:00             2            1           1           1   \n",
       "\n",
       "                     device_id  \n",
       "time                            \n",
       "2023-01-17 00:15:00          1  \n",
       "2023-01-17 00:30:00          1  \n",
       "2023-01-17 00:45:00          1  \n",
       "2023-01-17 01:00:00          1  \n",
       "2023-01-17 01:15:00          1  \n",
       "...                        ...  \n",
       "2023-01-26 19:00:00          6  \n",
       "2023-01-26 19:15:00          6  \n",
       "2023-01-26 19:30:00          6  \n",
       "2023-01-26 19:45:00          6  \n",
       "2023-01-26 20:00:00          6  \n",
       "\n",
       "[5664 rows x 49 columns]"
      ]
     },
     "execution_count": 8,
     "metadata": {},
     "output_type": "execute_result"
    }
   ],
   "source": [
    "import category_encoders as ce\n",
    "\n",
    "# select categorical columns\n",
    "cat_cols = df.select_dtypes(include=\"object\").columns.tolist()\n",
    "cat_cols.remove('last_used_app')\n",
    "\n",
    "encoder = ce.OrdinalEncoder(cols=cat_cols)\n",
    "df = encoder.fit_transform(df)\n",
    "df"
   ]
  },
  {
   "cell_type": "code",
   "execution_count": 9,
   "metadata": {
    "collapsed": false,
    "jupyter": {
     "outputs_hidden": false
    }
   },
   "outputs": [
    {
     "data": {
      "text/html": [
       "<div>\n",
       "<style scoped>\n",
       "    .dataframe tbody tr th:only-of-type {\n",
       "        vertical-align: middle;\n",
       "    }\n",
       "\n",
       "    .dataframe tbody tr th {\n",
       "        vertical-align: top;\n",
       "    }\n",
       "\n",
       "    .dataframe thead th {\n",
       "        text-align: right;\n",
       "    }\n",
       "</style>\n",
       "<table border=\"1\" class=\"dataframe\">\n",
       "  <thead>\n",
       "    <tr style=\"text-align: right;\">\n",
       "      <th></th>\n",
       "      <th>app_memory</th>\n",
       "      <th>battery_power</th>\n",
       "      <th>last_update_trigger</th>\n",
       "      <th>light_sensor</th>\n",
       "      <th>active_notification_count</th>\n",
       "      <th>...</th>\n",
       "      <th>speakerphone</th>\n",
       "      <th>mobile_data</th>\n",
       "      <th>wifi_state</th>\n",
       "      <th>power_save</th>\n",
       "      <th>device_id</th>\n",
       "    </tr>\n",
       "  </thead>\n",
       "  <tbody>\n",
       "    <tr>\n",
       "      <th>count</th>\n",
       "      <td>5664.000000</td>\n",
       "      <td>5664.000000</td>\n",
       "      <td>5664.000000</td>\n",
       "      <td>5664.000000</td>\n",
       "      <td>5664.000000</td>\n",
       "      <td>...</td>\n",
       "      <td>5664.000000</td>\n",
       "      <td>5664.000000</td>\n",
       "      <td>5664.000000</td>\n",
       "      <td>5664.000000</td>\n",
       "      <td>5664.000000</td>\n",
       "    </tr>\n",
       "    <tr>\n",
       "      <th>mean</th>\n",
       "      <td>0.012281</td>\n",
       "      <td>-0.082329</td>\n",
       "      <td>4.077860</td>\n",
       "      <td>65.701824</td>\n",
       "      <td>2.571404</td>\n",
       "      <td>...</td>\n",
       "      <td>1.686970</td>\n",
       "      <td>1.823976</td>\n",
       "      <td>1.871469</td>\n",
       "      <td>1.228814</td>\n",
       "      <td>3.500000</td>\n",
       "    </tr>\n",
       "    <tr>\n",
       "      <th>std</th>\n",
       "      <td>0.012065</td>\n",
       "      <td>0.414615</td>\n",
       "      <td>4.244402</td>\n",
       "      <td>429.619220</td>\n",
       "      <td>3.731159</td>\n",
       "      <td>...</td>\n",
       "      <td>0.981193</td>\n",
       "      <td>1.214247</td>\n",
       "      <td>1.205118</td>\n",
       "      <td>0.667007</td>\n",
       "      <td>1.707976</td>\n",
       "    </tr>\n",
       "    <tr>\n",
       "      <th>min</th>\n",
       "      <td>0.000000</td>\n",
       "      <td>-3.010000</td>\n",
       "      <td>1.000000</td>\n",
       "      <td>0.000000</td>\n",
       "      <td>0.000000</td>\n",
       "      <td>...</td>\n",
       "      <td>1.000000</td>\n",
       "      <td>1.000000</td>\n",
       "      <td>1.000000</td>\n",
       "      <td>1.000000</td>\n",
       "      <td>1.000000</td>\n",
       "    </tr>\n",
       "    <tr>\n",
       "      <th>25%</th>\n",
       "      <td>0.000000</td>\n",
       "      <td>0.000000</td>\n",
       "      <td>1.000000</td>\n",
       "      <td>0.000000</td>\n",
       "      <td>0.000000</td>\n",
       "      <td>...</td>\n",
       "      <td>1.000000</td>\n",
       "      <td>1.000000</td>\n",
       "      <td>1.000000</td>\n",
       "      <td>1.000000</td>\n",
       "      <td>2.000000</td>\n",
       "    </tr>\n",
       "    <tr>\n",
       "      <th>50%</th>\n",
       "      <td>0.012000</td>\n",
       "      <td>0.000000</td>\n",
       "      <td>1.000000</td>\n",
       "      <td>0.000000</td>\n",
       "      <td>1.000000</td>\n",
       "      <td>...</td>\n",
       "      <td>1.000000</td>\n",
       "      <td>1.000000</td>\n",
       "      <td>1.000000</td>\n",
       "      <td>1.000000</td>\n",
       "      <td>3.500000</td>\n",
       "    </tr>\n",
       "    <tr>\n",
       "      <th>75%</th>\n",
       "      <td>0.021000</td>\n",
       "      <td>0.000000</td>\n",
       "      <td>7.000000</td>\n",
       "      <td>21.714286</td>\n",
       "      <td>3.800000</td>\n",
       "      <td>...</td>\n",
       "      <td>2.000000</td>\n",
       "      <td>3.000000</td>\n",
       "      <td>3.000000</td>\n",
       "      <td>1.000000</td>\n",
       "      <td>5.000000</td>\n",
       "    </tr>\n",
       "    <tr>\n",
       "      <th>max</th>\n",
       "      <td>0.064000</td>\n",
       "      <td>5.480000</td>\n",
       "      <td>22.000000</td>\n",
       "      <td>15635.727273</td>\n",
       "      <td>22.500000</td>\n",
       "      <td>...</td>\n",
       "      <td>4.000000</td>\n",
       "      <td>4.000000</td>\n",
       "      <td>4.000000</td>\n",
       "      <td>4.000000</td>\n",
       "      <td>6.000000</td>\n",
       "    </tr>\n",
       "  </tbody>\n",
       "</table>\n",
       "<p>8 rows × 48 columns</p>\n",
       "</div>"
      ],
      "text/plain": [
       "        app_memory  battery_power  last_update_trigger  light_sensor  \\\n",
       "count  5664.000000    5664.000000          5664.000000   5664.000000   \n",
       "mean      0.012281      -0.082329             4.077860     65.701824   \n",
       "std       0.012065       0.414615             4.244402    429.619220   \n",
       "min       0.000000      -3.010000             1.000000      0.000000   \n",
       "25%       0.000000       0.000000             1.000000      0.000000   \n",
       "50%       0.012000       0.000000             1.000000      0.000000   \n",
       "75%       0.021000       0.000000             7.000000     21.714286   \n",
       "max       0.064000       5.480000            22.000000  15635.727273   \n",
       "\n",
       "       active_notification_count  ...  speakerphone  mobile_data   wifi_state  \\\n",
       "count                5664.000000  ...   5664.000000  5664.000000  5664.000000   \n",
       "mean                    2.571404  ...      1.686970     1.823976     1.871469   \n",
       "std                     3.731159  ...      0.981193     1.214247     1.205118   \n",
       "min                     0.000000  ...      1.000000     1.000000     1.000000   \n",
       "25%                     0.000000  ...      1.000000     1.000000     1.000000   \n",
       "50%                     1.000000  ...      1.000000     1.000000     1.000000   \n",
       "75%                     3.800000  ...      2.000000     3.000000     3.000000   \n",
       "max                    22.500000  ...      4.000000     4.000000     4.000000   \n",
       "\n",
       "        power_save    device_id  \n",
       "count  5664.000000  5664.000000  \n",
       "mean      1.228814     3.500000  \n",
       "std       0.667007     1.707976  \n",
       "min       1.000000     1.000000  \n",
       "25%       1.000000     2.000000  \n",
       "50%       1.000000     3.500000  \n",
       "75%       1.000000     5.000000  \n",
       "max       4.000000     6.000000  \n",
       "\n",
       "[8 rows x 48 columns]"
      ]
     },
     "execution_count": 9,
     "metadata": {},
     "output_type": "execute_result"
    }
   ],
   "source": [
    "df.describe()"
   ]
  },
  {
   "cell_type": "markdown",
   "metadata": {},
   "source": [
    "## Get features and labels"
   ]
  },
  {
   "cell_type": "code",
   "execution_count": 10,
   "metadata": {},
   "outputs": [
    {
     "data": {
      "text/html": [
       "<div>\n",
       "<style scoped>\n",
       "    .dataframe tbody tr th:only-of-type {\n",
       "        vertical-align: middle;\n",
       "    }\n",
       "\n",
       "    .dataframe tbody tr th {\n",
       "        vertical-align: top;\n",
       "    }\n",
       "\n",
       "    .dataframe thead th {\n",
       "        text-align: right;\n",
       "    }\n",
       "</style>\n",
       "<table border=\"1\" class=\"dataframe\">\n",
       "  <thead>\n",
       "    <tr style=\"text-align: right;\">\n",
       "      <th></th>\n",
       "      <th>app_memory</th>\n",
       "      <th>battery_power</th>\n",
       "      <th>last_update_trigger</th>\n",
       "      <th>light_sensor</th>\n",
       "      <th>active_notification_count</th>\n",
       "      <th>...</th>\n",
       "      <th>speakerphone</th>\n",
       "      <th>mobile_data</th>\n",
       "      <th>wifi_state</th>\n",
       "      <th>power_save</th>\n",
       "      <th>device_id</th>\n",
       "    </tr>\n",
       "    <tr>\n",
       "      <th>time</th>\n",
       "      <th></th>\n",
       "      <th></th>\n",
       "      <th></th>\n",
       "      <th></th>\n",
       "      <th></th>\n",
       "      <th></th>\n",
       "      <th></th>\n",
       "      <th></th>\n",
       "      <th></th>\n",
       "      <th></th>\n",
       "      <th></th>\n",
       "    </tr>\n",
       "  </thead>\n",
       "  <tbody>\n",
       "    <tr>\n",
       "      <th>2023-01-17 00:15:00</th>\n",
       "      <td>0.00000</td>\n",
       "      <td>0.000000</td>\n",
       "      <td>1</td>\n",
       "      <td>0.000000</td>\n",
       "      <td>0.00</td>\n",
       "      <td>...</td>\n",
       "      <td>1</td>\n",
       "      <td>1</td>\n",
       "      <td>1</td>\n",
       "      <td>1</td>\n",
       "      <td>1</td>\n",
       "    </tr>\n",
       "    <tr>\n",
       "      <th>2023-01-17 00:30:00</th>\n",
       "      <td>0.00000</td>\n",
       "      <td>0.000000</td>\n",
       "      <td>1</td>\n",
       "      <td>0.000000</td>\n",
       "      <td>0.00</td>\n",
       "      <td>...</td>\n",
       "      <td>1</td>\n",
       "      <td>1</td>\n",
       "      <td>1</td>\n",
       "      <td>1</td>\n",
       "      <td>1</td>\n",
       "    </tr>\n",
       "    <tr>\n",
       "      <th>2023-01-17 00:45:00</th>\n",
       "      <td>0.00000</td>\n",
       "      <td>0.000000</td>\n",
       "      <td>1</td>\n",
       "      <td>0.000000</td>\n",
       "      <td>0.00</td>\n",
       "      <td>...</td>\n",
       "      <td>1</td>\n",
       "      <td>1</td>\n",
       "      <td>1</td>\n",
       "      <td>1</td>\n",
       "      <td>1</td>\n",
       "    </tr>\n",
       "    <tr>\n",
       "      <th>2023-01-17 01:00:00</th>\n",
       "      <td>0.00000</td>\n",
       "      <td>0.000000</td>\n",
       "      <td>1</td>\n",
       "      <td>0.000000</td>\n",
       "      <td>0.00</td>\n",
       "      <td>...</td>\n",
       "      <td>1</td>\n",
       "      <td>1</td>\n",
       "      <td>1</td>\n",
       "      <td>1</td>\n",
       "      <td>1</td>\n",
       "    </tr>\n",
       "    <tr>\n",
       "      <th>2023-01-17 01:15:00</th>\n",
       "      <td>0.00000</td>\n",
       "      <td>0.000000</td>\n",
       "      <td>1</td>\n",
       "      <td>0.000000</td>\n",
       "      <td>0.00</td>\n",
       "      <td>...</td>\n",
       "      <td>1</td>\n",
       "      <td>1</td>\n",
       "      <td>1</td>\n",
       "      <td>1</td>\n",
       "      <td>1</td>\n",
       "    </tr>\n",
       "    <tr>\n",
       "      <th>...</th>\n",
       "      <td>...</td>\n",
       "      <td>...</td>\n",
       "      <td>...</td>\n",
       "      <td>...</td>\n",
       "      <td>...</td>\n",
       "      <td>...</td>\n",
       "      <td>...</td>\n",
       "      <td>...</td>\n",
       "      <td>...</td>\n",
       "      <td>...</td>\n",
       "      <td>...</td>\n",
       "    </tr>\n",
       "    <tr>\n",
       "      <th>2023-01-26 19:00:00</th>\n",
       "      <td>0.01175</td>\n",
       "      <td>-0.002500</td>\n",
       "      <td>3</td>\n",
       "      <td>21.333333</td>\n",
       "      <td>9.00</td>\n",
       "      <td>...</td>\n",
       "      <td>2</td>\n",
       "      <td>1</td>\n",
       "      <td>1</td>\n",
       "      <td>1</td>\n",
       "      <td>6</td>\n",
       "    </tr>\n",
       "    <tr>\n",
       "      <th>2023-01-26 19:15:00</th>\n",
       "      <td>0.01450</td>\n",
       "      <td>0.000000</td>\n",
       "      <td>10</td>\n",
       "      <td>13.500000</td>\n",
       "      <td>10.00</td>\n",
       "      <td>...</td>\n",
       "      <td>2</td>\n",
       "      <td>1</td>\n",
       "      <td>1</td>\n",
       "      <td>1</td>\n",
       "      <td>6</td>\n",
       "    </tr>\n",
       "    <tr>\n",
       "      <th>2023-01-26 19:30:00</th>\n",
       "      <td>0.01200</td>\n",
       "      <td>-0.003333</td>\n",
       "      <td>11</td>\n",
       "      <td>0.666667</td>\n",
       "      <td>11.75</td>\n",
       "      <td>...</td>\n",
       "      <td>2</td>\n",
       "      <td>1</td>\n",
       "      <td>1</td>\n",
       "      <td>1</td>\n",
       "      <td>6</td>\n",
       "    </tr>\n",
       "    <tr>\n",
       "      <th>2023-01-26 19:45:00</th>\n",
       "      <td>0.01150</td>\n",
       "      <td>0.000000</td>\n",
       "      <td>10</td>\n",
       "      <td>0.666667</td>\n",
       "      <td>16.00</td>\n",
       "      <td>...</td>\n",
       "      <td>2</td>\n",
       "      <td>1</td>\n",
       "      <td>1</td>\n",
       "      <td>1</td>\n",
       "      <td>6</td>\n",
       "    </tr>\n",
       "    <tr>\n",
       "      <th>2023-01-26 20:00:00</th>\n",
       "      <td>0.01150</td>\n",
       "      <td>0.000000</td>\n",
       "      <td>10</td>\n",
       "      <td>0.666667</td>\n",
       "      <td>16.00</td>\n",
       "      <td>...</td>\n",
       "      <td>2</td>\n",
       "      <td>1</td>\n",
       "      <td>1</td>\n",
       "      <td>1</td>\n",
       "      <td>6</td>\n",
       "    </tr>\n",
       "  </tbody>\n",
       "</table>\n",
       "<p>5664 rows × 48 columns</p>\n",
       "</div>"
      ],
      "text/plain": [
       "                     app_memory  battery_power  last_update_trigger  \\\n",
       "time                                                                  \n",
       "2023-01-17 00:15:00     0.00000       0.000000                    1   \n",
       "2023-01-17 00:30:00     0.00000       0.000000                    1   \n",
       "2023-01-17 00:45:00     0.00000       0.000000                    1   \n",
       "2023-01-17 01:00:00     0.00000       0.000000                    1   \n",
       "2023-01-17 01:15:00     0.00000       0.000000                    1   \n",
       "...                         ...            ...                  ...   \n",
       "2023-01-26 19:00:00     0.01175      -0.002500                    3   \n",
       "2023-01-26 19:15:00     0.01450       0.000000                   10   \n",
       "2023-01-26 19:30:00     0.01200      -0.003333                   11   \n",
       "2023-01-26 19:45:00     0.01150       0.000000                   10   \n",
       "2023-01-26 20:00:00     0.01150       0.000000                   10   \n",
       "\n",
       "                     light_sensor  active_notification_count  ...  \\\n",
       "time                                                          ...   \n",
       "2023-01-17 00:15:00      0.000000                       0.00  ...   \n",
       "2023-01-17 00:30:00      0.000000                       0.00  ...   \n",
       "2023-01-17 00:45:00      0.000000                       0.00  ...   \n",
       "2023-01-17 01:00:00      0.000000                       0.00  ...   \n",
       "2023-01-17 01:15:00      0.000000                       0.00  ...   \n",
       "...                           ...                        ...  ...   \n",
       "2023-01-26 19:00:00     21.333333                       9.00  ...   \n",
       "2023-01-26 19:15:00     13.500000                      10.00  ...   \n",
       "2023-01-26 19:30:00      0.666667                      11.75  ...   \n",
       "2023-01-26 19:45:00      0.666667                      16.00  ...   \n",
       "2023-01-26 20:00:00      0.666667                      16.00  ...   \n",
       "\n",
       "                     speakerphone  mobile_data  wifi_state  power_save  \\\n",
       "time                                                                     \n",
       "2023-01-17 00:15:00             1            1           1           1   \n",
       "2023-01-17 00:30:00             1            1           1           1   \n",
       "2023-01-17 00:45:00             1            1           1           1   \n",
       "2023-01-17 01:00:00             1            1           1           1   \n",
       "2023-01-17 01:15:00             1            1           1           1   \n",
       "...                           ...          ...         ...         ...   \n",
       "2023-01-26 19:00:00             2            1           1           1   \n",
       "2023-01-26 19:15:00             2            1           1           1   \n",
       "2023-01-26 19:30:00             2            1           1           1   \n",
       "2023-01-26 19:45:00             2            1           1           1   \n",
       "2023-01-26 20:00:00             2            1           1           1   \n",
       "\n",
       "                     device_id  \n",
       "time                            \n",
       "2023-01-17 00:15:00          1  \n",
       "2023-01-17 00:30:00          1  \n",
       "2023-01-17 00:45:00          1  \n",
       "2023-01-17 01:00:00          1  \n",
       "2023-01-17 01:15:00          1  \n",
       "...                        ...  \n",
       "2023-01-26 19:00:00          6  \n",
       "2023-01-26 19:15:00          6  \n",
       "2023-01-26 19:30:00          6  \n",
       "2023-01-26 19:45:00          6  \n",
       "2023-01-26 20:00:00          6  \n",
       "\n",
       "[5664 rows x 48 columns]"
      ]
     },
     "execution_count": 10,
     "metadata": {},
     "output_type": "execute_result"
    }
   ],
   "source": [
    "# get features\n",
    "X = df.drop(['last_used_app'], axis=1)\n",
    "X"
   ]
  },
  {
   "cell_type": "code",
   "execution_count": 11,
   "metadata": {},
   "outputs": [
    {
     "data": {
      "text/plain": [
       "time\n",
       "2023-01-17 00:15:00                         unknown\n",
       "2023-01-17 00:30:00                         unknown\n",
       "2023-01-17 00:45:00                         unknown\n",
       "2023-01-17 01:00:00                         unknown\n",
       "2023-01-17 01:15:00                         unknown\n",
       "                                   ...             \n",
       "2023-01-26 19:00:00    com.sec.android.app.launcher\n",
       "2023-01-26 19:15:00    com.sec.android.app.launcher\n",
       "2023-01-26 19:30:00    com.sec.android.app.launcher\n",
       "2023-01-26 19:45:00    com.sec.android.app.launcher\n",
       "2023-01-26 20:00:00    com.sec.android.app.launcher\n",
       "Name: last_used_app, Length: 5664, dtype: object"
      ]
     },
     "execution_count": 11,
     "metadata": {},
     "output_type": "execute_result"
    }
   ],
   "source": [
    "# get labels\n",
    "y = df['last_used_app']\n",
    "y"
   ]
  },
  {
   "cell_type": "markdown",
   "metadata": {},
   "source": [
    "## Split dataset into train and test sets"
   ]
  },
  {
   "cell_type": "code",
   "execution_count": 12,
   "metadata": {},
   "outputs": [
    {
     "name": "stdout",
     "output_type": "stream",
     "text": [
      "(3964, 48) (1700, 48) (3964,) (1700,)\n"
     ]
    }
   ],
   "source": [
    "from sklearn.model_selection import train_test_split\n",
    "\n",
    "# split X and y into training and testing sets\n",
    "X_train, X_test, y_train, y_test = train_test_split(X, y, test_size=0.30, random_state=42, stratify=y)\n",
    "\n",
    "#X_train, X_test, y_train, y_test = train_test_split(X, y, test_size=0.30, random_state=42)\n",
    "\n",
    "\n",
    "\n",
    "print(X_train.shape, X_test.shape, y_train.shape, y_test.shape)"
   ]
  },
  {
   "cell_type": "code",
   "execution_count": null,
   "metadata": {},
   "outputs": [],
   "source": []
  },
  {
   "cell_type": "code",
   "execution_count": null,
   "metadata": {},
   "outputs": [],
   "source": []
  },
  {
   "cell_type": "markdown",
   "metadata": {},
   "source": [
    "# AdaBoost Classifier"
   ]
  },
  {
   "cell_type": "code",
   "execution_count": 19,
   "metadata": {},
   "outputs": [
    {
     "name": "stdout",
     "output_type": "stream",
     "text": [
      "[[  0   0   0 ...   0   0   0]\n",
      " [  0   0   0 ...   0   0   0]\n",
      " [  0   0   0 ...   0   0   0]\n",
      " ...\n",
      " [  0   0   0 ...   0   0   0]\n",
      " [  0   0   0 ...   0 663   0]\n",
      " [  0   0   0 ...   0   0   0]]\n",
      "0.4435294117647059\n"
     ]
    }
   ],
   "source": [
    "from sklearn.ensemble import AdaBoostClassifier\n",
    "abc = AdaBoostClassifier()\n",
    "abc.fit(X_train, y_train)\n",
    "\n",
    "y_pred_abc = abc.predict(X_test)\n",
    "\n",
    "from sklearn.metrics import confusion_matrix, accuracy_score\n",
    "cm = confusion_matrix(y_test, y_pred_abc)\n",
    "print (cm)\n",
    "acc_abc = accuracy_score(y_test, y_pred_abc)\n",
    "print (acc_abc)"
   ]
  },
  {
   "cell_type": "code",
   "execution_count": null,
   "metadata": {},
   "outputs": [],
   "source": []
  },
  {
   "cell_type": "markdown",
   "metadata": {},
   "source": [
    "# Naïve Bayes"
   ]
  },
  {
   "cell_type": "code",
   "execution_count": 24,
   "metadata": {},
   "outputs": [
    {
     "data": {
      "text/plain": [
       "GaussianNB()"
      ]
     },
     "execution_count": 24,
     "metadata": {},
     "output_type": "execute_result"
    }
   ],
   "source": [
    "from sklearn.naive_bayes import GaussianNB\n",
    "nb = GaussianNB()\n",
    "nb.fit(X_train, y_train)"
   ]
  },
  {
   "cell_type": "code",
   "execution_count": 25,
   "metadata": {},
   "outputs": [],
   "source": [
    "y_pred = nb.predict(X_test)"
   ]
  },
  {
   "cell_type": "code",
   "execution_count": 26,
   "metadata": {},
   "outputs": [
    {
     "name": "stdout",
     "output_type": "stream",
     "text": [
      "[[  0   0   0 ...   0   0   0]\n",
      " [  0   6   0 ...   0   0   0]\n",
      " [  0   0   0 ...   0   0   0]\n",
      " ...\n",
      " [  0   0   0 ...   1   0   0]\n",
      " [  0   0   0 ...   1 665   0]\n",
      " [  0   0   0 ...   0   0   1]]\n",
      "0.6394117647058823\n"
     ]
    }
   ],
   "source": [
    "from sklearn.metrics import confusion_matrix, accuracy_score\n",
    "cm = confusion_matrix(y_test, y_pred)\n",
    "print(cm)\n",
    "acc_nb = accuracy_score(y_test, y_pred)\n",
    "print(acc_nb)"
   ]
  },
  {
   "cell_type": "code",
   "execution_count": null,
   "metadata": {},
   "outputs": [],
   "source": []
  },
  {
   "cell_type": "markdown",
   "metadata": {},
   "source": [
    "# Kernel SVM (Support Vector Machine)"
   ]
  },
  {
   "cell_type": "code",
   "execution_count": 27,
   "metadata": {},
   "outputs": [
    {
     "data": {
      "text/plain": [
       "SVC(random_state=0)"
      ]
     },
     "execution_count": 27,
     "metadata": {},
     "output_type": "execute_result"
    }
   ],
   "source": [
    "from sklearn.svm import SVC\n",
    "svc_rbf = SVC(kernel = 'rbf', random_state = 0)\n",
    "svc_rbf.fit(X_train, y_train)"
   ]
  },
  {
   "cell_type": "code",
   "execution_count": 28,
   "metadata": {},
   "outputs": [],
   "source": [
    "y_pred_svc_rbf = svc_rbf.predict(X_test)"
   ]
  },
  {
   "cell_type": "code",
   "execution_count": 29,
   "metadata": {},
   "outputs": [
    {
     "name": "stdout",
     "output_type": "stream",
     "text": [
      "[[  0   0   0 ...   0   0   0]\n",
      " [  0   0   0 ...   0   0   0]\n",
      " [  0   0   0 ...   0   0   0]\n",
      " ...\n",
      " [  0   0   0 ...   0   0   0]\n",
      " [  0   0   0 ...   0 666   0]\n",
      " [  0   0   0 ...   0   0   0]]\n",
      "0.5264705882352941\n"
     ]
    }
   ],
   "source": [
    "from sklearn.metrics import confusion_matrix, accuracy_score\n",
    "cm = confusion_matrix(y_test, y_pred_svc_rbf)\n",
    "print (cm)\n",
    "acc_svc_rbf = accuracy_score(y_test, y_pred_svc_rbf)\n",
    "print (acc_svc_rbf)"
   ]
  },
  {
   "cell_type": "code",
   "execution_count": null,
   "metadata": {},
   "outputs": [],
   "source": []
  },
  {
   "cell_type": "markdown",
   "metadata": {},
   "source": [
    "# Classification models"
   ]
  },
  {
   "cell_type": "code",
   "execution_count": 31,
   "metadata": {
    "collapsed": false,
    "jupyter": {
     "outputs_hidden": false
    }
   },
   "outputs": [],
   "source": [
    "scores = {}"
   ]
  },
  {
   "cell_type": "markdown",
   "metadata": {},
   "source": [
    "## Decision tree Classifier"
   ]
  },
  {
   "cell_type": "code",
   "execution_count": 32,
   "metadata": {
    "collapsed": false,
    "jupyter": {
     "outputs_hidden": false
    }
   },
   "outputs": [
    {
     "data": {
      "text/plain": [
       "DecisionTreeClassifier(max_depth=5, random_state=0)"
      ]
     },
     "execution_count": 32,
     "metadata": {},
     "output_type": "execute_result"
    }
   ],
   "source": [
    "from sklearn.tree import DecisionTreeClassifier\n",
    "\n",
    "# build decision tree classifier\n",
    "clf_gini = DecisionTreeClassifier(criterion='gini', max_depth=5, random_state=0)\n",
    "# train decision tree\n",
    "clf_gini.fit(X_train, y_train)"
   ]
  },
  {
   "cell_type": "code",
   "execution_count": null,
   "metadata": {
    "collapsed": false,
    "jupyter": {
     "outputs_hidden": false
    }
   },
   "outputs": [],
   "source": [
    "from sklearn.metrics import classification_report\n",
    "from sklearn.metrics import ConfusionMatrixDisplay\n",
    "\n",
    "# make prediction\n",
    "y_pred_clf_gini = clf_gini.predict(X_test)\n",
    "print(classification_report(y_test, y_pred_clf_gini))\n",
    "print(f'Train accuracy:\\t {clf_gini.score(X_train, y_train)}')\n",
    "print(f'Test accuracy:\\t {clf_gini.score(X_test, y_test)}')\n",
    "scores['Decision Tree'] =  clf_gini.score(X_test, y_test)\n",
    "\n",
    "ConfusionMatrixDisplay.from_predictions(y_test, y_pred_clf_gini)"
   ]
  },
  {
   "cell_type": "markdown",
   "metadata": {},
   "source": [
    "## Random Forest"
   ]
  },
  {
   "cell_type": "code",
   "execution_count": 35,
   "metadata": {
    "collapsed": false,
    "jupyter": {
     "outputs_hidden": false
    }
   },
   "outputs": [
    {
     "data": {
      "text/plain": [
       "RandomForestClassifier()"
      ]
     },
     "execution_count": 35,
     "metadata": {},
     "output_type": "execute_result"
    }
   ],
   "source": [
    "from sklearn.ensemble import RandomForestClassifier\n",
    "\n",
    "# build random forest classifier\n",
    "rfc = RandomForestClassifier()\n",
    "# train random forest\n",
    "rfc.fit(X_train, y_train)"
   ]
  },
  {
   "cell_type": "code",
   "execution_count": null,
   "metadata": {
    "collapsed": false,
    "jupyter": {
     "outputs_hidden": false
    }
   },
   "outputs": [],
   "source": [
    "# make prediction\n",
    "y_pred_rfc = rfc.predict(X_test)\n",
    "print(classification_report(y_test, y_pred_rfc))\n",
    "print(f'Train accuracy:\\t {rfc.score(X_train, y_train)}')\n",
    "print(f'Test accuracy:\\t {rfc.score(X_test, y_test)}')\n",
    "scores['Random Forest'] = rfc.score(X_test, y_test)\n",
    "\n",
    "ConfusionMatrixDisplay.from_predictions(y_test, y_pred_rfc)"
   ]
  },
  {
   "cell_type": "markdown",
   "metadata": {},
   "source": [
    "## KNeighbors Classifier"
   ]
  },
  {
   "cell_type": "code",
   "execution_count": 38,
   "metadata": {
    "collapsed": false,
    "jupyter": {
     "outputs_hidden": false
    }
   },
   "outputs": [
    {
     "data": {
      "text/plain": [
       "KNeighborsClassifier(n_neighbors=2)"
      ]
     },
     "execution_count": 38,
     "metadata": {},
     "output_type": "execute_result"
    }
   ],
   "source": [
    "from sklearn.neighbors import KNeighborsClassifier\n",
    "\n",
    "# build KNeighbors classifier\n",
    "neigh = KNeighborsClassifier(n_neighbors=2)\n",
    "# train KNeighbors\n",
    "neigh.fit(X_train, y_train)"
   ]
  },
  {
   "cell_type": "code",
   "execution_count": null,
   "metadata": {
    "collapsed": false,
    "jupyter": {
     "outputs_hidden": false
    }
   },
   "outputs": [],
   "source": [
    "# make prediction\n",
    "y_pred_neigh = neigh.predict(X_test)\n",
    "print(classification_report(y_test, y_pred_neigh))\n",
    "print(f'Train accuracy:\\t {neigh.score(X_train, y_train)}')\n",
    "print(f'Test accuracy:\\t {neigh.score(X_test, y_test)}')\n",
    "scores['KNN'] =  neigh.score(X_test, y_test)\n",
    "\n",
    "ConfusionMatrixDisplay.from_predictions(y_test, y_pred_neigh)"
   ]
  },
  {
   "cell_type": "markdown",
   "metadata": {},
   "source": [
    "## MLP"
   ]
  },
  {
   "cell_type": "code",
   "execution_count": 41,
   "metadata": {
    "collapsed": false,
    "jupyter": {
     "outputs_hidden": false
    }
   },
   "outputs": [
    {
     "data": {
      "text/plain": [
       "[<matplotlib.lines.Line2D at 0x1b783667a60>]"
      ]
     },
     "execution_count": 41,
     "metadata": {},
     "output_type": "execute_result"
    },
    {
     "data": {
      "image/png": "[encoded data removed]",
      "text/plain": [
       "<Figure size 640x480 with 1 Axes>"
      ]
     },
     "metadata": {},
     "output_type": "display_data"
    }
   ],
   "source": [
    "from sklearn.neural_network import MLPClassifier\n",
    "from matplotlib import pyplot as plt\n",
    "\n",
    "# build MLP classifier\n",
    "model = MLPClassifier(hidden_layer_sizes=(200, 40, 10), activation='relu', solver='adam', max_iter=1000)\n",
    "# train model\n",
    "model.fit(X_train, y_train)\n",
    "plt.plot(model.loss_curve_)"
   ]
  },
  {
   "cell_type": "code",
   "execution_count": null,
   "metadata": {
    "collapsed": false,
    "jupyter": {
     "outputs_hidden": false
    }
   },
   "outputs": [],
   "source": [
    "# make prediction\n",
    "y_pred_mlp = model.predict(X_test)\n",
    "print(classification_report(y_test, y_pred_mlp))\n",
    "print(f'Train accuracy:\\t {model.score(X_train, y_train)}')\n",
    "print(f'Test accuracy:\\t {model.score(X_test, y_test)}')\n",
    "scores['MLP'] =  model.score(X_test, y_test)\n",
    "\n",
    "ConfusionMatrixDisplay.from_predictions(y_test, y_pred_mlp)"
   ]
  },
  {
   "cell_type": "markdown",
   "metadata": {},
   "source": [
    "# PCA or LDA Usage\n",
    "\n",
    "Our Dataset is presented with several datapoints so we can consider the fact that our dataset is a multi-sensor data fusion application, the need to keep the computational load low is very important, a low-dimensional common representational format may be the answer, to apply a dimension-reducing, or subspace technique to the raw input data. "
   ]
  },
  {
   "cell_type": "markdown",
   "metadata": {},
   "source": [
    "## PCA Classifier"
   ]
  },
  {
   "cell_type": "code",
   "execution_count": 43,
   "metadata": {
    "collapsed": false,
    "jupyter": {
     "outputs_hidden": false
    }
   },
   "outputs": [],
   "source": [
    "scores_pca = {}"
   ]
  },
  {
   "cell_type": "code",
   "execution_count": 44,
   "metadata": {
    "collapsed": false,
    "jupyter": {
     "outputs_hidden": false
    }
   },
   "outputs": [
    {
     "data": {
      "text/plain": [
       "((5664, 3), (5664,))"
      ]
     },
     "execution_count": 44,
     "metadata": {},
     "output_type": "execute_result"
    }
   ],
   "source": [
    "from sklearn.decomposition import PCA\n",
    "\n",
    "pca = PCA(n_components=3)\n",
    "X_pca = pca.fit_transform(X)\n",
    "\n",
    "X_pca.shape, y.shape"
   ]
  },
  {
   "cell_type": "markdown",
   "metadata": {},
   "source": [
    "PCA variance_ratio\n",
    "The percentage of the explained variance is: explained_variance_ratio_\n",
    "\n",
    "The variance i.e. the eigenvalues of the covariance matrix is: explained_variance_\n",
    "\n",
    "Formula: explained_variance_ratio_ = explained_variance_ / np.sum(explained_variance_)"
   ]
  },
  {
   "cell_type": "code",
   "execution_count": 45,
   "metadata": {
    "collapsed": false,
    "jupyter": {
     "outputs_hidden": false
    }
   },
   "outputs": [
    {
     "data": {
      "text/plain": [
       "array([9.94993809e-01, 4.73875485e-03, 1.93734560e-04])"
      ]
     },
     "execution_count": 45,
     "metadata": {},
     "output_type": "execute_result"
    }
   ],
   "source": [
    "pca.explained_variance_ratio_"
   ]
  },
  {
   "cell_type": "code",
   "execution_count": 46,
   "metadata": {
    "collapsed": false,
    "jupyter": {
     "outputs_hidden": false
    }
   },
   "outputs": [
    {
     "data": {
      "text/plain": [
       "0.999926298857356"
      ]
     },
     "execution_count": 46,
     "metadata": {},
     "output_type": "execute_result"
    }
   ],
   "source": [
    "pca.explained_variance_ratio_.sum()"
   ]
  },
  {
   "cell_type": "code",
   "execution_count": 47,
   "metadata": {
    "collapsed": false,
    "jupyter": {
     "outputs_hidden": false
    }
   },
   "outputs": [
    {
     "name": "stdout",
     "output_type": "stream",
     "text": [
      "(3964, 3) (1700, 3) (3964,) (1700,)\n"
     ]
    }
   ],
   "source": [
    "# split X and y into training and testing sets\n",
    "X_train_pca, X_test_pca, y_train_pca, y_test_pca = train_test_split(X_pca, y, test_size=0.30, random_state=42, stratify=y)\n",
    "\n",
    "print(X_train_pca.shape, X_test_pca.shape, y_train_pca.shape, y_test_pca.shape)"
   ]
  },
  {
   "cell_type": "code",
   "execution_count": null,
   "metadata": {},
   "outputs": [],
   "source": []
  },
  {
   "cell_type": "code",
   "execution_count": null,
   "metadata": {},
   "outputs": [],
   "source": []
  },
  {
   "cell_type": "markdown",
   "metadata": {},
   "source": [
    "# AdaBoost Classifier with PCA"
   ]
  },
  {
   "cell_type": "code",
   "execution_count": 48,
   "metadata": {},
   "outputs": [
    {
     "name": "stdout",
     "output_type": "stream",
     "text": [
      "[[  0   0   0 ...   0   0   0]\n",
      " [  0   0   0 ...   0   0   0]\n",
      " [  0   0   0 ...   0   0   0]\n",
      " ...\n",
      " [  0   0   0 ...   0   0   0]\n",
      " [  0   0   0 ...   0 663   0]\n",
      " [  0   0   0 ...   0   0   0]]\n",
      "0.5135294117647059\n"
     ]
    }
   ],
   "source": [
    "from sklearn.ensemble import AdaBoostClassifier\n",
    "abc = AdaBoostClassifier()\n",
    "abc.fit(X_train_pca, y_train_pca)\n",
    "\n",
    "y_pred_abc = abc.predict(X_test_pca)\n",
    "\n",
    "from sklearn.metrics import confusion_matrix, accuracy_score\n",
    "cm = confusion_matrix(y_test_pca, y_pred_abc)\n",
    "print (cm)\n",
    "acc_abc = accuracy_score(y_test_pca, y_pred_abc)\n",
    "print (acc_abc)"
   ]
  },
  {
   "cell_type": "code",
   "execution_count": null,
   "metadata": {},
   "outputs": [],
   "source": []
  },
  {
   "cell_type": "code",
   "execution_count": null,
   "metadata": {},
   "outputs": [],
   "source": []
  },
  {
   "cell_type": "markdown",
   "metadata": {},
   "source": [
    "# Naïve Bayes with pca"
   ]
  },
  {
   "cell_type": "code",
   "execution_count": 49,
   "metadata": {},
   "outputs": [
    {
     "data": {
      "text/plain": [
       "GaussianNB()"
      ]
     },
     "execution_count": 49,
     "metadata": {},
     "output_type": "execute_result"
    }
   ],
   "source": [
    "from sklearn.naive_bayes import GaussianNB\n",
    "nb = GaussianNB()\n",
    "nb.fit(X_train_pca, y_train_pca)"
   ]
  },
  {
   "cell_type": "code",
   "execution_count": 50,
   "metadata": {},
   "outputs": [],
   "source": [
    "y_pred_pca = nb.predict(X_test_pca)"
   ]
  },
  {
   "cell_type": "code",
   "execution_count": 51,
   "metadata": {},
   "outputs": [
    {
     "name": "stdout",
     "output_type": "stream",
     "text": [
      "[[  0   0   0 ...   0   0   0]\n",
      " [  0   6   0 ...   0   0   0]\n",
      " [  0   0   0 ...   0   0   0]\n",
      " ...\n",
      " [  0   0   0 ...   0   0   0]\n",
      " [  0   0   0 ...   0 665   0]\n",
      " [  0   0   0 ...   0   0   0]]\n",
      "0.5264705882352941\n"
     ]
    }
   ],
   "source": [
    "from sklearn.metrics import confusion_matrix, accuracy_score\n",
    "cm_pca = confusion_matrix(y_test_pca, y_pred_pca)\n",
    "print(cm_pca)\n",
    "acc_nb_pca = accuracy_score(y_test, y_pred_pca)\n",
    "print(acc_nb_pca)"
   ]
  },
  {
   "cell_type": "code",
   "execution_count": null,
   "metadata": {},
   "outputs": [],
   "source": []
  },
  {
   "cell_type": "code",
   "execution_count": null,
   "metadata": {},
   "outputs": [],
   "source": []
  },
  {
   "cell_type": "markdown",
   "metadata": {},
   "source": [
    "# Kernel SVM (Support Vector Machine) with pca"
   ]
  },
  {
   "cell_type": "code",
   "execution_count": 52,
   "metadata": {},
   "outputs": [
    {
     "data": {
      "text/plain": [
       "SVC(random_state=0)"
      ]
     },
     "execution_count": 52,
     "metadata": {},
     "output_type": "execute_result"
    }
   ],
   "source": [
    "from sklearn.svm import SVC\n",
    "svc_rbf = SVC(kernel = 'rbf', random_state = 0)\n",
    "svc_rbf.fit(X_train_pca, y_train_pca)"
   ]
  },
  {
   "cell_type": "code",
   "execution_count": 53,
   "metadata": {},
   "outputs": [],
   "source": [
    "y_pred_svc_rbf_pca = svc_rbf.predict(X_test_pca)"
   ]
  },
  {
   "cell_type": "code",
   "execution_count": 54,
   "metadata": {},
   "outputs": [
    {
     "name": "stdout",
     "output_type": "stream",
     "text": [
      "[[  0   0   0 ...   0   0   0]\n",
      " [  0   0   0 ...   0   0   0]\n",
      " [  0   0   0 ...   0   0   0]\n",
      " ...\n",
      " [  0   0   0 ...   0   0   0]\n",
      " [  0   0   0 ...   0 666   0]\n",
      " [  0   0   0 ...   0   0   0]]\n",
      "0.5229411764705882\n"
     ]
    }
   ],
   "source": [
    "from sklearn.metrics import confusion_matrix, accuracy_score\n",
    "cm_pca = confusion_matrix(y_test_pca, y_pred_svc_rbf_pca)\n",
    "print (cm_pca)\n",
    "acc_svc_rbf_pca = accuracy_score(y_test_pca, y_pred_svc_rbf_pca)\n",
    "print (acc_svc_rbf_pca)"
   ]
  },
  {
   "cell_type": "code",
   "execution_count": null,
   "metadata": {},
   "outputs": [],
   "source": []
  },
  {
   "cell_type": "code",
   "execution_count": null,
   "metadata": {},
   "outputs": [],
   "source": []
  },
  {
   "cell_type": "code",
   "execution_count": null,
   "metadata": {},
   "outputs": [],
   "source": []
  },
  {
   "cell_type": "code",
   "execution_count": null,
   "metadata": {},
   "outputs": [],
   "source": []
  },
  {
   "cell_type": "markdown",
   "metadata": {},
   "source": [
    "### Decision tree"
   ]
  },
  {
   "cell_type": "code",
   "execution_count": 27,
   "metadata": {
    "collapsed": false,
    "jupyter": {
     "outputs_hidden": false
    }
   },
   "outputs": [
    {
     "data": {
      "text/plain": [
       "DecisionTreeClassifier(max_depth=5, random_state=0)"
      ]
     },
     "execution_count": 27,
     "metadata": {},
     "output_type": "execute_result"
    }
   ],
   "source": [
    "# build decision tree classifier\n",
    "clf_gini_pca = DecisionTreeClassifier(criterion='gini', max_depth=5, random_state=0)\n",
    "# train decision tree\n",
    "clf_gini_pca.fit(X_train_pca, y_train_pca)"
   ]
  },
  {
   "cell_type": "code",
   "execution_count": 28,
   "metadata": {
    "collapsed": false,
    "jupyter": {
     "outputs_hidden": false
    }
   },
   "outputs": [
    {
     "name": "stdout",
     "output_type": "stream",
     "text": [
      "               precision    recall  f1-score   support\n",
      "\n",
      "Entertainment       0.58      0.34      0.43       222\n",
      "   Navigating       0.71      0.41      0.52       271\n",
      "         Work       0.64      0.87      0.74       537\n",
      "  unavaliable       0.97      0.99      0.98       670\n",
      "\n",
      "     accuracy                           0.77      1700\n",
      "    macro avg       0.72      0.65      0.67      1700\n",
      " weighted avg       0.77      0.77      0.76      1700\n",
      "\n",
      "Train accuracy:\t 0.777497477295661\n",
      "Test accuracy:\t 0.7747058823529411\n"
     ]
    },
    {
     "data": {
      "text/plain": [
       "<sklearn.metrics._plot.confusion_matrix.ConfusionMatrixDisplay at 0x1aa612bd5b0>"
      ]
     },
     "execution_count": 28,
     "metadata": {},
     "output_type": "execute_result"
    },
    {
     "data": {
      "image/png": "[encoded data removed]",
      "text/plain": [
       "<Figure size 432x288 with 2 Axes>"
      ]
     },
     "metadata": {
      "needs_background": "light"
     },
     "output_type": "display_data"
    }
   ],
   "source": [
    "# make prediction\n",
    "y_pred_clf_gini_pca = clf_gini_pca.predict(X_test_pca)\n",
    "print(classification_report(y_test_pca, y_pred_clf_gini_pca))\n",
    "print(f'Train accuracy:\\t {clf_gini_pca.score(X_train_pca, y_train_pca)}')\n",
    "print(f'Test accuracy:\\t {clf_gini_pca.score(X_test_pca, y_test_pca)}')\n",
    "scores_pca['Decision Tree PCA'] =  clf_gini_pca.score(X_test_pca, y_test_pca)\n",
    "\n",
    "ConfusionMatrixDisplay.from_predictions(y_test_pca, y_pred_clf_gini_pca)"
   ]
  },
  {
   "cell_type": "markdown",
   "metadata": {},
   "source": [
    "### Random Forest"
   ]
  },
  {
   "cell_type": "code",
   "execution_count": 29,
   "metadata": {
    "collapsed": false,
    "jupyter": {
     "outputs_hidden": false
    }
   },
   "outputs": [
    {
     "data": {
      "text/plain": [
       "RandomForestClassifier(n_estimators=5, n_jobs=2, random_state=1)"
      ]
     },
     "execution_count": 29,
     "metadata": {},
     "output_type": "execute_result"
    }
   ],
   "source": [
    "# build random forest classifier\n",
    "rfc_pca = RandomForestClassifier(criterion='gini', n_estimators=5, random_state=1, n_jobs=2)\n",
    "# train random forest\n",
    "rfc_pca.fit(X_train_pca, y_train_pca)"
   ]
  },
  {
   "cell_type": "code",
   "execution_count": 30,
   "metadata": {
    "collapsed": false,
    "jupyter": {
     "outputs_hidden": false
    }
   },
   "outputs": [
    {
     "name": "stdout",
     "output_type": "stream",
     "text": [
      "               precision    recall  f1-score   support\n",
      "\n",
      "Entertainment       0.77      0.80      0.78       222\n",
      "   Navigating       0.84      0.84      0.84       271\n",
      "         Work       0.86      0.85      0.86       537\n",
      "  unavaliable       0.99      0.98      0.98       670\n",
      "\n",
      "     accuracy                           0.89      1700\n",
      "    macro avg       0.86      0.87      0.87      1700\n",
      " weighted avg       0.90      0.89      0.89      1700\n",
      "\n",
      "Train accuracy:\t 0.9846115035317861\n",
      "Test accuracy:\t 0.8941176470588236\n"
     ]
    },
    {
     "data": {
      "text/plain": [
       "<sklearn.metrics._plot.confusion_matrix.ConfusionMatrixDisplay at 0x1aa61370250>"
      ]
     },
     "execution_count": 30,
     "metadata": {},
     "output_type": "execute_result"
    },
    {
     "data": {
      "image/png": "[encoded data removed]",
      "text/plain": [
       "<Figure size 432x288 with 2 Axes>"
      ]
     },
     "metadata": {
      "needs_background": "light"
     },
     "output_type": "display_data"
    }
   ],
   "source": [
    "# make prediction\n",
    "y_pred_rfc_pca = rfc_pca.predict(X_test_pca)\n",
    "print(classification_report(y_test_pca, y_pred_rfc_pca))\n",
    "print(f'Train accuracy:\\t {rfc_pca.score(X_train_pca, y_train_pca)}')\n",
    "print(f'Test accuracy:\\t {rfc_pca.score(X_test_pca, y_test_pca)}')\n",
    "scores_pca['Random Forest PCA'] = rfc_pca.score(X_test_pca, y_test_pca)\n",
    "\n",
    "ConfusionMatrixDisplay.from_predictions(y_test_pca, y_pred_rfc_pca)"
   ]
  },
  {
   "cell_type": "markdown",
   "metadata": {},
   "source": [
    "### KNeighbors Classifier"
   ]
  },
  {
   "cell_type": "code",
   "execution_count": 31,
   "metadata": {
    "collapsed": false,
    "jupyter": {
     "outputs_hidden": false
    }
   },
   "outputs": [
    {
     "data": {
      "text/plain": [
       "KNeighborsClassifier(n_neighbors=2)"
      ]
     },
     "execution_count": 31,
     "metadata": {},
     "output_type": "execute_result"
    }
   ],
   "source": [
    "# build KNeighbors classifier\n",
    "neigh_pca = KNeighborsClassifier(n_neighbors=2)\n",
    "# train KNeighbors\n",
    "neigh_pca.fit(X_train_pca, y_train_pca)"
   ]
  },
  {
   "cell_type": "code",
   "execution_count": 32,
   "metadata": {
    "collapsed": false,
    "jupyter": {
     "outputs_hidden": false
    }
   },
   "outputs": [
    {
     "name": "stdout",
     "output_type": "stream",
     "text": [
      "               precision    recall  f1-score   support\n",
      "\n",
      "Entertainment       0.77      0.89      0.83       222\n",
      "   Navigating       0.82      0.87      0.85       271\n",
      "         Work       0.88      0.84      0.86       537\n",
      "  unavaliable       0.99      0.95      0.97       670\n",
      "\n",
      "     accuracy                           0.90      1700\n",
      "    macro avg       0.87      0.89      0.88      1700\n",
      " weighted avg       0.90      0.90      0.90      1700\n",
      "\n",
      "Train accuracy:\t 0.9513118062563067\n",
      "Test accuracy:\t 0.8952941176470588\n"
     ]
    },
    {
     "data": {
      "text/plain": [
       "<sklearn.metrics._plot.confusion_matrix.ConfusionMatrixDisplay at 0x1aa614441c0>"
      ]
     },
     "execution_count": 32,
     "metadata": {},
     "output_type": "execute_result"
    },
    {
     "data": {
      "image/png": "[encoded data removed]",
      "text/plain": [
       "<Figure size 432x288 with 2 Axes>"
      ]
     },
     "metadata": {
      "needs_background": "light"
     },
     "output_type": "display_data"
    }
   ],
   "source": [
    "# make prediction\n",
    "y_pred_neigh_pca = neigh_pca.predict(X_test_pca)\n",
    "print(classification_report(y_test_pca, y_pred_neigh_pca))\n",
    "print(f'Train accuracy:\\t {neigh_pca.score(X_train_pca, y_train_pca)}')\n",
    "print(f'Test accuracy:\\t {neigh_pca.score(X_test_pca, y_test_pca)}')\n",
    "scores_pca['KNN PCA'] =  neigh_pca.score(X_test_pca, y_test_pca)\n",
    "\n",
    "ConfusionMatrixDisplay.from_predictions(y_test_pca, y_pred_neigh_pca)"
   ]
  },
  {
   "cell_type": "markdown",
   "metadata": {},
   "source": [
    "### MLP"
   ]
  },
  {
   "cell_type": "code",
   "execution_count": 33,
   "metadata": {
    "collapsed": false,
    "jupyter": {
     "outputs_hidden": false
    }
   },
   "outputs": [
    {
     "data": {
      "text/plain": [
       "[<matplotlib.lines.Line2D at 0x1aa615651f0>]"
      ]
     },
     "execution_count": 33,
     "metadata": {},
     "output_type": "execute_result"
    },
    {
     "data": {
      "image/png": "[encoded data removed]",
      "text/plain": [
       "<Figure size 432x288 with 1 Axes>"
      ]
     },
     "metadata": {
      "needs_background": "light"
     },
     "output_type": "display_data"
    }
   ],
   "source": [
    "# build MLP classifier\n",
    "model_pca = MLPClassifier(hidden_layer_sizes=(200, 40, 10), activation='relu', solver='adam', max_iter=1000)\n",
    "# train model\n",
    "model_pca.fit(X_train_pca, y_train_pca)\n",
    "plt.plot(model_pca.loss_curve_)"
   ]
  },
  {
   "cell_type": "code",
   "execution_count": 34,
   "metadata": {
    "collapsed": false,
    "jupyter": {
     "outputs_hidden": false
    }
   },
   "outputs": [
    {
     "name": "stdout",
     "output_type": "stream",
     "text": [
      "               precision    recall  f1-score   support\n",
      "\n",
      "Entertainment       0.00      0.00      0.00       222\n",
      "   Navigating       0.36      0.48      0.41       271\n",
      "         Work       0.76      0.18      0.29       537\n",
      "  unavaliable       0.55      1.00      0.71       670\n",
      "\n",
      "     accuracy                           0.53      1700\n",
      "    macro avg       0.42      0.41      0.35      1700\n",
      " weighted avg       0.51      0.53      0.44      1700\n",
      "\n",
      "Train accuracy:\t 0.5211907164480323\n",
      "Test accuracy:\t 0.5258823529411765\n"
     ]
    },
    {
     "name": "stderr",
     "output_type": "stream",
     "text": [
      "C:\\Users\\lemos\\anaconda3\\lib\\site-packages\\sklearn\\metrics\\_classification.py:1318: UndefinedMetricWarning: Precision and F-score are ill-defined and being set to 0.0 in labels with no predicted samples. Use `zero_division` parameter to control this behavior.\n",
      "  _warn_prf(average, modifier, msg_start, len(result))\n",
      "C:\\Users\\lemos\\anaconda3\\lib\\site-packages\\sklearn\\metrics\\_classification.py:1318: UndefinedMetricWarning: Precision and F-score are ill-defined and being set to 0.0 in labels with no predicted samples. Use `zero_division` parameter to control this behavior.\n",
      "  _warn_prf(average, modifier, msg_start, len(result))\n",
      "C:\\Users\\lemos\\anaconda3\\lib\\site-packages\\sklearn\\metrics\\_classification.py:1318: UndefinedMetricWarning: Precision and F-score are ill-defined and being set to 0.0 in labels with no predicted samples. Use `zero_division` parameter to control this behavior.\n",
      "  _warn_prf(average, modifier, msg_start, len(result))\n"
     ]
    },
    {
     "data": {
      "text/plain": [
       "<sklearn.metrics._plot.confusion_matrix.ConfusionMatrixDisplay at 0x1aa615737f0>"
      ]
     },
     "execution_count": 34,
     "metadata": {},
     "output_type": "execute_result"
    },
    {
     "data": {
      "image/png": "[encoded data removed]",
      "text/plain": [
       "<Figure size 432x288 with 2 Axes>"
      ]
     },
     "metadata": {
      "needs_background": "light"
     },
     "output_type": "display_data"
    }
   ],
   "source": [
    "# make prediction\n",
    "y_pred_mlp_pca = model_pca.predict(X_test_pca)\n",
    "print(classification_report(y_test_pca, y_pred_mlp_pca))\n",
    "print(f'Train accuracy:\\t {model_pca.score(X_train_pca, y_train_pca)}')\n",
    "print(f'Test accuracy:\\t {model_pca.score(X_test_pca, y_test_pca)}')\n",
    "scores_pca['MLP_PCA'] =  model_pca.score(X_test_pca, y_test_pca)\n",
    "\n",
    "ConfusionMatrixDisplay.from_predictions(y_test_pca, y_pred_mlp_pca)"
   ]
  },
  {
   "cell_type": "markdown",
   "metadata": {},
   "source": [
    "## LDA Classifier"
   ]
  },
  {
   "cell_type": "code",
   "execution_count": 27,
   "metadata": {
    "collapsed": false,
    "jupyter": {
     "outputs_hidden": false
    }
   },
   "outputs": [],
   "source": [
    "scores_lda = {}"
   ]
  },
  {
   "cell_type": "code",
   "execution_count": 28,
   "metadata": {
    "collapsed": false,
    "jupyter": {
     "outputs_hidden": false
    }
   },
   "outputs": [
    {
     "data": {
      "text/plain": [
       "(5664, 3)"
      ]
     },
     "execution_count": 28,
     "metadata": {},
     "output_type": "execute_result"
    }
   ],
   "source": [
    "from sklearn.discriminant_analysis import LinearDiscriminantAnalysis\n",
    "\n",
    "lda = LinearDiscriminantAnalysis(n_components=3)\n",
    "X_lda = lda.fit(X, y).transform(X)\n",
    "X_lda.shape"
   ]
  },
  {
   "cell_type": "code",
   "execution_count": 29,
   "metadata": {
    "collapsed": false,
    "jupyter": {
     "outputs_hidden": false
    }
   },
   "outputs": [
    {
     "name": "stdout",
     "output_type": "stream",
     "text": [
      "(3964, 3) (1700, 3) (3964,) (1700,)\n"
     ]
    }
   ],
   "source": [
    "# split X and y into training and testing sets\n",
    "X_train_lda, X_test_lda, y_train_lda, y_test_lda = train_test_split(X_lda, y, test_size=0.30, random_state=42, stratify=y)\n",
    "\n",
    "print(X_train_lda.shape, X_test_lda.shape, y_train_lda.shape, y_test_lda.shape)"
   ]
  },
  {
   "cell_type": "code",
   "execution_count": null,
   "metadata": {},
   "outputs": [],
   "source": []
  },
  {
   "cell_type": "code",
   "execution_count": null,
   "metadata": {},
   "outputs": [],
   "source": []
  },
  {
   "cell_type": "markdown",
   "metadata": {},
   "source": [
    "# AdaBoost Classifier with LDA"
   ]
  },
  {
   "cell_type": "code",
   "execution_count": 30,
   "metadata": {},
   "outputs": [
    {
     "name": "stdout",
     "output_type": "stream",
     "text": [
      "[[  0   0   0 ...   0   0   0]\n",
      " [  0   0   0 ...   0   0   0]\n",
      " [  0   0   0 ...   0   0   0]\n",
      " ...\n",
      " [  0   0   0 ...   0   0   0]\n",
      " [  0   0   0 ...   0 665   0]\n",
      " [  0   0   0 ...   0   0   0]]\n",
      "0.4535294117647059\n"
     ]
    }
   ],
   "source": [
    "from sklearn.ensemble import AdaBoostClassifier\n",
    "abc = AdaBoostClassifier()\n",
    "abc.fit(X_train_lda, y_train_lda)\n",
    "\n",
    "y_pred_abc_lda = abc.predict(X_test_lda)\n",
    "\n",
    "from sklearn.metrics import confusion_matrix, accuracy_score\n",
    "cm = confusion_matrix(y_test_lda, y_pred_abc_lda)\n",
    "print (cm)\n",
    "acc_abc_lda = accuracy_score(y_test_lda, y_pred_abc_lda)\n",
    "print (acc_abc_lda)"
   ]
  },
  {
   "cell_type": "code",
   "execution_count": null,
   "metadata": {},
   "outputs": [],
   "source": []
  },
  {
   "cell_type": "code",
   "execution_count": null,
   "metadata": {},
   "outputs": [],
   "source": []
  },
  {
   "cell_type": "markdown",
   "metadata": {},
   "source": [
    "# Naïve Bayes with LDA"
   ]
  },
  {
   "cell_type": "code",
   "execution_count": 32,
   "metadata": {},
   "outputs": [
    {
     "data": {
      "text/plain": [
       "GaussianNB()"
      ]
     },
     "execution_count": 32,
     "metadata": {},
     "output_type": "execute_result"
    }
   ],
   "source": [
    "from sklearn.naive_bayes import GaussianNB\n",
    "nb = GaussianNB()\n",
    "nb.fit(X_train_lda, y_train_lda)"
   ]
  },
  {
   "cell_type": "code",
   "execution_count": 33,
   "metadata": {},
   "outputs": [],
   "source": [
    "y_pred_lda = nb.predict(X_test_lda)"
   ]
  },
  {
   "cell_type": "code",
   "execution_count": 34,
   "metadata": {},
   "outputs": [
    {
     "name": "stdout",
     "output_type": "stream",
     "text": [
      "[[  0   0   0 ...   0   0   0]\n",
      " [  0   5   0 ...   0   0   0]\n",
      " [  0   0   0 ...   0   0   0]\n",
      " ...\n",
      " [  0   0   0 ...   0   0   0]\n",
      " [  0   0   0 ...   3 661   0]\n",
      " [  0   0   0 ...   0   0   0]]\n",
      "0.6188235294117647\n"
     ]
    }
   ],
   "source": [
    "from sklearn.metrics import confusion_matrix, accuracy_score\n",
    "cm_lda = confusion_matrix(y_test_lda, y_pred_lda)\n",
    "print(cm_lda)\n",
    "acc_nb_lda = accuracy_score(y_test_lda, y_pred_lda)\n",
    "print(acc_nb_lda)"
   ]
  },
  {
   "cell_type": "code",
   "execution_count": null,
   "metadata": {},
   "outputs": [],
   "source": []
  },
  {
   "cell_type": "code",
   "execution_count": null,
   "metadata": {},
   "outputs": [],
   "source": []
  },
  {
   "cell_type": "markdown",
   "metadata": {},
   "source": [
    "# Kernel SVM (Support Vector Machine) with LDA"
   ]
  },
  {
   "cell_type": "code",
   "execution_count": 24,
   "metadata": {},
   "outputs": [
    {
     "data": {
      "text/plain": [
       "SVC(random_state=0)"
      ]
     },
     "execution_count": 24,
     "metadata": {},
     "output_type": "execute_result"
    }
   ],
   "source": [
    "from sklearn.svm import SVC\n",
    "svc_rbf = SVC(kernel = 'rbf', random_state = 0)\n",
    "svc_rbf.fit(X_train_pca, y_train_pca)"
   ]
  },
  {
   "cell_type": "code",
   "execution_count": 25,
   "metadata": {},
   "outputs": [],
   "source": [
    "y_pred_svc_rbf_pca = svc_rbf.predict(X_test_pca)"
   ]
  },
  {
   "cell_type": "code",
   "execution_count": 26,
   "metadata": {},
   "outputs": [
    {
     "name": "stdout",
     "output_type": "stream",
     "text": [
      "[[  0   0   0 ...   0   0   0]\n",
      " [  0   0   0 ...   0   0   0]\n",
      " [  0   0   0 ...   0   0   0]\n",
      " ...\n",
      " [  0   0   0 ...   0   0   0]\n",
      " [  0   0   0 ...   0 666   0]\n",
      " [  0   0   0 ...   0   0   0]]\n",
      "0.5229411764705882\n"
     ]
    }
   ],
   "source": [
    "from sklearn.metrics import confusion_matrix, accuracy_score\n",
    "cm_pca = confusion_matrix(y_test_pca, y_pred_svc_rbf_pca)\n",
    "print (cm_pca)\n",
    "acc_svc_rbf_pca = accuracy_score(y_test_pca, y_pred_svc_rbf_pca)\n",
    "print (acc_svc_rbf_pca)"
   ]
  },
  {
   "cell_type": "code",
   "execution_count": null,
   "metadata": {},
   "outputs": [],
   "source": []
  },
  {
   "cell_type": "code",
   "execution_count": null,
   "metadata": {},
   "outputs": [],
   "source": []
  },
  {
   "cell_type": "markdown",
   "metadata": {},
   "source": [
    "### Decision tree"
   ]
  },
  {
   "cell_type": "code",
   "execution_count": 38,
   "metadata": {
    "collapsed": false,
    "jupyter": {
     "outputs_hidden": false
    }
   },
   "outputs": [
    {
     "data": {
      "text/plain": [
       "DecisionTreeClassifier(max_depth=5, random_state=0)"
      ]
     },
     "execution_count": 38,
     "metadata": {},
     "output_type": "execute_result"
    }
   ],
   "source": [
    "# build decision tree classifier\n",
    "clf_gini_lda = DecisionTreeClassifier(criterion='gini', max_depth=5, random_state=0)\n",
    "# train decision tree\n",
    "clf_gini_lda.fit(X_train_lda, y_train_lda)"
   ]
  },
  {
   "cell_type": "code",
   "execution_count": 39,
   "metadata": {
    "collapsed": false,
    "jupyter": {
     "outputs_hidden": false
    }
   },
   "outputs": [
    {
     "name": "stdout",
     "output_type": "stream",
     "text": [
      "               precision    recall  f1-score   support\n",
      "\n",
      "Entertainment       0.66      0.59      0.62       222\n",
      "   Navigating       0.78      0.49      0.60       271\n",
      "         Work       0.70      0.87      0.78       537\n",
      "  unavaliable       1.00      0.99      1.00       670\n",
      "\n",
      "     accuracy                           0.82      1700\n",
      "    macro avg       0.78      0.74      0.75      1700\n",
      " weighted avg       0.83      0.82      0.81      1700\n",
      "\n",
      "Train accuracy:\t 0.8375378405650857\n",
      "Test accuracy:\t 0.8205882352941176\n"
     ]
    },
    {
     "data": {
      "text/plain": [
       "<sklearn.metrics._plot.confusion_matrix.ConfusionMatrixDisplay at 0x1aa6433ed90>"
      ]
     },
     "execution_count": 39,
     "metadata": {},
     "output_type": "execute_result"
    },
    {
     "data": {
      "image/png": "[encoded data removed]",
      "text/plain": [
       "<Figure size 432x288 with 2 Axes>"
      ]
     },
     "metadata": {
      "needs_background": "light"
     },
     "output_type": "display_data"
    }
   ],
   "source": [
    "# make prediction\n",
    "y_pred_clf_gini_lda = clf_gini_lda.predict(X_test_lda)\n",
    "print(classification_report(y_test_lda, y_pred_clf_gini_lda))\n",
    "print(f'Train accuracy:\\t {clf_gini_lda.score(X_train_lda, y_train_lda)}')\n",
    "print(f'Test accuracy:\\t {clf_gini_lda.score(X_test_lda, y_test_lda)}')\n",
    "scores_lda['Decision Tree LDA'] =  clf_gini_lda.score(X_test_lda, y_test_lda)\n",
    "\n",
    "ConfusionMatrixDisplay.from_predictions(y_test_lda, y_pred_clf_gini_lda)"
   ]
  },
  {
   "cell_type": "markdown",
   "metadata": {},
   "source": [
    "### Random Forest"
   ]
  },
  {
   "cell_type": "code",
   "execution_count": 40,
   "metadata": {
    "collapsed": false,
    "jupyter": {
     "outputs_hidden": false
    }
   },
   "outputs": [
    {
     "data": {
      "text/plain": [
       "RandomForestClassifier(n_estimators=5, n_jobs=2, random_state=1)"
      ]
     },
     "execution_count": 40,
     "metadata": {},
     "output_type": "execute_result"
    }
   ],
   "source": [
    "# build random forest classifier\n",
    "rfc_lda = RandomForestClassifier(criterion='gini', n_estimators=5, random_state=1, n_jobs=2)\n",
    "# train random forest\n",
    "rfc_lda.fit(X_train_lda, y_train_lda)"
   ]
  },
  {
   "cell_type": "code",
   "execution_count": 41,
   "metadata": {
    "collapsed": false,
    "jupyter": {
     "outputs_hidden": false
    }
   },
   "outputs": [
    {
     "name": "stdout",
     "output_type": "stream",
     "text": [
      "               precision    recall  f1-score   support\n",
      "\n",
      "Entertainment       0.67      0.77      0.72       222\n",
      "   Navigating       0.78      0.72      0.75       271\n",
      "         Work       0.84      0.82      0.83       537\n",
      "  unavaliable       1.00      1.00      1.00       670\n",
      "\n",
      "     accuracy                           0.87      1700\n",
      "    macro avg       0.82      0.83      0.82      1700\n",
      " weighted avg       0.87      0.87      0.87      1700\n",
      "\n",
      "Train accuracy:\t 0.9808274470232089\n",
      "Test accuracy:\t 0.8688235294117647\n"
     ]
    },
    {
     "data": {
      "text/plain": [
       "<sklearn.metrics._plot.confusion_matrix.ConfusionMatrixDisplay at 0x1aa643ea7c0>"
      ]
     },
     "execution_count": 41,
     "metadata": {},
     "output_type": "execute_result"
    },
    {
     "data": {
      "image/png": "[encoded data removed]",
      "text/plain": [
       "<Figure size 432x288 with 2 Axes>"
      ]
     },
     "metadata": {
      "needs_background": "light"
     },
     "output_type": "display_data"
    }
   ],
   "source": [
    "# make prediction\n",
    "y_pred_rfc_lda = rfc_lda.predict(X_test_lda)\n",
    "print(classification_report(y_test_lda, y_pred_rfc_lda))\n",
    "print(f'Train accuracy:\\t {rfc_lda.score(X_train_lda, y_train_lda)}')\n",
    "print(f'Test accuracy:\\t {rfc_lda.score(X_test_lda, y_test_lda)}')\n",
    "scores_lda['Random Forest LDA'] = rfc_lda.score(X_test_lda, y_test_lda)\n",
    "\n",
    "ConfusionMatrixDisplay.from_predictions(y_test_lda, y_pred_rfc_lda)"
   ]
  },
  {
   "cell_type": "markdown",
   "metadata": {},
   "source": [
    "### KNeighbors Classifier"
   ]
  },
  {
   "cell_type": "code",
   "execution_count": 42,
   "metadata": {
    "collapsed": false,
    "jupyter": {
     "outputs_hidden": false
    }
   },
   "outputs": [
    {
     "data": {
      "text/plain": [
       "KNeighborsClassifier()"
      ]
     },
     "execution_count": 42,
     "metadata": {},
     "output_type": "execute_result"
    }
   ],
   "source": [
    "from sklearn.neighbors import KNeighborsClassifier\n",
    "\n",
    "# build KNeighbors classifier\n",
    "neigh_lda = KNeighborsClassifier(n_neighbors=5)\n",
    "# train KNeighbors\n",
    "neigh_lda.fit(X_train_lda, y_train_lda)"
   ]
  },
  {
   "cell_type": "code",
   "execution_count": 43,
   "metadata": {
    "collapsed": false,
    "jupyter": {
     "outputs_hidden": false
    }
   },
   "outputs": [
    {
     "name": "stdout",
     "output_type": "stream",
     "text": [
      "               precision    recall  f1-score   support\n",
      "\n",
      "Entertainment       0.70      0.78      0.74       222\n",
      "   Navigating       0.82      0.69      0.75       271\n",
      "         Work       0.84      0.86      0.85       537\n",
      "  unavaliable       1.00      1.00      1.00       670\n",
      "\n",
      "     accuracy                           0.88      1700\n",
      "    macro avg       0.84      0.83      0.83      1700\n",
      " weighted avg       0.88      0.88      0.88      1700\n",
      "\n",
      "Train accuracy:\t 0.9018668012108981\n",
      "Test accuracy:\t 0.8776470588235294\n"
     ]
    },
    {
     "data": {
      "text/plain": [
       "<sklearn.metrics._plot.confusion_matrix.ConfusionMatrixDisplay at 0x1aa644bb1f0>"
      ]
     },
     "execution_count": 43,
     "metadata": {},
     "output_type": "execute_result"
    },
    {
     "data": {
      "image/png": "[encoded data removed]",
      "text/plain": [
       "<Figure size 432x288 with 2 Axes>"
      ]
     },
     "metadata": {
      "needs_background": "light"
     },
     "output_type": "display_data"
    }
   ],
   "source": [
    "# make prediction\n",
    "y_pred_neigh_lda = neigh_lda.predict(X_test_lda)\n",
    "print(classification_report(y_test_lda, y_pred_neigh_lda))\n",
    "print(f'Train accuracy:\\t {neigh_lda.score(X_train_lda, y_train_lda)}')\n",
    "print(f'Test accuracy:\\t {neigh_lda.score(X_test_lda, y_test_lda)}')\n",
    "scores_lda['KNN LDA'] =  neigh_lda.score(X_test_lda, y_test_lda)\n",
    "\n",
    "ConfusionMatrixDisplay.from_predictions(y_test_lda, y_pred_neigh_lda)"
   ]
  },
  {
   "cell_type": "markdown",
   "metadata": {},
   "source": [
    "### MLP"
   ]
  },
  {
   "cell_type": "code",
   "execution_count": 44,
   "metadata": {
    "collapsed": false,
    "jupyter": {
     "outputs_hidden": false
    }
   },
   "outputs": [
    {
     "data": {
      "text/plain": [
       "[<matplotlib.lines.Line2D at 0x1aa645cf6a0>]"
      ]
     },
     "execution_count": 44,
     "metadata": {},
     "output_type": "execute_result"
    },
    {
     "data": {
      "image/png": "[encoded data removed]",
      "text/plain": [
       "<Figure size 432x288 with 1 Axes>"
      ]
     },
     "metadata": {
      "needs_background": "light"
     },
     "output_type": "display_data"
    }
   ],
   "source": [
    "# build MLP classifier\n",
    "model_lda = MLPClassifier(hidden_layer_sizes=(200, 40, 10), activation='relu', solver='adam', max_iter=1000)\n",
    "# train model\n",
    "model_lda.fit(X_train_lda, y_train_lda)\n",
    "plt.plot(model_lda.loss_curve_)"
   ]
  },
  {
   "cell_type": "code",
   "execution_count": 45,
   "metadata": {
    "collapsed": false,
    "jupyter": {
     "outputs_hidden": false
    }
   },
   "outputs": [
    {
     "name": "stdout",
     "output_type": "stream",
     "text": [
      "               precision    recall  f1-score   support\n",
      "\n",
      "Entertainment       0.69      0.69      0.69       222\n",
      "   Navigating       0.71      0.69      0.70       271\n",
      "         Work       0.79      0.80      0.80       537\n",
      "  unavaliable       1.00      1.00      1.00       670\n",
      "\n",
      "     accuracy                           0.85      1700\n",
      "    macro avg       0.80      0.79      0.79      1700\n",
      " weighted avg       0.84      0.85      0.85      1700\n",
      "\n",
      "Train accuracy:\t 0.8564581231079718\n",
      "Test accuracy:\t 0.8452941176470589\n"
     ]
    },
    {
     "data": {
      "text/plain": [
       "<sklearn.metrics._plot.confusion_matrix.ConfusionMatrixDisplay at 0x1aa645633a0>"
      ]
     },
     "execution_count": 45,
     "metadata": {},
     "output_type": "execute_result"
    },
    {
     "data": {
      "image/png": "[encoded data removed]",
      "text/plain": [
       "<Figure size 432x288 with 2 Axes>"
      ]
     },
     "metadata": {
      "needs_background": "light"
     },
     "output_type": "display_data"
    }
   ],
   "source": [
    "# make prediction\n",
    "y_pred_mlp_lda = model_lda.predict(X_test_lda)\n",
    "print(classification_report(y_test_lda, y_pred_mlp_lda))\n",
    "print(f'Train accuracy:\\t {model_lda.score(X_train_lda, y_train_lda)}')\n",
    "print(f'Test accuracy:\\t {model_lda.score(X_test_lda, y_test_lda)}')\n",
    "scores_lda['MLP_LDA'] =  model_lda.score(X_test_lda, y_test_lda)\n",
    "\n",
    "ConfusionMatrixDisplay.from_predictions(y_test_lda,y_pred_mlp_lda)"
   ]
  },
  {
   "cell_type": "markdown",
   "metadata": {},
   "source": [
    "# Final scores"
   ]
  },
  {
   "cell_type": "code",
   "execution_count": 46,
   "metadata": {
    "collapsed": false,
    "jupyter": {
     "outputs_hidden": false
    }
   },
   "outputs": [
    {
     "data": {
      "text/plain": [
       "<BarContainer object of 4 artists>"
      ]
     },
     "execution_count": 46,
     "metadata": {},
     "output_type": "execute_result"
    },
    {
     "data": {
      "image/png": "[encoded data removed]",
      "text/plain": [
       "<Figure size 432x288 with 1 Axes>"
      ]
     },
     "metadata": {
      "needs_background": "light"
     },
     "output_type": "display_data"
    }
   ],
   "source": [
    "plt.barh(list(scores.keys()), scores.values())\n",
    "plt.barh(list(scores_pca.keys()), scores_pca.values())\n",
    "plt.barh(list(scores_lda.keys()), scores_lda.values())"
   ]
  },
  {
   "cell_type": "code",
   "execution_count": 47,
   "metadata": {
    "collapsed": false,
    "jupyter": {
     "outputs_hidden": false
    }
   },
   "outputs": [
    {
     "data": {
      "text/plain": [
       "{'Decision Tree': 0.7611764705882353,\n",
       " 'Random Forest': 0.9588235294117647,\n",
       " 'KNN': 0.9147058823529411,\n",
       " 'MLP': 0.6841176470588235}"
      ]
     },
     "execution_count": 47,
     "metadata": {},
     "output_type": "execute_result"
    }
   ],
   "source": [
    "scores"
   ]
  },
  {
   "cell_type": "code",
   "execution_count": 48,
   "metadata": {
    "collapsed": false,
    "jupyter": {
     "outputs_hidden": false
    }
   },
   "outputs": [
    {
     "data": {
      "text/plain": [
       "{'Decision Tree PCA': 0.7747058823529411,\n",
       " 'Random Forest PCA': 0.8941176470588236,\n",
       " 'KNN PCA': 0.8952941176470588,\n",
       " 'MLP_PCA': 0.5258823529411765}"
      ]
     },
     "execution_count": 48,
     "metadata": {},
     "output_type": "execute_result"
    }
   ],
   "source": [
    "scores_pca"
   ]
  },
  {
   "cell_type": "code",
   "execution_count": 49,
   "metadata": {
    "collapsed": false,
    "jupyter": {
     "outputs_hidden": false
    }
   },
   "outputs": [
    {
     "data": {
      "text/plain": [
       "{'Decision Tree LDA': 0.8205882352941176,\n",
       " 'Random Forest LDA': 0.8688235294117647,\n",
       " 'KNN LDA': 0.8776470588235294,\n",
       " 'MLP_LDA': 0.8452941176470589}"
      ]
     },
     "execution_count": 49,
     "metadata": {},
     "output_type": "execute_result"
    }
   ],
   "source": [
    "scores_lda"
   ]
  },
  {
   "cell_type": "code",
   "execution_count": 96,
   "metadata": {
    "collapsed": false,
    "jupyter": {
     "outputs_hidden": false
    }
   },
   "outputs": [
    {
     "data": {
      "text/plain": [
       "0.9588235294117647"
      ]
     },
     "execution_count": 96,
     "metadata": {},
     "output_type": "execute_result"
    }
   ],
   "source": [
    "# get the highest accuracy\n",
    "max(max(scores.values()), max(scores_pca.values()), max(scores_lda.values()))"
   ]
  },
  {
   "cell_type": "markdown",
   "metadata": {},
   "source": [
    "# Normalized values"
   ]
  },
  {
   "cell_type": "code",
   "execution_count": 57,
   "metadata": {
    "collapsed": false,
    "jupyter": {
     "outputs_hidden": false
    }
   },
   "outputs": [
    {
     "data": {
      "text/plain": [
       "array([[0.        , 0.35453475, 0.        , ..., 0.        , 0.        ,\n",
       "        0.        ],\n",
       "       [0.        , 0.35453475, 0.        , ..., 0.        , 0.        ,\n",
       "        0.        ],\n",
       "       [0.        , 0.35453475, 0.        , ..., 0.        , 0.        ,\n",
       "        0.        ],\n",
       "       ...,\n",
       "       [0.1875    , 0.35414213, 0.47619048, ..., 0.        , 0.        ,\n",
       "        1.        ],\n",
       "       [0.1796875 , 0.35453475, 0.42857143, ..., 0.        , 0.        ,\n",
       "        1.        ],\n",
       "       [0.1796875 , 0.35453475, 0.42857143, ..., 0.        , 0.        ,\n",
       "        1.        ]])"
      ]
     },
     "execution_count": 57,
     "metadata": {},
     "output_type": "execute_result"
    }
   ],
   "source": [
    "from sklearn.preprocessing import MinMaxScaler\n",
    "\n",
    "# normalize values\n",
    "scaler = MinMaxScaler()\n",
    "\n",
    "X_scaled = scaler.fit_transform(X)\n",
    "X_scaled"
   ]
  },
  {
   "cell_type": "code",
   "execution_count": 58,
   "metadata": {
    "collapsed": false,
    "jupyter": {
     "outputs_hidden": false
    }
   },
   "outputs": [
    {
     "name": "stdout",
     "output_type": "stream",
     "text": [
      "(3964, 48) (1700, 48) (3964,) (1700,)\n"
     ]
    }
   ],
   "source": [
    "# split X and y into training and testing sets\n",
    "X_train_scaled, X_test_scaled, y_train_scaled, y_test_scaled = train_test_split(X_scaled, y, test_size=0.30, random_state=42, stratify=y)\n",
    "\n",
    "print(X_train_scaled.shape, X_test_scaled.shape, y_train_scaled.shape, y_test_scaled.shape)"
   ]
  },
  {
   "cell_type": "markdown",
   "metadata": {},
   "source": [
    "# Classification models"
   ]
  },
  {
   "cell_type": "code",
   "execution_count": 59,
   "metadata": {
    "collapsed": false,
    "jupyter": {
     "outputs_hidden": false
    }
   },
   "outputs": [],
   "source": [
    "scores_scaled = {}"
   ]
  },
  {
   "cell_type": "code",
   "execution_count": null,
   "metadata": {},
   "outputs": [],
   "source": []
  },
  {
   "cell_type": "markdown",
   "metadata": {},
   "source": [
    "# AdaBoost Classifier with Normalized values"
   ]
  },
  {
   "cell_type": "code",
   "execution_count": 60,
   "metadata": {},
   "outputs": [
    {
     "name": "stdout",
     "output_type": "stream",
     "text": [
      "[[  0   0   0 ...   0   0   0]\n",
      " [  0   0   0 ...   0   0   0]\n",
      " [  0   0   0 ...   0   0   0]\n",
      " ...\n",
      " [  0   0   0 ...   0   0   0]\n",
      " [  0   0   0 ...   0 665   0]\n",
      " [  0   0   0 ...   0   0   0]]\n",
      "0.44529411764705884\n"
     ]
    }
   ],
   "source": [
    "from sklearn.ensemble import AdaBoostClassifier\n",
    "abc = AdaBoostClassifier()\n",
    "abc.fit(X_train_scaled, y_train_scaled)\n",
    "\n",
    "y_pred_abc_scaled = abc.predict(X_test_scaled)\n",
    "\n",
    "from sklearn.metrics import confusion_matrix, accuracy_score\n",
    "cm_scaled = confusion_matrix(y_test_scaled, y_pred_abc_scaled)\n",
    "print (cm_scaled)\n",
    "acc_abc_scaled = accuracy_score(y_test_scaled, y_pred_abc_scaled)\n",
    "print (acc_abc_scaled)"
   ]
  },
  {
   "cell_type": "code",
   "execution_count": null,
   "metadata": {},
   "outputs": [],
   "source": []
  },
  {
   "cell_type": "markdown",
   "metadata": {},
   "source": [
    "# Naïve Bayes with Normalized values"
   ]
  },
  {
   "cell_type": "code",
   "execution_count": 61,
   "metadata": {},
   "outputs": [
    {
     "data": {
      "text/plain": [
       "GaussianNB()"
      ]
     },
     "execution_count": 61,
     "metadata": {},
     "output_type": "execute_result"
    }
   ],
   "source": [
    "from sklearn.naive_bayes import GaussianNB\n",
    "nb = GaussianNB()\n",
    "nb.fit(X_train_scaled, y_train_scaled)"
   ]
  },
  {
   "cell_type": "code",
   "execution_count": 62,
   "metadata": {},
   "outputs": [],
   "source": [
    "y_pred_scaled = nb.predict(X_test_scaled)"
   ]
  },
  {
   "cell_type": "code",
   "execution_count": 63,
   "metadata": {},
   "outputs": [
    {
     "name": "stdout",
     "output_type": "stream",
     "text": [
      "[[  0   0   0 ...   0   0   0]\n",
      " [  0   6   0 ...   0   0   0]\n",
      " [  0   0   0 ...   0   0   0]\n",
      " ...\n",
      " [  0   0   0 ...   1   0   0]\n",
      " [  0   0   0 ...   0 660   0]\n",
      " [  0   0   0 ...   0   0   1]]\n",
      "0.5958823529411764\n"
     ]
    }
   ],
   "source": [
    "from sklearn.metrics import confusion_matrix, accuracy_score\n",
    "cm_scaled = confusion_matrix(y_test_scaled, y_pred_scaled)\n",
    "print(cm_scaled)\n",
    "acc_nb_scaled = accuracy_score(y_test_scaled, y_pred_scaled)\n",
    "print(acc_nb_scaled)"
   ]
  },
  {
   "cell_type": "code",
   "execution_count": null,
   "metadata": {},
   "outputs": [],
   "source": []
  },
  {
   "cell_type": "markdown",
   "metadata": {},
   "source": [
    "# Kernel SVM (Support Vector Machine)"
   ]
  },
  {
   "cell_type": "code",
   "execution_count": 64,
   "metadata": {},
   "outputs": [
    {
     "data": {
      "text/plain": [
       "SVC(random_state=0)"
      ]
     },
     "execution_count": 64,
     "metadata": {},
     "output_type": "execute_result"
    }
   ],
   "source": [
    "from sklearn.svm import SVC\n",
    "svc_rbf = SVC(kernel = 'rbf', random_state = 0)\n",
    "svc_rbf.fit(X_train_scaled, y_train_scaled)"
   ]
  },
  {
   "cell_type": "code",
   "execution_count": 65,
   "metadata": {},
   "outputs": [],
   "source": [
    "y_pred_svc_rbf_scaled = svc_rbf.predict(X_test_scaled)"
   ]
  },
  {
   "cell_type": "code",
   "execution_count": 66,
   "metadata": {},
   "outputs": [
    {
     "name": "stdout",
     "output_type": "stream",
     "text": [
      "[[  0   0   0 ...   0   0   0]\n",
      " [  0   5   0 ...   0   0   0]\n",
      " [  0   0   0 ...   0   0   0]\n",
      " ...\n",
      " [  0   0   0 ...   0   0   0]\n",
      " [  0   0   0 ...   0 664   0]\n",
      " [  0   0   0 ...   0   0   0]]\n",
      "0.8070588235294117\n"
     ]
    }
   ],
   "source": [
    "from sklearn.metrics import confusion_matrix, accuracy_score\n",
    "cm_scaled = confusion_matrix(y_test_scaled, y_pred_svc_rbf_scaled)\n",
    "print (cm_scaled)\n",
    "acc_svc_rbf_scaled = accuracy_score(y_test_scaled, y_pred_svc_rbf_scaled)\n",
    "print (acc_svc_rbf_scaled)"
   ]
  },
  {
   "cell_type": "code",
   "execution_count": null,
   "metadata": {},
   "outputs": [],
   "source": []
  },
  {
   "cell_type": "code",
   "execution_count": null,
   "metadata": {},
   "outputs": [],
   "source": []
  },
  {
   "cell_type": "code",
   "execution_count": null,
   "metadata": {},
   "outputs": [],
   "source": []
  },
  {
   "cell_type": "markdown",
   "metadata": {},
   "source": [
    "## Decision tree Classifier"
   ]
  },
  {
   "cell_type": "code",
   "execution_count": 53,
   "metadata": {
    "collapsed": false,
    "jupyter": {
     "outputs_hidden": false
    }
   },
   "outputs": [
    {
     "data": {
      "text/plain": [
       "DecisionTreeClassifier(max_depth=5, random_state=0)"
      ]
     },
     "execution_count": 53,
     "metadata": {},
     "output_type": "execute_result"
    }
   ],
   "source": [
    "# build decision tree classifier\n",
    "clf_gini_scaled = DecisionTreeClassifier(criterion='gini', max_depth=5, random_state=0)\n",
    "# train decision tree\n",
    "clf_gini_scaled.fit(X_train_scaled, y_train_scaled)"
   ]
  },
  {
   "cell_type": "code",
   "execution_count": 54,
   "metadata": {
    "collapsed": false,
    "jupyter": {
     "outputs_hidden": false
    }
   },
   "outputs": [
    {
     "name": "stdout",
     "output_type": "stream",
     "text": [
      "               precision    recall  f1-score   support\n",
      "\n",
      "Entertainment       0.60      0.25      0.35       222\n",
      "   Navigating       0.92      0.25      0.39       271\n",
      "         Work       0.58      0.94      0.72       537\n",
      "  unavaliable       1.00      0.99      1.00       670\n",
      "\n",
      "     accuracy                           0.76      1700\n",
      "    macro avg       0.77      0.61      0.61      1700\n",
      " weighted avg       0.80      0.76      0.73      1700\n",
      "\n",
      "Train accuracy:\t 0.777497477295661\n",
      "Test accuracy:\t 0.7611764705882353\n"
     ]
    },
    {
     "data": {
      "text/plain": [
       "<sklearn.metrics._plot.confusion_matrix.ConfusionMatrixDisplay at 0x1aa64767cd0>"
      ]
     },
     "execution_count": 54,
     "metadata": {},
     "output_type": "execute_result"
    },
    {
     "data": {
      "image/png": "[encoded data removed]",
      "text/plain": [
       "<Figure size 432x288 with 2 Axes>"
      ]
     },
     "metadata": {
      "needs_background": "light"
     },
     "output_type": "display_data"
    }
   ],
   "source": [
    "# make prediction\n",
    "y_pred_clf_gini_scaled = clf_gini_scaled.predict(X_test_scaled)\n",
    "print(classification_report(y_test_scaled, y_pred_clf_gini_scaled))\n",
    "print(f'Train accuracy:\\t {clf_gini_scaled.score(X_train_scaled, y_train_scaled)}')\n",
    "print(f'Test accuracy:\\t {clf_gini_scaled.score(X_test_scaled, y_test_scaled)}')\n",
    "scores_scaled['Decision Tree (scaled)'] =  clf_gini_scaled.score(X_test_scaled, y_test_scaled)\n",
    "\n",
    "ConfusionMatrixDisplay.from_predictions(y_test_scaled, y_pred_clf_gini_scaled)"
   ]
  },
  {
   "cell_type": "markdown",
   "metadata": {},
   "source": [
    "## Random Forest"
   ]
  },
  {
   "cell_type": "code",
   "execution_count": 55,
   "metadata": {
    "collapsed": false,
    "jupyter": {
     "outputs_hidden": false
    }
   },
   "outputs": [
    {
     "data": {
      "text/plain": [
       "RandomForestClassifier()"
      ]
     },
     "execution_count": 55,
     "metadata": {},
     "output_type": "execute_result"
    }
   ],
   "source": [
    "# build random forest classifier\n",
    "rfc_scaled = RandomForestClassifier()\n",
    "# train random forest\n",
    "rfc_scaled.fit(X_train_scaled, y_train_scaled)"
   ]
  },
  {
   "cell_type": "code",
   "execution_count": 56,
   "metadata": {
    "collapsed": false,
    "jupyter": {
     "outputs_hidden": false
    }
   },
   "outputs": [
    {
     "name": "stdout",
     "output_type": "stream",
     "text": [
      "               precision    recall  f1-score   support\n",
      "\n",
      "Entertainment       0.91      0.91      0.91       222\n",
      "   Navigating       0.94      0.89      0.91       271\n",
      "         Work       0.93      0.96      0.94       537\n",
      "  unavaliable       1.00      1.00      1.00       670\n",
      "\n",
      "     accuracy                           0.96      1700\n",
      "    macro avg       0.95      0.94      0.94      1700\n",
      " weighted avg       0.96      0.96      0.96      1700\n",
      "\n",
      "Train accuracy:\t 1.0\n",
      "Test accuracy:\t 0.9564705882352941\n"
     ]
    },
    {
     "data": {
      "text/plain": [
       "<sklearn.metrics._plot.confusion_matrix.ConfusionMatrixDisplay at 0x1aa64bab220>"
      ]
     },
     "execution_count": 56,
     "metadata": {},
     "output_type": "execute_result"
    },
    {
     "data": {
      "image/png": "[encoded data removed]",
      "text/plain": [
       "<Figure size 432x288 with 2 Axes>"
      ]
     },
     "metadata": {
      "needs_background": "light"
     },
     "output_type": "display_data"
    }
   ],
   "source": [
    "# make prediction\n",
    "y_pred_rfc_scaled = rfc_scaled.predict(X_test_scaled)\n",
    "print(classification_report(y_test_scaled, y_pred_rfc_scaled))\n",
    "print(f'Train accuracy:\\t {rfc_scaled.score(X_train_scaled, y_train_scaled)}')\n",
    "print(f'Test accuracy:\\t {rfc_scaled.score(X_test_scaled, y_test_scaled)}')\n",
    "scores_scaled['Random Forest (scaled)'] = rfc_scaled.score(X_test_scaled, y_test_scaled)\n",
    "\n",
    "ConfusionMatrixDisplay.from_predictions(y_test_scaled, y_pred_rfc_scaled)"
   ]
  },
  {
   "cell_type": "markdown",
   "metadata": {},
   "source": [
    "## KNeighbors Classifier"
   ]
  },
  {
   "cell_type": "code",
   "execution_count": 57,
   "metadata": {
    "collapsed": false,
    "jupyter": {
     "outputs_hidden": false
    }
   },
   "outputs": [
    {
     "data": {
      "text/plain": [
       "KNeighborsClassifier(n_neighbors=2)"
      ]
     },
     "execution_count": 57,
     "metadata": {},
     "output_type": "execute_result"
    }
   ],
   "source": [
    "# build KNeighbors classifier\n",
    "neigh_scaled = KNeighborsClassifier(n_neighbors=2)\n",
    "# train KNeighbors\n",
    "neigh_scaled.fit(X_train_scaled, y_train_scaled)"
   ]
  },
  {
   "cell_type": "code",
   "execution_count": 58,
   "metadata": {
    "collapsed": false,
    "jupyter": {
     "outputs_hidden": false
    }
   },
   "outputs": [
    {
     "name": "stdout",
     "output_type": "stream",
     "text": [
      "               precision    recall  f1-score   support\n",
      "\n",
      "Entertainment       0.79      0.94      0.86       222\n",
      "   Navigating       0.85      0.86      0.85       271\n",
      "         Work       0.95      0.87      0.90       537\n",
      "  unavaliable       1.00      1.00      1.00       670\n",
      "\n",
      "     accuracy                           0.93      1700\n",
      "    macro avg       0.89      0.92      0.90      1700\n",
      " weighted avg       0.93      0.93      0.93      1700\n",
      "\n",
      "Train accuracy:\t 0.9697275479313825\n",
      "Test accuracy:\t 0.9258823529411765\n"
     ]
    },
    {
     "data": {
      "text/plain": [
       "<sklearn.metrics._plot.confusion_matrix.ConfusionMatrixDisplay at 0x1aa64743b80>"
      ]
     },
     "execution_count": 58,
     "metadata": {},
     "output_type": "execute_result"
    },
    {
     "data": {
      "image/png": "[encoded data removed]",
      "text/plain": [
       "<Figure size 432x288 with 2 Axes>"
      ]
     },
     "metadata": {
      "needs_background": "light"
     },
     "output_type": "display_data"
    }
   ],
   "source": [
    "# make prediction\n",
    "y_pred_neigh_scaled = neigh_scaled.predict(X_test_scaled)\n",
    "print(classification_report(y_test_scaled, y_pred_neigh_scaled))\n",
    "print(f'Train accuracy:\\t {neigh_scaled.score(X_train_scaled, y_train_scaled)}')\n",
    "print(f'Test accuracy:\\t {neigh_scaled.score(X_test_scaled, y_test_scaled)}')\n",
    "scores_scaled['KNN (scaled)'] =  neigh_scaled.score(X_test_scaled, y_test_scaled)\n",
    "\n",
    "ConfusionMatrixDisplay.from_predictions(y_test, y_pred_neigh)"
   ]
  },
  {
   "cell_type": "markdown",
   "metadata": {},
   "source": [
    "## MLP"
   ]
  },
  {
   "cell_type": "code",
   "execution_count": 59,
   "metadata": {
    "collapsed": false,
    "jupyter": {
     "outputs_hidden": false
    }
   },
   "outputs": [
    {
     "data": {
      "text/plain": [
       "[<matplotlib.lines.Line2D at 0x1aa64d9d8b0>]"
      ]
     },
     "execution_count": 59,
     "metadata": {},
     "output_type": "execute_result"
    },
    {
     "data": {
      "image/png": "[encoded data removed]",
      "text/plain": [
       "<Figure size 432x288 with 1 Axes>"
      ]
     },
     "metadata": {
      "needs_background": "light"
     },
     "output_type": "display_data"
    }
   ],
   "source": [
    "# build MLP classifier\n",
    "model_scaled = MLPClassifier(hidden_layer_sizes=(200, 40, 10), activation='relu', solver='adam', max_iter=1000)\n",
    "# train model\n",
    "model_scaled.fit(X_train_scaled, y_train_scaled)\n",
    "plt.plot(model_scaled.loss_curve_)"
   ]
  },
  {
   "cell_type": "code",
   "execution_count": 60,
   "metadata": {
    "collapsed": false,
    "jupyter": {
     "outputs_hidden": false
    }
   },
   "outputs": [
    {
     "name": "stdout",
     "output_type": "stream",
     "text": [
      "               precision    recall  f1-score   support\n",
      "\n",
      "Entertainment       0.84      0.90      0.87       222\n",
      "   Navigating       0.94      0.77      0.85       271\n",
      "         Work       0.88      0.95      0.91       537\n",
      "  unavaliable       1.00      0.99      1.00       670\n",
      "\n",
      "     accuracy                           0.93      1700\n",
      "    macro avg       0.92      0.90      0.91      1700\n",
      " weighted avg       0.93      0.93      0.93      1700\n",
      "\n",
      "Train accuracy:\t 0.9735116044399597\n",
      "Test accuracy:\t 0.93\n"
     ]
    },
    {
     "data": {
      "text/plain": [
       "<sklearn.metrics._plot.confusion_matrix.ConfusionMatrixDisplay at 0x1aa64dbcb80>"
      ]
     },
     "execution_count": 60,
     "metadata": {},
     "output_type": "execute_result"
    },
    {
     "data": {
      "image/png": "[encoded data removed]",
      "text/plain": [
       "<Figure size 432x288 with 2 Axes>"
      ]
     },
     "metadata": {
      "needs_background": "light"
     },
     "output_type": "display_data"
    }
   ],
   "source": [
    "# make prediction\n",
    "y_pred_mlp_scaled = model_scaled.predict(X_test_scaled)\n",
    "print(classification_report(y_test_scaled, y_pred_mlp_scaled))\n",
    "print(f'Train accuracy:\\t {model_scaled.score(X_train_scaled, y_train_scaled)}')\n",
    "print(f'Test accuracy:\\t {model_scaled.score(X_test_scaled, y_test_scaled)}')\n",
    "scores_scaled['MLP (scaled)'] =  model_scaled.score(X_test_scaled, y_test_scaled)\n",
    "\n",
    "ConfusionMatrixDisplay.from_predictions(y_test_scaled, y_pred_mlp_scaled)"
   ]
  },
  {
   "cell_type": "markdown",
   "metadata": {},
   "source": [
    "## PCA Classifier"
   ]
  },
  {
   "cell_type": "code",
   "execution_count": 67,
   "metadata": {
    "collapsed": false,
    "jupyter": {
     "outputs_hidden": false
    }
   },
   "outputs": [],
   "source": [
    "scores_pca_scaled = {}"
   ]
  },
  {
   "cell_type": "code",
   "execution_count": 68,
   "metadata": {
    "collapsed": false,
    "jupyter": {
     "outputs_hidden": false
    }
   },
   "outputs": [
    {
     "data": {
      "text/plain": [
       "((5664, 25), (5664,))"
      ]
     },
     "execution_count": 68,
     "metadata": {},
     "output_type": "execute_result"
    }
   ],
   "source": [
    "pca_scaled = PCA(n_components=25)\n",
    "X_pca_scaled = pca_scaled.fit_transform(X_scaled)\n",
    "\n",
    "X_pca_scaled.shape, y.shape"
   ]
  },
  {
   "cell_type": "code",
   "execution_count": 69,
   "metadata": {
    "collapsed": false,
    "jupyter": {
     "outputs_hidden": false
    }
   },
   "outputs": [
    {
     "data": {
      "text/plain": [
       "array([0.40857972, 0.1217377 , 0.08202367, 0.06038291, 0.04074516,\n",
       "       0.03285519, 0.0290708 , 0.02313988, 0.02202101, 0.01877711,\n",
       "       0.01740641, 0.0157627 , 0.01284406, 0.01122862, 0.00976839,\n",
       "       0.0091974 , 0.00783483, 0.00707137, 0.00677723, 0.00622328,\n",
       "       0.00611171, 0.005754  , 0.00492885, 0.00474314, 0.0043351 ])"
      ]
     },
     "execution_count": 69,
     "metadata": {},
     "output_type": "execute_result"
    }
   ],
   "source": [
    "pca_scaled.explained_variance_ratio_"
   ]
  },
  {
   "cell_type": "code",
   "execution_count": 70,
   "metadata": {
    "collapsed": false,
    "jupyter": {
     "outputs_hidden": false
    }
   },
   "outputs": [
    {
     "data": {
      "text/plain": [
       "0.969320261336712"
      ]
     },
     "execution_count": 70,
     "metadata": {},
     "output_type": "execute_result"
    }
   ],
   "source": [
    "pca_scaled.explained_variance_ratio_.sum()"
   ]
  },
  {
   "cell_type": "code",
   "execution_count": 71,
   "metadata": {
    "collapsed": false,
    "jupyter": {
     "outputs_hidden": false
    }
   },
   "outputs": [
    {
     "name": "stdout",
     "output_type": "stream",
     "text": [
      "(3964, 25) (1700, 25) (3964,) (1700,)\n"
     ]
    }
   ],
   "source": [
    "# split X and y into training and testing sets\n",
    "X_train_pca_scaled, X_test_pca_scaled, y_train_pca_scaled, y_test_pca_scaled = train_test_split(X_pca_scaled, y, test_size=0.30, random_state=42, stratify=y)\n",
    "\n",
    "print(X_train_pca_scaled.shape, X_test_pca_scaled.shape, y_train_pca_scaled.shape, y_test_pca_scaled.shape)"
   ]
  },
  {
   "cell_type": "code",
   "execution_count": null,
   "metadata": {},
   "outputs": [],
   "source": []
  },
  {
   "cell_type": "code",
   "execution_count": null,
   "metadata": {},
   "outputs": [],
   "source": []
  },
  {
   "cell_type": "markdown",
   "metadata": {},
   "source": [
    "# AdaBoost Classifier with Normalized data and PCA"
   ]
  },
  {
   "cell_type": "code",
   "execution_count": 72,
   "metadata": {},
   "outputs": [
    {
     "name": "stdout",
     "output_type": "stream",
     "text": [
      "[[  0   0   0 ...   0   0   0]\n",
      " [  0   0   0 ...   0   0   0]\n",
      " [  0   0   0 ...   0   0   0]\n",
      " ...\n",
      " [  0   0   0 ...   1   0   0]\n",
      " [  0   0   0 ...   0 660   0]\n",
      " [  0   0   0 ...   0   0   0]]\n",
      "0.4535294117647059\n"
     ]
    }
   ],
   "source": [
    "from sklearn.ensemble import AdaBoostClassifier\n",
    "abc = AdaBoostClassifier()\n",
    "abc.fit(X_train_pca_scaled, y_train_pca_scaled)\n",
    "\n",
    "y_pred_abc_pca_scaled = abc.predict(X_test_pca_scaled)\n",
    "\n",
    "from sklearn.metrics import confusion_matrix, accuracy_score\n",
    "cm_pca_scaled = confusion_matrix(y_test_pca_scaled, y_pred_abc_pca_scaled)\n",
    "print (cm_pca_scaled)\n",
    "acc_abc_pca_scaled = accuracy_score(y_test_pca_scaled, y_pred_abc_pca_scaled)\n",
    "print (acc_abc_pca_scaled)"
   ]
  },
  {
   "cell_type": "code",
   "execution_count": null,
   "metadata": {},
   "outputs": [],
   "source": []
  },
  {
   "cell_type": "markdown",
   "metadata": {},
   "source": [
    "# Naïve Bayes with Normalized data and PCA"
   ]
  },
  {
   "cell_type": "code",
   "execution_count": 74,
   "metadata": {},
   "outputs": [
    {
     "data": {
      "text/plain": [
       "GaussianNB()"
      ]
     },
     "execution_count": 74,
     "metadata": {},
     "output_type": "execute_result"
    }
   ],
   "source": [
    "from sklearn.naive_bayes import GaussianNB\n",
    "nb = GaussianNB()\n",
    "nb.fit(X_train_pca_scaled, y_train_pca_scaled)"
   ]
  },
  {
   "cell_type": "code",
   "execution_count": 75,
   "metadata": {},
   "outputs": [],
   "source": [
    "y_pred_pca_scaled = nb.predict(X_test_pca_scaled)"
   ]
  },
  {
   "cell_type": "code",
   "execution_count": 76,
   "metadata": {},
   "outputs": [
    {
     "name": "stdout",
     "output_type": "stream",
     "text": [
      "[[  0   0   0 ...   0   0   0]\n",
      " [  0   5   0 ...   0   0   0]\n",
      " [  0   0   0 ...   0   0   0]\n",
      " ...\n",
      " [  0   0   0 ...   1   0   0]\n",
      " [  0   0   0 ...   0 657   0]\n",
      " [  0   0   0 ...   0   0   1]]\n",
      "0.7264705882352941\n"
     ]
    }
   ],
   "source": [
    "from sklearn.metrics import confusion_matrix, accuracy_score\n",
    "cm_pca_scaled = confusion_matrix(y_test_pca_scaled, y_pred_pca_scaled)\n",
    "print(cm_pca_scaled)\n",
    "acc_nb_pca_scaled = accuracy_score(y_test_pca_scaled, y_pred_pca_scaled)\n",
    "print(acc_nb_pca_scaled)"
   ]
  },
  {
   "cell_type": "code",
   "execution_count": null,
   "metadata": {},
   "outputs": [],
   "source": []
  },
  {
   "cell_type": "markdown",
   "metadata": {},
   "source": [
    "# Kernel SVM (Support Vector Machine) with Normalized data and PCA"
   ]
  },
  {
   "cell_type": "code",
   "execution_count": 78,
   "metadata": {},
   "outputs": [
    {
     "data": {
      "text/plain": [
       "SVC(random_state=0)"
      ]
     },
     "execution_count": 78,
     "metadata": {},
     "output_type": "execute_result"
    }
   ],
   "source": [
    "from sklearn.svm import SVC\n",
    "svc_rbf = SVC(kernel = 'rbf', random_state = 0)\n",
    "svc_rbf.fit(X_train_pca_scaled, y_train_pca_scaled)"
   ]
  },
  {
   "cell_type": "code",
   "execution_count": 79,
   "metadata": {},
   "outputs": [],
   "source": [
    "y_pred_svc_rbf_pca_scaled = svc_rbf.predict(X_test_pca_scaled)"
   ]
  },
  {
   "cell_type": "code",
   "execution_count": 80,
   "metadata": {},
   "outputs": [
    {
     "name": "stdout",
     "output_type": "stream",
     "text": [
      "[[  0   0   0 ...   0   0   0]\n",
      " [  0   5   0 ...   0   0   0]\n",
      " [  0   0   0 ...   0   0   0]\n",
      " ...\n",
      " [  0   0   0 ...   1   0   0]\n",
      " [  0   0   0 ...   0 664   0]\n",
      " [  0   0   0 ...   0   0   0]]\n",
      "0.8029411764705883\n"
     ]
    }
   ],
   "source": [
    "from sklearn.metrics import confusion_matrix, accuracy_score\n",
    "cm_pca_scaled = confusion_matrix(y_test_pca_scaled, y_pred_svc_rbf_pca_scaled)\n",
    "print (cm_pca_scaled)\n",
    "acc_svc_rbf_pca_scaled = accuracy_score(y_test_pca_scaled, y_pred_svc_rbf_pca_scaled)\n",
    "print (acc_svc_rbf_pca_scaled)"
   ]
  },
  {
   "cell_type": "code",
   "execution_count": null,
   "metadata": {},
   "outputs": [],
   "source": []
  },
  {
   "cell_type": "code",
   "execution_count": null,
   "metadata": {},
   "outputs": [],
   "source": []
  },
  {
   "cell_type": "code",
   "execution_count": null,
   "metadata": {},
   "outputs": [],
   "source": []
  },
  {
   "cell_type": "code",
   "execution_count": null,
   "metadata": {},
   "outputs": [],
   "source": []
  },
  {
   "cell_type": "code",
   "execution_count": null,
   "metadata": {},
   "outputs": [],
   "source": []
  },
  {
   "cell_type": "markdown",
   "metadata": {},
   "source": [
    "### Decision tree"
   ]
  },
  {
   "cell_type": "code",
   "execution_count": 66,
   "metadata": {
    "collapsed": false,
    "jupyter": {
     "outputs_hidden": false
    }
   },
   "outputs": [
    {
     "data": {
      "text/plain": [
       "DecisionTreeClassifier(max_depth=5, random_state=0)"
      ]
     },
     "execution_count": 66,
     "metadata": {},
     "output_type": "execute_result"
    }
   ],
   "source": [
    "# build decision tree classifier\n",
    "clf_gini_pca_scaled = DecisionTreeClassifier(criterion='gini', max_depth=5, random_state=0)\n",
    "# train decision tree\n",
    "clf_gini_pca_scaled.fit(X_train_pca_scaled, y_train_pca_scaled)"
   ]
  },
  {
   "cell_type": "code",
   "execution_count": 67,
   "metadata": {
    "collapsed": false,
    "jupyter": {
     "outputs_hidden": false
    }
   },
   "outputs": [
    {
     "name": "stdout",
     "output_type": "stream",
     "text": [
      "               precision    recall  f1-score   support\n",
      "\n",
      "Entertainment       0.79      0.39      0.52       222\n",
      "   Navigating       0.70      0.55      0.61       271\n",
      "         Work       0.67      0.89      0.76       537\n",
      "  unavaliable       1.00      0.99      1.00       670\n",
      "\n",
      "     accuracy                           0.81      1700\n",
      "    macro avg       0.79      0.70      0.72      1700\n",
      " weighted avg       0.82      0.81      0.80      1700\n",
      "\n",
      "Train accuracy:\t 0.8145812310797175\n",
      "Test accuracy:\t 0.8094117647058824\n"
     ]
    },
    {
     "data": {
      "text/plain": [
       "<sklearn.metrics._plot.confusion_matrix.ConfusionMatrixDisplay at 0x1aa6647edf0>"
      ]
     },
     "execution_count": 67,
     "metadata": {},
     "output_type": "execute_result"
    },
    {
     "data": {
      "image/png": "[encoded data removed]",
      "text/plain": [
       "<Figure size 432x288 with 2 Axes>"
      ]
     },
     "metadata": {
      "needs_background": "light"
     },
     "output_type": "display_data"
    }
   ],
   "source": [
    "# make prediction\n",
    "y_pred_clf_gini_pca_scaled = clf_gini_pca_scaled.predict(X_test_pca_scaled)\n",
    "print(classification_report(y_test_pca_scaled, y_pred_clf_gini_pca_scaled))\n",
    "print(f'Train accuracy:\\t {clf_gini_pca_scaled.score(X_train_pca_scaled, y_train_pca_scaled)}')\n",
    "print(f'Test accuracy:\\t {clf_gini_pca_scaled.score(X_test_pca_scaled, y_test_pca_scaled)}')\n",
    "scores_pca_scaled['Decision Tree PCA (scaled)'] =  clf_gini_pca_scaled.score(X_test_pca_scaled, y_test_pca_scaled)\n",
    "\n",
    "ConfusionMatrixDisplay.from_predictions(y_test_pca_scaled, y_pred_clf_gini_pca_scaled)"
   ]
  },
  {
   "cell_type": "markdown",
   "metadata": {},
   "source": [
    "### Random Forest"
   ]
  },
  {
   "cell_type": "code",
   "execution_count": 68,
   "metadata": {
    "collapsed": false,
    "jupyter": {
     "outputs_hidden": false
    }
   },
   "outputs": [
    {
     "data": {
      "text/plain": [
       "RandomForestClassifier(n_estimators=5, n_jobs=2, random_state=1)"
      ]
     },
     "execution_count": 68,
     "metadata": {},
     "output_type": "execute_result"
    }
   ],
   "source": [
    "# build random forest classifier\n",
    "rfc_pca_scaled = RandomForestClassifier(criterion='gini', n_estimators=5, random_state=1, n_jobs=2)\n",
    "# train random forest\n",
    "rfc_pca_scaled.fit(X_train_pca_scaled, y_train_pca_scaled)"
   ]
  },
  {
   "cell_type": "code",
   "execution_count": 69,
   "metadata": {
    "collapsed": false,
    "jupyter": {
     "outputs_hidden": false
    }
   },
   "outputs": [
    {
     "name": "stdout",
     "output_type": "stream",
     "text": [
      "               precision    recall  f1-score   support\n",
      "\n",
      "Entertainment       0.84      0.85      0.84       222\n",
      "   Navigating       0.85      0.82      0.83       271\n",
      "         Work       0.90      0.91      0.90       537\n",
      "  unavaliable       1.00      0.99      1.00       670\n",
      "\n",
      "     accuracy                           0.92      1700\n",
      "    macro avg       0.90      0.89      0.89      1700\n",
      " weighted avg       0.92      0.92      0.92      1700\n",
      "\n",
      "Train accuracy:\t 0.9881432896064581\n",
      "Test accuracy:\t 0.9217647058823529\n"
     ]
    },
    {
     "data": {
      "text/plain": [
       "<sklearn.metrics._plot.confusion_matrix.ConfusionMatrixDisplay at 0x1aa6647e8b0>"
      ]
     },
     "execution_count": 69,
     "metadata": {},
     "output_type": "execute_result"
    },
    {
     "data": {
      "image/png": "[encoded data removed]",
      "text/plain": [
       "<Figure size 432x288 with 2 Axes>"
      ]
     },
     "metadata": {
      "needs_background": "light"
     },
     "output_type": "display_data"
    }
   ],
   "source": [
    "# make prediction\n",
    "y_pred_rfc_pca_scaled = rfc_pca_scaled.predict(X_test_pca_scaled)\n",
    "print(classification_report(y_test_pca_scaled, y_pred_rfc_pca_scaled))\n",
    "print(f'Train accuracy:\\t {rfc_pca_scaled.score(X_train_pca_scaled, y_train_pca_scaled)}')\n",
    "print(f'Test accuracy:\\t {rfc_pca_scaled.score(X_test_pca_scaled, y_test_pca_scaled)}')\n",
    "scores_pca_scaled['Random Forest PCA (scaled)'] = rfc_pca_scaled.score(X_test_pca_scaled, y_test_pca_scaled)\n",
    "\n",
    "ConfusionMatrixDisplay.from_predictions(y_test_pca_scaled, y_pred_rfc_pca_scaled)"
   ]
  },
  {
   "cell_type": "markdown",
   "metadata": {},
   "source": [
    "### KNeighbors Classifier"
   ]
  },
  {
   "cell_type": "code",
   "execution_count": 70,
   "metadata": {
    "collapsed": false,
    "jupyter": {
     "outputs_hidden": false
    }
   },
   "outputs": [
    {
     "data": {
      "text/plain": [
       "KNeighborsClassifier(n_neighbors=2)"
      ]
     },
     "execution_count": 70,
     "metadata": {},
     "output_type": "execute_result"
    }
   ],
   "source": [
    "# build KNeighbors classifier\n",
    "neigh_pca_scaled = KNeighborsClassifier(n_neighbors=2)\n",
    "# train KNeighbors\n",
    "neigh_pca_scaled.fit(X_train_pca_scaled, y_train_pca_scaled)"
   ]
  },
  {
   "cell_type": "code",
   "execution_count": 71,
   "metadata": {
    "collapsed": false,
    "jupyter": {
     "outputs_hidden": false
    }
   },
   "outputs": [
    {
     "name": "stdout",
     "output_type": "stream",
     "text": [
      "               precision    recall  f1-score   support\n",
      "\n",
      "Entertainment       0.80      0.94      0.86       222\n",
      "   Navigating       0.83      0.88      0.85       271\n",
      "         Work       0.95      0.86      0.91       537\n",
      "  unavaliable       1.00      1.00      1.00       670\n",
      "\n",
      "     accuracy                           0.93      1700\n",
      "    macro avg       0.90      0.92      0.91      1700\n",
      " weighted avg       0.93      0.93      0.93      1700\n",
      "\n",
      "Train accuracy:\t 0.9669525731584259\n",
      "Test accuracy:\t 0.9276470588235294\n"
     ]
    },
    {
     "data": {
      "text/plain": [
       "<sklearn.metrics._plot.confusion_matrix.ConfusionMatrixDisplay at 0x1aa64c89160>"
      ]
     },
     "execution_count": 71,
     "metadata": {},
     "output_type": "execute_result"
    },
    {
     "data": {
      "image/png": "[encoded data removed]",
      "text/plain": [
       "<Figure size 432x288 with 2 Axes>"
      ]
     },
     "metadata": {
      "needs_background": "light"
     },
     "output_type": "display_data"
    }
   ],
   "source": [
    "# make prediction\n",
    "y_pred_neigh_pca_scaled = neigh_pca_scaled.predict(X_test_pca_scaled)\n",
    "print(classification_report(y_test_pca_scaled, y_pred_neigh_pca_scaled))\n",
    "print(f'Train accuracy:\\t {neigh_pca_scaled.score(X_train_pca_scaled, y_train_pca_scaled)}')\n",
    "print(f'Test accuracy:\\t {neigh_pca_scaled.score(X_test_pca_scaled, y_test_pca_scaled)}')\n",
    "scores_pca_scaled['KNN PCA (scaled)'] =  neigh_pca_scaled.score(X_test_pca_scaled, y_test_pca_scaled)\n",
    "\n",
    "ConfusionMatrixDisplay.from_predictions(y_test_pca_scaled, y_pred_neigh_pca_scaled)"
   ]
  },
  {
   "cell_type": "markdown",
   "metadata": {},
   "source": [
    "### MLP"
   ]
  },
  {
   "cell_type": "code",
   "execution_count": 72,
   "metadata": {
    "collapsed": false,
    "jupyter": {
     "outputs_hidden": false
    }
   },
   "outputs": [
    {
     "data": {
      "text/plain": [
       "[<matplotlib.lines.Line2D at 0x1aa68c46700>]"
      ]
     },
     "execution_count": 72,
     "metadata": {},
     "output_type": "execute_result"
    },
    {
     "data": {
      "image/png": "[encoded data removed]",
      "text/plain": [
       "<Figure size 432x288 with 1 Axes>"
      ]
     },
     "metadata": {
      "needs_background": "light"
     },
     "output_type": "display_data"
    }
   ],
   "source": [
    "# build MLP classifier\n",
    "model_pca_scaled = MLPClassifier(hidden_layer_sizes=(200, 40, 10), activation='relu', solver='adam', max_iter=1000)\n",
    "# train model\n",
    "model_pca_scaled.fit(X_train_pca_scaled, y_train_pca_scaled)\n",
    "plt.plot(model_pca_scaled.loss_curve_)"
   ]
  },
  {
   "cell_type": "code",
   "execution_count": 73,
   "metadata": {
    "collapsed": false,
    "jupyter": {
     "outputs_hidden": false
    }
   },
   "outputs": [
    {
     "name": "stdout",
     "output_type": "stream",
     "text": [
      "               precision    recall  f1-score   support\n",
      "\n",
      "Entertainment       0.88      0.88      0.88       222\n",
      "   Navigating       0.92      0.87      0.89       271\n",
      "         Work       0.91      0.94      0.93       537\n",
      "  unavaliable       1.00      0.99      1.00       670\n",
      "\n",
      "     accuracy                           0.94      1700\n",
      "    macro avg       0.93      0.92      0.92      1700\n",
      " weighted avg       0.94      0.94      0.94      1700\n",
      "\n",
      "Train accuracy:\t 0.989656912209889\n",
      "Test accuracy:\t 0.9423529411764706\n"
     ]
    },
    {
     "data": {
      "text/plain": [
       "<sklearn.metrics._plot.confusion_matrix.ConfusionMatrixDisplay at 0x1aa68c60fa0>"
      ]
     },
     "execution_count": 73,
     "metadata": {},
     "output_type": "execute_result"
    },
    {
     "data": {
      "image/png": "[encoded data removed]",
      "text/plain": [
       "<Figure size 432x288 with 2 Axes>"
      ]
     },
     "metadata": {
      "needs_background": "light"
     },
     "output_type": "display_data"
    }
   ],
   "source": [
    "# make prediction\n",
    "y_pred_mlp_pca_scaled = model_pca_scaled.predict(X_test_pca_scaled)\n",
    "print(classification_report(y_test_pca_scaled, y_pred_mlp_pca_scaled))\n",
    "print(f'Train accuracy:\\t {model_pca_scaled.score(X_train_pca_scaled, y_train_pca_scaled)}')\n",
    "print(f'Test accuracy:\\t {model_pca_scaled.score(X_test_pca_scaled, y_test_pca_scaled)}')\n",
    "scores_pca_scaled['MLP PCA (scaled)'] =  model_pca_scaled.score(X_test_pca_scaled, y_test_pca_scaled)\n",
    "\n",
    "ConfusionMatrixDisplay.from_predictions(y_test_pca_scaled, y_pred_mlp_pca_scaled)"
   ]
  },
  {
   "cell_type": "markdown",
   "metadata": {},
   "source": [
    "## LDA Classifier"
   ]
  },
  {
   "cell_type": "code",
   "execution_count": 81,
   "metadata": {
    "collapsed": false,
    "jupyter": {
     "outputs_hidden": false
    }
   },
   "outputs": [],
   "source": [
    "scores_lda_scaled = {}"
   ]
  },
  {
   "cell_type": "code",
   "execution_count": 83,
   "metadata": {
    "collapsed": false,
    "jupyter": {
     "outputs_hidden": false
    }
   },
   "outputs": [
    {
     "data": {
      "text/plain": [
       "(5664, 3)"
      ]
     },
     "execution_count": 83,
     "metadata": {},
     "output_type": "execute_result"
    }
   ],
   "source": [
    "from sklearn.discriminant_analysis import LinearDiscriminantAnalysis\n",
    "\n",
    "lda_scaled = LinearDiscriminantAnalysis(n_components=3)\n",
    "X_lda_scaled = lda_scaled.fit(X_scaled, y).transform(X_scaled)\n",
    "X_lda_scaled.shape"
   ]
  },
  {
   "cell_type": "code",
   "execution_count": 84,
   "metadata": {
    "collapsed": false,
    "jupyter": {
     "outputs_hidden": false
    }
   },
   "outputs": [
    {
     "name": "stdout",
     "output_type": "stream",
     "text": [
      "(3964, 3) (1700, 3) (3964,) (1700,)\n"
     ]
    }
   ],
   "source": [
    "# split X and y into training and testing sets\n",
    "X_train_lda_scaled, X_test_lda_scaled, y_train_lda_scaled, y_test_lda_scaled = train_test_split(X_lda_scaled, y, test_size=0.30, random_state=42, stratify=y)\n",
    "\n",
    "print(X_train_lda_scaled.shape, X_test_lda_scaled.shape, y_train_lda_scaled.shape, y_test_lda_scaled.shape)"
   ]
  },
  {
   "cell_type": "code",
   "execution_count": null,
   "metadata": {},
   "outputs": [],
   "source": []
  },
  {
   "cell_type": "code",
   "execution_count": null,
   "metadata": {},
   "outputs": [],
   "source": []
  },
  {
   "cell_type": "markdown",
   "metadata": {},
   "source": [
    "# AdaBoost Classifier with Normalized data and LDA"
   ]
  },
  {
   "cell_type": "code",
   "execution_count": 86,
   "metadata": {},
   "outputs": [
    {
     "name": "stdout",
     "output_type": "stream",
     "text": [
      "[[  0   0   0 ...   0   0   0]\n",
      " [  0   0   0 ...   0   0   0]\n",
      " [  0   0   0 ...   0   0   0]\n",
      " ...\n",
      " [  0   0   0 ...   0   0   0]\n",
      " [  0   0   0 ...   0 665   0]\n",
      " [  0   0   0 ...   0   0   0]]\n",
      "0.4541176470588235\n"
     ]
    }
   ],
   "source": [
    "from sklearn.ensemble import AdaBoostClassifier\n",
    "abc = AdaBoostClassifier()\n",
    "abc.fit(X_train_lda_scaled, y_train_lda_scaled)\n",
    "\n",
    "y_pred_abc_lda_scaled = abc.predict(X_test_lda_scaled)\n",
    "\n",
    "from sklearn.metrics import confusion_matrix, accuracy_score\n",
    "cm_lda_scaled = confusion_matrix(y_test_lda_scaled, y_pred_abc_lda_scaled)\n",
    "print (cm_lda_scaled)\n",
    "acc_abc_lda_scaled = accuracy_score(y_test_lda_scaled, y_pred_abc_lda_scaled)\n",
    "print (acc_abc_lda_scaled)"
   ]
  },
  {
   "cell_type": "code",
   "execution_count": null,
   "metadata": {},
   "outputs": [],
   "source": []
  },
  {
   "cell_type": "markdown",
   "metadata": {},
   "source": [
    "# Naïve Bayes with Normalized data and LDA"
   ]
  },
  {
   "cell_type": "code",
   "execution_count": 87,
   "metadata": {},
   "outputs": [
    {
     "data": {
      "text/plain": [
       "GaussianNB()"
      ]
     },
     "execution_count": 87,
     "metadata": {},
     "output_type": "execute_result"
    }
   ],
   "source": [
    "from sklearn.naive_bayes import GaussianNB\n",
    "nb = GaussianNB()\n",
    "nb.fit(X_train_lda_scaled, y_train_lda_scaled)"
   ]
  },
  {
   "cell_type": "code",
   "execution_count": 88,
   "metadata": {},
   "outputs": [],
   "source": [
    "y_pred_lda_scaled = nb.predict(X_test_lda_scaled)"
   ]
  },
  {
   "cell_type": "code",
   "execution_count": 89,
   "metadata": {},
   "outputs": [
    {
     "name": "stdout",
     "output_type": "stream",
     "text": [
      "[[  0   0   0 ...   0   0   0]\n",
      " [  0   5   0 ...   0   0   0]\n",
      " [  0   0   0 ...   0   0   0]\n",
      " ...\n",
      " [  0   0   0 ...   0   0   0]\n",
      " [  0   0   0 ...   3 661   0]\n",
      " [  0   0   0 ...   0   0   0]]\n",
      "0.6188235294117647\n"
     ]
    }
   ],
   "source": [
    "from sklearn.metrics import confusion_matrix, accuracy_score\n",
    "cm_lda_scaled = confusion_matrix(y_test_lda_scaled, y_pred_lda_scaled)\n",
    "print(cm_lda_scaled)\n",
    "acc_nb_lda_scaled = accuracy_score(y_test_lda_scaled, y_pred_lda_scaled)\n",
    "print(acc_nb_lda_scaled)"
   ]
  },
  {
   "cell_type": "code",
   "execution_count": null,
   "metadata": {},
   "outputs": [],
   "source": []
  },
  {
   "cell_type": "markdown",
   "metadata": {},
   "source": [
    "# Kernel SVM (Support Vector Machine) with Normalized data and LDA"
   ]
  },
  {
   "cell_type": "code",
   "execution_count": 90,
   "metadata": {},
   "outputs": [
    {
     "data": {
      "text/plain": [
       "SVC(random_state=0)"
      ]
     },
     "execution_count": 90,
     "metadata": {},
     "output_type": "execute_result"
    }
   ],
   "source": [
    "from sklearn.svm import SVC\n",
    "svc_rbf = SVC(kernel = 'rbf', random_state = 0)\n",
    "svc_rbf.fit(X_train_lda_scaled, y_train_lda_scaled)"
   ]
  },
  {
   "cell_type": "code",
   "execution_count": 91,
   "metadata": {},
   "outputs": [],
   "source": [
    "y_pred_svc_rbf_lda_scaled = svc_rbf.predict(X_test_lda_scaled)"
   ]
  },
  {
   "cell_type": "code",
   "execution_count": 92,
   "metadata": {},
   "outputs": [
    {
     "name": "stdout",
     "output_type": "stream",
     "text": [
      "[[  0   0   0 ...   0   0   0]\n",
      " [  0   0   0 ...   0   0   0]\n",
      " [  0   0   0 ...   0   0   0]\n",
      " ...\n",
      " [  0   0   0 ...   0   0   0]\n",
      " [  0   0   0 ...   0 665   0]\n",
      " [  0   0   0 ...   0   0   0]]\n",
      "0.6005882352941176\n"
     ]
    }
   ],
   "source": [
    "from sklearn.metrics import confusion_matrix, accuracy_score\n",
    "cm_lda_scaled = confusion_matrix(y_test_lda_scaled, y_pred_svc_rbf_lda_scaled)\n",
    "print (cm_lda_scaled)\n",
    "acc_svc_rbf_lda_scaled = accuracy_score(y_test_lda_scaled, y_pred_svc_rbf_lda_scaled)\n",
    "print (acc_svc_rbf_lda_scaled)"
   ]
  },
  {
   "cell_type": "code",
   "execution_count": null,
   "metadata": {},
   "outputs": [],
   "source": []
  },
  {
   "cell_type": "markdown",
   "metadata": {},
   "source": [
    "### Decision tree"
   ]
  },
  {
   "cell_type": "code",
   "execution_count": 77,
   "metadata": {
    "collapsed": false,
    "jupyter": {
     "outputs_hidden": false
    }
   },
   "outputs": [
    {
     "data": {
      "text/plain": [
       "DecisionTreeClassifier(max_depth=5, random_state=0)"
      ]
     },
     "execution_count": 77,
     "metadata": {},
     "output_type": "execute_result"
    }
   ],
   "source": [
    "# build decision tree classifier\n",
    "clf_gini_lda_scaled = DecisionTreeClassifier(criterion='gini', max_depth=5, random_state=0)\n",
    "# train decision tree\n",
    "clf_gini_lda_scaled.fit(X_train_lda_scaled, y_train_lda_scaled)"
   ]
  },
  {
   "cell_type": "code",
   "execution_count": 78,
   "metadata": {
    "collapsed": false,
    "jupyter": {
     "outputs_hidden": false
    }
   },
   "outputs": [
    {
     "name": "stdout",
     "output_type": "stream",
     "text": [
      "               precision    recall  f1-score   support\n",
      "\n",
      "Entertainment       0.66      0.59      0.62       222\n",
      "   Navigating       0.78      0.49      0.60       271\n",
      "         Work       0.70      0.87      0.78       537\n",
      "  unavaliable       1.00      0.99      1.00       670\n",
      "\n",
      "     accuracy                           0.82      1700\n",
      "    macro avg       0.78      0.74      0.75      1700\n",
      " weighted avg       0.83      0.82      0.81      1700\n",
      "\n",
      "Train accuracy:\t 0.8375378405650857\n",
      "Test accuracy:\t 0.8205882352941176\n"
     ]
    },
    {
     "data": {
      "text/plain": [
       "<sklearn.metrics._plot.confusion_matrix.ConfusionMatrixDisplay at 0x1aa68d4d550>"
      ]
     },
     "execution_count": 78,
     "metadata": {},
     "output_type": "execute_result"
    },
    {
     "data": {
      "image/png": "[encoded data removed]",
      "text/plain": [
       "<Figure size 432x288 with 2 Axes>"
      ]
     },
     "metadata": {
      "needs_background": "light"
     },
     "output_type": "display_data"
    }
   ],
   "source": [
    "# make prediction\n",
    "y_pred_clf_gini_lda_scaled = clf_gini_lda_scaled.predict(X_test_lda_scaled)\n",
    "print(classification_report(y_test_lda_scaled, y_pred_clf_gini_lda_scaled))\n",
    "print(f'Train accuracy:\\t {clf_gini_lda_scaled.score(X_train_lda_scaled, y_train_lda_scaled)}')\n",
    "print(f'Test accuracy:\\t {clf_gini_lda_scaled.score(X_test_lda_scaled, y_test_lda_scaled)}')\n",
    "scores_lda_scaled['Decision Tree LDA (scaled)'] =  clf_gini_lda_scaled.score(X_test_lda_scaled, y_test_lda_scaled)\n",
    "\n",
    "ConfusionMatrixDisplay.from_predictions(y_test_lda_scaled, y_pred_clf_gini_lda_scaled)"
   ]
  },
  {
   "cell_type": "markdown",
   "metadata": {},
   "source": [
    "### Random Forest"
   ]
  },
  {
   "cell_type": "code",
   "execution_count": 79,
   "metadata": {
    "collapsed": false,
    "jupyter": {
     "outputs_hidden": false
    }
   },
   "outputs": [
    {
     "data": {
      "text/plain": [
       "RandomForestClassifier(n_estimators=5, n_jobs=2, random_state=1)"
      ]
     },
     "execution_count": 79,
     "metadata": {},
     "output_type": "execute_result"
    }
   ],
   "source": [
    "# build random forest classifier\n",
    "rfc_lda_scaled = RandomForestClassifier(criterion='gini', n_estimators=5, random_state=1, n_jobs=2)\n",
    "# train random forest\n",
    "rfc_lda_scaled.fit(X_train_lda_scaled, y_train_lda_scaled)"
   ]
  },
  {
   "cell_type": "code",
   "execution_count": 80,
   "metadata": {
    "collapsed": false,
    "jupyter": {
     "outputs_hidden": false
    }
   },
   "outputs": [
    {
     "name": "stdout",
     "output_type": "stream",
     "text": [
      "               precision    recall  f1-score   support\n",
      "\n",
      "Entertainment       0.67      0.77      0.72       222\n",
      "   Navigating       0.78      0.72      0.75       271\n",
      "         Work       0.84      0.82      0.83       537\n",
      "  unavaliable       1.00      1.00      1.00       670\n",
      "\n",
      "     accuracy                           0.87      1700\n",
      "    macro avg       0.82      0.83      0.82      1700\n",
      " weighted avg       0.87      0.87      0.87      1700\n",
      "\n",
      "Train accuracy:\t 0.9808274470232089\n",
      "Test accuracy:\t 0.8688235294117647\n"
     ]
    },
    {
     "data": {
      "text/plain": [
       "<sklearn.metrics._plot.confusion_matrix.ConfusionMatrixDisplay at 0x1aa69dda940>"
      ]
     },
     "execution_count": 80,
     "metadata": {},
     "output_type": "execute_result"
    },
    {
     "data": {
      "image/png": "[encoded data removed]",
      "text/plain": [
       "<Figure size 432x288 with 2 Axes>"
      ]
     },
     "metadata": {
      "needs_background": "light"
     },
     "output_type": "display_data"
    }
   ],
   "source": [
    "# make prediction\n",
    "y_pred_rfc_lda_scaled = rfc_lda_scaled.predict(X_test_lda_scaled)\n",
    "print(classification_report(y_test_lda_scaled, y_pred_rfc_lda_scaled))\n",
    "print(f'Train accuracy:\\t {rfc_lda_scaled.score(X_train_lda_scaled, y_train_lda_scaled)}')\n",
    "print(f'Test accuracy:\\t {rfc_lda_scaled.score(X_test_lda_scaled, y_test_lda_scaled)}')\n",
    "scores_lda_scaled['Random Forest LDA (scaled)'] = rfc_lda_scaled.score(X_test_lda_scaled, y_test_lda_scaled)\n",
    "\n",
    "ConfusionMatrixDisplay.from_predictions(y_test_lda_scaled, y_pred_rfc_lda_scaled)"
   ]
  },
  {
   "cell_type": "markdown",
   "metadata": {},
   "source": [
    "### KNeighbors Classifier"
   ]
  },
  {
   "cell_type": "code",
   "execution_count": 81,
   "metadata": {
    "collapsed": false,
    "jupyter": {
     "outputs_hidden": false
    }
   },
   "outputs": [
    {
     "data": {
      "text/plain": [
       "KNeighborsClassifier()"
      ]
     },
     "execution_count": 81,
     "metadata": {},
     "output_type": "execute_result"
    }
   ],
   "source": [
    "# build KNeighbors classifier\n",
    "neigh_lda_scaled = KNeighborsClassifier(n_neighbors=5)\n",
    "# train KNeighbors\n",
    "neigh_lda_scaled.fit(X_train_lda_scaled, y_train_lda_scaled)"
   ]
  },
  {
   "cell_type": "code",
   "execution_count": 82,
   "metadata": {
    "collapsed": false,
    "jupyter": {
     "outputs_hidden": false
    }
   },
   "outputs": [
    {
     "name": "stdout",
     "output_type": "stream",
     "text": [
      "               precision    recall  f1-score   support\n",
      "\n",
      "Entertainment       0.70      0.78      0.74       222\n",
      "   Navigating       0.82      0.69      0.75       271\n",
      "         Work       0.84      0.86      0.85       537\n",
      "  unavaliable       1.00      1.00      1.00       670\n",
      "\n",
      "     accuracy                           0.88      1700\n",
      "    macro avg       0.84      0.83      0.83      1700\n",
      " weighted avg       0.88      0.88      0.88      1700\n",
      "\n",
      "Train accuracy:\t 0.9018668012108981\n",
      "Test accuracy:\t 0.8776470588235294\n"
     ]
    },
    {
     "data": {
      "text/plain": [
       "<sklearn.metrics._plot.confusion_matrix.ConfusionMatrixDisplay at 0x1aa60b50b50>"
      ]
     },
     "execution_count": 82,
     "metadata": {},
     "output_type": "execute_result"
    },
    {
     "data": {
      "image/png": "[encoded data removed]",
      "text/plain": [
       "<Figure size 432x288 with 2 Axes>"
      ]
     },
     "metadata": {
      "needs_background": "light"
     },
     "output_type": "display_data"
    }
   ],
   "source": [
    "# make prediction\n",
    "y_pred_neigh_lda_scaled = neigh_lda_scaled.predict(X_test_lda_scaled)\n",
    "print(classification_report(y_test_lda_scaled, y_pred_neigh_lda_scaled))\n",
    "print(f'Train accuracy:\\t {neigh_lda_scaled.score(X_train_lda_scaled, y_train_lda_scaled)}')\n",
    "print(f'Test accuracy:\\t {neigh_lda_scaled.score(X_test_lda_scaled, y_test_lda_scaled)}')\n",
    "scores_lda_scaled['KNN LDA (scaled)'] =  neigh_lda_scaled.score(X_test_lda_scaled, y_test_lda_scaled)\n",
    "\n",
    "ConfusionMatrixDisplay.from_predictions(y_test_lda_scaled, y_pred_neigh_lda_scaled)"
   ]
  },
  {
   "cell_type": "markdown",
   "metadata": {},
   "source": [
    "### MLP"
   ]
  },
  {
   "cell_type": "code",
   "execution_count": 83,
   "metadata": {
    "collapsed": false,
    "jupyter": {
     "outputs_hidden": false
    }
   },
   "outputs": [
    {
     "data": {
      "text/plain": [
       "[<matplotlib.lines.Line2D at 0x1aa69f848b0>]"
      ]
     },
     "execution_count": 83,
     "metadata": {},
     "output_type": "execute_result"
    },
    {
     "data": {
      "image/png": "[encoded data removed]",
      "text/plain": [
       "<Figure size 432x288 with 1 Axes>"
      ]
     },
     "metadata": {
      "needs_background": "light"
     },
     "output_type": "display_data"
    }
   ],
   "source": [
    "# build MLP classifier\n",
    "model_lda_scaled = MLPClassifier(hidden_layer_sizes=(200, 40, 10), activation='relu', solver='adam', max_iter=1000)\n",
    "# train model\n",
    "model_lda_scaled.fit(X_train_lda_scaled, y_train_lda_scaled)\n",
    "plt.plot(model_lda_scaled.loss_curve_)"
   ]
  },
  {
   "cell_type": "code",
   "execution_count": 84,
   "metadata": {
    "collapsed": false,
    "jupyter": {
     "outputs_hidden": false
    }
   },
   "outputs": [
    {
     "name": "stdout",
     "output_type": "stream",
     "text": [
      "               precision    recall  f1-score   support\n",
      "\n",
      "Entertainment       0.65      0.74      0.69       222\n",
      "   Navigating       0.77      0.65      0.70       271\n",
      "         Work       0.81      0.82      0.81       537\n",
      "  unavaliable       1.00      1.00      1.00       670\n",
      "\n",
      "     accuracy                           0.85      1700\n",
      "    macro avg       0.80      0.80      0.80      1700\n",
      " weighted avg       0.85      0.85      0.85      1700\n",
      "\n",
      "Train accuracy:\t 0.8652875882946519\n",
      "Test accuracy:\t 0.851764705882353\n"
     ]
    },
    {
     "data": {
      "text/plain": [
       "<sklearn.metrics._plot.confusion_matrix.ConfusionMatrixDisplay at 0x1aa69fb4c40>"
      ]
     },
     "execution_count": 84,
     "metadata": {},
     "output_type": "execute_result"
    },
    {
     "data": {
      "image/png": "[encoded data removed]",
      "text/plain": [
       "<Figure size 432x288 with 2 Axes>"
      ]
     },
     "metadata": {
      "needs_background": "light"
     },
     "output_type": "display_data"
    }
   ],
   "source": [
    "# make prediction\n",
    "y_pred_mlp_lda_scaled = model_lda_scaled.predict(X_test_lda_scaled)\n",
    "print(classification_report(y_test_lda_scaled, y_pred_mlp_lda_scaled))\n",
    "print(f'Train accuracy:\\t {model_lda_scaled.score(X_train_lda_scaled, y_train_lda_scaled)}')\n",
    "print(f'Test accuracy:\\t {model_lda_scaled.score(X_test_lda_scaled, y_test_lda_scaled)}')\n",
    "scores_lda_scaled['MLP LDA (scaled)'] =  model_lda_scaled.score(X_test_lda_scaled, y_test_lda_scaled)\n",
    "\n",
    "ConfusionMatrixDisplay.from_predictions(y_test_lda_scaled, y_pred_mlp_lda_scaled)"
   ]
  },
  {
   "cell_type": "markdown",
   "metadata": {},
   "source": [
    "# Final scores"
   ]
  },
  {
   "cell_type": "code",
   "execution_count": 85,
   "metadata": {
    "collapsed": false,
    "jupyter": {
     "outputs_hidden": false
    }
   },
   "outputs": [
    {
     "data": {
      "text/plain": [
       "<BarContainer object of 4 artists>"
      ]
     },
     "execution_count": 85,
     "metadata": {},
     "output_type": "execute_result"
    },
    {
     "data": {
      "image/png": "[encoded data removed]",
      "text/plain": [
       "<Figure size 432x288 with 1 Axes>"
      ]
     },
     "metadata": {
      "needs_background": "light"
     },
     "output_type": "display_data"
    }
   ],
   "source": [
    "plt.barh(list(scores_scaled.keys()), scores_scaled.values())\n",
    "plt.barh(list(scores_pca_scaled.keys()), scores_pca_scaled.values())\n",
    "plt.barh(list(scores_lda_scaled.keys()), scores_lda_scaled.values())"
   ]
  },
  {
   "cell_type": "code",
   "execution_count": 86,
   "metadata": {
    "collapsed": false,
    "jupyter": {
     "outputs_hidden": false
    }
   },
   "outputs": [
    {
     "data": {
      "text/plain": [
       "{'Decision Tree (scaled)': 0.7611764705882353,\n",
       " 'Random Forest (scaled)': 0.9564705882352941,\n",
       " 'KNN (scaled)': 0.9258823529411765,\n",
       " 'MLP (scaled)': 0.93}"
      ]
     },
     "execution_count": 86,
     "metadata": {},
     "output_type": "execute_result"
    }
   ],
   "source": [
    "scores_scaled"
   ]
  },
  {
   "cell_type": "code",
   "execution_count": 87,
   "metadata": {
    "collapsed": false,
    "jupyter": {
     "outputs_hidden": false
    }
   },
   "outputs": [
    {
     "data": {
      "text/plain": [
       "{'Decision Tree PCA (scaled)': 0.8094117647058824,\n",
       " 'Random Forest PCA (scaled)': 0.9217647058823529,\n",
       " 'KNN PCA (scaled)': 0.9276470588235294,\n",
       " 'MLP PCA (scaled)': 0.9423529411764706}"
      ]
     },
     "execution_count": 87,
     "metadata": {},
     "output_type": "execute_result"
    }
   ],
   "source": [
    "scores_pca_scaled"
   ]
  },
  {
   "cell_type": "code",
   "execution_count": 88,
   "metadata": {
    "collapsed": false,
    "jupyter": {
     "outputs_hidden": false
    }
   },
   "outputs": [
    {
     "data": {
      "text/plain": [
       "{'Decision Tree LDA (scaled)': 0.8205882352941176,\n",
       " 'Random Forest LDA (scaled)': 0.8688235294117647,\n",
       " 'KNN LDA (scaled)': 0.8776470588235294,\n",
       " 'MLP LDA (scaled)': 0.851764705882353}"
      ]
     },
     "execution_count": 88,
     "metadata": {},
     "output_type": "execute_result"
    }
   ],
   "source": [
    "scores_lda_scaled"
   ]
  },
  {
   "cell_type": "code",
   "execution_count": 97,
   "metadata": {
    "collapsed": false,
    "jupyter": {
     "outputs_hidden": false
    }
   },
   "outputs": [
    {
     "data": {
      "text/plain": [
       "0.9564705882352941"
      ]
     },
     "execution_count": 97,
     "metadata": {},
     "output_type": "execute_result"
    }
   ],
   "source": [
    "# get the highest accuracy\n",
    "max(max(scores_scaled.values()), max(scores_pca_scaled.values()), max(scores_lda_scaled.values()))"
   ]
  }
 ],
 "metadata": {
  "kernelspec": {
   "display_name": "Python 3 (ipykernel)",
   "language": "python",
   "name": "python3"
  },
  "language_info": {
   "codemirror_mode": {
    "name": "ipython",
    "version": 3
   },
   "file_extension": ".py",
   "mimetype": "text/x-python",
   "name": "python",
   "nbconvert_exporter": "python",
   "pygments_lexer": "ipython3",
   "version": "3.8.15"
  },
  "vscode": {
   "interpreter": {
    "hash": "361fc55018a8d54345afa37500bfc8496b5fc20eafc0a84f496d715bfbbc1222"
   }
  }
 },
 "nbformat": 4,
 "nbformat_minor": 4
}
