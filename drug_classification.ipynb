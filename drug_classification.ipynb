{
 "cells": [
  {
   "cell_type": "markdown",
   "metadata": {
    "collapsed": false
   },
   "source": [
    "## Load dataset"
   ]
  },
  {
   "cell_type": "code",
   "execution_count": 155,
   "id": "a591fcd3",
   "metadata": {
    "execution": {
     "iopub.execute_input": "2023-01-06T20:33:21.683783Z",
     "iopub.status.busy": "2023-01-06T20:33:21.683313Z",
     "iopub.status.idle": "2023-01-06T20:33:21.731888Z",
     "shell.execute_reply": "2023-01-06T20:33:21.730552Z"
    },
    "papermill": {
     "duration": 0.057506,
     "end_time": "2023-01-06T20:33:21.734410",
     "exception": false,
     "start_time": "2023-01-06T20:33:21.676904",
     "status": "completed"
    },
    "tags": []
   },
   "outputs": [
    {
     "data": {
      "text/plain": "     Age Sex      BP Cholesterol  Na_to_K   Drug\n0     23   F    HIGH        HIGH   25.355  DrugY\n1     47   M     LOW        HIGH   13.093  drugC\n2     47   M     LOW        HIGH   10.114  drugC\n3     28   F  NORMAL        HIGH    7.798  drugX\n4     61   F     LOW        HIGH   18.043  DrugY\n..   ...  ..     ...         ...      ...    ...\n195   56   F     LOW        HIGH   11.567  drugC\n196   16   M     LOW        HIGH   12.006  drugC\n197   52   M  NORMAL        HIGH    9.894  drugX\n198   23   M  NORMAL      NORMAL   14.020  drugX\n199   40   F     LOW      NORMAL   11.349  drugX\n\n[200 rows x 6 columns]",
      "text/html": "<div>\n<style scoped>\n    .dataframe tbody tr th:only-of-type {\n        vertical-align: middle;\n    }\n\n    .dataframe tbody tr th {\n        vertical-align: top;\n    }\n\n    .dataframe thead th {\n        text-align: right;\n    }\n</style>\n<table border=\"1\" class=\"dataframe\">\n  <thead>\n    <tr style=\"text-align: right;\">\n      <th></th>\n      <th>Age</th>\n      <th>Sex</th>\n      <th>BP</th>\n      <th>Cholesterol</th>\n      <th>Na_to_K</th>\n      <th>Drug</th>\n    </tr>\n  </thead>\n  <tbody>\n    <tr>\n      <th>0</th>\n      <td>23</td>\n      <td>F</td>\n      <td>HIGH</td>\n      <td>HIGH</td>\n      <td>25.355</td>\n      <td>DrugY</td>\n    </tr>\n    <tr>\n      <th>1</th>\n      <td>47</td>\n      <td>M</td>\n      <td>LOW</td>\n      <td>HIGH</td>\n      <td>13.093</td>\n      <td>drugC</td>\n    </tr>\n    <tr>\n      <th>2</th>\n      <td>47</td>\n      <td>M</td>\n      <td>LOW</td>\n      <td>HIGH</td>\n      <td>10.114</td>\n      <td>drugC</td>\n    </tr>\n    <tr>\n      <th>3</th>\n      <td>28</td>\n      <td>F</td>\n      <td>NORMAL</td>\n      <td>HIGH</td>\n      <td>7.798</td>\n      <td>drugX</td>\n    </tr>\n    <tr>\n      <th>4</th>\n      <td>61</td>\n      <td>F</td>\n      <td>LOW</td>\n      <td>HIGH</td>\n      <td>18.043</td>\n      <td>DrugY</td>\n    </tr>\n    <tr>\n      <th>...</th>\n      <td>...</td>\n      <td>...</td>\n      <td>...</td>\n      <td>...</td>\n      <td>...</td>\n      <td>...</td>\n    </tr>\n    <tr>\n      <th>195</th>\n      <td>56</td>\n      <td>F</td>\n      <td>LOW</td>\n      <td>HIGH</td>\n      <td>11.567</td>\n      <td>drugC</td>\n    </tr>\n    <tr>\n      <th>196</th>\n      <td>16</td>\n      <td>M</td>\n      <td>LOW</td>\n      <td>HIGH</td>\n      <td>12.006</td>\n      <td>drugC</td>\n    </tr>\n    <tr>\n      <th>197</th>\n      <td>52</td>\n      <td>M</td>\n      <td>NORMAL</td>\n      <td>HIGH</td>\n      <td>9.894</td>\n      <td>drugX</td>\n    </tr>\n    <tr>\n      <th>198</th>\n      <td>23</td>\n      <td>M</td>\n      <td>NORMAL</td>\n      <td>NORMAL</td>\n      <td>14.020</td>\n      <td>drugX</td>\n    </tr>\n    <tr>\n      <th>199</th>\n      <td>40</td>\n      <td>F</td>\n      <td>LOW</td>\n      <td>NORMAL</td>\n      <td>11.349</td>\n      <td>drugX</td>\n    </tr>\n  </tbody>\n</table>\n<p>200 rows × 6 columns</p>\n</div>"
     },
     "execution_count": 155,
     "metadata": {},
     "output_type": "execute_result"
    }
   ],
   "source": [
    "import pandas as pd\n",
    "from matplotlib import pyplot as plt\n",
    "\n",
    "# load dataset\n",
    "df = pd.read_csv('drug_dataset.csv')\n",
    "df"
   ]
  },
  {
   "cell_type": "markdown",
   "metadata": {
    "collapsed": false
   },
   "source": [
    "## Inspect dataset"
   ]
  },
  {
   "cell_type": "code",
   "execution_count": 156,
   "metadata": {
    "collapsed": false
   },
   "outputs": [
    {
     "data": {
      "text/plain": "              Age     Na_to_K\ncount  200.000000  200.000000\nmean    44.315000   16.084485\nstd     16.544315    7.223956\nmin     15.000000    6.269000\n25%     31.000000   10.445500\n50%     45.000000   13.936500\n75%     58.000000   19.380000\nmax     74.000000   38.247000",
      "text/html": "<div>\n<style scoped>\n    .dataframe tbody tr th:only-of-type {\n        vertical-align: middle;\n    }\n\n    .dataframe tbody tr th {\n        vertical-align: top;\n    }\n\n    .dataframe thead th {\n        text-align: right;\n    }\n</style>\n<table border=\"1\" class=\"dataframe\">\n  <thead>\n    <tr style=\"text-align: right;\">\n      <th></th>\n      <th>Age</th>\n      <th>Na_to_K</th>\n    </tr>\n  </thead>\n  <tbody>\n    <tr>\n      <th>count</th>\n      <td>200.000000</td>\n      <td>200.000000</td>\n    </tr>\n    <tr>\n      <th>mean</th>\n      <td>44.315000</td>\n      <td>16.084485</td>\n    </tr>\n    <tr>\n      <th>std</th>\n      <td>16.544315</td>\n      <td>7.223956</td>\n    </tr>\n    <tr>\n      <th>min</th>\n      <td>15.000000</td>\n      <td>6.269000</td>\n    </tr>\n    <tr>\n      <th>25%</th>\n      <td>31.000000</td>\n      <td>10.445500</td>\n    </tr>\n    <tr>\n      <th>50%</th>\n      <td>45.000000</td>\n      <td>13.936500</td>\n    </tr>\n    <tr>\n      <th>75%</th>\n      <td>58.000000</td>\n      <td>19.380000</td>\n    </tr>\n    <tr>\n      <th>max</th>\n      <td>74.000000</td>\n      <td>38.247000</td>\n    </tr>\n  </tbody>\n</table>\n</div>"
     },
     "execution_count": 156,
     "metadata": {},
     "output_type": "execute_result"
    }
   ],
   "source": [
    "df.describe()"
   ]
  },
  {
   "cell_type": "code",
   "execution_count": 157,
   "metadata": {
    "collapsed": false
   },
   "outputs": [
    {
     "name": "stdout",
     "output_type": "stream",
     "text": [
      "<class 'pandas.core.frame.DataFrame'>\n",
      "RangeIndex: 200 entries, 0 to 199\n",
      "Data columns (total 6 columns):\n",
      " #   Column       Non-Null Count  Dtype  \n",
      "---  ------       --------------  -----  \n",
      " 0   Age          200 non-null    int64  \n",
      " 1   Sex          200 non-null    object \n",
      " 2   BP           200 non-null    object \n",
      " 3   Cholesterol  200 non-null    object \n",
      " 4   Na_to_K      200 non-null    float64\n",
      " 5   Drug         200 non-null    object \n",
      "dtypes: float64(1), int64(1), object(4)\n",
      "memory usage: 9.5+ KB\n"
     ]
    }
   ],
   "source": [
    "# Check columns and types\n",
    "df.info()"
   ]
  },
  {
   "cell_type": "code",
   "execution_count": 158,
   "outputs": [
    {
     "data": {
      "text/plain": "Age            0\nSex            0\nBP             0\nCholesterol    0\nNa_to_K        0\nDrug           0\ndtype: int64"
     },
     "execution_count": 158,
     "metadata": {},
     "output_type": "execute_result"
    },
    {
     "data": {
      "text/plain": "<Figure size 1800x720 with 2 Axes>",
      "image/png": "[encoded data removed]"
     },
     "metadata": {},
     "output_type": "display_data"
    }
   ],
   "source": [
    "import missingno as msno\n",
    "\n",
    "# check for NaN values\n",
    "msno.matrix(df)\n",
    "\n",
    "df.isna().sum()"
   ],
   "metadata": {
    "collapsed": false
   }
  },
  {
   "cell_type": "code",
   "execution_count": 159,
   "outputs": [
    {
     "data": {
      "text/plain": "0"
     },
     "execution_count": 159,
     "metadata": {},
     "output_type": "execute_result"
    }
   ],
   "source": [
    "df.duplicated().sum()"
   ],
   "metadata": {
    "collapsed": false
   }
  },
  {
   "cell_type": "code",
   "execution_count": 160,
   "metadata": {
    "collapsed": false
   },
   "outputs": [
    {
     "data": {
      "text/plain": "DrugY    91\ndrugX    54\ndrugA    23\ndrugC    16\ndrugB    16\nName: Drug, dtype: int64"
     },
     "execution_count": 160,
     "metadata": {},
     "output_type": "execute_result"
    }
   ],
   "source": [
    "# Check labels\n",
    "df['Drug'].value_counts()"
   ]
  },
  {
   "cell_type": "code",
   "execution_count": 161,
   "metadata": {
    "collapsed": false
   },
   "outputs": [
    {
     "data": {
      "text/plain": "<AxesSubplot:>"
     },
     "execution_count": 161,
     "metadata": {},
     "output_type": "execute_result"
    },
    {
     "data": {
      "text/plain": "<Figure size 432x288 with 1 Axes>",
      "image/png": "[encoded data removed]"
     },
     "metadata": {},
     "output_type": "display_data"
    }
   ],
   "source": [
    "df['Drug'].hist()"
   ]
  },
  {
   "cell_type": "markdown",
   "metadata": {
    "collapsed": false
   },
   "source": [
    "## Data maipulation"
   ]
  },
  {
   "cell_type": "code",
   "execution_count": 162,
   "id": "ebe092ff",
   "metadata": {
    "execution": {
     "iopub.execute_input": "2023-01-06T20:33:21.796448Z",
     "iopub.status.busy": "2023-01-06T20:33:21.795939Z",
     "iopub.status.idle": "2023-01-06T20:33:21.803770Z",
     "shell.execute_reply": "2023-01-06T20:33:21.802298Z"
    },
    "papermill": {
     "duration": 0.018729,
     "end_time": "2023-01-06T20:33:21.807714",
     "exception": false,
     "start_time": "2023-01-06T20:33:21.788985",
     "status": "completed"
    },
    "tags": []
   },
   "outputs": [
    {
     "data": {
      "text/plain": "     Age  Sex  BP  Cholesterol  Na_to_K   Drug\n0     23    1   1            1   25.355  DrugY\n1     47    2   2            1   13.093  drugC\n2     47    2   2            1   10.114  drugC\n3     28    1   3            1    7.798  drugX\n4     61    1   2            1   18.043  DrugY\n..   ...  ...  ..          ...      ...    ...\n195   56    1   2            1   11.567  drugC\n196   16    2   2            1   12.006  drugC\n197   52    2   3            1    9.894  drugX\n198   23    2   3            2   14.020  drugX\n199   40    1   2            2   11.349  drugX\n\n[200 rows x 6 columns]",
      "text/html": "<div>\n<style scoped>\n    .dataframe tbody tr th:only-of-type {\n        vertical-align: middle;\n    }\n\n    .dataframe tbody tr th {\n        vertical-align: top;\n    }\n\n    .dataframe thead th {\n        text-align: right;\n    }\n</style>\n<table border=\"1\" class=\"dataframe\">\n  <thead>\n    <tr style=\"text-align: right;\">\n      <th></th>\n      <th>Age</th>\n      <th>Sex</th>\n      <th>BP</th>\n      <th>Cholesterol</th>\n      <th>Na_to_K</th>\n      <th>Drug</th>\n    </tr>\n  </thead>\n  <tbody>\n    <tr>\n      <th>0</th>\n      <td>23</td>\n      <td>1</td>\n      <td>1</td>\n      <td>1</td>\n      <td>25.355</td>\n      <td>DrugY</td>\n    </tr>\n    <tr>\n      <th>1</th>\n      <td>47</td>\n      <td>2</td>\n      <td>2</td>\n      <td>1</td>\n      <td>13.093</td>\n      <td>drugC</td>\n    </tr>\n    <tr>\n      <th>2</th>\n      <td>47</td>\n      <td>2</td>\n      <td>2</td>\n      <td>1</td>\n      <td>10.114</td>\n      <td>drugC</td>\n    </tr>\n    <tr>\n      <th>3</th>\n      <td>28</td>\n      <td>1</td>\n      <td>3</td>\n      <td>1</td>\n      <td>7.798</td>\n      <td>drugX</td>\n    </tr>\n    <tr>\n      <th>4</th>\n      <td>61</td>\n      <td>1</td>\n      <td>2</td>\n      <td>1</td>\n      <td>18.043</td>\n      <td>DrugY</td>\n    </tr>\n    <tr>\n      <th>...</th>\n      <td>...</td>\n      <td>...</td>\n      <td>...</td>\n      <td>...</td>\n      <td>...</td>\n      <td>...</td>\n    </tr>\n    <tr>\n      <th>195</th>\n      <td>56</td>\n      <td>1</td>\n      <td>2</td>\n      <td>1</td>\n      <td>11.567</td>\n      <td>drugC</td>\n    </tr>\n    <tr>\n      <th>196</th>\n      <td>16</td>\n      <td>2</td>\n      <td>2</td>\n      <td>1</td>\n      <td>12.006</td>\n      <td>drugC</td>\n    </tr>\n    <tr>\n      <th>197</th>\n      <td>52</td>\n      <td>2</td>\n      <td>3</td>\n      <td>1</td>\n      <td>9.894</td>\n      <td>drugX</td>\n    </tr>\n    <tr>\n      <th>198</th>\n      <td>23</td>\n      <td>2</td>\n      <td>3</td>\n      <td>2</td>\n      <td>14.020</td>\n      <td>drugX</td>\n    </tr>\n    <tr>\n      <th>199</th>\n      <td>40</td>\n      <td>1</td>\n      <td>2</td>\n      <td>2</td>\n      <td>11.349</td>\n      <td>drugX</td>\n    </tr>\n  </tbody>\n</table>\n<p>200 rows × 6 columns</p>\n</div>"
     },
     "execution_count": 162,
     "metadata": {},
     "output_type": "execute_result"
    }
   ],
   "source": [
    "import category_encoders as ce\n",
    "\n",
    "# encode variables with ordinal encoding\n",
    "encoder = ce.OrdinalEncoder(cols=['Sex', 'BP', 'Cholesterol'])\n",
    "\n",
    "df = encoder.fit_transform(df)\n",
    "df"
   ]
  },
  {
   "cell_type": "code",
   "execution_count": 163,
   "metadata": {
    "collapsed": false
   },
   "outputs": [
    {
     "data": {
      "text/plain": "     Age  Sex  BP  Cholesterol  Na_to_K\n0     23    1   1            1   25.355\n1     47    2   2            1   13.093\n2     47    2   2            1   10.114\n3     28    1   3            1    7.798\n4     61    1   2            1   18.043\n..   ...  ...  ..          ...      ...\n195   56    1   2            1   11.567\n196   16    2   2            1   12.006\n197   52    2   3            1    9.894\n198   23    2   3            2   14.020\n199   40    1   2            2   11.349\n\n[200 rows x 5 columns]",
      "text/html": "<div>\n<style scoped>\n    .dataframe tbody tr th:only-of-type {\n        vertical-align: middle;\n    }\n\n    .dataframe tbody tr th {\n        vertical-align: top;\n    }\n\n    .dataframe thead th {\n        text-align: right;\n    }\n</style>\n<table border=\"1\" class=\"dataframe\">\n  <thead>\n    <tr style=\"text-align: right;\">\n      <th></th>\n      <th>Age</th>\n      <th>Sex</th>\n      <th>BP</th>\n      <th>Cholesterol</th>\n      <th>Na_to_K</th>\n    </tr>\n  </thead>\n  <tbody>\n    <tr>\n      <th>0</th>\n      <td>23</td>\n      <td>1</td>\n      <td>1</td>\n      <td>1</td>\n      <td>25.355</td>\n    </tr>\n    <tr>\n      <th>1</th>\n      <td>47</td>\n      <td>2</td>\n      <td>2</td>\n      <td>1</td>\n      <td>13.093</td>\n    </tr>\n    <tr>\n      <th>2</th>\n      <td>47</td>\n      <td>2</td>\n      <td>2</td>\n      <td>1</td>\n      <td>10.114</td>\n    </tr>\n    <tr>\n      <th>3</th>\n      <td>28</td>\n      <td>1</td>\n      <td>3</td>\n      <td>1</td>\n      <td>7.798</td>\n    </tr>\n    <tr>\n      <th>4</th>\n      <td>61</td>\n      <td>1</td>\n      <td>2</td>\n      <td>1</td>\n      <td>18.043</td>\n    </tr>\n    <tr>\n      <th>...</th>\n      <td>...</td>\n      <td>...</td>\n      <td>...</td>\n      <td>...</td>\n      <td>...</td>\n    </tr>\n    <tr>\n      <th>195</th>\n      <td>56</td>\n      <td>1</td>\n      <td>2</td>\n      <td>1</td>\n      <td>11.567</td>\n    </tr>\n    <tr>\n      <th>196</th>\n      <td>16</td>\n      <td>2</td>\n      <td>2</td>\n      <td>1</td>\n      <td>12.006</td>\n    </tr>\n    <tr>\n      <th>197</th>\n      <td>52</td>\n      <td>2</td>\n      <td>3</td>\n      <td>1</td>\n      <td>9.894</td>\n    </tr>\n    <tr>\n      <th>198</th>\n      <td>23</td>\n      <td>2</td>\n      <td>3</td>\n      <td>2</td>\n      <td>14.020</td>\n    </tr>\n    <tr>\n      <th>199</th>\n      <td>40</td>\n      <td>1</td>\n      <td>2</td>\n      <td>2</td>\n      <td>11.349</td>\n    </tr>\n  </tbody>\n</table>\n<p>200 rows × 5 columns</p>\n</div>"
     },
     "execution_count": 163,
     "metadata": {},
     "output_type": "execute_result"
    }
   ],
   "source": [
    "# get features\n",
    "X = df.drop(['Drug'], axis=1)\n",
    "X"
   ]
  },
  {
   "cell_type": "code",
   "execution_count": 164,
   "metadata": {
    "collapsed": false
   },
   "outputs": [
    {
     "data": {
      "text/plain": "0      DrugY\n1      drugC\n2      drugC\n3      drugX\n4      DrugY\n       ...  \n195    drugC\n196    drugC\n197    drugX\n198    drugX\n199    drugX\nName: Drug, Length: 200, dtype: object"
     },
     "execution_count": 164,
     "metadata": {},
     "output_type": "execute_result"
    }
   ],
   "source": [
    "# get labels\n",
    "y = df['Drug']\n",
    "y"
   ]
  },
  {
   "cell_type": "markdown",
   "metadata": {
    "collapsed": false
   },
   "source": [
    "# Not normalized"
   ]
  },
  {
   "cell_type": "code",
   "execution_count": 165,
   "metadata": {
    "collapsed": false
   },
   "outputs": [
    {
     "name": "stdout",
     "output_type": "stream",
     "text": [
      "(140, 5) (60, 5) (140,) (60,)\n"
     ]
    }
   ],
   "source": [
    "from sklearn.model_selection import train_test_split\n",
    "\n",
    "# split X and y into training and testing sets\n",
    "X_train, X_test, y_train, y_test = train_test_split(X, y, test_size=0.30, random_state=42, stratify=y)\n",
    "\n",
    "print(X_train.shape, X_test.shape, y_train.shape, y_test.shape)"
   ]
  },
  {
   "cell_type": "code",
   "execution_count": 166,
   "outputs": [],
   "source": [
    "scores = {}"
   ],
   "metadata": {
    "collapsed": false
   }
  },
  {
   "cell_type": "markdown",
   "metadata": {
    "collapsed": false
   },
   "source": [
    "## Decision Tree"
   ]
  },
  {
   "cell_type": "code",
   "execution_count": 167,
   "id": "51402d5f",
   "metadata": {
    "execution": {
     "iopub.execute_input": "2023-01-06T20:33:22.800317Z",
     "iopub.status.busy": "2023-01-06T20:33:22.799894Z",
     "iopub.status.idle": "2023-01-06T20:33:22.810223Z",
     "shell.execute_reply": "2023-01-06T20:33:22.809224Z"
    },
    "papermill": {
     "duration": 0.021912,
     "end_time": "2023-01-06T20:33:22.812836",
     "exception": false,
     "start_time": "2023-01-06T20:33:22.790924",
     "status": "completed"
    },
    "tags": []
   },
   "outputs": [
    {
     "data": {
      "text/plain": "DecisionTreeClassifier(max_depth=5, random_state=0)"
     },
     "execution_count": 167,
     "metadata": {},
     "output_type": "execute_result"
    }
   ],
   "source": [
    "from sklearn.tree import DecisionTreeClassifier\n",
    "\n",
    "# build decision tree classifier\n",
    "clf_gini = DecisionTreeClassifier(criterion='gini', max_depth=5, random_state=0)\n",
    "# train decision tree\n",
    "clf_gini.fit(X_train, y_train)"
   ]
  },
  {
   "cell_type": "code",
   "execution_count": 168,
   "metadata": {
    "collapsed": false
   },
   "outputs": [
    {
     "name": "stdout",
     "output_type": "stream",
     "text": [
      "Train accuracy:\t 1.0\n",
      "Test accuracy:\t 0.9833333333333333\n",
      "              precision    recall  f1-score   support\n",
      "\n",
      "       DrugY       0.96      1.00      0.98        27\n",
      "       drugA       1.00      1.00      1.00         7\n",
      "       drugB       1.00      1.00      1.00         5\n",
      "       drugC       1.00      1.00      1.00         5\n",
      "       drugX       1.00      0.94      0.97        16\n",
      "\n",
      "    accuracy                           0.98        60\n",
      "   macro avg       0.99      0.99      0.99        60\n",
      "weighted avg       0.98      0.98      0.98        60\n",
      "\n"
     ]
    }
   ],
   "source": [
    "from sklearn.metrics import classification_report\n",
    "\n",
    "# make prediction\n",
    "y_pred_clf_gini = clf_gini.predict(X_test)\n",
    "print(f'Train accuracy:\\t {clf_gini.score(X_train, y_train)}')\n",
    "print(f'Test accuracy:\\t {clf_gini.score(X_test, y_test)}')\n",
    "scores['Decision Tree'] =  clf_gini.score(X_test, y_test)\n",
    "\n",
    "print(classification_report(y_test, y_pred_clf_gini))"
   ]
  },
  {
   "cell_type": "markdown",
   "metadata": {
    "collapsed": false
   },
   "source": [
    "## KNeighbors"
   ]
  },
  {
   "cell_type": "code",
   "execution_count": 169,
   "metadata": {
    "collapsed": false
   },
   "outputs": [
    {
     "data": {
      "text/plain": "KNeighborsClassifier()"
     },
     "execution_count": 169,
     "metadata": {},
     "output_type": "execute_result"
    }
   ],
   "source": [
    "from sklearn.neighbors import KNeighborsClassifier\n",
    "\n",
    "# build KNeighbors classifier\n",
    "neigh = KNeighborsClassifier(n_neighbors=5)\n",
    "# train KNeighbors\n",
    "neigh.fit(X_train, y_train)"
   ]
  },
  {
   "cell_type": "code",
   "execution_count": 170,
   "metadata": {
    "collapsed": false
   },
   "outputs": [
    {
     "name": "stdout",
     "output_type": "stream",
     "text": [
      "Train accuracy:\t 0.7785714285714286\n",
      "Test accuracy:\t 0.6166666666666667\n",
      "              precision    recall  f1-score   support\n",
      "\n",
      "       DrugY       0.83      0.93      0.88        27\n",
      "       drugA       0.33      0.43      0.38         7\n",
      "       drugB       0.33      0.20      0.25         5\n",
      "       drugC       0.00      0.00      0.00         5\n",
      "       drugX       0.50      0.50      0.50        16\n",
      "\n",
      "    accuracy                           0.62        60\n",
      "   macro avg       0.40      0.41      0.40        60\n",
      "weighted avg       0.57      0.62      0.59        60\n",
      "\n"
     ]
    }
   ],
   "source": [
    "# make prediction\n",
    "y_pred_neigh = neigh.predict(X_test)\n",
    "print(f'Train accuracy:\\t {neigh.score(X_train, y_train)}')\n",
    "print(f'Test accuracy:\\t {neigh.score(X_test, y_test)}')\n",
    "scores['KNN'] =  neigh.score(X_test, y_test)\n",
    "\n",
    "print(classification_report(y_test, y_pred_neigh))"
   ]
  },
  {
   "cell_type": "markdown",
   "metadata": {
    "collapsed": false
   },
   "source": [
    "## MLP"
   ]
  },
  {
   "cell_type": "code",
   "execution_count": 171,
   "metadata": {
    "collapsed": false
   },
   "outputs": [
    {
     "name": "stderr",
     "output_type": "stream",
     "text": [
      "C:\\Users\\lemos\\anaconda3\\lib\\site-packages\\sklearn\\neural_network\\_multilayer_perceptron.py:692: ConvergenceWarning: Stochastic Optimizer: Maximum iterations (1000) reached and the optimization hasn't converged yet.\n",
      "  warnings.warn(\n"
     ]
    },
    {
     "data": {
      "text/plain": "[<matplotlib.lines.Line2D at 0x170987859d0>]"
     },
     "execution_count": 171,
     "metadata": {},
     "output_type": "execute_result"
    },
    {
     "data": {
      "text/plain": "<Figure size 432x288 with 1 Axes>",
      "image/png": "[encoded data removed]"
     },
     "metadata": {},
     "output_type": "display_data"
    }
   ],
   "source": [
    "from sklearn.neural_network import MLPClassifier\n",
    "\n",
    "# build MLP classifier\n",
    "clf = MLPClassifier(hidden_layer_sizes=(200, 40, 10), activation='relu', solver='adam', max_iter=1000)\n",
    "# train model\n",
    "model = clf.fit(X_train, y_train)\n",
    "plt.plot(clf.loss_curve_)"
   ]
  },
  {
   "cell_type": "code",
   "execution_count": 172,
   "metadata": {
    "collapsed": false
   },
   "outputs": [
    {
     "name": "stdout",
     "output_type": "stream",
     "text": [
      "Train accuracy:\t 0.95\n",
      "Test accuracy:\t 0.8\n",
      "              precision    recall  f1-score   support\n",
      "\n",
      "       DrugY       0.81      0.96      0.88        27\n",
      "       drugA       1.00      0.57      0.73         7\n",
      "       drugB       0.60      0.60      0.60         5\n",
      "       drugC       0.33      0.20      0.25         5\n",
      "       drugX       0.88      0.88      0.88        16\n",
      "\n",
      "    accuracy                           0.80        60\n",
      "   macro avg       0.72      0.64      0.67        60\n",
      "weighted avg       0.79      0.80      0.79        60\n",
      "\n"
     ]
    }
   ],
   "source": [
    "# make prediction\n",
    "y_pred_mlp = model.predict(X_test)\n",
    "print(f'Train accuracy:\\t {model.score(X_train, y_train)}')\n",
    "print(f'Test accuracy:\\t {model.score(X_test, y_test)}')\n",
    "scores['MLP'] =  model.score(X_test, y_test)\n",
    "\n",
    "print(classification_report(y_test, y_pred_mlp))"
   ]
  },
  {
   "cell_type": "code",
   "execution_count": 173,
   "metadata": {
    "collapsed": false
   },
   "outputs": [
    {
     "data": {
      "text/plain": "<sklearn.metrics._plot.confusion_matrix.ConfusionMatrixDisplay at 0x1709873e5b0>"
     },
     "execution_count": 173,
     "metadata": {},
     "output_type": "execute_result"
    },
    {
     "data": {
      "text/plain": "<Figure size 432x288 with 2 Axes>",
      "image/png": "[encoded data removed]"
     },
     "metadata": {},
     "output_type": "display_data"
    }
   ],
   "source": [
    "from sklearn.metrics import ConfusionMatrixDisplay\n",
    "\n",
    "# plot_confusion_matrix(model, X_test, y_test)\n",
    "ConfusionMatrixDisplay.from_predictions(y_test, y_pred_mlp)"
   ]
  },
  {
   "cell_type": "markdown",
   "metadata": {
    "collapsed": false
   },
   "source": [
    "## PCA"
   ]
  },
  {
   "cell_type": "code",
   "execution_count": 174,
   "metadata": {
    "collapsed": false
   },
   "outputs": [
    {
     "data": {
      "text/plain": "((200, 3), (200,))"
     },
     "execution_count": 174,
     "metadata": {},
     "output_type": "execute_result"
    }
   ],
   "source": [
    "from sklearn.decomposition import PCA\n",
    "\n",
    "pca = PCA(n_components=3)\n",
    "X_pca = pca.fit_transform(X)\n",
    "\n",
    "X_pca.shape, y.shape"
   ]
  },
  {
   "cell_type": "code",
   "execution_count": 175,
   "metadata": {
    "collapsed": false
   },
   "outputs": [
    {
     "data": {
      "text/plain": "(array([0.8376527 , 0.15882149, 0.002037  ]), 0.9985111868497313)"
     },
     "execution_count": 175,
     "metadata": {},
     "output_type": "execute_result"
    }
   ],
   "source": [
    "pca.explained_variance_ratio_, pca.explained_variance_ratio_.sum()"
   ]
  },
  {
   "cell_type": "code",
   "execution_count": 176,
   "metadata": {
    "collapsed": false
   },
   "outputs": [
    {
     "name": "stdout",
     "output_type": "stream",
     "text": [
      "(140, 3) (60, 3) (140,) (60,)\n"
     ]
    }
   ],
   "source": [
    "# split X and y into training and testing sets\n",
    "X_train_pca, X_test_pca, y_train_pca, y_test_pca = train_test_split(X_pca, y, test_size=0.30, random_state=42, stratify=y)\n",
    "\n",
    "print(X_train_pca.shape, X_test_pca.shape, y_train_pca.shape, y_test_pca.shape)"
   ]
  },
  {
   "cell_type": "code",
   "execution_count": 177,
   "metadata": {
    "collapsed": false
   },
   "outputs": [
    {
     "data": {
      "text/plain": "[<matplotlib.lines.Line2D at 0x17099c7d370>]"
     },
     "execution_count": 177,
     "metadata": {},
     "output_type": "execute_result"
    },
    {
     "data": {
      "text/plain": "<Figure size 432x288 with 1 Axes>",
      "image/png": "[encoded data removed]"
     },
     "metadata": {},
     "output_type": "display_data"
    }
   ],
   "source": [
    "# build MLP classifier\n",
    "clf_pca = MLPClassifier(hidden_layer_sizes=(200, 40, 10), activation='relu', solver='adam', max_iter=1000)\n",
    "# train model\n",
    "model_pca = clf_pca.fit(X_train_pca, y_train_pca)\n",
    "plt.plot(clf_pca.loss_curve_)"
   ]
  },
  {
   "cell_type": "code",
   "execution_count": 178,
   "metadata": {
    "collapsed": false
   },
   "outputs": [
    {
     "name": "stdout",
     "output_type": "stream",
     "text": [
      "Train accuracy:\t 1.0\n",
      "Test accuracy:\t 0.8833333333333333\n",
      "              precision    recall  f1-score   support\n",
      "\n",
      "       DrugY       0.96      0.96      0.96        27\n",
      "       drugA       1.00      1.00      1.00         7\n",
      "       drugB       0.83      1.00      0.91         5\n",
      "       drugC       0.67      0.40      0.50         5\n",
      "       drugX       0.76      0.81      0.79        16\n",
      "\n",
      "    accuracy                           0.88        60\n",
      "   macro avg       0.85      0.84      0.83        60\n",
      "weighted avg       0.88      0.88      0.88        60\n",
      "\n"
     ]
    }
   ],
   "source": [
    "# make prediction\n",
    "y_pred_pca_mlp = model_pca.predict(X_test_pca)\n",
    "print(f'Train accuracy:\\t {model_pca.score(X_train_pca, y_train_pca)}')\n",
    "print(f'Test accuracy:\\t {model_pca.score(X_test_pca, y_test_pca)}')\n",
    "scores['MLP_PCA'] =  model_pca.score(X_test_pca, y_test_pca)\n",
    "\n",
    "print(classification_report(y_test_pca, y_pred_pca_mlp))"
   ]
  },
  {
   "cell_type": "code",
   "execution_count": 179,
   "metadata": {
    "collapsed": false
   },
   "outputs": [
    {
     "data": {
      "text/plain": "<sklearn.metrics._plot.confusion_matrix.ConfusionMatrixDisplay at 0x170986c5d60>"
     },
     "execution_count": 179,
     "metadata": {},
     "output_type": "execute_result"
    },
    {
     "data": {
      "text/plain": "<Figure size 432x288 with 2 Axes>",
      "image/png": "[encoded data removed]"
     },
     "metadata": {},
     "output_type": "display_data"
    }
   ],
   "source": [
    "# plot_confusion_matrix(model, X_test, y_test)\n",
    "ConfusionMatrixDisplay.from_predictions(y_test, y_pred_pca_mlp)"
   ]
  },
  {
   "cell_type": "markdown",
   "metadata": {
    "collapsed": false
   },
   "source": [
    "## LDA"
   ]
  },
  {
   "cell_type": "code",
   "execution_count": 180,
   "metadata": {
    "collapsed": false
   },
   "outputs": [
    {
     "data": {
      "text/plain": "(200, 3)"
     },
     "execution_count": 180,
     "metadata": {},
     "output_type": "execute_result"
    }
   ],
   "source": [
    "from sklearn.discriminant_analysis import LinearDiscriminantAnalysis\n",
    "\n",
    "lda = LinearDiscriminantAnalysis(n_components=3)\n",
    "X_lda = lda.fit(X, y).transform(X)\n",
    "X_lda.shape"
   ]
  },
  {
   "cell_type": "code",
   "execution_count": 181,
   "metadata": {
    "collapsed": false
   },
   "outputs": [
    {
     "name": "stdout",
     "output_type": "stream",
     "text": [
      "(140, 3) (60, 3) (140,) (60,)\n"
     ]
    }
   ],
   "source": [
    "# split X and y into training and testing sets\n",
    "X_train_lda, X_test_lda, y_train_lda, y_test_lda = train_test_split(X_lda, y, test_size=0.30, random_state=42, stratify=y)\n",
    "\n",
    "print(X_train_lda.shape, X_test_lda.shape, y_train_lda.shape, y_test_lda.shape)"
   ]
  },
  {
   "cell_type": "code",
   "execution_count": 182,
   "metadata": {
    "collapsed": false
   },
   "outputs": [
    {
     "data": {
      "text/plain": "[<matplotlib.lines.Line2D at 0x1709a166820>]"
     },
     "execution_count": 182,
     "metadata": {},
     "output_type": "execute_result"
    },
    {
     "data": {
      "text/plain": "<Figure size 432x288 with 1 Axes>",
      "image/png": "[encoded data removed]"
     },
     "metadata": {},
     "output_type": "display_data"
    }
   ],
   "source": [
    "# build MLP classifier\n",
    "clf_lda = MLPClassifier(hidden_layer_sizes=(200, 40, 10), activation='relu', solver='adam', max_iter=1000)\n",
    "# train model\n",
    "model_lda = clf_lda.fit(X_train_lda, y_train_lda)\n",
    "plt.plot(clf_lda.loss_curve_)"
   ]
  },
  {
   "cell_type": "code",
   "execution_count": 183,
   "metadata": {
    "collapsed": false
   },
   "outputs": [
    {
     "name": "stdout",
     "output_type": "stream",
     "text": [
      "Train accuracy:\t 1.0\n",
      "Test accuracy:\t 0.95\n",
      "              precision    recall  f1-score   support\n",
      "\n",
      "       DrugY       0.93      1.00      0.96        27\n",
      "       drugA       1.00      0.86      0.92         7\n",
      "       drugB       0.83      1.00      0.91         5\n",
      "       drugC       1.00      0.60      0.75         5\n",
      "       drugX       1.00      1.00      1.00        16\n",
      "\n",
      "    accuracy                           0.95        60\n",
      "   macro avg       0.95      0.89      0.91        60\n",
      "weighted avg       0.96      0.95      0.95        60\n",
      "\n"
     ]
    }
   ],
   "source": [
    "# make prediction\n",
    "y_pred_lda_mlp = model_lda.predict(X_test_lda)\n",
    "print(f'Train accuracy:\\t {model_lda.score(X_train_lda, y_train_lda)}')\n",
    "print(f'Test accuracy:\\t {model_lda.score(X_test_lda, y_test_lda)}')\n",
    "scores['MLP_LDA'] =  model_lda.score(X_test_lda, y_test_lda)\n",
    "\n",
    "print(classification_report(y_test_lda, y_pred_lda_mlp))"
   ]
  },
  {
   "cell_type": "code",
   "execution_count": 184,
   "metadata": {
    "collapsed": false
   },
   "outputs": [
    {
     "data": {
      "text/plain": "<sklearn.metrics._plot.confusion_matrix.ConfusionMatrixDisplay at 0x17098297c40>"
     },
     "execution_count": 184,
     "metadata": {},
     "output_type": "execute_result"
    },
    {
     "data": {
      "text/plain": "<Figure size 432x288 with 2 Axes>",
      "image/png": "[encoded data removed]"
     },
     "metadata": {},
     "output_type": "display_data"
    }
   ],
   "source": [
    "# plot_confusion_matrix(model_lda, X_test_lda, y_test_lda)\n",
    "ConfusionMatrixDisplay.from_predictions(y_test_lda,y_pred_lda_mlp)"
   ]
  },
  {
   "cell_type": "code",
   "execution_count": 185,
   "outputs": [
    {
     "data": {
      "text/plain": "{'Decision Tree': 0.9833333333333333,\n 'KNN': 0.6166666666666667,\n 'MLP': 0.8,\n 'MLP_PCA': 0.8833333333333333,\n 'MLP_LDA': 0.95}"
     },
     "execution_count": 185,
     "metadata": {},
     "output_type": "execute_result"
    },
    {
     "data": {
      "text/plain": "<Figure size 432x288 with 1 Axes>",
      "image/png": "[encoded data removed]"
     },
     "metadata": {},
     "output_type": "display_data"
    }
   ],
   "source": [
    "plt.bar(scores.keys(), scores.values())\n",
    "\n",
    "scores"
   ],
   "metadata": {
    "collapsed": false
   }
  },
  {
   "cell_type": "markdown",
   "source": [
    "# Normalized"
   ],
   "metadata": {
    "collapsed": false
   }
  },
  {
   "cell_type": "code",
   "execution_count": 187,
   "outputs": [
    {
     "data": {
      "text/plain": "          Age  Sex  BP  Cholesterol   Na_to_K   Drug\n0    0.135593    1   1            1  0.596848  DrugY\n1    0.542373    2   2            1  0.213397  drugC\n2    0.542373    2   2            1  0.120239  drugC\n3    0.220339    1   3            1  0.047814  drugX\n4    0.779661    1   2            1  0.368191  DrugY\n..        ...  ...  ..          ...       ...    ...\n195  0.694915    1   2            1  0.165676  drugC\n196  0.016949    2   2            1  0.179405  drugC\n197  0.627119    2   3            1  0.113359  drugX\n198  0.135593    2   3            2  0.242385  drugX\n199  0.423729    1   2            2  0.158859  drugX\n\n[200 rows x 6 columns]",
      "text/html": "<div>\n<style scoped>\n    .dataframe tbody tr th:only-of-type {\n        vertical-align: middle;\n    }\n\n    .dataframe tbody tr th {\n        vertical-align: top;\n    }\n\n    .dataframe thead th {\n        text-align: right;\n    }\n</style>\n<table border=\"1\" class=\"dataframe\">\n  <thead>\n    <tr style=\"text-align: right;\">\n      <th></th>\n      <th>Age</th>\n      <th>Sex</th>\n      <th>BP</th>\n      <th>Cholesterol</th>\n      <th>Na_to_K</th>\n      <th>Drug</th>\n    </tr>\n  </thead>\n  <tbody>\n    <tr>\n      <th>0</th>\n      <td>0.135593</td>\n      <td>1</td>\n      <td>1</td>\n      <td>1</td>\n      <td>0.596848</td>\n      <td>DrugY</td>\n    </tr>\n    <tr>\n      <th>1</th>\n      <td>0.542373</td>\n      <td>2</td>\n      <td>2</td>\n      <td>1</td>\n      <td>0.213397</td>\n      <td>drugC</td>\n    </tr>\n    <tr>\n      <th>2</th>\n      <td>0.542373</td>\n      <td>2</td>\n      <td>2</td>\n      <td>1</td>\n      <td>0.120239</td>\n      <td>drugC</td>\n    </tr>\n    <tr>\n      <th>3</th>\n      <td>0.220339</td>\n      <td>1</td>\n      <td>3</td>\n      <td>1</td>\n      <td>0.047814</td>\n      <td>drugX</td>\n    </tr>\n    <tr>\n      <th>4</th>\n      <td>0.779661</td>\n      <td>1</td>\n      <td>2</td>\n      <td>1</td>\n      <td>0.368191</td>\n      <td>DrugY</td>\n    </tr>\n    <tr>\n      <th>...</th>\n      <td>...</td>\n      <td>...</td>\n      <td>...</td>\n      <td>...</td>\n      <td>...</td>\n      <td>...</td>\n    </tr>\n    <tr>\n      <th>195</th>\n      <td>0.694915</td>\n      <td>1</td>\n      <td>2</td>\n      <td>1</td>\n      <td>0.165676</td>\n      <td>drugC</td>\n    </tr>\n    <tr>\n      <th>196</th>\n      <td>0.016949</td>\n      <td>2</td>\n      <td>2</td>\n      <td>1</td>\n      <td>0.179405</td>\n      <td>drugC</td>\n    </tr>\n    <tr>\n      <th>197</th>\n      <td>0.627119</td>\n      <td>2</td>\n      <td>3</td>\n      <td>1</td>\n      <td>0.113359</td>\n      <td>drugX</td>\n    </tr>\n    <tr>\n      <th>198</th>\n      <td>0.135593</td>\n      <td>2</td>\n      <td>3</td>\n      <td>2</td>\n      <td>0.242385</td>\n      <td>drugX</td>\n    </tr>\n    <tr>\n      <th>199</th>\n      <td>0.423729</td>\n      <td>1</td>\n      <td>2</td>\n      <td>2</td>\n      <td>0.158859</td>\n      <td>drugX</td>\n    </tr>\n  </tbody>\n</table>\n<p>200 rows × 6 columns</p>\n</div>"
     },
     "execution_count": 187,
     "metadata": {},
     "output_type": "execute_result"
    }
   ],
   "source": [
    "from sklearn.preprocessing import MinMaxScaler\n",
    "\n",
    "# normalize values\n",
    "scaler = MinMaxScaler()\n",
    "\n",
    "df_scaled = df.copy()\n",
    "df_scaled[['Age', 'Na_to_K']] = scaler.fit_transform(df_scaled[['Age', 'Na_to_K']])\n",
    "df_scaled"
   ],
   "metadata": {
    "collapsed": false
   }
  },
  {
   "cell_type": "code",
   "execution_count": 189,
   "outputs": [
    {
     "data": {
      "text/plain": "          Age  Sex  BP  Cholesterol   Na_to_K\n0    0.135593    1   1            1  0.596848\n1    0.542373    2   2            1  0.213397\n2    0.542373    2   2            1  0.120239\n3    0.220339    1   3            1  0.047814\n4    0.779661    1   2            1  0.368191\n..        ...  ...  ..          ...       ...\n195  0.694915    1   2            1  0.165676\n196  0.016949    2   2            1  0.179405\n197  0.627119    2   3            1  0.113359\n198  0.135593    2   3            2  0.242385\n199  0.423729    1   2            2  0.158859\n\n[200 rows x 5 columns]",
      "text/html": "<div>\n<style scoped>\n    .dataframe tbody tr th:only-of-type {\n        vertical-align: middle;\n    }\n\n    .dataframe tbody tr th {\n        vertical-align: top;\n    }\n\n    .dataframe thead th {\n        text-align: right;\n    }\n</style>\n<table border=\"1\" class=\"dataframe\">\n  <thead>\n    <tr style=\"text-align: right;\">\n      <th></th>\n      <th>Age</th>\n      <th>Sex</th>\n      <th>BP</th>\n      <th>Cholesterol</th>\n      <th>Na_to_K</th>\n    </tr>\n  </thead>\n  <tbody>\n    <tr>\n      <th>0</th>\n      <td>0.135593</td>\n      <td>1</td>\n      <td>1</td>\n      <td>1</td>\n      <td>0.596848</td>\n    </tr>\n    <tr>\n      <th>1</th>\n      <td>0.542373</td>\n      <td>2</td>\n      <td>2</td>\n      <td>1</td>\n      <td>0.213397</td>\n    </tr>\n    <tr>\n      <th>2</th>\n      <td>0.542373</td>\n      <td>2</td>\n      <td>2</td>\n      <td>1</td>\n      <td>0.120239</td>\n    </tr>\n    <tr>\n      <th>3</th>\n      <td>0.220339</td>\n      <td>1</td>\n      <td>3</td>\n      <td>1</td>\n      <td>0.047814</td>\n    </tr>\n    <tr>\n      <th>4</th>\n      <td>0.779661</td>\n      <td>1</td>\n      <td>2</td>\n      <td>1</td>\n      <td>0.368191</td>\n    </tr>\n    <tr>\n      <th>...</th>\n      <td>...</td>\n      <td>...</td>\n      <td>...</td>\n      <td>...</td>\n      <td>...</td>\n    </tr>\n    <tr>\n      <th>195</th>\n      <td>0.694915</td>\n      <td>1</td>\n      <td>2</td>\n      <td>1</td>\n      <td>0.165676</td>\n    </tr>\n    <tr>\n      <th>196</th>\n      <td>0.016949</td>\n      <td>2</td>\n      <td>2</td>\n      <td>1</td>\n      <td>0.179405</td>\n    </tr>\n    <tr>\n      <th>197</th>\n      <td>0.627119</td>\n      <td>2</td>\n      <td>3</td>\n      <td>1</td>\n      <td>0.113359</td>\n    </tr>\n    <tr>\n      <th>198</th>\n      <td>0.135593</td>\n      <td>2</td>\n      <td>3</td>\n      <td>2</td>\n      <td>0.242385</td>\n    </tr>\n    <tr>\n      <th>199</th>\n      <td>0.423729</td>\n      <td>1</td>\n      <td>2</td>\n      <td>2</td>\n      <td>0.158859</td>\n    </tr>\n  </tbody>\n</table>\n<p>200 rows × 5 columns</p>\n</div>"
     },
     "execution_count": 189,
     "metadata": {},
     "output_type": "execute_result"
    }
   ],
   "source": [
    "# get features\n",
    "X_scaled = df_scaled.drop(['Drug'], axis=1)\n",
    "X_scaled"
   ],
   "metadata": {
    "collapsed": false
   }
  },
  {
   "cell_type": "code",
   "execution_count": 191,
   "outputs": [
    {
     "data": {
      "text/plain": "0      DrugY\n1      drugC\n2      drugC\n3      drugX\n4      DrugY\n       ...  \n195    drugC\n196    drugC\n197    drugX\n198    drugX\n199    drugX\nName: Drug, Length: 200, dtype: object"
     },
     "execution_count": 191,
     "metadata": {},
     "output_type": "execute_result"
    }
   ],
   "source": [
    "# labels\n",
    "y"
   ],
   "metadata": {
    "collapsed": false
   }
  },
  {
   "cell_type": "code",
   "execution_count": 192,
   "outputs": [
    {
     "name": "stdout",
     "output_type": "stream",
     "text": [
      "(140, 5) (60, 5) (140,) (60,)\n"
     ]
    }
   ],
   "source": [
    "# split X and y into training and testing sets\n",
    "X_train_scaled, X_test_scaled, y_train_scaled, y_test_scaled = train_test_split(X_scaled, y, test_size=0.30, random_state=42, stratify=y)\n",
    "\n",
    "print(X_train_scaled.shape, X_test_scaled.shape, y_train_scaled.shape, y_test_scaled.shape)"
   ],
   "metadata": {
    "collapsed": false
   }
  },
  {
   "cell_type": "code",
   "execution_count": 193,
   "outputs": [],
   "source": [
    "scores_scaled = {}"
   ],
   "metadata": {
    "collapsed": false
   }
  },
  {
   "cell_type": "markdown",
   "source": [
    "## Decision Tree"
   ],
   "metadata": {
    "collapsed": false
   }
  },
  {
   "cell_type": "code",
   "execution_count": 196,
   "outputs": [
    {
     "data": {
      "text/plain": "DecisionTreeClassifier(max_depth=5, random_state=0)"
     },
     "execution_count": 196,
     "metadata": {},
     "output_type": "execute_result"
    }
   ],
   "source": [
    "from sklearn.tree import DecisionTreeClassifier\n",
    "\n",
    "# build decision tree classifier\n",
    "clf_gini_scaled = DecisionTreeClassifier(criterion='gini', max_depth=5, random_state=0)\n",
    "# train decision tree\n",
    "clf_gini_scaled.fit(X_train_scaled, y_train_scaled)"
   ],
   "metadata": {
    "collapsed": false
   }
  },
  {
   "cell_type": "code",
   "execution_count": 197,
   "outputs": [
    {
     "name": "stdout",
     "output_type": "stream",
     "text": [
      "Train accuracy:\t 1.0\n",
      "Test accuracy:\t 0.9666666666666667\n",
      "              precision    recall  f1-score   support\n",
      "\n",
      "       DrugY       0.45      1.00      0.62        27\n",
      "       drugA       0.00      0.00      0.00         7\n",
      "       drugB       0.00      0.00      0.00         5\n",
      "       drugC       0.00      0.00      0.00         5\n",
      "       drugX       0.00      0.00      0.00        16\n",
      "\n",
      "    accuracy                           0.45        60\n",
      "   macro avg       0.09      0.20      0.12        60\n",
      "weighted avg       0.20      0.45      0.28        60\n",
      "\n"
     ]
    },
    {
     "name": "stderr",
     "output_type": "stream",
     "text": [
      "C:\\Users\\lemos\\anaconda3\\lib\\site-packages\\sklearn\\metrics\\_classification.py:1318: UndefinedMetricWarning: Precision and F-score are ill-defined and being set to 0.0 in labels with no predicted samples. Use `zero_division` parameter to control this behavior.\n",
      "  _warn_prf(average, modifier, msg_start, len(result))\n",
      "C:\\Users\\lemos\\anaconda3\\lib\\site-packages\\sklearn\\metrics\\_classification.py:1318: UndefinedMetricWarning: Precision and F-score are ill-defined and being set to 0.0 in labels with no predicted samples. Use `zero_division` parameter to control this behavior.\n",
      "  _warn_prf(average, modifier, msg_start, len(result))\n",
      "C:\\Users\\lemos\\anaconda3\\lib\\site-packages\\sklearn\\metrics\\_classification.py:1318: UndefinedMetricWarning: Precision and F-score are ill-defined and being set to 0.0 in labels with no predicted samples. Use `zero_division` parameter to control this behavior.\n",
      "  _warn_prf(average, modifier, msg_start, len(result))\n"
     ]
    }
   ],
   "source": [
    "# make prediction\n",
    "y_pred_clf_gini_scaled = clf_gini_scaled.predict(X_test)\n",
    "print(f'Train accuracy:\\t {clf_gini_scaled.score(X_train_scaled, y_train_scaled)}')\n",
    "print(f'Test accuracy:\\t {clf_gini_scaled.score(X_test_scaled, y_test_scaled)}')\n",
    "scores_scaled['Decision Tree'] =  clf_gini_scaled.score(X_test_scaled, y_test_scaled)\n",
    "\n",
    "print(classification_report(y_test_scaled, y_pred_clf_gini_scaled))"
   ],
   "metadata": {
    "collapsed": false
   }
  },
  {
   "cell_type": "markdown",
   "source": [
    "## KNeighbors"
   ],
   "metadata": {
    "collapsed": false
   }
  },
  {
   "cell_type": "code",
   "execution_count": 198,
   "outputs": [
    {
     "data": {
      "text/plain": "KNeighborsClassifier()"
     },
     "execution_count": 198,
     "metadata": {},
     "output_type": "execute_result"
    }
   ],
   "source": [
    "from sklearn.neighbors import KNeighborsClassifier\n",
    "\n",
    "# build KNeighbors classifier\n",
    "neigh_scaled = KNeighborsClassifier(n_neighbors=5)\n",
    "# train KNeighbors\n",
    "neigh_scaled.fit(X_train_scaled, y_train_scaled)"
   ],
   "metadata": {
    "collapsed": false
   }
  },
  {
   "cell_type": "code",
   "execution_count": 199,
   "outputs": [
    {
     "name": "stdout",
     "output_type": "stream",
     "text": [
      "Train accuracy:\t 0.8428571428571429\n",
      "Test accuracy:\t 0.6166666666666667\n",
      "              precision    recall  f1-score   support\n",
      "\n",
      "       DrugY       0.57      0.59      0.58        27\n",
      "       drugA       0.80      0.57      0.67         7\n",
      "       drugB       0.00      0.00      0.00         5\n",
      "       drugC       0.50      0.60      0.55         5\n",
      "       drugX       0.67      0.88      0.76        16\n",
      "\n",
      "    accuracy                           0.62        60\n",
      "   macro avg       0.51      0.53      0.51        60\n",
      "weighted avg       0.57      0.62      0.59        60\n",
      "\n"
     ]
    },
    {
     "name": "stderr",
     "output_type": "stream",
     "text": [
      "C:\\Users\\lemos\\anaconda3\\lib\\site-packages\\sklearn\\metrics\\_classification.py:1318: UndefinedMetricWarning: Precision and F-score are ill-defined and being set to 0.0 in labels with no predicted samples. Use `zero_division` parameter to control this behavior.\n",
      "  _warn_prf(average, modifier, msg_start, len(result))\n",
      "C:\\Users\\lemos\\anaconda3\\lib\\site-packages\\sklearn\\metrics\\_classification.py:1318: UndefinedMetricWarning: Precision and F-score are ill-defined and being set to 0.0 in labels with no predicted samples. Use `zero_division` parameter to control this behavior.\n",
      "  _warn_prf(average, modifier, msg_start, len(result))\n",
      "C:\\Users\\lemos\\anaconda3\\lib\\site-packages\\sklearn\\metrics\\_classification.py:1318: UndefinedMetricWarning: Precision and F-score are ill-defined and being set to 0.0 in labels with no predicted samples. Use `zero_division` parameter to control this behavior.\n",
      "  _warn_prf(average, modifier, msg_start, len(result))\n"
     ]
    }
   ],
   "source": [
    "# make prediction\n",
    "y_pred_neigh_scaled = neigh_scaled.predict(X_test_scaled)\n",
    "print(f'Train accuracy:\\t {neigh_scaled.score(X_train_scaled, y_train_scaled)}')\n",
    "print(f'Test accuracy:\\t {neigh_scaled.score(X_test_scaled, y_test_scaled)}')\n",
    "scores_scaled['KNN'] =  neigh_scaled.score(X_test_scaled, y_test_scaled)\n",
    "\n",
    "print(classification_report(y_test_scaled, y_pred_neigh_scaled))"
   ],
   "metadata": {
    "collapsed": false
   }
  },
  {
   "cell_type": "markdown",
   "source": [
    "## MLP"
   ],
   "metadata": {
    "collapsed": false
   }
  },
  {
   "cell_type": "code",
   "execution_count": 200,
   "outputs": [
    {
     "data": {
      "text/plain": "[<matplotlib.lines.Line2D at 0x1709a33da90>]"
     },
     "execution_count": 200,
     "metadata": {},
     "output_type": "execute_result"
    },
    {
     "data": {
      "text/plain": "<Figure size 432x288 with 1 Axes>",
      "image/png": "[encoded data removed]"
     },
     "metadata": {},
     "output_type": "display_data"
    }
   ],
   "source": [
    "from sklearn.neural_network import MLPClassifier\n",
    "\n",
    "# build MLP classifier\n",
    "clf_scaled = MLPClassifier(hidden_layer_sizes=(200, 40, 10), activation='relu', solver='adam', max_iter=1000)\n",
    "# train model\n",
    "model_scaled = clf_scaled.fit(X_train_scaled, y_train_scaled)\n",
    "plt.plot(clf_scaled.loss_curve_)"
   ],
   "metadata": {
    "collapsed": false
   }
  },
  {
   "cell_type": "code",
   "execution_count": 201,
   "outputs": [
    {
     "name": "stdout",
     "output_type": "stream",
     "text": [
      "Train accuracy:\t 1.0\n",
      "Test accuracy:\t 0.9833333333333333\n",
      "              precision    recall  f1-score   support\n",
      "\n",
      "       DrugY       1.00      0.96      0.98        27\n",
      "       drugA       1.00      1.00      1.00         7\n",
      "       drugB       1.00      1.00      1.00         5\n",
      "       drugC       1.00      1.00      1.00         5\n",
      "       drugX       0.94      1.00      0.97        16\n",
      "\n",
      "    accuracy                           0.98        60\n",
      "   macro avg       0.99      0.99      0.99        60\n",
      "weighted avg       0.98      0.98      0.98        60\n",
      "\n"
     ]
    }
   ],
   "source": [
    "# make prediction\n",
    "y_pred_mlp_scaled = model_scaled.predict(X_test_scaled)\n",
    "print(f'Train accuracy:\\t {model_scaled.score(X_train_scaled, y_train_scaled)}')\n",
    "print(f'Test accuracy:\\t {model_scaled.score(X_test_scaled, y_test_scaled)}')\n",
    "scores_scaled['MLP'] =  model_scaled.score(X_test_scaled, y_test_scaled)\n",
    "\n",
    "print(classification_report(y_test_scaled, y_pred_mlp_scaled))"
   ],
   "metadata": {
    "collapsed": false
   }
  },
  {
   "cell_type": "code",
   "execution_count": 204,
   "outputs": [
    {
     "data": {
      "text/plain": "<sklearn.metrics._plot.confusion_matrix.ConfusionMatrixDisplay at 0x1709b4b13d0>"
     },
     "execution_count": 204,
     "metadata": {},
     "output_type": "execute_result"
    },
    {
     "data": {
      "text/plain": "<Figure size 432x288 with 2 Axes>",
      "image/png": "[encoded data removed]"
     },
     "metadata": {},
     "output_type": "display_data"
    }
   ],
   "source": [
    "# plot_confusion_matrix(model, X_test, y_test)\n",
    "ConfusionMatrixDisplay.from_predictions(y_test_scaled, y_pred_mlp_scaled)"
   ],
   "metadata": {
    "collapsed": false
   }
  },
  {
   "cell_type": "markdown",
   "source": [
    "## PCA"
   ],
   "metadata": {
    "collapsed": false
   }
  },
  {
   "cell_type": "code",
   "execution_count": 205,
   "outputs": [
    {
     "data": {
      "text/plain": "((200, 3), (200,))"
     },
     "execution_count": 205,
     "metadata": {},
     "output_type": "execute_result"
    }
   ],
   "source": [
    "from sklearn.decomposition import PCA\n",
    "\n",
    "pca_scaled = PCA(n_components=3)\n",
    "X_pca_scaled = pca_scaled.fit_transform(X_scaled)\n",
    "\n",
    "X_pca_scaled.shape, y.shape"
   ],
   "metadata": {
    "collapsed": false
   }
  },
  {
   "cell_type": "code",
   "execution_count": 206,
   "outputs": [
    {
     "data": {
      "text/plain": "(array([0.52358648, 0.19437129, 0.18598048]), 0.9039382535253316)"
     },
     "execution_count": 206,
     "metadata": {},
     "output_type": "execute_result"
    }
   ],
   "source": [
    "pca_scaled.explained_variance_ratio_, pca_scaled.explained_variance_ratio_.sum()"
   ],
   "metadata": {
    "collapsed": false
   }
  },
  {
   "cell_type": "code",
   "execution_count": 207,
   "outputs": [
    {
     "name": "stdout",
     "output_type": "stream",
     "text": [
      "(140, 3) (60, 3) (140,) (60,)\n"
     ]
    }
   ],
   "source": [
    "# split X and y into training and testing sets\n",
    "X_train_pca_scaled, X_test_pca_scaled, y_train_pca_scaled, y_test_pca_scaled = train_test_split(X_pca_scaled, y, test_size=0.30, random_state=42, stratify=y)\n",
    "\n",
    "print(X_train_pca_scaled.shape, X_test_pca_scaled.shape, y_train_pca_scaled.shape, y_test_pca_scaled.shape)"
   ],
   "metadata": {
    "collapsed": false
   }
  },
  {
   "cell_type": "code",
   "execution_count": 208,
   "outputs": [
    {
     "name": "stderr",
     "output_type": "stream",
     "text": [
      "C:\\Users\\lemos\\anaconda3\\lib\\site-packages\\sklearn\\neural_network\\_multilayer_perceptron.py:692: ConvergenceWarning: Stochastic Optimizer: Maximum iterations (1000) reached and the optimization hasn't converged yet.\n",
      "  warnings.warn(\n"
     ]
    },
    {
     "data": {
      "text/plain": "[<matplotlib.lines.Line2D at 0x1709b5f0d60>]"
     },
     "execution_count": 208,
     "metadata": {},
     "output_type": "execute_result"
    },
    {
     "data": {
      "text/plain": "<Figure size 432x288 with 1 Axes>",
      "image/png": "[encoded data removed]"
     },
     "metadata": {},
     "output_type": "display_data"
    }
   ],
   "source": [
    "# build MLP classifier\n",
    "clf_pca_scaled = MLPClassifier(hidden_layer_sizes=(200, 40, 10), activation='relu', solver='adam', max_iter=1000)\n",
    "# train model\n",
    "model_pca_scaled = clf_pca_scaled.fit(X_train_pca_scaled, y_train_pca_scaled)\n",
    "plt.plot(clf_pca_scaled.loss_curve_)"
   ],
   "metadata": {
    "collapsed": false
   }
  },
  {
   "cell_type": "code",
   "execution_count": 209,
   "outputs": [
    {
     "name": "stdout",
     "output_type": "stream",
     "text": [
      "Train accuracy:\t 0.8\n",
      "Test accuracy:\t 0.65\n",
      "              precision    recall  f1-score   support\n",
      "\n",
      "       DrugY       0.61      0.74      0.67        27\n",
      "       drugA       0.50      0.29      0.36         7\n",
      "       drugB       0.00      0.00      0.00         5\n",
      "       drugC       1.00      0.60      0.75         5\n",
      "       drugX       0.70      0.88      0.78        16\n",
      "\n",
      "    accuracy                           0.65        60\n",
      "   macro avg       0.56      0.50      0.51        60\n",
      "weighted avg       0.60      0.65      0.61        60\n",
      "\n"
     ]
    },
    {
     "name": "stderr",
     "output_type": "stream",
     "text": [
      "C:\\Users\\lemos\\anaconda3\\lib\\site-packages\\sklearn\\metrics\\_classification.py:1318: UndefinedMetricWarning: Precision and F-score are ill-defined and being set to 0.0 in labels with no predicted samples. Use `zero_division` parameter to control this behavior.\n",
      "  _warn_prf(average, modifier, msg_start, len(result))\n",
      "C:\\Users\\lemos\\anaconda3\\lib\\site-packages\\sklearn\\metrics\\_classification.py:1318: UndefinedMetricWarning: Precision and F-score are ill-defined and being set to 0.0 in labels with no predicted samples. Use `zero_division` parameter to control this behavior.\n",
      "  _warn_prf(average, modifier, msg_start, len(result))\n",
      "C:\\Users\\lemos\\anaconda3\\lib\\site-packages\\sklearn\\metrics\\_classification.py:1318: UndefinedMetricWarning: Precision and F-score are ill-defined and being set to 0.0 in labels with no predicted samples. Use `zero_division` parameter to control this behavior.\n",
      "  _warn_prf(average, modifier, msg_start, len(result))\n"
     ]
    }
   ],
   "source": [
    "# make prediction\n",
    "y_pred_pca_mlp_scaled = model_pca_scaled.predict(X_test_pca_scaled)\n",
    "print(f'Train accuracy:\\t {model_pca_scaled.score(X_train_pca_scaled, y_train_pca_scaled)}')\n",
    "print(f'Test accuracy:\\t {model_pca_scaled.score(X_test_pca_scaled, y_test_pca_scaled)}')\n",
    "scores_scaled['MLP_PCA'] =  model_pca_scaled.score(X_test_pca_scaled, y_test_pca_scaled)\n",
    "\n",
    "print(classification_report(y_test_pca_scaled, y_pred_pca_mlp_scaled))"
   ],
   "metadata": {
    "collapsed": false
   }
  },
  {
   "cell_type": "code",
   "execution_count": 210,
   "outputs": [
    {
     "data": {
      "text/plain": "<sklearn.metrics._plot.confusion_matrix.ConfusionMatrixDisplay at 0x1709b612a00>"
     },
     "execution_count": 210,
     "metadata": {},
     "output_type": "execute_result"
    },
    {
     "data": {
      "text/plain": "<Figure size 432x288 with 2 Axes>",
      "image/png": "[encoded data removed]"
     },
     "metadata": {},
     "output_type": "display_data"
    }
   ],
   "source": [
    "# plot_confusion_matrix(model, X_test, y_test)\n",
    "ConfusionMatrixDisplay.from_predictions(y_test_scaled, y_pred_pca_mlp_scaled)"
   ],
   "metadata": {
    "collapsed": false
   }
  },
  {
   "cell_type": "markdown",
   "source": [
    "## LDA"
   ],
   "metadata": {
    "collapsed": false
   }
  },
  {
   "cell_type": "code",
   "execution_count": 211,
   "outputs": [
    {
     "data": {
      "text/plain": "(200, 3)"
     },
     "execution_count": 211,
     "metadata": {},
     "output_type": "execute_result"
    }
   ],
   "source": [
    "from sklearn.discriminant_analysis import LinearDiscriminantAnalysis\n",
    "\n",
    "lda_scaled = LinearDiscriminantAnalysis(n_components=3)\n",
    "X_lda_scaled = lda.fit(X_scaled, y).transform(X_scaled)\n",
    "X_lda_scaled.shape"
   ],
   "metadata": {
    "collapsed": false
   }
  },
  {
   "cell_type": "code",
   "execution_count": 212,
   "outputs": [
    {
     "name": "stdout",
     "output_type": "stream",
     "text": [
      "(140, 3) (60, 3) (140,) (60,)\n"
     ]
    }
   ],
   "source": [
    "# split X and y into training and testing sets\n",
    "X_train_lda_scaled, X_test_lda_scaled, y_train_lda_scaled, y_test_lda_scaled= train_test_split(X_lda_scaled, y, test_size=0.30, random_state=42, stratify=y)\n",
    "\n",
    "print(X_train_lda_scaled.shape, X_test_lda_scaled.shape, y_train_lda_scaled.shape, y_test_lda_scaled.shape)"
   ],
   "metadata": {
    "collapsed": false
   }
  },
  {
   "cell_type": "code",
   "execution_count": 213,
   "outputs": [
    {
     "data": {
      "text/plain": "[<matplotlib.lines.Line2D at 0x1709b7353d0>]"
     },
     "execution_count": 213,
     "metadata": {},
     "output_type": "execute_result"
    },
    {
     "data": {
      "text/plain": "<Figure size 432x288 with 1 Axes>",
      "image/png": "[encoded data removed]"
     },
     "metadata": {},
     "output_type": "display_data"
    }
   ],
   "source": [
    "# build MLP classifier\n",
    "clf_lda_scaled = MLPClassifier(hidden_layer_sizes=(200, 40, 10), activation='relu', solver='adam', max_iter=1000)\n",
    "# train model\n",
    "model_lda_scaled = clf_lda_scaled.fit(X_train_lda_scaled, y_train_lda_scaled)\n",
    "plt.plot(clf_lda_scaled.loss_curve_)"
   ],
   "metadata": {
    "collapsed": false
   }
  },
  {
   "cell_type": "code",
   "execution_count": 214,
   "outputs": [
    {
     "name": "stdout",
     "output_type": "stream",
     "text": [
      "Train accuracy:\t 1.0\n",
      "Test accuracy:\t 0.95\n",
      "              precision    recall  f1-score   support\n",
      "\n",
      "       DrugY       0.93      1.00      0.96        27\n",
      "       drugA       1.00      0.86      0.92         7\n",
      "       drugB       0.83      1.00      0.91         5\n",
      "       drugC       1.00      0.60      0.75         5\n",
      "       drugX       1.00      1.00      1.00        16\n",
      "\n",
      "    accuracy                           0.95        60\n",
      "   macro avg       0.95      0.89      0.91        60\n",
      "weighted avg       0.96      0.95      0.95        60\n",
      "\n"
     ]
    }
   ],
   "source": [
    "# make prediction\n",
    "y_pred_lda_mlp_scaled = model_lda_scaled.predict(X_test_lda_scaled)\n",
    "print(f'Train accuracy:\\t {model_lda_scaled.score(X_train_lda_scaled, y_train_lda_scaled)}')\n",
    "print(f'Test accuracy:\\t {model_lda_scaled.score(X_test_lda_scaled, y_test_lda_scaled)}')\n",
    "scores_scaled['MLP_LDA'] =  model_lda_scaled.score(X_test_lda_scaled, y_test_lda_scaled)\n",
    "\n",
    "print(classification_report(y_test_lda_scaled, y_pred_lda_mlp_scaled))"
   ],
   "metadata": {
    "collapsed": false
   }
  },
  {
   "cell_type": "code",
   "execution_count": 215,
   "outputs": [
    {
     "data": {
      "text/plain": "<sklearn.metrics._plot.confusion_matrix.ConfusionMatrixDisplay at 0x1709b700130>"
     },
     "execution_count": 215,
     "metadata": {},
     "output_type": "execute_result"
    },
    {
     "data": {
      "text/plain": "<Figure size 432x288 with 2 Axes>",
      "image/png": "[encoded data removed]"
     },
     "metadata": {},
     "output_type": "display_data"
    }
   ],
   "source": [
    "# plot_confusion_matrix(model_lda, X_test_lda, y_test_lda)\n",
    "ConfusionMatrixDisplay.from_predictions(y_test_lda,y_pred_lda_mlp)"
   ],
   "metadata": {
    "collapsed": false
   }
  },
  {
   "cell_type": "code",
   "execution_count": 216,
   "outputs": [
    {
     "data": {
      "text/plain": "{'Decision Tree': 0.9666666666666667,\n 'KNN': 0.6166666666666667,\n 'MLP': 0.9833333333333333,\n 'MLP_PCA': 0.65,\n 'MLP_LDA': 0.95}"
     },
     "execution_count": 216,
     "metadata": {},
     "output_type": "execute_result"
    },
    {
     "data": {
      "text/plain": "<Figure size 432x288 with 1 Axes>",
      "image/png": "[encoded data removed]"
     },
     "metadata": {},
     "output_type": "display_data"
    }
   ],
   "source": [
    "plt.bar(scores_scaled.keys(), scores_scaled.values())\n",
    "scores_scaled"
   ],
   "metadata": {
    "collapsed": false
   }
  }
 ],
 "metadata": {
  "kernelspec": {
   "display_name": "FD",
   "language": "python",
   "name": "python3"
  },
  "language_info": {
   "codemirror_mode": {
    "name": "ipython",
    "version": 3
   },
   "file_extension": ".py",
   "mimetype": "text/x-python",
   "name": "python",
   "nbconvert_exporter": "python",
   "pygments_lexer": "ipython3",
   "version": "3.8.15"
  },
  "papermill": {
   "default_parameters": {},
   "duration": 15.518812,
   "end_time": "2023-01-06T20:33:23.672685",
   "environment_variables": {},
   "exception": null,
   "input_path": "__notebook__.ipynb",
   "output_path": "__notebook__.ipynb",
   "parameters": {},
   "start_time": "2023-01-06T20:33:08.153873",
   "version": "2.3.4"
  },
  "vscode": {
   "interpreter": {
    "hash": "361fc55018a8d54345afa37500bfc8496b5fc20eafc0a84f496d715bfbbc1222"
   }
  }
 },
 "nbformat": 4,
 "nbformat_minor": 5
}
