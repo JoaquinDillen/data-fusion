{
 "cells": [
  {
   "attachments": {},
   "cell_type": "markdown",
   "metadata": {},
   "source": [
    "# Mobile Activity & Usage Prediction Dataset \n",
    "\n",
    "Topic:\n",
    "Study and manipulation of data from different sources for class classification using \n",
    "artificial intelligence (AI) algorithms.\\\n",
    "The data acquisition can be done using datasets available on the web or else acquired\n",
    "through systems with sensors.\\\n",
    "The dataset must have at least **5 features** (columns with different characteristics).\n",
    "\n",
    "## Project Requirements \n",
    "\n",
    "<input type=\"checkbox\" checked/> Analysis of Dataset Features. \\\n",
    "<input type=\"checkbox\" checked/>  Preparation of the data to put into an AI model.\\\n",
    "<input type=\"checkbox\" checked/> Study of the most suitable Ai model for the chosen dataset.\\\n",
    "<input type=\"checkbox\" checked/> Application of the selected Ai model to the dataset with and without the application of PCA/LDA techniques.\\\n",
    "<input type=\"checkbox\" checked/> Analysis of the Ai model training (Confusion matrix, learning curves, etc...).\\\n",
    "<input type=\"checkbox\" checked/> Study of the most important features of the dataset (feature importance) to improve the accuracy of the Ai model.\\\n",
    "<input type=\"checkbox\" checked/> Feature Importance self Obtained. (By own algorythms)\n",
    "\n",
    "## Valorization of the Process\n",
    "\n",
    "<input type=\"checkbox\" checked/> Hardware for acquiring the dataset.\\\n",
    "<input type=\"checkbox\" checked/> Application of data combination techniques (example: data alignment,\n",
    "downsampling/upsampling, etc...).\\\n",
    "<input type=\"checkbox\" checked/> Application of data quality improvement techniques (example: filters).\\\n",
    "<input type=\"checkbox\" checked/> Other approaches...\n",
    "\n",
    "## Brief Description of the Work\n",
    "\n",
    "The following code analyses two datasets collected from 6 different cell phones using the as a collection method Home Assistant resources to gather data from 51 different features with the objective of test and develop skills in the field of data fusion according with the project defined by the professor V. Oliveira (voliveira@ipca.pt)\n",
    "\n",
    "The authors of the following project and respective data are: \n",
    "\n",
    "@fandrepm18\\\n",
    "@JoaquinDillen\\\n",
    "@nunof98\n",
    "\n",
    "\n"
   ]
  },
  {
   "attachments": {},
   "cell_type": "markdown",
   "metadata": {},
   "source": [
    "# Load Dataset"
   ]
  },
  {
   "cell_type": "code",
   "execution_count": null,
   "metadata": {},
   "outputs": [],
   "source": [
    "import pandas as pd\n",
    "\n",
    "filename = 'reclassifying_features/dataset_v1.csv'\n",
    "#filename = 'New_Dataset_v1.csv'\n",
    "\n",
    "# load dataset and set time column as index\n",
    "df = pd.read_csv(f'datasets/{filename}').set_index('time')\n",
    "df"
   ]
  },
  {
   "cell_type": "code",
   "execution_count": null,
   "metadata": {
    "collapsed": false
   },
   "outputs": [],
   "source": [
    "df.info()"
   ]
  },
  {
   "cell_type": "markdown",
   "metadata": {
    "collapsed": false
   },
   "source": [
    "# Analysis of dataset features\n",
    "Analyses the statistical information about each variable."
   ]
  },
  {
   "cell_type": "code",
   "execution_count": null,
   "metadata": {},
   "outputs": [],
   "source": [
    "import missingno as msno\n",
    "\n",
    "# check for missing values\n",
    "msno.matrix(df)\n",
    "df.isnull().sum()"
   ]
  },
  {
   "cell_type": "code",
   "execution_count": null,
   "metadata": {
    "collapsed": false
   },
   "outputs": [],
   "source": [
    "# Quick view of data statistical behavior.\n",
    "df.describe()"
   ]
  },
  {
   "cell_type": "code",
   "execution_count": null,
   "metadata": {
    "collapsed": false
   },
   "outputs": [],
   "source": [
    "import seaborn as sns\n",
    "\n",
    "sns.countplot(df['last_used_app'])"
   ]
  },
  {
   "cell_type": "markdown",
   "metadata": {
    "collapsed": false
   },
   "source": [
    "The samples don't have the same size. So it's advised to use stratify when splitting the data."
   ]
  },
  {
   "cell_type": "code",
   "execution_count": null,
   "metadata": {
    "collapsed": false
   },
   "outputs": [],
   "source": [
    "print('% of classes')\n",
    "round((df['last_used_app'].value_counts() / df.shape[0]) * 100, 2)"
   ]
  },
  {
   "cell_type": "code",
   "execution_count": null,
   "metadata": {
    "collapsed": false
   },
   "outputs": [],
   "source": [
    "sns.countplot(df['device_id'])"
   ]
  },
  {
   "cell_type": "code",
   "execution_count": null,
   "metadata": {
    "collapsed": false
   },
   "outputs": [],
   "source": [
    "print('% of phones')\n",
    "round((df['device_id'].value_counts() / df.shape[0]) * 100, 2)"
   ]
  },
  {
   "cell_type": "code",
   "execution_count": null,
   "metadata": {
    "collapsed": false
   },
   "outputs": [],
   "source": [
    "from matplotlib import pyplot as plt\n",
    "\n",
    "plt.title('Total TX distribution')\n",
    "df['total_tx_gb'].plot(kind='kde')"
   ]
  },
  {
   "cell_type": "code",
   "execution_count": null,
   "metadata": {
    "collapsed": false
   },
   "outputs": [],
   "source": [
    "plt.title('Total RX distribution')\n",
    "df['total_rx_gb'].plot(kind='kde')"
   ]
  },
  {
   "cell_type": "code",
   "execution_count": null,
   "metadata": {
    "collapsed": false
   },
   "outputs": [],
   "source": [
    "sns.catplot(data=df, x='last_used_app', y='total_tx_gb')"
   ]
  },
  {
   "cell_type": "code",
   "execution_count": null,
   "metadata": {
    "collapsed": false
   },
   "outputs": [],
   "source": [
    "sns.catplot(data=df, x='last_used_app', y='total_tx_gb', hue='device_id')"
   ]
  },
  {
   "cell_type": "code",
   "execution_count": null,
   "metadata": {
    "collapsed": false
   },
   "outputs": [],
   "source": [
    "df['last_update_trigger'].value_counts().plot(kind='barh', title='Update Trigger')"
   ]
  },
  {
   "attachments": {},
   "cell_type": "markdown",
   "metadata": {
    "collapsed": false
   },
   "source": [
    "## Encode categorical features\n",
    "\n",
    "Encoders are used to transform categorical data into a numerical format, which allows the data to be more easily analyzed and used for machine learning tasks. By encoding categorical data, the data can be represented in a way that can be more easily processed by algorithms, which can lead to more accurate predictions and insights."
   ]
  },
  {
   "cell_type": "code",
   "execution_count": null,
   "metadata": {
    "collapsed": false
   },
   "outputs": [],
   "source": [
    "import category_encoders as ce\n",
    "\n",
    "# select categorical columns\n",
    "cat_cols = df.select_dtypes(include=\"object\").columns.tolist()\n",
    "# cat_cols.remove('last_used_app')\n",
    "\n",
    "encoder = ce.OrdinalEncoder(cols=cat_cols)\n",
    "df = encoder.fit_transform(df)\n",
    "df"
   ]
  },
  {
   "cell_type": "code",
   "execution_count": null,
   "metadata": {
    "collapsed": false
   },
   "outputs": [],
   "source": [
    "df.describe()"
   ]
  },
  {
   "attachments": {},
   "cell_type": "markdown",
   "metadata": {
    "collapsed": false
   },
   "source": [
    "# Correlation Matrix\n",
    "\n",
    "A correlation matrix is a useful tool in analyzing the relationship between different features in a dataset. It provides a numerical measure of the strength and direction of the linear relationship between pairs of variables. By examining the correlation matrix, it is possible to identify which pairs of features are strongly related and which are weakly related. This can help to identify potential redundancies or collinearities between features, as well as highlight which features are most strongly associated with the target variable. Furthermore, the correlation matrix can help to identify potential issues such as multicollinearity, which can affect the stability and accuracy of regression models. Overall, the correlation matrix is a valuable tool in exploratory data analysis and can provide insights that are not immediately apparent from examining individual features in isolation."
   ]
  },
  {
   "cell_type": "code",
   "execution_count": null,
   "metadata": {
    "collapsed": false
   },
   "outputs": [],
   "source": [
    "from matplotlib import pyplot as plt\n",
    "import seaborn as sns\n",
    "\n",
    "plt.figure(figsize=(20, 20))\n",
    "sns.heatmap(df.corr(), annot=True, fmt='.2f', cmap='Blues')\n",
    "plt.title('Correlation between variables')"
   ]
  },
  {
   "attachments": {},
   "cell_type": "markdown",
   "metadata": {},
   "source": [
    "# Get features and labels\n",
    "\n",
    "Separate the features and the respective labels"
   ]
  },
  {
   "cell_type": "code",
   "execution_count": null,
   "metadata": {},
   "outputs": [],
   "source": [
    "# get labels\n",
    "y = df['last_used_app']\n",
    "y"
   ]
  },
  {
   "cell_type": "code",
   "execution_count": null,
   "outputs": [],
   "source": [
    "# drop irrelevant columns (std < 1)\n",
    "df = df.drop(df.std()[df.std() < 1.0].index.values, axis=1)\n",
    "df"
   ],
   "metadata": {
    "collapsed": false
   }
  },
  {
   "cell_type": "code",
   "execution_count": null,
   "outputs": [],
   "source": [
    "# get features\n",
    "X = df.drop(['last_used_app'], axis=1)\n",
    "X"
   ],
   "metadata": {
    "collapsed": false
   }
  },
  {
   "cell_type": "markdown",
   "metadata": {
    "collapsed": false
   },
   "source": [
    "# Split dataset into train and test sets"
   ]
  },
  {
   "cell_type": "code",
   "execution_count": null,
   "metadata": {},
   "outputs": [],
   "source": [
    "from sklearn.model_selection import train_test_split\n",
    "\n",
    "# split X and y into training and testing sets\n",
    "X_train, X_test, y_train, y_test = train_test_split(X, y, test_size=0.30, random_state=42, stratify=y)\n",
    "\n",
    "print(X_train.shape, X_test.shape, y_train.shape, y_test.shape)"
   ]
  },
  {
   "cell_type": "markdown",
   "metadata": {
    "collapsed": false
   },
   "source": [
    "# Classification models\n",
    "\n",
    "Classifiers used:\n",
    "- Decision Tree\n",
    "- KNeighbors\n",
    "- MLP"
   ]
  },
  {
   "cell_type": "markdown",
   "metadata": {
    "collapsed": false
   },
   "source": [
    "# 1. Non-normalized values"
   ]
  },
  {
   "cell_type": "code",
   "execution_count": null,
   "metadata": {
    "collapsed": false
   },
   "outputs": [],
   "source": [
    "scores = {}"
   ]
  },
  {
   "cell_type": "markdown",
   "metadata": {
    "collapsed": false
   },
   "source": [
    "## 1.1 Decision tree"
   ]
  },
  {
   "cell_type": "code",
   "execution_count": null,
   "metadata": {
    "collapsed": false
   },
   "outputs": [],
   "source": [
    "from sklearn.tree import DecisionTreeClassifier\n",
    "from sklearn.metrics import classification_report\n",
    "from sklearn.metrics import ConfusionMatrixDisplay\n",
    "\n",
    "# build decision tree classifier\n",
    "tree = DecisionTreeClassifier(criterion='gini', max_depth=5, random_state=0)\n",
    "# train decision tree\n",
    "tree.fit(X_train, y_train)\n",
    "\n",
    "# make prediction\n",
    "y_pred_tree = tree.predict(X_test)\n",
    "print(classification_report(y_test, y_pred_tree))\n",
    "print(f'Train accuracy:\\t {tree.score(X_train, y_train)}')\n",
    "print(f'Test accuracy:\\t {tree.score(X_test, y_test)}')\n",
    "scores['Decision Tree'] =  tree.score(X_test, y_test)\n",
    "\n",
    "ConfusionMatrixDisplay.from_predictions(y_test, y_pred_tree, cmap='Blues')"
   ]
  },
  {
   "cell_type": "markdown",
   "metadata": {
    "collapsed": false
   },
   "source": [
    "## 1.2 KNeighbors"
   ]
  },
  {
   "cell_type": "code",
   "execution_count": null,
   "metadata": {
    "collapsed": false
   },
   "outputs": [],
   "source": [
    "from sklearn.neighbors import KNeighborsClassifier\n",
    "\n",
    "# build KNeighbors classifier\n",
    "knn = KNeighborsClassifier(n_neighbors=2)\n",
    "# train KNeighbors\n",
    "knn.fit(X_train, y_train)\n",
    "\n",
    "# make prediction\n",
    "y_pred_knn = knn.predict(X_test)\n",
    "print(classification_report(y_test, y_pred_knn))\n",
    "print(f'Train accuracy:\\t {knn.score(X_train, y_train)}')\n",
    "print(f'Test accuracy:\\t {knn.score(X_test, y_test)}')\n",
    "scores['KNN'] =  knn.score(X_test, y_test)\n",
    "\n",
    "ConfusionMatrixDisplay.from_predictions(y_test, y_pred_knn, cmap='Blues')"
   ]
  },
  {
   "cell_type": "markdown",
   "metadata": {
    "collapsed": false
   },
   "source": [
    "## 1.3 MLP"
   ]
  },
  {
   "cell_type": "code",
   "execution_count": null,
   "metadata": {
    "collapsed": false
   },
   "outputs": [],
   "source": [
    "from sklearn.neural_network import MLPClassifier\n",
    "\n",
    "\n",
    "# build MLP classifier\n",
    "mlp = MLPClassifier(hidden_layer_sizes=(200, 40, 10), activation='relu', solver='adam', max_iter=1000)\n",
    "# train model\n",
    "mlp.fit(X_train, y_train)\n",
    "plt.plot(mlp.loss_curve_)"
   ]
  },
  {
   "cell_type": "code",
   "execution_count": null,
   "metadata": {
    "collapsed": false
   },
   "outputs": [],
   "source": [
    "# make prediction\n",
    "y_pred_mlp = mlp.predict(X_test)\n",
    "print(classification_report(y_test, y_pred_mlp))\n",
    "print(f'Train accuracy:\\t {mlp.score(X_train, y_train)}')\n",
    "print(f'Test accuracy:\\t {mlp.score(X_test, y_test)}')\n",
    "scores['MLP'] =  mlp.score(X_test, y_test)\n",
    "\n",
    "ConfusionMatrixDisplay.from_predictions(y_test, y_pred_mlp, cmap='Blues')"
   ]
  },
  {
   "cell_type": "markdown",
   "metadata": {
    "collapsed": false
   },
   "source": [
    "# Classification ensembles and feature selectors\n",
    "\n",
    "Classifiers used:\n",
    "- Random Forest\n",
    "- Voting\n",
    "- Recursive Feature Elimination"
   ]
  },
  {
   "cell_type": "markdown",
   "metadata": {
    "collapsed": false
   },
   "source": [
    "## 1.4 Random Forest"
   ]
  },
  {
   "cell_type": "code",
   "execution_count": null,
   "metadata": {
    "collapsed": false
   },
   "outputs": [],
   "source": [
    "from sklearn.ensemble import RandomForestClassifier\n",
    "\n",
    "# build random forest classifier\n",
    "rfc = RandomForestClassifier()\n",
    "# train random forest\n",
    "rfc.fit(X_train, y_train)\n",
    "\n",
    "# make prediction\n",
    "y_pred_rfc = rfc.predict(X_test)\n",
    "print(classification_report(y_test, y_pred_rfc))\n",
    "print(f'Train accuracy:\\t {rfc.score(X_train, y_train)}')\n",
    "print(f'Test accuracy:\\t {rfc.score(X_test, y_test)}')\n",
    "scores['Random Forest'] = rfc.score(X_test, y_test)\n",
    "\n",
    "ConfusionMatrixDisplay.from_predictions(y_test, y_pred_rfc, cmap='Blues')"
   ]
  },
  {
   "cell_type": "markdown",
   "metadata": {
    "collapsed": false
   },
   "source": [
    "## 1.5 Voting"
   ]
  },
  {
   "cell_type": "code",
   "execution_count": null,
   "metadata": {
    "collapsed": false
   },
   "outputs": [],
   "source": [
    "from sklearn.ensemble import VotingClassifier\n",
    "\n",
    "# build voting classifier\n",
    "voting_classifier = VotingClassifier(\n",
    "    estimators=[\n",
    "        ('tree', tree),\n",
    "        ('knn', knn),\n",
    "        ('mlp', mlp),\n",
    "        ('rfc', rfc)\n",
    "    ],\n",
    "    voting='soft'\n",
    ")\n",
    "voting_classifier = voting_classifier.fit(X_train, y_train)\n",
    "\n",
    "\n",
    "# make prediction\n",
    "y_pred_voting_classifier = voting_classifier.predict(X_test)\n",
    "print(classification_report(y_test, y_pred_voting_classifier))\n",
    "print(f'Train accuracy:\\t {voting_classifier.score(X_train, y_train)}')\n",
    "print(f'Test accuracy:\\t {voting_classifier.score(X_test, y_test)}')\n",
    "scores['Voting Classifier'] = voting_classifier.score(X_test, y_test)\n",
    "\n",
    "ConfusionMatrixDisplay.from_predictions(y_test, y_pred_voting_classifier, cmap='Blues')"
   ]
  },
  {
   "cell_type": "markdown",
   "metadata": {
    "collapsed": false
   },
   "source": [
    "# 1.6 Recursive Feature Elimination"
   ]
  },
  {
   "cell_type": "code",
   "execution_count": null,
   "metadata": {
    "collapsed": false
   },
   "outputs": [],
   "source": [
    "from sklearn.feature_selection import RFE\n",
    "\n",
    "# build and fit classifier\n",
    "rfe = RFE(RandomForestClassifier(), step=1).fit(X_train, y_train)\n",
    "\n",
    "# make prediction\n",
    "y_pred_rfe = rfe.predict(X_test)\n",
    "print(classification_report(y_test, y_pred_rfe))\n",
    "print(f'Train accuracy:\\t {rfe.score(X_train, y_train)}')\n",
    "print(f'Test accuracy:\\t {rfe.score(X_test, y_test)}')\n",
    "scores['RFE'] = rfe.score(X_test, y_test)\n",
    "\n",
    "ConfusionMatrixDisplay.from_predictions(y_test, y_pred_rfe, cmap='Blues')"
   ]
  },
  {
   "attachments": {},
   "cell_type": "markdown",
   "metadata": {},
   "source": [
    "# PCA or LDA Usage\n",
    "\n",
    "Our Dataset is presented with several datapoints so we can consider the fact that our dataset is a multi-sensor data fusion application, the need to keep the computational load low is very important, a low-dimensional common representational format may be the answer, to apply a dimension-reducing, or subspace technique to the raw input data. "
   ]
  },
  {
   "attachments": {},
   "cell_type": "markdown",
   "metadata": {},
   "source": [
    "## 1.5 PCA"
   ]
  },
  {
   "cell_type": "code",
   "execution_count": null,
   "metadata": {
    "collapsed": false
   },
   "outputs": [],
   "source": [
    "scores_pca = {}"
   ]
  },
  {
   "cell_type": "code",
   "execution_count": null,
   "metadata": {
    "collapsed": false
   },
   "outputs": [],
   "source": [
    "from sklearn.decomposition import PCA\n",
    "\n",
    "pca = PCA(n_components=3)\n",
    "X_pca = pca.fit_transform(X)\n",
    "\n",
    "X_pca.shape, y.shape"
   ]
  },
  {
   "cell_type": "markdown",
   "metadata": {
    "collapsed": false
   },
   "source": [
    "PCA variance_ratio\n",
    "The percentage of the explained variance is: explained_variance_ratio_\n",
    "\n",
    "The variance i.e. the eigenvalues of the covariance matrix is: explained_variance_\n",
    "\n",
    "Formula: explained_variance_ratio_ = explained_variance_ / np.sum(explained_variance_)"
   ]
  },
  {
   "cell_type": "code",
   "execution_count": null,
   "metadata": {
    "collapsed": false
   },
   "outputs": [],
   "source": [
    "pca.explained_variance_ratio_"
   ]
  },
  {
   "cell_type": "code",
   "execution_count": null,
   "metadata": {
    "collapsed": false
   },
   "outputs": [],
   "source": [
    "pca.explained_variance_ratio_.sum()"
   ]
  },
  {
   "cell_type": "code",
   "execution_count": null,
   "metadata": {
    "collapsed": false
   },
   "outputs": [],
   "source": [
    "# split X and y into training and testing sets\n",
    "X_train_pca, X_test_pca, y_train_pca, y_test_pca = train_test_split(X_pca, y, test_size=0.30, random_state=42, stratify=y)\n",
    "\n",
    "print(X_train_pca.shape, X_test_pca.shape, y_train_pca.shape, y_test_pca.shape)"
   ]
  },
  {
   "cell_type": "markdown",
   "metadata": {
    "collapsed": false
   },
   "source": [
    "### 1.5.1 Decision tree"
   ]
  },
  {
   "cell_type": "code",
   "execution_count": null,
   "metadata": {
    "collapsed": false
   },
   "outputs": [],
   "source": [
    "# build decision tree classifier\n",
    "tree_pca = DecisionTreeClassifier(criterion='gini', max_depth=5, random_state=0)\n",
    "# train decision tree\n",
    "tree_pca.fit(X_train_pca, y_train_pca)\n",
    "\n",
    "# make prediction\n",
    "y_pred_tree_pca = tree_pca.predict(X_test_pca)\n",
    "print(classification_report(y_test_pca, y_pred_tree_pca))\n",
    "print(f'Train accuracy:\\t {tree_pca.score(X_train_pca, y_train_pca)}')\n",
    "print(f'Test accuracy:\\t {tree_pca.score(X_test_pca, y_test_pca)}')\n",
    "scores_pca['Decision Tree PCA'] =  tree_pca.score(X_test_pca, y_test_pca)\n",
    "\n",
    "ConfusionMatrixDisplay.from_predictions(y_test_pca, y_pred_tree_pca, cmap='Blues')"
   ]
  },
  {
   "cell_type": "markdown",
   "metadata": {
    "collapsed": false
   },
   "source": [
    "### 1.5.2 KNeighbors"
   ]
  },
  {
   "cell_type": "code",
   "execution_count": null,
   "metadata": {
    "collapsed": false
   },
   "outputs": [],
   "source": [
    "# build KNeighbors classifier\n",
    "knn_pca = KNeighborsClassifier(n_neighbors=2)\n",
    "# train KNeighbors\n",
    "knn_pca.fit(X_train_pca, y_train_pca)\n",
    "\n",
    "# make prediction\n",
    "y_pred_knn_pca = knn_pca.predict(X_test_pca)\n",
    "print(classification_report(y_test_pca, y_pred_knn_pca))\n",
    "print(f'Train accuracy:\\t {knn_pca.score(X_train_pca, y_train_pca)}')\n",
    "print(f'Test accuracy:\\t {knn_pca.score(X_test_pca, y_test_pca)}')\n",
    "scores_pca['KNN PCA'] =  knn_pca.score(X_test_pca, y_test_pca)\n",
    "\n",
    "ConfusionMatrixDisplay.from_predictions(y_test_pca, y_pred_knn_pca, cmap='Blues')"
   ]
  },
  {
   "cell_type": "markdown",
   "metadata": {
    "collapsed": false
   },
   "source": [
    "### 1.5.3 MLP"
   ]
  },
  {
   "cell_type": "code",
   "execution_count": null,
   "metadata": {
    "collapsed": false
   },
   "outputs": [],
   "source": [
    "# build MLP classifier\n",
    "mlp_pca = MLPClassifier(hidden_layer_sizes=(200, 40, 10), activation='relu', solver='adam', max_iter=1000)\n",
    "# train model\n",
    "mlp_pca.fit(X_train_pca, y_train_pca)\n",
    "plt.plot(mlp_pca.loss_curve_)"
   ]
  },
  {
   "cell_type": "code",
   "execution_count": null,
   "metadata": {
    "collapsed": false
   },
   "outputs": [],
   "source": [
    "# make prediction\n",
    "y_pred_mlp_pca = mlp_pca.predict(X_test_pca)\n",
    "print(classification_report(y_test_pca, y_pred_mlp_pca))\n",
    "print(f'Train accuracy:\\t {mlp_pca.score(X_train_pca, y_train_pca)}')\n",
    "print(f'Test accuracy:\\t {mlp_pca.score(X_test_pca, y_test_pca)}')\n",
    "scores_pca['MLP PCA'] =  mlp_pca.score(X_test_pca, y_test_pca)\n",
    "\n",
    "ConfusionMatrixDisplay.from_predictions(y_test_pca, y_pred_mlp_pca, cmap='Blues')"
   ]
  },
  {
   "cell_type": "markdown",
   "metadata": {
    "collapsed": false
   },
   "source": [
    "### 1.5.4 Random Forest"
   ]
  },
  {
   "cell_type": "code",
   "execution_count": null,
   "metadata": {
    "collapsed": false
   },
   "outputs": [],
   "source": [
    "# build random forest classifier\n",
    "rfc_pca = RandomForestClassifier(criterion='gini', n_estimators=5, random_state=1, n_jobs=2)\n",
    "# train random forest\n",
    "rfc_pca.fit(X_train_pca, y_train_pca)\n",
    "\n",
    "# make prediction\n",
    "y_pred_rfc_pca = rfc_pca.predict(X_test_pca)\n",
    "print(classification_report(y_test_pca, y_pred_rfc_pca))\n",
    "print(f'Train accuracy:\\t {rfc_pca.score(X_train_pca, y_train_pca)}')\n",
    "print(f'Test accuracy:\\t {rfc_pca.score(X_test_pca, y_test_pca)}')\n",
    "scores_pca['Random Forest PCA'] = rfc_pca.score(X_test_pca, y_test_pca)\n",
    "\n",
    "ConfusionMatrixDisplay.from_predictions(y_test_pca, y_pred_rfc_pca, cmap='Blues')"
   ]
  },
  {
   "cell_type": "markdown",
   "metadata": {
    "collapsed": false
   },
   "source": [
    "### 1.5.5 Voting"
   ]
  },
  {
   "cell_type": "code",
   "execution_count": null,
   "metadata": {
    "collapsed": false
   },
   "outputs": [],
   "source": [
    "# build voting classifier\n",
    "voting_classifier_pca = VotingClassifier(\n",
    "    estimators=[\n",
    "        ('tree_pca', tree_pca),\n",
    "        ('knn_pca', knn_pca),\n",
    "        ('mlp_pca', mlp_pca),\n",
    "        ('rfc_pca', rfc_pca)\n",
    "    ],\n",
    "    voting='soft'\n",
    ")\n",
    "voting_classifier_pca = voting_classifier_pca.fit(X_train_pca, y_train_pca)\n",
    "\n",
    "\n",
    "# make prediction\n",
    "y_pred_voting_classifier_pca = voting_classifier_pca.predict(X_test_pca)\n",
    "print(classification_report(y_test_pca, y_pred_voting_classifier_pca))\n",
    "print(f'Train accuracy:\\t {voting_classifier_pca.score(X_train_pca, y_train_pca)}')\n",
    "print(f'Test accuracy:\\t {voting_classifier_pca.score(X_test_pca, y_test_pca)}')\n",
    "scores_pca['Voting Classifier PCA'] = voting_classifier_pca.score(X_test_pca, y_test_pca)\n",
    "\n",
    "ConfusionMatrixDisplay.from_predictions(y_test_pca, y_pred_voting_classifier_pca, cmap='Blues')"
   ]
  },
  {
   "cell_type": "markdown",
   "metadata": {
    "collapsed": false
   },
   "source": [
    "### 1.5.6 Recursive Feature Elimination"
   ]
  },
  {
   "cell_type": "code",
   "execution_count": null,
   "metadata": {
    "collapsed": false
   },
   "outputs": [],
   "source": [
    "# build and fit classifier\n",
    "rfe_pca = RFE(RandomForestClassifier(), step=1).fit(X_train_pca, y_train_pca)\n",
    "\n",
    "# make prediction\n",
    "y_pred_rfe_pca = rfe_pca.predict(X_test_pca)\n",
    "print(classification_report(y_test_pca, y_pred_rfe_pca))\n",
    "print(f'Train accuracy:\\t {rfe_pca.score(X_train_pca, y_train_pca)}')\n",
    "print(f'Test accuracy:\\t {rfe_pca.score(X_test_pca, y_test_pca)}')\n",
    "scores_pca['RFE PCA'] = rfe_pca.score(X_test_pca, y_test_pca)\n",
    "\n",
    "ConfusionMatrixDisplay.from_predictions(y_test_pca, y_pred_rfe_pca, cmap='Blues')"
   ]
  },
  {
   "attachments": {},
   "cell_type": "markdown",
   "metadata": {},
   "source": [
    "## 1.6 LDA"
   ]
  },
  {
   "cell_type": "code",
   "execution_count": null,
   "metadata": {
    "collapsed": false
   },
   "outputs": [],
   "source": [
    "scores_lda = {}"
   ]
  },
  {
   "cell_type": "code",
   "execution_count": null,
   "metadata": {
    "collapsed": false
   },
   "outputs": [],
   "source": [
    "from sklearn.discriminant_analysis import LinearDiscriminantAnalysis\n",
    "\n",
    "lda = LinearDiscriminantAnalysis(n_components=3)\n",
    "X_lda = lda.fit(X, y).transform(X)\n",
    "X_lda.shape"
   ]
  },
  {
   "cell_type": "code",
   "execution_count": null,
   "metadata": {
    "collapsed": false
   },
   "outputs": [],
   "source": [
    "# split X and y into training and testing sets\n",
    "X_train_lda, X_test_lda, y_train_lda, y_test_lda = train_test_split(X_lda, y, test_size=0.30, random_state=42, stratify=y)\n",
    "\n",
    "print(X_train_lda.shape, X_test_lda.shape, y_train_lda.shape, y_test_lda.shape)"
   ]
  },
  {
   "cell_type": "markdown",
   "metadata": {
    "collapsed": false
   },
   "source": [
    "### 1.6.1 Decision tree"
   ]
  },
  {
   "cell_type": "code",
   "execution_count": null,
   "metadata": {
    "collapsed": false
   },
   "outputs": [],
   "source": [
    "# build decision tree classifier\n",
    "tree_lda = DecisionTreeClassifier(criterion='gini', max_depth=5, random_state=0)\n",
    "# train decision tree\n",
    "tree_lda.fit(X_train_lda, y_train_lda)\n",
    "\n",
    "# make prediction\n",
    "y_pred_tree_lda = tree_lda.predict(X_test_lda)\n",
    "print(classification_report(y_test_lda, y_pred_tree_lda))\n",
    "print(f'Train accuracy:\\t {tree_lda.score(X_train_lda, y_train_lda)}')\n",
    "print(f'Test accuracy:\\t {tree_lda.score(X_test_lda, y_test_lda)}')\n",
    "scores_lda['Decision Tree LDA'] =  tree_lda.score(X_test_lda, y_test_lda)\n",
    "\n",
    "ConfusionMatrixDisplay.from_predictions(y_test_lda, y_pred_tree_lda, cmap='Blues')"
   ]
  },
  {
   "cell_type": "markdown",
   "metadata": {
    "collapsed": false
   },
   "source": [
    "### 1.6.2 KNeighbors"
   ]
  },
  {
   "cell_type": "code",
   "execution_count": null,
   "metadata": {
    "collapsed": false
   },
   "outputs": [],
   "source": [
    "# build KNeighbors classifier\n",
    "knn_lda = KNeighborsClassifier(n_neighbors=5)\n",
    "# train KNeighbors\n",
    "knn_lda.fit(X_train_lda, y_train_lda)\n",
    "\n",
    "# make prediction\n",
    "y_pred_knn_lda = knn_lda.predict(X_test_lda)\n",
    "print(classification_report(y_test_lda, y_pred_knn_lda))\n",
    "print(f'Train accuracy:\\t {knn_lda.score(X_train_lda, y_train_lda)}')\n",
    "print(f'Test accuracy:\\t {knn_lda.score(X_test_lda, y_test_lda)}')\n",
    "scores_lda['KNN LDA'] =  knn_lda.score(X_test_lda, y_test_lda)\n",
    "\n",
    "ConfusionMatrixDisplay.from_predictions(y_test_lda, y_pred_knn_lda, cmap='Blues')"
   ]
  },
  {
   "cell_type": "markdown",
   "metadata": {
    "collapsed": false
   },
   "source": [
    "### 1.6.3 MLP"
   ]
  },
  {
   "cell_type": "code",
   "execution_count": null,
   "metadata": {
    "collapsed": false
   },
   "outputs": [],
   "source": [
    "# build MLP classifier\n",
    "mlp_lda = MLPClassifier(hidden_layer_sizes=(200, 40, 10), activation='relu', solver='adam', max_iter=1000)\n",
    "# train model\n",
    "mlp_lda.fit(X_train_lda, y_train_lda)\n",
    "plt.plot(mlp_lda.loss_curve_)"
   ]
  },
  {
   "cell_type": "code",
   "execution_count": null,
   "metadata": {
    "collapsed": false
   },
   "outputs": [],
   "source": [
    "# make prediction\n",
    "y_pred_mlp_lda = mlp_lda.predict(X_test_lda)\n",
    "print(classification_report(y_test_lda, y_pred_mlp_lda))\n",
    "print(f'Train accuracy:\\t {mlp_lda.score(X_train_lda, y_train_lda)}')\n",
    "print(f'Test accuracy:\\t {mlp_lda.score(X_test_lda, y_test_lda)}')\n",
    "scores_lda['MLP LDA'] =  mlp_lda.score(X_test_lda, y_test_lda)\n",
    "\n",
    "ConfusionMatrixDisplay.from_predictions(y_test_lda,y_pred_mlp_lda, cmap='Blues')"
   ]
  },
  {
   "cell_type": "markdown",
   "metadata": {
    "collapsed": false
   },
   "source": [
    "### 1.6.4 Random Forest"
   ]
  },
  {
   "cell_type": "code",
   "execution_count": null,
   "metadata": {
    "collapsed": false
   },
   "outputs": [],
   "source": [
    "# build random forest classifier\n",
    "rfc_lda = RandomForestClassifier(criterion='gini', n_estimators=5, random_state=1, n_jobs=2)\n",
    "# train random forest\n",
    "rfc_lda.fit(X_train_lda, y_train_lda)\n",
    "\n",
    "# make prediction\n",
    "y_pred_rfc_lda = rfc_lda.predict(X_test_lda)\n",
    "print(classification_report(y_test_lda, y_pred_rfc_lda))\n",
    "print(f'Train accuracy:\\t {rfc_lda.score(X_train_lda, y_train_lda)}')\n",
    "print(f'Test accuracy:\\t {rfc_lda.score(X_test_lda, y_test_lda)}')\n",
    "scores_lda['Random Forest LDA'] = rfc_lda.score(X_test_lda, y_test_lda)\n",
    "\n",
    "ConfusionMatrixDisplay.from_predictions(y_test_lda, y_pred_rfc_lda, cmap='Blues')"
   ]
  },
  {
   "cell_type": "markdown",
   "metadata": {
    "collapsed": false
   },
   "source": [
    "### 1.6.5 Voting"
   ]
  },
  {
   "cell_type": "code",
   "execution_count": null,
   "metadata": {
    "collapsed": false
   },
   "outputs": [],
   "source": [
    "# build voting classifier\n",
    "voting_classifier_lda = VotingClassifier(\n",
    "    estimators=[\n",
    "        ('tree_lda', tree_lda),\n",
    "        ('knn_lda', knn_lda),\n",
    "        ('mlp_lda', mlp_lda),\n",
    "        ('rfc_lda', rfc_lda)\n",
    "    ],\n",
    "    voting='soft'\n",
    ")\n",
    "voting_classifier_lda = voting_classifier_lda.fit(X_train_lda, y_train_lda)\n",
    "\n",
    "\n",
    "# make prediction\n",
    "y_pred_voting_classifier_lda = voting_classifier_lda.predict(X_test_lda)\n",
    "print(classification_report(y_test_lda, y_pred_voting_classifier_lda))\n",
    "print(f'Train accuracy:\\t {voting_classifier_lda.score(X_train_lda, y_train_lda)}')\n",
    "print(f'Test accuracy:\\t {voting_classifier_lda.score(X_test_lda, y_test_lda)}')\n",
    "scores_lda['Voting Classifier LDA'] = voting_classifier_lda.score(X_test_lda, y_test_lda)\n",
    "\n",
    "ConfusionMatrixDisplay.from_predictions(y_test_lda, y_pred_voting_classifier_lda, cmap='Blues')"
   ]
  },
  {
   "cell_type": "markdown",
   "metadata": {
    "collapsed": false
   },
   "source": [
    "### 1.6.6 Recursive Feature Elimination"
   ]
  },
  {
   "cell_type": "code",
   "execution_count": null,
   "metadata": {
    "collapsed": false
   },
   "outputs": [],
   "source": [
    "# build and fit classifier\n",
    "rfe_lda = RFE(RandomForestClassifier(), step=1).fit(X_train_lda, y_train_lda)\n",
    "\n",
    "# make prediction\n",
    "y_pred_rfe_lda = rfe_lda.predict(X_test_lda)\n",
    "print(classification_report(y_test_lda, y_pred_rfe_lda))\n",
    "print(f'Train accuracy:\\t {rfe_lda.score(X_train_lda, y_train_lda)}')\n",
    "print(f'Test accuracy:\\t {rfe_lda.score(X_test_lda, y_test_lda)}')\n",
    "scores_lda['RFE LDA'] = rfe_lda.score(X_test_lda, y_test_lda)\n",
    "\n",
    "ConfusionMatrixDisplay.from_predictions(y_test_lda, y_pred_rfe_lda, cmap='Blues')"
   ]
  },
  {
   "cell_type": "markdown",
   "metadata": {
    "collapsed": false
   },
   "source": [
    "# 2. Normalized values"
   ]
  },
  {
   "cell_type": "code",
   "execution_count": null,
   "metadata": {
    "collapsed": false
   },
   "outputs": [],
   "source": [
    "scores_scaled = {}"
   ]
  },
  {
   "cell_type": "code",
   "execution_count": null,
   "metadata": {
    "collapsed": false
   },
   "outputs": [],
   "source": [
    "from sklearn.preprocessing import MinMaxScaler\n",
    "\n",
    "# normalize values\n",
    "scaler = MinMaxScaler()\n",
    "\n",
    "X_scaled = scaler.fit_transform(X)\n",
    "X_scaled"
   ]
  },
  {
   "cell_type": "code",
   "execution_count": null,
   "metadata": {
    "collapsed": false
   },
   "outputs": [],
   "source": [
    "# split X and y into training and testing sets\n",
    "X_train_scaled, X_test_scaled, y_train_scaled, y_test_scaled = train_test_split(X_scaled, y, test_size=0.30, random_state=42, stratify=y)\n",
    "\n",
    "print(X_train_scaled.shape, X_test_scaled.shape, y_train_scaled.shape, y_test_scaled.shape)"
   ]
  },
  {
   "cell_type": "markdown",
   "metadata": {
    "collapsed": false
   },
   "source": [
    "## 2.1 Decision tree"
   ]
  },
  {
   "cell_type": "code",
   "execution_count": null,
   "metadata": {
    "collapsed": false
   },
   "outputs": [],
   "source": [
    "# build decision tree classifier\n",
    "tree_scaled = DecisionTreeClassifier(criterion='gini', max_depth=5, random_state=0)\n",
    "# train decision tree\n",
    "tree_scaled.fit(X_train_scaled, y_train_scaled)\n",
    "\n",
    "# make prediction\n",
    "y_pred_tree_scaled = tree_scaled.predict(X_test_scaled)\n",
    "print(classification_report(y_test_scaled, y_pred_tree_scaled))\n",
    "print(f'Train accuracy:\\t {tree_scaled.score(X_train_scaled, y_train_scaled)}')\n",
    "print(f'Test accuracy:\\t {tree_scaled.score(X_test_scaled, y_test_scaled)}')\n",
    "scores_scaled['Decision Tree (scaled)'] =  tree_scaled.score(X_test_scaled, y_test_scaled)\n",
    "\n",
    "ConfusionMatrixDisplay.from_predictions(y_test_scaled, y_pred_tree_scaled, cmap='Blues')"
   ]
  },
  {
   "cell_type": "markdown",
   "metadata": {
    "collapsed": false
   },
   "source": [
    "## 2.2 KNeighbors"
   ]
  },
  {
   "cell_type": "code",
   "execution_count": null,
   "metadata": {
    "collapsed": false
   },
   "outputs": [],
   "source": [
    "# build KNeighbors classifier\n",
    "knn_scaled = KNeighborsClassifier(n_neighbors=2)\n",
    "# train KNeighbors\n",
    "knn_scaled.fit(X_train_scaled, y_train_scaled)\n",
    "\n",
    "# make prediction\n",
    "y_pred_knn_scaled = knn_scaled.predict(X_test_scaled)\n",
    "print(classification_report(y_test_scaled, y_pred_knn_scaled))\n",
    "print(f'Train accuracy:\\t {knn_scaled.score(X_train_scaled, y_train_scaled)}')\n",
    "print(f'Test accuracy:\\t {knn_scaled.score(X_test_scaled, y_test_scaled)}')\n",
    "scores_scaled['KNN (scaled)'] =  knn_scaled.score(X_test_scaled, y_test_scaled)\n",
    "\n",
    "ConfusionMatrixDisplay.from_predictions(y_test, y_pred_knn, cmap='Blues')"
   ]
  },
  {
   "cell_type": "markdown",
   "metadata": {
    "collapsed": false
   },
   "source": [
    "## 2.3 MLP"
   ]
  },
  {
   "cell_type": "code",
   "execution_count": null,
   "metadata": {
    "collapsed": false
   },
   "outputs": [],
   "source": [
    "# build MLP classifier\n",
    "mlp_scaled = MLPClassifier(hidden_layer_sizes=(200, 40, 10), activation='relu', solver='adam', max_iter=1000)\n",
    "# train model\n",
    "mlp_scaled.fit(X_train_scaled, y_train_scaled)\n",
    "plt.plot(mlp_scaled.loss_curve_)"
   ]
  },
  {
   "cell_type": "code",
   "execution_count": null,
   "metadata": {
    "collapsed": false
   },
   "outputs": [],
   "source": [
    "# make prediction\n",
    "y_pred_mlp_scaled = mlp_scaled.predict(X_test_scaled)\n",
    "print(classification_report(y_test_scaled, y_pred_mlp_scaled))\n",
    "print(f'Train accuracy:\\t {mlp_scaled.score(X_train_scaled, y_train_scaled)}')\n",
    "print(f'Test accuracy:\\t {mlp_scaled.score(X_test_scaled, y_test_scaled)}')\n",
    "scores_scaled['MLP (scaled)'] =  mlp_scaled.score(X_test_scaled, y_test_scaled)\n",
    "\n",
    "ConfusionMatrixDisplay.from_predictions(y_test_scaled, y_pred_mlp_scaled, cmap='Blues')"
   ]
  },
  {
   "cell_type": "markdown",
   "metadata": {
    "collapsed": false
   },
   "source": [
    "## 2.4 Random Forest"
   ]
  },
  {
   "cell_type": "code",
   "execution_count": null,
   "metadata": {
    "collapsed": false
   },
   "outputs": [],
   "source": [
    "# build random forest classifier\n",
    "rfc_scaled = RandomForestClassifier()\n",
    "# train random forest\n",
    "rfc_scaled.fit(X_train_scaled, y_train_scaled)\n",
    "\n",
    "# make prediction\n",
    "y_pred_rfc_scaled = rfc_scaled.predict(X_test_scaled)\n",
    "print(classification_report(y_test_scaled, y_pred_rfc_scaled))\n",
    "print(f'Train accuracy:\\t {rfc_scaled.score(X_train_scaled, y_train_scaled)}')\n",
    "print(f'Test accuracy:\\t {rfc_scaled.score(X_test_scaled, y_test_scaled)}')\n",
    "scores_scaled['Random Forest (scaled)'] = rfc_scaled.score(X_test_scaled, y_test_scaled)\n",
    "\n",
    "ConfusionMatrixDisplay.from_predictions(y_test_scaled, y_pred_rfc_scaled, cmap='Blues')"
   ]
  },
  {
   "cell_type": "markdown",
   "metadata": {
    "collapsed": false
   },
   "source": [
    "## 2.5 Voting"
   ]
  },
  {
   "cell_type": "code",
   "execution_count": null,
   "metadata": {
    "collapsed": false
   },
   "outputs": [
    {
     "name": "stdout",
     "output_type": "stream",
     "text": [
      "              precision    recall  f1-score   support\n",
      "\n",
      "           1       1.00      1.00      1.00       670\n",
      "           2       0.92      0.92      0.92       537\n",
      "           3       0.90      0.87      0.88       271\n",
      "           4       0.85      0.89      0.87       222\n",
      "\n",
      "    accuracy                           0.94      1700\n",
      "   macro avg       0.92      0.92      0.92      1700\n",
      "weighted avg       0.94      0.94      0.94      1700\n",
      "\n",
      "Train accuracy:\t 0.9944500504540867\n",
      "Test accuracy:\t 0.9382352941176471\n"
     ]
    },
    {
     "data": {
      "text/plain": "<sklearn.metrics._plot.confusion_matrix.ConfusionMatrixDisplay at 0x184ca8fafd0>"
     },
     "execution_count": 59,
     "metadata": {},
     "output_type": "execute_result"
    },
    {
     "data": {
      "text/plain": "<Figure size 432x288 with 2 Axes>",
      "image/png": "[encoded data removed]"
     },
     "metadata": {},
     "output_type": "display_data"
    }
   ],
   "source": [
    "# build voting classifier\n",
    "voting_classifier_scaled = VotingClassifier(\n",
    "    estimators=[\n",
    "        ('tree_scaled', tree_scaled),\n",
    "        ('knn_scaled', knn_scaled),\n",
    "        ('mlp_scaled', mlp_scaled),\n",
    "        ('rfc_scaled', rfc_scaled)\n",
    "    ],\n",
    "    voting='soft'\n",
    ")\n",
    "voting_classifier_scaled = voting_classifier_scaled.fit(X_train_scaled, y_train_scaled)\n",
    "\n",
    "\n",
    "# make prediction\n",
    "y_pred_voting_classifier_scaled = voting_classifier_scaled.predict(X_test_scaled)\n",
    "print(classification_report(y_test_scaled, y_pred_voting_classifier_scaled))\n",
    "print(f'Train accuracy:\\t {voting_classifier_scaled.score(X_train_scaled, y_train_scaled)}')\n",
    "print(f'Test accuracy:\\t {voting_classifier_scaled.score(X_test_scaled, y_test_scaled)}')\n",
    "scores_scaled['Voting Classifier (scaled)'] = voting_classifier_scaled.score(X_test_scaled, y_test_scaled)\n",
    "\n",
    "ConfusionMatrixDisplay.from_predictions(y_test_scaled, y_pred_voting_classifier_scaled, cmap='Blues')"
   ]
  },
  {
   "cell_type": "markdown",
   "metadata": {
    "collapsed": false
   },
   "source": [
    "## 2.6 Recursive Feature Elimination"
   ]
  },
  {
   "cell_type": "code",
   "execution_count": null,
   "metadata": {
    "collapsed": false
   },
   "outputs": [
    {
     "name": "stdout",
     "output_type": "stream",
     "text": [
      "              precision    recall  f1-score   support\n",
      "\n",
      "           1       1.00      1.00      1.00       670\n",
      "           2       0.92      0.96      0.94       537\n",
      "           3       0.94      0.87      0.91       271\n",
      "           4       0.92      0.91      0.92       222\n",
      "\n",
      "    accuracy                           0.96      1700\n",
      "   macro avg       0.95      0.94      0.94      1700\n",
      "weighted avg       0.96      0.96      0.96      1700\n",
      "\n",
      "Train accuracy:\t 1.0\n",
      "Test accuracy:\t 0.9564705882352941\n"
     ]
    },
    {
     "data": {
      "text/plain": "<sklearn.metrics._plot.confusion_matrix.ConfusionMatrixDisplay at 0x184cb9b4dc0>"
     },
     "execution_count": 60,
     "metadata": {},
     "output_type": "execute_result"
    },
    {
     "data": {
      "text/plain": "<Figure size 432x288 with 2 Axes>",
      "image/png": "[encoded data removed]"
     },
     "metadata": {},
     "output_type": "display_data"
    }
   ],
   "source": [
    "# build and fit classifier\n",
    "rfe_scaled = RFE(RandomForestClassifier(), step=1).fit(X_train_scaled, y_train_scaled)\n",
    "\n",
    "# make prediction\n",
    "y_pred_rfe_scaled = rfe_scaled.predict(X_test_scaled)\n",
    "print(classification_report(y_test_scaled, y_pred_rfe_scaled))\n",
    "print(f'Train accuracy:\\t {rfe_scaled.score(X_train_scaled, y_train_scaled)}')\n",
    "print(f'Test accuracy:\\t {rfe_scaled.score(X_test_scaled, y_test_scaled)}')\n",
    "scores_scaled['RFE (scaled)'] = rfe_scaled.score(X_test_scaled, y_test_scaled)\n",
    "\n",
    "ConfusionMatrixDisplay.from_predictions(y_test_scaled, y_pred_rfe_scaled, cmap='Blues')"
   ]
  },
  {
   "cell_type": "markdown",
   "metadata": {
    "collapsed": false
   },
   "source": [
    "## 2.5 PCA"
   ]
  },
  {
   "cell_type": "code",
   "execution_count": null,
   "metadata": {
    "collapsed": false
   },
   "outputs": [],
   "source": [
    "scores_pca_scaled = {}"
   ]
  },
  {
   "cell_type": "code",
   "execution_count": null,
   "metadata": {
    "collapsed": false
   },
   "outputs": [
    {
     "data": {
      "text/plain": "((5664, 12), (5664,))"
     },
     "execution_count": 62,
     "metadata": {},
     "output_type": "execute_result"
    }
   ],
   "source": [
    "pca_scaled = PCA(n_components=12)\n",
    "X_pca_scaled = pca_scaled.fit_transform(X_scaled)\n",
    "\n",
    "X_pca_scaled.shape, y.shape"
   ]
  },
  {
   "cell_type": "code",
   "execution_count": null,
   "metadata": {
    "collapsed": false
   },
   "outputs": [
    {
     "data": {
      "text/plain": "array([0.37473455, 0.1467854 , 0.09238494, 0.07108462, 0.06132245,\n       0.04459581, 0.03300204, 0.03048735, 0.0258334 , 0.02049674,\n       0.01632387, 0.01568342])"
     },
     "execution_count": 63,
     "metadata": {},
     "output_type": "execute_result"
    }
   ],
   "source": [
    "pca_scaled.explained_variance_ratio_"
   ]
  },
  {
   "cell_type": "code",
   "execution_count": null,
   "metadata": {
    "collapsed": false
   },
   "outputs": [
    {
     "data": {
      "text/plain": "0.9327345792164129"
     },
     "execution_count": 64,
     "metadata": {},
     "output_type": "execute_result"
    }
   ],
   "source": [
    "pca_scaled.explained_variance_ratio_.sum()"
   ]
  },
  {
   "cell_type": "code",
   "execution_count": null,
   "metadata": {
    "collapsed": false
   },
   "outputs": [
    {
     "name": "stdout",
     "output_type": "stream",
     "text": [
      "(3964, 12) (1700, 12) (3964,) (1700,)\n"
     ]
    }
   ],
   "source": [
    "# split X and y into training and testing sets\n",
    "X_train_pca_scaled, X_test_pca_scaled, y_train_pca_scaled, y_test_pca_scaled = train_test_split(X_pca_scaled, y, test_size=0.30, random_state=42, stratify=y)\n",
    "\n",
    "print(X_train_pca_scaled.shape, X_test_pca_scaled.shape, y_train_pca_scaled.shape, y_test_pca_scaled.shape)"
   ]
  },
  {
   "cell_type": "markdown",
   "metadata": {
    "collapsed": false
   },
   "source": [
    "### 2.5.1 Decision tree"
   ]
  },
  {
   "cell_type": "code",
   "execution_count": null,
   "metadata": {
    "collapsed": false
   },
   "outputs": [
    {
     "name": "stdout",
     "output_type": "stream",
     "text": [
      "              precision    recall  f1-score   support\n",
      "\n",
      "           1       1.00      0.99      1.00       670\n",
      "           2       0.59      0.88      0.70       537\n",
      "           3       0.77      0.28      0.41       271\n",
      "           4       0.38      0.24      0.29       222\n",
      "\n",
      "    accuracy                           0.74      1700\n",
      "   macro avg       0.68      0.60      0.60      1700\n",
      "weighted avg       0.75      0.74      0.72      1700\n",
      "\n",
      "Train accuracy:\t 0.7714429868819375\n",
      "Test accuracy:\t 0.7429411764705882\n"
     ]
    },
    {
     "data": {
      "text/plain": "<sklearn.metrics._plot.confusion_matrix.ConfusionMatrixDisplay at 0x184cca91a00>"
     },
     "execution_count": 66,
     "metadata": {},
     "output_type": "execute_result"
    },
    {
     "data": {
      "text/plain": "<Figure size 432x288 with 2 Axes>",
      "image/png": "[encoded data removed]"
     },
     "metadata": {},
     "output_type": "display_data"
    }
   ],
   "source": [
    "# build decision tree classifier\n",
    "tree_pca_scaled = DecisionTreeClassifier(criterion='gini', max_depth=5, random_state=0)\n",
    "# train decision tree\n",
    "tree_pca_scaled.fit(X_train_pca_scaled, y_train_pca_scaled)\n",
    "\n",
    "# make prediction\n",
    "y_pred_tree_pca_scaled = tree_pca_scaled.predict(X_test_pca_scaled)\n",
    "print(classification_report(y_test_pca_scaled, y_pred_tree_pca_scaled))\n",
    "print(f'Train accuracy:\\t {tree_pca_scaled.score(X_train_pca_scaled, y_train_pca_scaled)}')\n",
    "print(f'Test accuracy:\\t {tree_pca_scaled.score(X_test_pca_scaled, y_test_pca_scaled)}')\n",
    "scores_pca_scaled['Decision Tree PCA (scaled)'] =  tree_pca_scaled.score(X_test_pca_scaled, y_test_pca_scaled)\n",
    "\n",
    "ConfusionMatrixDisplay.from_predictions(y_test_pca_scaled, y_pred_tree_pca_scaled, cmap='Blues')"
   ]
  },
  {
   "cell_type": "markdown",
   "metadata": {
    "collapsed": false
   },
   "source": [
    "### 2.5.2 KNeighbors"
   ]
  },
  {
   "cell_type": "code",
   "execution_count": null,
   "metadata": {
    "collapsed": false
   },
   "outputs": [
    {
     "name": "stdout",
     "output_type": "stream",
     "text": [
      "              precision    recall  f1-score   support\n",
      "\n",
      "           1       1.00      1.00      1.00       670\n",
      "           2       0.85      0.96      0.90       537\n",
      "           3       0.92      0.78      0.85       271\n",
      "           4       0.89      0.80      0.84       222\n",
      "\n",
      "    accuracy                           0.92      1700\n",
      "   macro avg       0.92      0.88      0.90      1700\n",
      "weighted avg       0.93      0.92      0.92      1700\n",
      "\n",
      "Train accuracy:\t 0.9661957618567104\n",
      "Test accuracy:\t 0.9235294117647059\n"
     ]
    },
    {
     "data": {
      "text/plain": "<sklearn.metrics._plot.confusion_matrix.ConfusionMatrixDisplay at 0x184ca744a00>"
     },
     "execution_count": 67,
     "metadata": {},
     "output_type": "execute_result"
    },
    {
     "data": {
      "text/plain": "<Figure size 432x288 with 2 Axes>",
      "image/png": "[encoded data removed]"
     },
     "metadata": {},
     "output_type": "display_data"
    }
   ],
   "source": [
    "# build KNeighbors classifier\n",
    "knn_pca_scaled = KNeighborsClassifier(n_neighbors=2)\n",
    "# train KNeighbors\n",
    "knn_pca_scaled.fit(X_train_pca_scaled, y_train_pca_scaled)\n",
    "\n",
    "# make prediction\n",
    "y_pred_knn_pca_scaled = knn_pca_scaled.predict(X_test_pca_scaled)\n",
    "print(classification_report(y_test_pca_scaled, y_pred_knn_pca_scaled))\n",
    "print(f'Train accuracy:\\t {knn_pca_scaled.score(X_train_pca_scaled, y_train_pca_scaled)}')\n",
    "print(f'Test accuracy:\\t {knn_pca_scaled.score(X_test_pca_scaled, y_test_pca_scaled)}')\n",
    "scores_pca_scaled['KNN PCA (scaled)'] =  knn_pca_scaled.score(X_test_pca_scaled, y_test_pca_scaled)\n",
    "\n",
    "ConfusionMatrixDisplay.from_predictions(y_test_pca_scaled, y_pred_knn_pca_scaled, cmap='Blues')"
   ]
  },
  {
   "cell_type": "markdown",
   "metadata": {
    "collapsed": false
   },
   "source": [
    "### 2.5.3 MLP"
   ]
  },
  {
   "cell_type": "code",
   "execution_count": null,
   "metadata": {
    "collapsed": false
   },
   "outputs": [
    {
     "data": {
      "text/plain": "[<matplotlib.lines.Line2D at 0x184ccc37f70>]"
     },
     "execution_count": 68,
     "metadata": {},
     "output_type": "execute_result"
    },
    {
     "data": {
      "text/plain": "<Figure size 432x288 with 1 Axes>",
      "image/png": "[encoded data removed]"
     },
     "metadata": {},
     "output_type": "display_data"
    }
   ],
   "source": [
    "# build MLP classifier\n",
    "mlp_pca_scaled = MLPClassifier(hidden_layer_sizes=(200, 40, 10), activation='relu', solver='adam', max_iter=1000)\n",
    "# train model\n",
    "mlp_pca_scaled.fit(X_train_pca_scaled, y_train_pca_scaled)\n",
    "plt.plot(mlp_pca_scaled.loss_curve_)"
   ]
  },
  {
   "cell_type": "code",
   "execution_count": null,
   "metadata": {
    "collapsed": false
   },
   "outputs": [
    {
     "name": "stdout",
     "output_type": "stream",
     "text": [
      "              precision    recall  f1-score   support\n",
      "\n",
      "           1       1.00      1.00      1.00       670\n",
      "           2       0.89      0.90      0.90       537\n",
      "           3       0.82      0.86      0.84       271\n",
      "           4       0.87      0.81      0.84       222\n",
      "\n",
      "    accuracy                           0.92      1700\n",
      "   macro avg       0.90      0.89      0.89      1700\n",
      "weighted avg       0.92      0.92      0.92      1700\n",
      "\n",
      "Train accuracy:\t 0.9757820383451059\n",
      "Test accuracy:\t 0.9194117647058824\n"
     ]
    },
    {
     "data": {
      "text/plain": "<sklearn.metrics._plot.confusion_matrix.ConfusionMatrixDisplay at 0x184ccc57310>"
     },
     "execution_count": 69,
     "metadata": {},
     "output_type": "execute_result"
    },
    {
     "data": {
      "text/plain": "<Figure size 432x288 with 2 Axes>",
      "image/png": "[encoded data removed]"
     },
     "metadata": {},
     "output_type": "display_data"
    }
   ],
   "source": [
    "# make prediction\n",
    "y_pred_mlp_pca_scaled = mlp_pca_scaled.predict(X_test_pca_scaled)\n",
    "print(classification_report(y_test_pca_scaled, y_pred_mlp_pca_scaled))\n",
    "print(f'Train accuracy:\\t {mlp_pca_scaled.score(X_train_pca_scaled, y_train_pca_scaled)}')\n",
    "print(f'Test accuracy:\\t {mlp_pca_scaled.score(X_test_pca_scaled, y_test_pca_scaled)}')\n",
    "scores_pca_scaled['MLP PCA (scaled)'] =  mlp_pca_scaled.score(X_test_pca_scaled, y_test_pca_scaled)\n",
    "\n",
    "ConfusionMatrixDisplay.from_predictions(y_test_pca_scaled, y_pred_mlp_pca_scaled, cmap='Blues')"
   ]
  },
  {
   "cell_type": "markdown",
   "metadata": {
    "collapsed": false
   },
   "source": [
    "### 2.5.4 Random Forest"
   ]
  },
  {
   "cell_type": "code",
   "execution_count": null,
   "metadata": {
    "collapsed": false
   },
   "outputs": [
    {
     "name": "stdout",
     "output_type": "stream",
     "text": [
      "              precision    recall  f1-score   support\n",
      "\n",
      "           1       1.00      0.99      1.00       670\n",
      "           2       0.86      0.94      0.90       537\n",
      "           3       0.89      0.80      0.84       271\n",
      "           4       0.87      0.79      0.83       222\n",
      "\n",
      "    accuracy                           0.92      1700\n",
      "   macro avg       0.90      0.88      0.89      1700\n",
      "weighted avg       0.92      0.92      0.92      1700\n",
      "\n",
      "Train accuracy:\t 0.9876387487386479\n",
      "Test accuracy:\t 0.918235294117647\n"
     ]
    },
    {
     "data": {
      "text/plain": "<sklearn.metrics._plot.confusion_matrix.ConfusionMatrixDisplay at 0x184ccd140a0>"
     },
     "execution_count": 70,
     "metadata": {},
     "output_type": "execute_result"
    },
    {
     "data": {
      "text/plain": "<Figure size 432x288 with 2 Axes>",
      "image/png": "[encoded data removed]"
     },
     "metadata": {},
     "output_type": "display_data"
    }
   ],
   "source": [
    "# build random forest classifier\n",
    "rfc_pca_scaled = RandomForestClassifier(criterion='gini', n_estimators=5, random_state=1, n_jobs=2)\n",
    "# train random forest\n",
    "rfc_pca_scaled.fit(X_train_pca_scaled, y_train_pca_scaled)\n",
    "\n",
    "# make prediction\n",
    "y_pred_rfc_pca_scaled = rfc_pca_scaled.predict(X_test_pca_scaled)\n",
    "print(classification_report(y_test_pca_scaled, y_pred_rfc_pca_scaled))\n",
    "print(f'Train accuracy:\\t {rfc_pca_scaled.score(X_train_pca_scaled, y_train_pca_scaled)}')\n",
    "print(f'Test accuracy:\\t {rfc_pca_scaled.score(X_test_pca_scaled, y_test_pca_scaled)}')\n",
    "scores_pca_scaled['Random Forest PCA (scaled)'] = rfc_pca_scaled.score(X_test_pca_scaled, y_test_pca_scaled)\n",
    "\n",
    "ConfusionMatrixDisplay.from_predictions(y_test_pca_scaled, y_pred_rfc_pca_scaled, cmap='Blues')"
   ]
  },
  {
   "cell_type": "markdown",
   "metadata": {
    "collapsed": false
   },
   "source": [
    "### 2.5.5 Voting"
   ]
  },
  {
   "cell_type": "code",
   "execution_count": null,
   "metadata": {
    "collapsed": false
   },
   "outputs": [
    {
     "name": "stdout",
     "output_type": "stream",
     "text": [
      "              precision    recall  f1-score   support\n",
      "\n",
      "           1       1.00      1.00      1.00       670\n",
      "           2       0.90      0.92      0.91       537\n",
      "           3       0.88      0.86      0.87       271\n",
      "           4       0.86      0.86      0.86       222\n",
      "\n",
      "    accuracy                           0.93      1700\n",
      "   macro avg       0.91      0.91      0.91      1700\n",
      "weighted avg       0.93      0.93      0.93      1700\n",
      "\n",
      "Train accuracy:\t 0.9906659939455096\n",
      "Test accuracy:\t 0.9317647058823529\n"
     ]
    },
    {
     "data": {
      "text/plain": "<sklearn.metrics._plot.confusion_matrix.ConfusionMatrixDisplay at 0x184ccdf6b20>"
     },
     "execution_count": 71,
     "metadata": {},
     "output_type": "execute_result"
    },
    {
     "data": {
      "text/plain": "<Figure size 432x288 with 2 Axes>",
      "image/png": "[encoded data removed]"
     },
     "metadata": {},
     "output_type": "display_data"
    }
   ],
   "source": [
    "# build voting classifier\n",
    "voting_classifier_pca_scaled = VotingClassifier(\n",
    "    estimators=[\n",
    "        ('tree_pca_scaled', tree_pca_scaled),\n",
    "        ('knn_pca_scaled', knn_pca_scaled),\n",
    "        ('mlp_pca_scaled', mlp_pca_scaled),\n",
    "        ('rfc_pca_scaled', rfc_pca_scaled)\n",
    "    ],\n",
    "    voting='soft'\n",
    ")\n",
    "voting_classifier_pca_scaled = voting_classifier_pca_scaled.fit(X_train_pca_scaled, y_train_pca_scaled)\n",
    "\n",
    "\n",
    "# make prediction\n",
    "y_pred_voting_classifier_pca_scaled = voting_classifier_pca_scaled.predict(X_test_pca_scaled)\n",
    "print(classification_report(y_test_pca_scaled, y_pred_voting_classifier_pca_scaled))\n",
    "print(f'Train accuracy:\\t {voting_classifier_pca_scaled.score(X_train_pca_scaled, y_train_pca_scaled)}')\n",
    "print(f'Test accuracy:\\t {voting_classifier_pca_scaled.score(X_test_pca_scaled, y_test_pca_scaled)}')\n",
    "scores_pca_scaled['Voting Classifier PCA (scaled)'] = voting_classifier_pca_scaled.score(X_test_pca_scaled, y_test_pca_scaled)\n",
    "\n",
    "ConfusionMatrixDisplay.from_predictions(y_test_pca_scaled, y_pred_voting_classifier_pca_scaled, cmap='Blues')"
   ]
  },
  {
   "cell_type": "markdown",
   "metadata": {
    "collapsed": false
   },
   "source": [
    "### 2.5.6 Recursive Feature Elimination"
   ]
  },
  {
   "cell_type": "code",
   "execution_count": null,
   "metadata": {
    "collapsed": false
   },
   "outputs": [
    {
     "name": "stdout",
     "output_type": "stream",
     "text": [
      "              precision    recall  f1-score   support\n",
      "\n",
      "           1       1.00      0.99      1.00       670\n",
      "           2       0.88      0.93      0.90       537\n",
      "           3       0.91      0.82      0.87       271\n",
      "           4       0.83      0.84      0.84       222\n",
      "\n",
      "    accuracy                           0.93      1700\n",
      "   macro avg       0.91      0.90      0.90      1700\n",
      "weighted avg       0.93      0.93      0.93      1700\n",
      "\n",
      "Train accuracy:\t 1.0\n",
      "Test accuracy:\t 0.9252941176470588\n"
     ]
    },
    {
     "data": {
      "text/plain": "<sklearn.metrics._plot.confusion_matrix.ConfusionMatrixDisplay at 0x184ccc8f4c0>"
     },
     "execution_count": 72,
     "metadata": {},
     "output_type": "execute_result"
    },
    {
     "data": {
      "text/plain": "<Figure size 432x288 with 2 Axes>",
      "image/png": "[encoded data removed]"
     },
     "metadata": {},
     "output_type": "display_data"
    }
   ],
   "source": [
    "# build and fit classifier\n",
    "rfe_pca_scaled = RFE(RandomForestClassifier(), step=1).fit(X_train_pca_scaled, y_train_pca_scaled)\n",
    "\n",
    "# make prediction\n",
    "y_pred_rfe_pca_scaled = rfe_pca_scaled.predict(X_test_pca_scaled)\n",
    "print(classification_report(y_test_pca_scaled, y_pred_rfe_pca_scaled))\n",
    "print(f'Train accuracy:\\t {rfe_pca_scaled.score(X_train_pca_scaled, y_train_pca_scaled)}')\n",
    "print(f'Test accuracy:\\t {rfe_pca_scaled.score(X_test_pca_scaled, y_test_pca_scaled)}')\n",
    "scores_pca_scaled['RFE PCA (scaled)'] = rfe_pca_scaled.score(X_test_pca_scaled, y_test_pca_scaled)\n",
    "\n",
    "ConfusionMatrixDisplay.from_predictions(y_test_pca_scaled, y_pred_rfe_pca_scaled, cmap='Blues')"
   ]
  },
  {
   "cell_type": "markdown",
   "metadata": {
    "collapsed": false
   },
   "source": [
    "## 2.6 LDA"
   ]
  },
  {
   "cell_type": "code",
   "execution_count": null,
   "metadata": {
    "collapsed": false
   },
   "outputs": [],
   "source": [
    "scores_lda_scaled = {}"
   ]
  },
  {
   "cell_type": "code",
   "execution_count": null,
   "metadata": {
    "collapsed": false
   },
   "outputs": [
    {
     "data": {
      "text/plain": "(5664, 2)"
     },
     "execution_count": 74,
     "metadata": {},
     "output_type": "execute_result"
    }
   ],
   "source": [
    "lda_scaled = LinearDiscriminantAnalysis(n_components=2)\n",
    "X_lda_scaled = lda_scaled.fit(X_scaled, y).transform(X_scaled)\n",
    "X_lda_scaled.shape"
   ]
  },
  {
   "cell_type": "code",
   "execution_count": null,
   "metadata": {
    "collapsed": false
   },
   "outputs": [
    {
     "name": "stdout",
     "output_type": "stream",
     "text": [
      "(3964, 2) (1700, 2) (3964,) (1700,)\n"
     ]
    }
   ],
   "source": [
    "# split X and y into training and testing sets\n",
    "X_train_lda_scaled, X_test_lda_scaled, y_train_lda_scaled, y_test_lda_scaled = train_test_split(X_lda_scaled, y, test_size=0.30, random_state=42, stratify=y)\n",
    "\n",
    "print(X_train_lda_scaled.shape, X_test_lda_scaled.shape, y_train_lda_scaled.shape, y_test_lda_scaled.shape)"
   ]
  },
  {
   "cell_type": "markdown",
   "metadata": {
    "collapsed": false
   },
   "source": [
    "### 2.6.1 Decision tree"
   ]
  },
  {
   "cell_type": "code",
   "execution_count": null,
   "metadata": {
    "collapsed": false
   },
   "outputs": [
    {
     "name": "stdout",
     "output_type": "stream",
     "text": [
      "              precision    recall  f1-score   support\n",
      "\n",
      "           1       1.00      0.99      1.00       670\n",
      "           2       0.64      0.80      0.71       537\n",
      "           3       0.55      0.44      0.49       271\n",
      "           4       0.50      0.32      0.39       222\n",
      "\n",
      "    accuracy                           0.76      1700\n",
      "   macro avg       0.67      0.64      0.65      1700\n",
      "weighted avg       0.75      0.76      0.75      1700\n",
      "\n",
      "Train accuracy:\t 0.7835519677093845\n",
      "Test accuracy:\t 0.7558823529411764\n"
     ]
    },
    {
     "data": {
      "text/plain": "<sklearn.metrics._plot.confusion_matrix.ConfusionMatrixDisplay at 0x184cdf68e20>"
     },
     "execution_count": 76,
     "metadata": {},
     "output_type": "execute_result"
    },
    {
     "data": {
      "text/plain": "<Figure size 432x288 with 2 Axes>",
      "image/png": "[encoded data removed]"
     },
     "metadata": {},
     "output_type": "display_data"
    }
   ],
   "source": [
    "# build decision tree classifier\n",
    "tree_lda_scaled = DecisionTreeClassifier(criterion='gini', max_depth=5, random_state=0)\n",
    "# train decision tree\n",
    "tree_lda_scaled.fit(X_train_lda_scaled, y_train_lda_scaled)\n",
    "\n",
    "# make prediction\n",
    "y_pred_tree_lda_scaled = tree_lda_scaled.predict(X_test_lda_scaled)\n",
    "print(classification_report(y_test_lda_scaled, y_pred_tree_lda_scaled))\n",
    "print(f'Train accuracy:\\t {tree_lda_scaled.score(X_train_lda_scaled, y_train_lda_scaled)}')\n",
    "print(f'Test accuracy:\\t {tree_lda_scaled.score(X_test_lda_scaled, y_test_lda_scaled)}')\n",
    "scores_lda_scaled['Decision Tree LDA (scaled)'] =  tree_lda_scaled.score(X_test_lda_scaled, y_test_lda_scaled)\n",
    "\n",
    "ConfusionMatrixDisplay.from_predictions(y_test_lda_scaled, y_pred_tree_lda_scaled, cmap='Blues')"
   ]
  },
  {
   "cell_type": "markdown",
   "metadata": {
    "collapsed": false
   },
   "source": [
    "### 2.6.2 KNeighbors"
   ]
  },
  {
   "cell_type": "code",
   "execution_count": null,
   "metadata": {
    "collapsed": false
   },
   "outputs": [
    {
     "name": "stdout",
     "output_type": "stream",
     "text": [
      "              precision    recall  f1-score   support\n",
      "\n",
      "           1       1.00      0.99      1.00       670\n",
      "           2       0.72      0.87      0.79       537\n",
      "           3       0.70      0.62      0.66       271\n",
      "           4       0.79      0.54      0.64       222\n",
      "\n",
      "    accuracy                           0.83      1700\n",
      "   macro avg       0.80      0.75      0.77      1700\n",
      "weighted avg       0.84      0.83      0.83      1700\n",
      "\n",
      "Train accuracy:\t 0.9195257315842583\n",
      "Test accuracy:\t 0.8347058823529412\n"
     ]
    },
    {
     "data": {
      "text/plain": "<sklearn.metrics._plot.confusion_matrix.ConfusionMatrixDisplay at 0x184ce0098b0>"
     },
     "execution_count": 77,
     "metadata": {},
     "output_type": "execute_result"
    },
    {
     "data": {
      "text/plain": "<Figure size 432x288 with 2 Axes>",
      "image/png": "[encoded data removed]"
     },
     "metadata": {},
     "output_type": "display_data"
    }
   ],
   "source": [
    "# build KNeighbors classifier\n",
    "knn_lda_scaled = KNeighborsClassifier(n_neighbors=2)\n",
    "# train KNeighbors\n",
    "knn_lda_scaled.fit(X_train_lda_scaled, y_train_lda_scaled)\n",
    "\n",
    "# make prediction\n",
    "y_pred_knn_lda_scaled = knn_lda_scaled.predict(X_test_lda_scaled)\n",
    "print(classification_report(y_test_lda_scaled, y_pred_knn_lda_scaled))\n",
    "print(f'Train accuracy:\\t {knn_lda_scaled.score(X_train_lda_scaled, y_train_lda_scaled)}')\n",
    "print(f'Test accuracy:\\t {knn_lda_scaled.score(X_test_lda_scaled, y_test_lda_scaled)}')\n",
    "scores_lda_scaled['KNN LDA (scaled)'] =  knn_lda_scaled.score(X_test_lda_scaled, y_test_lda_scaled)\n",
    "\n",
    "ConfusionMatrixDisplay.from_predictions(y_test_lda_scaled, y_pred_knn_lda_scaled, cmap='Blues')"
   ]
  },
  {
   "cell_type": "markdown",
   "metadata": {
    "collapsed": false
   },
   "source": [
    "### 2.6.3 MLP"
   ]
  },
  {
   "cell_type": "code",
   "execution_count": null,
   "metadata": {
    "collapsed": false
   },
   "outputs": [
    {
     "data": {
      "text/plain": "[<matplotlib.lines.Line2D at 0x184ce1382e0>]"
     },
     "execution_count": 78,
     "metadata": {},
     "output_type": "execute_result"
    },
    {
     "data": {
      "text/plain": "<Figure size 432x288 with 1 Axes>",
      "image/png": "[encoded data removed]"
     },
     "metadata": {},
     "output_type": "display_data"
    }
   ],
   "source": [
    "# build MLP classifier\n",
    "mlp_lda_scaled = MLPClassifier(hidden_layer_sizes=(200, 40, 10), activation='relu', solver='adam', max_iter=1000)\n",
    "# train model\n",
    "mlp_lda_scaled.fit(X_train_lda_scaled, y_train_lda_scaled)\n",
    "plt.plot(mlp_lda_scaled.loss_curve_)"
   ]
  },
  {
   "cell_type": "code",
   "execution_count": null,
   "metadata": {
    "collapsed": false
   },
   "outputs": [
    {
     "name": "stdout",
     "output_type": "stream",
     "text": [
      "              precision    recall  f1-score   support\n",
      "\n",
      "           1       1.00      0.99      0.99       670\n",
      "           2       0.62      0.84      0.72       537\n",
      "           3       0.50      0.35      0.41       271\n",
      "           4       0.39      0.22      0.28       222\n",
      "\n",
      "    accuracy                           0.74      1700\n",
      "   macro avg       0.63      0.60      0.60      1700\n",
      "weighted avg       0.72      0.74      0.72      1700\n",
      "\n",
      "Train accuracy:\t 0.7651362260343088\n",
      "Test accuracy:\t 0.74\n"
     ]
    },
    {
     "data": {
      "text/plain": "<sklearn.metrics._plot.confusion_matrix.ConfusionMatrixDisplay at 0x184ce151d60>"
     },
     "execution_count": 79,
     "metadata": {},
     "output_type": "execute_result"
    },
    {
     "data": {
      "text/plain": "<Figure size 432x288 with 2 Axes>",
      "image/png": "[encoded data removed]"
     },
     "metadata": {},
     "output_type": "display_data"
    }
   ],
   "source": [
    "# make prediction\n",
    "y_pred_mlp_lda_scaled = mlp_lda_scaled.predict(X_test_lda_scaled)\n",
    "print(classification_report(y_test_lda_scaled, y_pred_mlp_lda_scaled))\n",
    "print(f'Train accuracy:\\t {mlp_lda_scaled.score(X_train_lda_scaled, y_train_lda_scaled)}')\n",
    "print(f'Test accuracy:\\t {mlp_lda_scaled.score(X_test_lda_scaled, y_test_lda_scaled)}')\n",
    "scores_lda_scaled['MLP LDA (scaled)'] =  mlp_lda_scaled.score(X_test_lda_scaled, y_test_lda_scaled)\n",
    "\n",
    "ConfusionMatrixDisplay.from_predictions(y_test_lda_scaled, y_pred_mlp_lda_scaled, cmap='Blues')"
   ]
  },
  {
   "cell_type": "markdown",
   "metadata": {
    "collapsed": false
   },
   "source": [
    "### 2.6.4 Random Forest"
   ]
  },
  {
   "cell_type": "code",
   "execution_count": null,
   "metadata": {
    "collapsed": false
   },
   "outputs": [
    {
     "name": "stdout",
     "output_type": "stream",
     "text": [
      "              precision    recall  f1-score   support\n",
      "\n",
      "           1       1.00      0.99      1.00       670\n",
      "           2       0.77      0.83      0.80       537\n",
      "           3       0.70      0.66      0.68       271\n",
      "           4       0.71      0.62      0.66       222\n",
      "\n",
      "    accuracy                           0.84      1700\n",
      "   macro avg       0.79      0.78      0.78      1700\n",
      "weighted avg       0.84      0.84      0.84      1700\n",
      "\n",
      "Train accuracy:\t 0.9722502522704339\n",
      "Test accuracy:\t 0.8405882352941176\n"
     ]
    },
    {
     "data": {
      "text/plain": "<sklearn.metrics._plot.confusion_matrix.ConfusionMatrixDisplay at 0x184ce224d60>"
     },
     "execution_count": 80,
     "metadata": {},
     "output_type": "execute_result"
    },
    {
     "data": {
      "text/plain": "<Figure size 432x288 with 2 Axes>",
      "image/png": "[encoded data removed]"
     },
     "metadata": {},
     "output_type": "display_data"
    }
   ],
   "source": [
    "# build random forest classifier\n",
    "rfc_lda_scaled = RandomForestClassifier(criterion='gini', n_estimators=5, random_state=1, n_jobs=2)\n",
    "# train random forest\n",
    "rfc_lda_scaled.fit(X_train_lda_scaled, y_train_lda_scaled)\n",
    "\n",
    "# make prediction\n",
    "y_pred_rfc_lda_scaled = rfc_lda_scaled.predict(X_test_lda_scaled)\n",
    "print(classification_report(y_test_lda_scaled, y_pred_rfc_lda_scaled))\n",
    "print(f'Train accuracy:\\t {rfc_lda_scaled.score(X_train_lda_scaled, y_train_lda_scaled)}')\n",
    "print(f'Test accuracy:\\t {rfc_lda_scaled.score(X_test_lda_scaled, y_test_lda_scaled)}')\n",
    "scores_lda_scaled['Random Forest LDA (scaled)'] = rfc_lda_scaled.score(X_test_lda_scaled, y_test_lda_scaled)\n",
    "\n",
    "ConfusionMatrixDisplay.from_predictions(y_test_lda_scaled, y_pred_rfc_lda_scaled, cmap='Blues')"
   ]
  },
  {
   "cell_type": "markdown",
   "metadata": {
    "collapsed": false
   },
   "source": [
    "### 2.6.5 Voting"
   ]
  },
  {
   "cell_type": "code",
   "execution_count": null,
   "metadata": {
    "collapsed": false
   },
   "outputs": [
    {
     "name": "stdout",
     "output_type": "stream",
     "text": [
      "              precision    recall  f1-score   support\n",
      "\n",
      "           1       1.00      0.99      1.00       670\n",
      "           2       0.75      0.84      0.79       537\n",
      "           3       0.71      0.63      0.67       271\n",
      "           4       0.72      0.62      0.67       222\n",
      "\n",
      "    accuracy                           0.84      1700\n",
      "   macro avg       0.80      0.77      0.78      1700\n",
      "weighted avg       0.84      0.84      0.84      1700\n",
      "\n",
      "Train accuracy:\t 0.9427346115035318\n",
      "Test accuracy:\t 0.8382352941176471\n"
     ]
    },
    {
     "data": {
      "text/plain": "<sklearn.metrics._plot.confusion_matrix.ConfusionMatrixDisplay at 0x184ce2e7d90>"
     },
     "execution_count": 81,
     "metadata": {},
     "output_type": "execute_result"
    },
    {
     "data": {
      "text/plain": "<Figure size 432x288 with 2 Axes>",
      "image/png": "[encoded data removed]"
     },
     "metadata": {},
     "output_type": "display_data"
    }
   ],
   "source": [
    "# build voting classifier\n",
    "voting_classifier_lda_scaled = VotingClassifier(\n",
    "    estimators=[\n",
    "        ('tree_lda_scaled', tree_lda_scaled),\n",
    "        ('knn_lda_scaled', knn_lda_scaled),\n",
    "        ('mlp_lda_scaled', mlp_lda_scaled),\n",
    "        ('rfc_lda_scaled', rfc_lda_scaled)\n",
    "    ],\n",
    "    voting='soft'\n",
    ")\n",
    "voting_classifier_lda_scaled = voting_classifier_lda_scaled.fit(X_train_lda_scaled, y_train_lda_scaled)\n",
    "\n",
    "\n",
    "# make prediction\n",
    "y_pred_voting_classifier_lda_scaled = voting_classifier_lda_scaled.predict(X_test_lda_scaled)\n",
    "print(classification_report(y_test_lda_scaled, y_pred_voting_classifier_lda_scaled))\n",
    "print(f'Train accuracy:\\t {voting_classifier_lda_scaled.score(X_train_lda_scaled, y_train_lda_scaled)}')\n",
    "print(f'Test accuracy:\\t {voting_classifier_lda_scaled.score(X_test_lda_scaled, y_test_lda_scaled)}')\n",
    "scores_lda_scaled['Voting Classifier LDA (scaled)'] = voting_classifier_lda_scaled.score(X_test_lda_scaled, y_test_lda_scaled)\n",
    "\n",
    "ConfusionMatrixDisplay.from_predictions(y_test_lda_scaled, y_pred_voting_classifier_lda_scaled, cmap='Blues')"
   ]
  },
  {
   "cell_type": "markdown",
   "metadata": {
    "collapsed": false
   },
   "source": [
    "### 2.6.5 Recursive Feature Elimination"
   ]
  },
  {
   "cell_type": "code",
   "execution_count": null,
   "metadata": {
    "collapsed": false
   },
   "outputs": [
    {
     "name": "stdout",
     "output_type": "stream",
     "text": [
      "              precision    recall  f1-score   support\n",
      "\n",
      "           1       1.00      0.99      0.99       670\n",
      "           2       0.69      0.66      0.67       537\n",
      "           3       0.54      0.58      0.56       271\n",
      "           4       0.50      0.53      0.51       222\n",
      "\n",
      "    accuracy                           0.76      1700\n",
      "   macro avg       0.68      0.69      0.68      1700\n",
      "weighted avg       0.76      0.76      0.76      1700\n",
      "\n",
      "Train accuracy:\t 0.9994954591321897\n",
      "Test accuracy:\t 0.758235294117647\n"
     ]
    },
    {
     "data": {
      "text/plain": "<sklearn.metrics._plot.confusion_matrix.ConfusionMatrixDisplay at 0x184ce3be430>"
     },
     "execution_count": 82,
     "metadata": {},
     "output_type": "execute_result"
    },
    {
     "data": {
      "text/plain": "<Figure size 432x288 with 2 Axes>",
      "image/png": "[encoded data removed]"
     },
     "metadata": {},
     "output_type": "display_data"
    }
   ],
   "source": [
    "# build and fit classifier\n",
    "rfe_lda_scaled = RFE(RandomForestClassifier(), step=1).fit(X_train_lda_scaled, y_train_lda_scaled)\n",
    "\n",
    "# make prediction\n",
    "y_pred_rfe_lda_scaled = rfe_lda_scaled.predict(X_test_lda_scaled)\n",
    "print(classification_report(y_test_lda_scaled, y_pred_rfe_lda_scaled))\n",
    "print(f'Train accuracy:\\t {rfe_lda_scaled.score(X_train_lda_scaled, y_train_lda_scaled)}')\n",
    "print(f'Test accuracy:\\t {rfe_lda_scaled.score(X_test_lda_scaled, y_test_lda_scaled)}')\n",
    "scores_lda_scaled['RFE LDA (scaled)'] = rfe_lda_scaled.score(X_test_lda_scaled, y_test_lda_scaled)\n",
    "\n",
    "ConfusionMatrixDisplay.from_predictions(y_test_lda_scaled, y_pred_rfe_lda_scaled, cmap='Blues')"
   ]
  },
  {
   "cell_type": "markdown",
   "metadata": {
    "collapsed": false
   },
   "source": [
    "# Final scores"
   ]
  },
  {
   "cell_type": "markdown",
   "metadata": {
    "collapsed": false
   },
   "source": [
    "## Non-normalized"
   ]
  },
  {
   "cell_type": "code",
   "execution_count": null,
   "metadata": {
    "collapsed": false
   },
   "outputs": [
    {
     "data": {
      "text/plain": "Text(0, 0.5, 'Models')"
     },
     "execution_count": 83,
     "metadata": {},
     "output_type": "execute_result"
    },
    {
     "data": {
      "text/plain": "<Figure size 432x288 with 1 Axes>",
      "image/png": "[encoded data removed]"
     },
     "metadata": {},
     "output_type": "display_data"
    }
   ],
   "source": [
    "plt.barh(list(scores.keys()), scores.values())\n",
    "plt.barh(list(scores_pca.keys()), scores_pca.values())\n",
    "plt.barh(list(scores_lda.keys()), scores_lda.values())\n",
    "plt.title('Accuracy of models with non-normalized values')\n",
    "plt.xlabel('Accuracy (%)')\n",
    "plt.ylabel('Models')"
   ]
  },
  {
   "cell_type": "code",
   "execution_count": null,
   "metadata": {
    "collapsed": false
   },
   "outputs": [
    {
     "name": "stdout",
     "output_type": "stream",
     "text": [
      "Scores: {'Decision Tree': 0.7841176470588235, 'KNN': 0.9123529411764706, 'MLP': 0.6164705882352941, 'Random Forest': 0.9570588235294117, 'Voting Classifier': 0.9376470588235294, 'RFE': 0.9564705882352941}\n",
      "\n",
      "Scores PCA: {'Decision Tree PCA': 0.7564705882352941, 'KNN PCA': 0.8929411764705882, 'MLP PCA': 0.4964705882352941, 'Random Forest PCA': 0.9005882352941177, 'Voting Classifier PCA': 0.9011764705882352, 'RFE PCA': 0.91}\n",
      "\n",
      "Scores LDA: {'Decision Tree LDA': 0.7635294117647059, 'KNN LDA': 0.8582352941176471, 'MLP LDA': 0.8294117647058824, 'Random Forest LDA': 0.8676470588235294, 'Voting Classifier LDA': 0.8664705882352941, 'RFE LDA': 0.7576470588235295}\n"
     ]
    }
   ],
   "source": [
    "print(f'Scores: {scores}\\n')\n",
    "print(f'Scores PCA: {scores_pca}\\n')\n",
    "print(f'Scores LDA: {scores_lda}')"
   ]
  },
  {
   "cell_type": "code",
   "execution_count": null,
   "metadata": {
    "collapsed": false
   },
   "outputs": [
    {
     "data": {
      "text/plain": "0.9570588235294117"
     },
     "execution_count": 85,
     "metadata": {},
     "output_type": "execute_result"
    }
   ],
   "source": [
    "# get the highest accuracy\n",
    "max(max(scores.values()), max(scores_pca.values()), max(scores_lda.values()))"
   ]
  },
  {
   "cell_type": "markdown",
   "metadata": {
    "collapsed": false
   },
   "source": [
    "## Normalized"
   ]
  },
  {
   "cell_type": "code",
   "execution_count": null,
   "metadata": {
    "collapsed": false
   },
   "outputs": [
    {
     "data": {
      "text/plain": "Text(0, 0.5, 'Models')"
     },
     "execution_count": 86,
     "metadata": {},
     "output_type": "execute_result"
    },
    {
     "data": {
      "text/plain": "<Figure size 432x288 with 1 Axes>",
      "image/png": "[encoded data removed]"
     },
     "metadata": {},
     "output_type": "display_data"
    }
   ],
   "source": [
    "plt.barh(list(scores_scaled.keys()), scores_scaled.values())\n",
    "plt.barh(list(scores_pca_scaled.keys()), scores_pca_scaled.values())\n",
    "plt.barh(list(scores_lda_scaled.keys()), scores_lda_scaled.values())\n",
    "plt.title('Accuracy of models with normalized values')\n",
    "plt.xlabel('Accuracy (%)')\n",
    "plt.ylabel('Models')"
   ]
  },
  {
   "cell_type": "code",
   "execution_count": null,
   "metadata": {
    "collapsed": false
   },
   "outputs": [
    {
     "name": "stdout",
     "output_type": "stream",
     "text": [
      "Scores: {'Decision Tree (scaled)': 0.7841176470588235, 'KNN (scaled)': 0.928235294117647, 'MLP (scaled)': 0.9229411764705883, 'Random Forest (scaled)': 0.9576470588235294, 'Voting Classifier (scaled)': 0.9382352941176471, 'RFE (scaled)': 0.9564705882352941}\n",
      "\n",
      "Scores PCA: {'Decision Tree PCA (scaled)': 0.7429411764705882, 'KNN PCA (scaled)': 0.9235294117647059, 'MLP PCA (scaled)': 0.9194117647058824, 'Random Forest PCA (scaled)': 0.918235294117647, 'Voting Classifier PCA (scaled)': 0.9317647058823529, 'RFE PCA (scaled)': 0.9252941176470588}\n",
      "\n",
      "Scores LDA: {'Decision Tree LDA (scaled)': 0.7558823529411764, 'KNN LDA (scaled)': 0.8347058823529412, 'MLP LDA (scaled)': 0.74, 'Random Forest LDA (scaled)': 0.8405882352941176, 'Voting Classifier LDA (scaled)': 0.8382352941176471, 'RFE LDA (scaled)': 0.758235294117647}\n"
     ]
    }
   ],
   "source": [
    "print(f'Scores: {scores_scaled}\\n')\n",
    "print(f'Scores PCA: {scores_pca_scaled}\\n')\n",
    "print(f'Scores LDA: {scores_lda_scaled}')"
   ]
  },
  {
   "cell_type": "code",
   "execution_count": null,
   "metadata": {
    "collapsed": false
   },
   "outputs": [
    {
     "data": {
      "text/plain": "0.9576470588235294"
     },
     "execution_count": 88,
     "metadata": {},
     "output_type": "execute_result"
    }
   ],
   "source": [
    "# get the highest accuracy\n",
    "max(max(scores_scaled.values()), max(scores_pca_scaled.values()), max(scores_lda_scaled.values()))"
   ]
  },
  {
   "cell_type": "markdown",
   "metadata": {
    "collapsed": false
   },
   "source": [
    "# Feature importance"
   ]
  },
  {
   "cell_type": "code",
   "execution_count": null,
   "metadata": {
    "collapsed": false
   },
   "outputs": [
    {
     "data": {
      "text/plain": "Text(0.5, 1.0, 'Importance of each feature')"
     },
     "execution_count": 89,
     "metadata": {},
     "output_type": "execute_result"
    },
    {
     "data": {
      "text/plain": "<Figure size 432x288 with 1 Axes>",
      "image/png": "[encoded data removed]"
     },
     "metadata": {},
     "output_type": "display_data"
    }
   ],
   "source": [
    "pd.Series(\n",
    "    rfc.feature_importances_, index=X.columns\n",
    ").nlargest(len(X.columns)).plot(kind='barh').set_title('Importance of each feature')"
   ]
  },
  {
   "cell_type": "code",
   "execution_count": null,
   "metadata": {
    "collapsed": false
   },
   "outputs": [
    {
     "data": {
      "text/plain": "Text(0.5, 1.0, 'Importance of each feature')"
     },
     "execution_count": 90,
     "metadata": {},
     "output_type": "execute_result"
    },
    {
     "data": {
      "text/plain": "<Figure size 432x288 with 1 Axes>",
      "image/png": "[encoded data removed]"
     },
     "metadata": {},
     "output_type": "display_data"
    }
   ],
   "source": [
    "pd.Series(\n",
    "    rfc_scaled.feature_importances_, index=X.columns\n",
    ").nlargest(len(X.columns)).plot(kind='barh').set_title('Importance of each feature')"
   ]
  },
  {
   "cell_type": "markdown",
   "metadata": {
    "collapsed": false
   },
   "source": [
    "# SelectKBest"
   ]
  },
  {
   "cell_type": "code",
   "execution_count": null,
   "metadata": {
    "collapsed": false
   },
   "outputs": [
    {
     "data": {
      "text/plain": "      last_update_trigger  light_sensor  active_notification_count  \\\n0                    0.00      0.000000                   0.000000   \n1                    0.00      0.000000                   0.000000   \n2                    0.00      0.000000                   0.000000   \n3                    0.00      0.000000                   0.000000   \n4                    0.00      0.000000                   0.000000   \n...                   ...           ...                        ...   \n5659                 0.10      0.001364                   0.400000   \n5660                 0.45      0.000863                   0.444444   \n5661                 0.50      0.000043                   0.522222   \n5662                 0.45      0.000043                   0.711111   \n5663                 0.45      0.000043                   0.711111   \n\n      pressure_sensor  battery_temperature  screen_brightness  \\\n0                 0.0             0.000000                0.0   \n1                 0.0             0.537530                0.0   \n2                 0.0             0.527845                0.0   \n3                 0.0             0.530266                0.0   \n4                 0.0             0.523002                0.0   \n...               ...                  ...                ...   \n5659              0.0             0.441889                0.0   \n5660              0.0             0.426150                0.0   \n5661              0.0             0.415254                0.0   \n5662              0.0             0.415254                0.0   \n5663              0.0             0.415254                0.0   \n\n      wifi_link_speed  battery_level  wifi_signal_strength  total_tx_gb  ...  \\\n0            0.001468           0.74              1.000000     0.000000  ...   \n1            0.001468           0.73              1.000000     0.000000  ...   \n2            0.001468           0.72              1.000000     0.000000  ...   \n3            0.001468           0.71              1.000000     0.000000  ...   \n4            0.001468           0.70              1.000000     0.000000  ...   \n...               ...            ...                   ...          ...  ...   \n5659         0.502055           0.76              0.348315     0.018830  ...   \n5660         0.502055           0.76              0.348315     0.018830  ...   \n5661         0.516735           0.75              0.348315     0.018830  ...   \n5662         0.516735           0.75              0.348315     0.018969  ...   \n5663         0.516735           0.75              0.348315     0.018969  ...   \n\n      volume_level_call  volume_level_music  volume_level_accessibility  \\\n0                0.0000               0.000                    0.000000   \n1                0.0000               0.000                    0.000000   \n2                0.0000               0.000                    0.000000   \n3                0.0000               0.000                    0.000000   \n4                0.0000               0.000                    0.000000   \n...                 ...                 ...                         ...   \n5659             0.9375               0.125                    0.266667   \n5660             0.9375               0.125                    0.266667   \n5661             0.9375               0.125                    0.266667   \n5662             0.9375               0.125                    0.266667   \n5663             0.9375               0.125                    0.266667   \n\n      wifi_connection  mobile_rx_gb  volume_level_system  battery_state  \\\n0                 0.0           0.0             0.000000            0.0   \n1                 0.0           0.0             0.000000            0.0   \n2                 0.0           0.0             0.000000            0.0   \n3                 0.0           0.0             0.000000            0.0   \n4                 0.0           0.0             0.000000            0.0   \n...               ...           ...                  ...            ...   \n5659              0.0           0.0             0.214286            0.0   \n5660              0.0           0.0             0.214286            0.0   \n5661              0.0           0.0             0.214286            0.0   \n5662              0.0           0.0             0.214286            0.0   \n5663              0.0           0.0             0.214286            0.0   \n\n      ble_transmitter  device_id  last_used_app  \n0                 0.0        0.0              1  \n1                 0.0        0.0              1  \n2                 0.0        0.0              1  \n3                 0.0        0.0              1  \n4                 0.0        0.0              1  \n...               ...        ...            ...  \n5659              0.5        1.0              3  \n5660              0.5        1.0              3  \n5661              0.5        1.0              3  \n5662              0.5        1.0              3  \n5663              0.5        1.0              3  \n\n[5664 rows x 24 columns]",
      "text/html": "<div>\n<style scoped>\n    .dataframe tbody tr th:only-of-type {\n        vertical-align: middle;\n    }\n\n    .dataframe tbody tr th {\n        vertical-align: top;\n    }\n\n    .dataframe thead th {\n        text-align: right;\n    }\n</style>\n<table border=\"1\" class=\"dataframe\">\n  <thead>\n    <tr style=\"text-align: right;\">\n      <th></th>\n      <th>last_update_trigger</th>\n      <th>light_sensor</th>\n      <th>active_notification_count</th>\n      <th>pressure_sensor</th>\n      <th>battery_temperature</th>\n      <th>screen_brightness</th>\n      <th>wifi_link_speed</th>\n      <th>battery_level</th>\n      <th>wifi_signal_strength</th>\n      <th>total_tx_gb</th>\n      <th>...</th>\n      <th>volume_level_call</th>\n      <th>volume_level_music</th>\n      <th>volume_level_accessibility</th>\n      <th>wifi_connection</th>\n      <th>mobile_rx_gb</th>\n      <th>volume_level_system</th>\n      <th>battery_state</th>\n      <th>ble_transmitter</th>\n      <th>device_id</th>\n      <th>last_used_app</th>\n    </tr>\n  </thead>\n  <tbody>\n    <tr>\n      <th>0</th>\n      <td>0.00</td>\n      <td>0.000000</td>\n      <td>0.000000</td>\n      <td>0.0</td>\n      <td>0.000000</td>\n      <td>0.0</td>\n      <td>0.001468</td>\n      <td>0.74</td>\n      <td>1.000000</td>\n      <td>0.000000</td>\n      <td>...</td>\n      <td>0.0000</td>\n      <td>0.000</td>\n      <td>0.000000</td>\n      <td>0.0</td>\n      <td>0.0</td>\n      <td>0.000000</td>\n      <td>0.0</td>\n      <td>0.0</td>\n      <td>0.0</td>\n      <td>1</td>\n    </tr>\n    <tr>\n      <th>1</th>\n      <td>0.00</td>\n      <td>0.000000</td>\n      <td>0.000000</td>\n      <td>0.0</td>\n      <td>0.537530</td>\n      <td>0.0</td>\n      <td>0.001468</td>\n      <td>0.73</td>\n      <td>1.000000</td>\n      <td>0.000000</td>\n      <td>...</td>\n      <td>0.0000</td>\n      <td>0.000</td>\n      <td>0.000000</td>\n      <td>0.0</td>\n      <td>0.0</td>\n      <td>0.000000</td>\n      <td>0.0</td>\n      <td>0.0</td>\n      <td>0.0</td>\n      <td>1</td>\n    </tr>\n    <tr>\n      <th>2</th>\n      <td>0.00</td>\n      <td>0.000000</td>\n      <td>0.000000</td>\n      <td>0.0</td>\n      <td>0.527845</td>\n      <td>0.0</td>\n      <td>0.001468</td>\n      <td>0.72</td>\n      <td>1.000000</td>\n      <td>0.000000</td>\n      <td>...</td>\n      <td>0.0000</td>\n      <td>0.000</td>\n      <td>0.000000</td>\n      <td>0.0</td>\n      <td>0.0</td>\n      <td>0.000000</td>\n      <td>0.0</td>\n      <td>0.0</td>\n      <td>0.0</td>\n      <td>1</td>\n    </tr>\n    <tr>\n      <th>3</th>\n      <td>0.00</td>\n      <td>0.000000</td>\n      <td>0.000000</td>\n      <td>0.0</td>\n      <td>0.530266</td>\n      <td>0.0</td>\n      <td>0.001468</td>\n      <td>0.71</td>\n      <td>1.000000</td>\n      <td>0.000000</td>\n      <td>...</td>\n      <td>0.0000</td>\n      <td>0.000</td>\n      <td>0.000000</td>\n      <td>0.0</td>\n      <td>0.0</td>\n      <td>0.000000</td>\n      <td>0.0</td>\n      <td>0.0</td>\n      <td>0.0</td>\n      <td>1</td>\n    </tr>\n    <tr>\n      <th>4</th>\n      <td>0.00</td>\n      <td>0.000000</td>\n      <td>0.000000</td>\n      <td>0.0</td>\n      <td>0.523002</td>\n      <td>0.0</td>\n      <td>0.001468</td>\n      <td>0.70</td>\n      <td>1.000000</td>\n      <td>0.000000</td>\n      <td>...</td>\n      <td>0.0000</td>\n      <td>0.000</td>\n      <td>0.000000</td>\n      <td>0.0</td>\n      <td>0.0</td>\n      <td>0.000000</td>\n      <td>0.0</td>\n      <td>0.0</td>\n      <td>0.0</td>\n      <td>1</td>\n    </tr>\n    <tr>\n      <th>...</th>\n      <td>...</td>\n      <td>...</td>\n      <td>...</td>\n      <td>...</td>\n      <td>...</td>\n      <td>...</td>\n      <td>...</td>\n      <td>...</td>\n      <td>...</td>\n      <td>...</td>\n      <td>...</td>\n      <td>...</td>\n      <td>...</td>\n      <td>...</td>\n      <td>...</td>\n      <td>...</td>\n      <td>...</td>\n      <td>...</td>\n      <td>...</td>\n      <td>...</td>\n      <td>...</td>\n    </tr>\n    <tr>\n      <th>5659</th>\n      <td>0.10</td>\n      <td>0.001364</td>\n      <td>0.400000</td>\n      <td>0.0</td>\n      <td>0.441889</td>\n      <td>0.0</td>\n      <td>0.502055</td>\n      <td>0.76</td>\n      <td>0.348315</td>\n      <td>0.018830</td>\n      <td>...</td>\n      <td>0.9375</td>\n      <td>0.125</td>\n      <td>0.266667</td>\n      <td>0.0</td>\n      <td>0.0</td>\n      <td>0.214286</td>\n      <td>0.0</td>\n      <td>0.5</td>\n      <td>1.0</td>\n      <td>3</td>\n    </tr>\n    <tr>\n      <th>5660</th>\n      <td>0.45</td>\n      <td>0.000863</td>\n      <td>0.444444</td>\n      <td>0.0</td>\n      <td>0.426150</td>\n      <td>0.0</td>\n      <td>0.502055</td>\n      <td>0.76</td>\n      <td>0.348315</td>\n      <td>0.018830</td>\n      <td>...</td>\n      <td>0.9375</td>\n      <td>0.125</td>\n      <td>0.266667</td>\n      <td>0.0</td>\n      <td>0.0</td>\n      <td>0.214286</td>\n      <td>0.0</td>\n      <td>0.5</td>\n      <td>1.0</td>\n      <td>3</td>\n    </tr>\n    <tr>\n      <th>5661</th>\n      <td>0.50</td>\n      <td>0.000043</td>\n      <td>0.522222</td>\n      <td>0.0</td>\n      <td>0.415254</td>\n      <td>0.0</td>\n      <td>0.516735</td>\n      <td>0.75</td>\n      <td>0.348315</td>\n      <td>0.018830</td>\n      <td>...</td>\n      <td>0.9375</td>\n      <td>0.125</td>\n      <td>0.266667</td>\n      <td>0.0</td>\n      <td>0.0</td>\n      <td>0.214286</td>\n      <td>0.0</td>\n      <td>0.5</td>\n      <td>1.0</td>\n      <td>3</td>\n    </tr>\n    <tr>\n      <th>5662</th>\n      <td>0.45</td>\n      <td>0.000043</td>\n      <td>0.711111</td>\n      <td>0.0</td>\n      <td>0.415254</td>\n      <td>0.0</td>\n      <td>0.516735</td>\n      <td>0.75</td>\n      <td>0.348315</td>\n      <td>0.018969</td>\n      <td>...</td>\n      <td>0.9375</td>\n      <td>0.125</td>\n      <td>0.266667</td>\n      <td>0.0</td>\n      <td>0.0</td>\n      <td>0.214286</td>\n      <td>0.0</td>\n      <td>0.5</td>\n      <td>1.0</td>\n      <td>3</td>\n    </tr>\n    <tr>\n      <th>5663</th>\n      <td>0.45</td>\n      <td>0.000043</td>\n      <td>0.711111</td>\n      <td>0.0</td>\n      <td>0.415254</td>\n      <td>0.0</td>\n      <td>0.516735</td>\n      <td>0.75</td>\n      <td>0.348315</td>\n      <td>0.018969</td>\n      <td>...</td>\n      <td>0.9375</td>\n      <td>0.125</td>\n      <td>0.266667</td>\n      <td>0.0</td>\n      <td>0.0</td>\n      <td>0.214286</td>\n      <td>0.0</td>\n      <td>0.5</td>\n      <td>1.0</td>\n      <td>3</td>\n    </tr>\n  </tbody>\n</table>\n<p>5664 rows × 24 columns</p>\n</div>"
     },
     "execution_count": 91,
     "metadata": {},
     "output_type": "execute_result"
    }
   ],
   "source": [
    "df_test = pd.concat([\n",
    "    pd.DataFrame(X_scaled, columns=X.columns), y.reset_index()], axis=1\n",
    ").drop('time', axis=1)\n",
    "df_test"
   ]
  },
  {
   "cell_type": "markdown",
   "metadata": {
    "collapsed": false
   },
   "source": [
    "## Best features"
   ]
  },
  {
   "cell_type": "code",
   "execution_count": null,
   "metadata": {
    "collapsed": false
   },
   "outputs": [
    {
     "data": {
      "text/plain": "                       Feature        Score\n14           volume_level_call  1262.550058\n10              wifi_frequency  1185.699946\n12            proximity_sensor  1041.605441\n21             ble_transmitter   945.368318\n16  volume_level_accessibility   944.282341\n11                 total_rx_gb   848.841101\n3              pressure_sensor   791.953256\n13                steps_sensor   785.705721\n9                  total_tx_gb   779.377434\n15          volume_level_music   621.247050",
      "text/html": "<div>\n<style scoped>\n    .dataframe tbody tr th:only-of-type {\n        vertical-align: middle;\n    }\n\n    .dataframe tbody tr th {\n        vertical-align: top;\n    }\n\n    .dataframe thead th {\n        text-align: right;\n    }\n</style>\n<table border=\"1\" class=\"dataframe\">\n  <thead>\n    <tr style=\"text-align: right;\">\n      <th></th>\n      <th>Feature</th>\n      <th>Score</th>\n    </tr>\n  </thead>\n  <tbody>\n    <tr>\n      <th>14</th>\n      <td>volume_level_call</td>\n      <td>1262.550058</td>\n    </tr>\n    <tr>\n      <th>10</th>\n      <td>wifi_frequency</td>\n      <td>1185.699946</td>\n    </tr>\n    <tr>\n      <th>12</th>\n      <td>proximity_sensor</td>\n      <td>1041.605441</td>\n    </tr>\n    <tr>\n      <th>21</th>\n      <td>ble_transmitter</td>\n      <td>945.368318</td>\n    </tr>\n    <tr>\n      <th>16</th>\n      <td>volume_level_accessibility</td>\n      <td>944.282341</td>\n    </tr>\n    <tr>\n      <th>11</th>\n      <td>total_rx_gb</td>\n      <td>848.841101</td>\n    </tr>\n    <tr>\n      <th>3</th>\n      <td>pressure_sensor</td>\n      <td>791.953256</td>\n    </tr>\n    <tr>\n      <th>13</th>\n      <td>steps_sensor</td>\n      <td>785.705721</td>\n    </tr>\n    <tr>\n      <th>9</th>\n      <td>total_tx_gb</td>\n      <td>779.377434</td>\n    </tr>\n    <tr>\n      <th>15</th>\n      <td>volume_level_music</td>\n      <td>621.247050</td>\n    </tr>\n  </tbody>\n</table>\n</div>"
     },
     "execution_count": 92,
     "metadata": {},
     "output_type": "execute_result"
    }
   ],
   "source": [
    "from sklearn.feature_selection import SelectKBest, chi2\n",
    "\n",
    "def best_features(df, target):\n",
    "    features = list(df.columns)\n",
    "    features.remove(target)\n",
    "\n",
    "    X = df[features]\n",
    "    y = df[target]\n",
    "\n",
    "    # apply SelectKBest class to extract top 10 best features\n",
    "    bestfeatures = SelectKBest(score_func=chi2, k='all')\n",
    "    fit = bestfeatures.fit(X, y)\n",
    "    dfscores = pd.DataFrame(fit.scores_)\n",
    "    dfcolumns = pd.DataFrame(X.columns)\n",
    "    # concat two dataframes for better visualization\n",
    "    feature_scores = pd.concat([dfcolumns, dfscores], axis=1)\n",
    "    # naming the dataframe columns\n",
    "    feature_scores.columns = ['Feature', 'Score']\n",
    "    # print 10 best features\n",
    "    return feature_scores.nlargest(10, 'Score')\n",
    "\n",
    "best_features(df_test, 'last_used_app')"
   ]
  },
  {
   "cell_type": "markdown",
   "metadata": {
    "collapsed": false
   },
   "source": [
    "## Worst features"
   ]
  },
  {
   "cell_type": "code",
   "execution_count": null,
   "metadata": {
    "collapsed": false
   },
   "outputs": [
    {
     "data": {
      "text/plain": "                      Feature       Score\n1                light_sensor   14.215015\n22                  device_id   14.693283\n4         battery_temperature  113.741227\n7               battery_level  113.828359\n19        volume_level_system  277.332229\n0         last_update_trigger  287.513745\n5           screen_brightness  336.342224\n8        wifi_signal_strength  379.430444\n2   active_notification_count  421.114055\n20              battery_state  423.202837",
      "text/html": "<div>\n<style scoped>\n    .dataframe tbody tr th:only-of-type {\n        vertical-align: middle;\n    }\n\n    .dataframe tbody tr th {\n        vertical-align: top;\n    }\n\n    .dataframe thead th {\n        text-align: right;\n    }\n</style>\n<table border=\"1\" class=\"dataframe\">\n  <thead>\n    <tr style=\"text-align: right;\">\n      <th></th>\n      <th>Feature</th>\n      <th>Score</th>\n    </tr>\n  </thead>\n  <tbody>\n    <tr>\n      <th>1</th>\n      <td>light_sensor</td>\n      <td>14.215015</td>\n    </tr>\n    <tr>\n      <th>22</th>\n      <td>device_id</td>\n      <td>14.693283</td>\n    </tr>\n    <tr>\n      <th>4</th>\n      <td>battery_temperature</td>\n      <td>113.741227</td>\n    </tr>\n    <tr>\n      <th>7</th>\n      <td>battery_level</td>\n      <td>113.828359</td>\n    </tr>\n    <tr>\n      <th>19</th>\n      <td>volume_level_system</td>\n      <td>277.332229</td>\n    </tr>\n    <tr>\n      <th>0</th>\n      <td>last_update_trigger</td>\n      <td>287.513745</td>\n    </tr>\n    <tr>\n      <th>5</th>\n      <td>screen_brightness</td>\n      <td>336.342224</td>\n    </tr>\n    <tr>\n      <th>8</th>\n      <td>wifi_signal_strength</td>\n      <td>379.430444</td>\n    </tr>\n    <tr>\n      <th>2</th>\n      <td>active_notification_count</td>\n      <td>421.114055</td>\n    </tr>\n    <tr>\n      <th>20</th>\n      <td>battery_state</td>\n      <td>423.202837</td>\n    </tr>\n  </tbody>\n</table>\n</div>"
     },
     "execution_count": 93,
     "metadata": {},
     "output_type": "execute_result"
    }
   ],
   "source": [
    "def worst_features(df, target):\n",
    "    features = list(df.columns)\n",
    "    features.remove(target)\n",
    "\n",
    "    X = df[features]\n",
    "    y = df[target]\n",
    "\n",
    "    # apply SelectKBest class to extract top 10 best features\n",
    "    bestfeatures = SelectKBest(score_func=chi2, k='all')\n",
    "    fit = bestfeatures.fit(X, y)\n",
    "    dfscores = pd.DataFrame(fit.scores_)\n",
    "    dfcolumns = pd.DataFrame(X.columns)\n",
    "    # concat two dataframes for better visualization\n",
    "    feature_scores = pd.concat([dfcolumns, dfscores], axis=1)\n",
    "    # naming the dataframe columns\n",
    "    feature_scores.columns = ['Feature', 'Score']\n",
    "    # print 10 best features\n",
    "    return feature_scores.nsmallest(10, 'Score')\n",
    "\n",
    "worst_features(df_test, 'last_used_app')"
   ]
  },
  {
   "cell_type": "markdown",
   "metadata": {
    "collapsed": false
   },
   "source": [
    "## Largest features"
   ]
  },
  {
   "cell_type": "code",
   "execution_count": null,
   "metadata": {
    "collapsed": false
   },
   "outputs": [
    {
     "data": {
      "text/plain": "<Figure size 432x288 with 1 Axes>",
      "image/png": "[encoded data removed]"
     },
     "metadata": {},
     "output_type": "display_data"
    },
    {
     "name": "stdout",
     "output_type": "stream",
     "text": [
      "Index(['total_rx_gb', 'total_tx_gb', 'steps_sensor', 'wifi_signal_strength',\n",
      "       'volume_level_accessibility', 'active_notification_count',\n",
      "       'volume_level_music', 'screen_brightness', 'battery_level',\n",
      "       'wifi_link_speed'],\n",
      "      dtype='object')\n"
     ]
    }
   ],
   "source": [
    "def largest(df, target):\n",
    "    features = list(df.columns)\n",
    "    features.remove(target)\n",
    "\n",
    "    X = df[features]\n",
    "    y = df[target]\n",
    "\n",
    "    model = RandomForestClassifier()\n",
    "    model.fit(X, y)\n",
    "    feat_importances = pd.Series(model.feature_importances_, index=X.columns)\n",
    "    feat_importances.nlargest(10).plot(kind='barh')\n",
    "    plt.show()\n",
    "    print(feat_importances.nlargest(10).index)\n",
    "\n",
    "largest(df_test, 'last_used_app')"
   ]
  },
  {
   "cell_type": "markdown",
   "metadata": {
    "collapsed": false
   },
   "source": [
    "## Smallest features"
   ]
  },
  {
   "cell_type": "code",
   "execution_count": null,
   "metadata": {
    "collapsed": false
   },
   "outputs": [
    {
     "data": {
      "text/plain": "<Figure size 432x288 with 1 Axes>",
      "image/png": "[encoded data removed]"
     },
     "metadata": {},
     "output_type": "display_data"
    },
    {
     "data": {
      "text/plain": "['volume_level_system',\n 'last_update_trigger',\n 'device_id',\n 'volume_level_call',\n 'pressure_sensor',\n 'ble_transmitter',\n 'wifi_frequency',\n 'wifi_connection',\n 'mobile_rx_gb',\n 'battery_state']"
     },
     "execution_count": 95,
     "metadata": {},
     "output_type": "execute_result"
    }
   ],
   "source": [
    "def smallest(df, target):\n",
    "    features = list(df.columns)\n",
    "    features.remove(target)\n",
    "\n",
    "    X = df[features]\n",
    "    y = df[target]\n",
    "\n",
    "    from sklearn.ensemble import ExtraTreesClassifier\n",
    "    model = RandomForestClassifier()\n",
    "    model.fit(X, y)\n",
    "    feat_importances = pd.Series(model.feature_importances_, index=X.columns)\n",
    "    feat_importances.nsmallest(10).plot(kind='barh')\n",
    "    plt.show()\n",
    "    return feat_importances.nsmallest(10).index.to_list()\n",
    "\n",
    "smallest(df_test, 'last_used_app')"
   ]
  },
  {
   "cell_type": "markdown",
   "metadata": {
    "collapsed": false
   },
   "source": [
    "# RFE"
   ]
  },
  {
   "cell_type": "code",
   "execution_count": null,
   "metadata": {
    "collapsed": false
   },
   "outputs": [
    {
     "name": "stdout",
     "output_type": "stream",
     "text": [
      "              precision    recall  f1-score   support\n",
      "\n",
      "           1       1.00      1.00      1.00       670\n",
      "           2       0.91      0.96      0.94       537\n",
      "           3       0.96      0.86      0.91       271\n",
      "           4       0.90      0.90      0.90       222\n",
      "\n",
      "    accuracy                           0.95      1700\n",
      "   macro avg       0.94      0.93      0.94      1700\n",
      "weighted avg       0.95      0.95      0.95      1700\n",
      "\n",
      "Train accuracy:\t 0.9997477295660948\n",
      "Test accuracy:\t 0.951764705882353\n"
     ]
    },
    {
     "data": {
      "text/plain": "<sklearn.metrics._plot.confusion_matrix.ConfusionMatrixDisplay at 0x184d06991c0>"
     },
     "execution_count": 96,
     "metadata": {},
     "output_type": "execute_result"
    },
    {
     "data": {
      "text/plain": "<Figure size 432x288 with 2 Axes>",
      "image/png": "[encoded data removed]"
     },
     "metadata": {},
     "output_type": "display_data"
    }
   ],
   "source": [
    "from sklearn.feature_selection import RFE\n",
    "\n",
    "model = RFE(RandomForestClassifier(), step=1).fit(X_train, y_train)\n",
    "\n",
    "# make prediction\n",
    "y_pred_model = model.predict(X_test)\n",
    "print(classification_report(y_test, y_pred_model))\n",
    "print(f'Train accuracy:\\t {model.score(X_train, y_train)}')\n",
    "print(f'Test accuracy:\\t {model.score(X_test, y_test)}')\n",
    "\n",
    "ConfusionMatrixDisplay.from_predictions(y_test, y_pred_model, cmap='Blues')"
   ]
  },
  {
   "cell_type": "code",
   "execution_count": null,
   "metadata": {
    "collapsed": false
   },
   "outputs": [
    {
     "data": {
      "text/plain": "array(['light_sensor', 'active_notification_count', 'screen_brightness',\n       'wifi_link_speed', 'battery_level', 'wifi_signal_strength',\n       'total_tx_gb', 'total_rx_gb', 'steps_sensor',\n       'volume_level_accessibility', 'battery_state'], dtype=object)"
     },
     "execution_count": 97,
     "metadata": {},
     "output_type": "execute_result"
    }
   ],
   "source": [
    "model.get_feature_names_out()"
   ]
  },
  {
   "cell_type": "code",
   "execution_count": null,
   "metadata": {
    "collapsed": false
   },
   "outputs": [
    {
     "name": "stdout",
     "output_type": "stream",
     "text": [
      "          Feature           |  Selected  | Rank \n",
      "\u001B[4mlast_update_trigger         |     No     |  12  \u001B[0m\n",
      "\u001B[4mlight_sensor                |    Yes     |  1   \u001B[0m\n",
      "\u001B[4mactive_notification_count   |    Yes     |  1   \u001B[0m\n",
      "\u001B[4mpressure_sensor             |     No     |  9   \u001B[0m\n",
      "\u001B[4mbattery_temperature         |     No     |  2   \u001B[0m\n",
      "\u001B[4mscreen_brightness           |    Yes     |  1   \u001B[0m\n",
      "\u001B[4mwifi_link_speed             |    Yes     |  1   \u001B[0m\n",
      "\u001B[4mbattery_level               |    Yes     |  1   \u001B[0m\n",
      "\u001B[4mwifi_signal_strength        |    Yes     |  1   \u001B[0m\n",
      "\u001B[4mtotal_tx_gb                 |    Yes     |  1   \u001B[0m\n",
      "\u001B[4mwifi_frequency              |     No     |  7   \u001B[0m\n",
      "\u001B[4mtotal_rx_gb                 |    Yes     |  1   \u001B[0m\n",
      "\u001B[4mproximity_sensor            |     No     |  5   \u001B[0m\n",
      "\u001B[4msteps_sensor                |    Yes     |  1   \u001B[0m\n",
      "\u001B[4mvolume_level_call           |     No     |  8   \u001B[0m\n",
      "\u001B[4mvolume_level_music          |     No     |  3   \u001B[0m\n",
      "\u001B[4mvolume_level_accessibility  |    Yes     |  1   \u001B[0m\n",
      "\u001B[4mwifi_connection             |     No     |  4   \u001B[0m\n",
      "\u001B[4mmobile_rx_gb                |     No     |  6   \u001B[0m\n",
      "\u001B[4mvolume_level_system         |     No     |  13  \u001B[0m\n",
      "\u001B[4mbattery_state               |    Yes     |  1   \u001B[0m\n",
      "\u001B[4mble_transmitter             |     No     |  10  \u001B[0m\n",
      "\u001B[4mdevice_id                   |     No     |  11  \u001B[0m\n"
     ]
    }
   ],
   "source": [
    "print(f'{\"Feature\":^28}|{\"Selected\":^12}|{\"Rank\":^6}')\n",
    "for i in range(X_train_scaled.shape[1]):\n",
    "    # print table of all summarized features\n",
    "    print('\\033[4m' + f'{df_test.columns[i]:<28}|{\"Yes\" if model.support_[i] else \"No\":^12}|{model.ranking_[i]:^6}' + '\\033[0m')"
   ]
  },
  {
   "cell_type": "markdown",
   "metadata": {
    "collapsed": false
   },
   "source": [
    "## Manual test with Random Forest"
   ]
  },
  {
   "cell_type": "code",
   "execution_count": 103,
   "outputs": [
    {
     "data": {
      "text/plain": "                     light_sensor  active_notification_count  \\\ntime                                                           \n2023-01-17 00:15:00      0.000000                       0.00   \n2023-01-17 00:30:00      0.000000                       0.00   \n2023-01-17 00:45:00      0.000000                       0.00   \n2023-01-17 01:00:00      0.000000                       0.00   \n2023-01-17 01:15:00      0.000000                       0.00   \n...                           ...                        ...   \n2023-01-26 19:00:00     21.333333                       9.00   \n2023-01-26 19:15:00     13.500000                      10.00   \n2023-01-26 19:30:00      0.666667                      11.75   \n2023-01-26 19:45:00      0.666667                      16.00   \n2023-01-26 20:00:00      0.666667                      16.00   \n\n                     screen_brightness  wifi_link_speed  battery_level  \\\ntime                                                                     \n2023-01-17 00:15:00                0.0              0.0           74.0   \n2023-01-17 00:30:00                0.0              0.0           73.0   \n2023-01-17 00:45:00                0.0              0.0           72.0   \n2023-01-17 01:00:00                0.0              0.0           71.0   \n2023-01-17 01:15:00                0.0              0.0           70.0   \n...                                ...              ...            ...   \n2023-01-26 19:00:00                0.0            341.0           76.0   \n2023-01-26 19:15:00                0.0            341.0           76.0   \n2023-01-26 19:30:00                0.0            351.0           75.0   \n2023-01-26 19:45:00                0.0            351.0           75.0   \n2023-01-26 20:00:00                0.0            351.0           75.0   \n\n                     wifi_signal_strength  total_tx_gb  total_rx_gb  \\\ntime                                                                  \n2023-01-17 00:15:00                   0.0        0.000        0.000   \n2023-01-17 00:30:00                   0.0        0.000        0.000   \n2023-01-17 00:45:00                   0.0        0.000        0.000   \n2023-01-17 01:00:00                   0.0        0.000        0.000   \n2023-01-17 01:15:00                   0.0        0.000        0.000   \n...                                   ...          ...          ...   \n2023-01-26 19:00:00                 -58.0        0.135        3.625   \n2023-01-26 19:15:00                 -58.0        0.135        3.625   \n2023-01-26 19:30:00                 -58.0        0.135        3.626   \n2023-01-26 19:45:00                 -58.0        0.136        3.626   \n2023-01-26 20:00:00                 -58.0        0.136        3.627   \n\n                     steps_sensor  volume_level_accessibility  battery_state  \ntime                                                                          \n2023-01-17 00:15:00           0.0                         0.0              1  \n2023-01-17 00:30:00           0.0                         0.0              1  \n2023-01-17 00:45:00           0.0                         0.0              1  \n2023-01-17 01:00:00           0.0                         0.0              1  \n2023-01-17 01:15:00           0.0                         0.0              1  \n...                           ...                         ...            ...  \n2023-01-26 19:00:00         586.0                         4.0              1  \n2023-01-26 19:15:00         586.0                         4.0              1  \n2023-01-26 19:30:00         586.0                         4.0              1  \n2023-01-26 19:45:00         586.0                         4.0              1  \n2023-01-26 20:00:00         586.0                         4.0              1  \n\n[5664 rows x 11 columns]",
      "text/html": "<div>\n<style scoped>\n    .dataframe tbody tr th:only-of-type {\n        vertical-align: middle;\n    }\n\n    .dataframe tbody tr th {\n        vertical-align: top;\n    }\n\n    .dataframe thead th {\n        text-align: right;\n    }\n</style>\n<table border=\"1\" class=\"dataframe\">\n  <thead>\n    <tr style=\"text-align: right;\">\n      <th></th>\n      <th>light_sensor</th>\n      <th>active_notification_count</th>\n      <th>screen_brightness</th>\n      <th>wifi_link_speed</th>\n      <th>battery_level</th>\n      <th>wifi_signal_strength</th>\n      <th>total_tx_gb</th>\n      <th>total_rx_gb</th>\n      <th>steps_sensor</th>\n      <th>volume_level_accessibility</th>\n      <th>battery_state</th>\n    </tr>\n    <tr>\n      <th>time</th>\n      <th></th>\n      <th></th>\n      <th></th>\n      <th></th>\n      <th></th>\n      <th></th>\n      <th></th>\n      <th></th>\n      <th></th>\n      <th></th>\n      <th></th>\n    </tr>\n  </thead>\n  <tbody>\n    <tr>\n      <th>2023-01-17 00:15:00</th>\n      <td>0.000000</td>\n      <td>0.00</td>\n      <td>0.0</td>\n      <td>0.0</td>\n      <td>74.0</td>\n      <td>0.0</td>\n      <td>0.000</td>\n      <td>0.000</td>\n      <td>0.0</td>\n      <td>0.0</td>\n      <td>1</td>\n    </tr>\n    <tr>\n      <th>2023-01-17 00:30:00</th>\n      <td>0.000000</td>\n      <td>0.00</td>\n      <td>0.0</td>\n      <td>0.0</td>\n      <td>73.0</td>\n      <td>0.0</td>\n      <td>0.000</td>\n      <td>0.000</td>\n      <td>0.0</td>\n      <td>0.0</td>\n      <td>1</td>\n    </tr>\n    <tr>\n      <th>2023-01-17 00:45:00</th>\n      <td>0.000000</td>\n      <td>0.00</td>\n      <td>0.0</td>\n      <td>0.0</td>\n      <td>72.0</td>\n      <td>0.0</td>\n      <td>0.000</td>\n      <td>0.000</td>\n      <td>0.0</td>\n      <td>0.0</td>\n      <td>1</td>\n    </tr>\n    <tr>\n      <th>2023-01-17 01:00:00</th>\n      <td>0.000000</td>\n      <td>0.00</td>\n      <td>0.0</td>\n      <td>0.0</td>\n      <td>71.0</td>\n      <td>0.0</td>\n      <td>0.000</td>\n      <td>0.000</td>\n      <td>0.0</td>\n      <td>0.0</td>\n      <td>1</td>\n    </tr>\n    <tr>\n      <th>2023-01-17 01:15:00</th>\n      <td>0.000000</td>\n      <td>0.00</td>\n      <td>0.0</td>\n      <td>0.0</td>\n      <td>70.0</td>\n      <td>0.0</td>\n      <td>0.000</td>\n      <td>0.000</td>\n      <td>0.0</td>\n      <td>0.0</td>\n      <td>1</td>\n    </tr>\n    <tr>\n      <th>...</th>\n      <td>...</td>\n      <td>...</td>\n      <td>...</td>\n      <td>...</td>\n      <td>...</td>\n      <td>...</td>\n      <td>...</td>\n      <td>...</td>\n      <td>...</td>\n      <td>...</td>\n      <td>...</td>\n    </tr>\n    <tr>\n      <th>2023-01-26 19:00:00</th>\n      <td>21.333333</td>\n      <td>9.00</td>\n      <td>0.0</td>\n      <td>341.0</td>\n      <td>76.0</td>\n      <td>-58.0</td>\n      <td>0.135</td>\n      <td>3.625</td>\n      <td>586.0</td>\n      <td>4.0</td>\n      <td>1</td>\n    </tr>\n    <tr>\n      <th>2023-01-26 19:15:00</th>\n      <td>13.500000</td>\n      <td>10.00</td>\n      <td>0.0</td>\n      <td>341.0</td>\n      <td>76.0</td>\n      <td>-58.0</td>\n      <td>0.135</td>\n      <td>3.625</td>\n      <td>586.0</td>\n      <td>4.0</td>\n      <td>1</td>\n    </tr>\n    <tr>\n      <th>2023-01-26 19:30:00</th>\n      <td>0.666667</td>\n      <td>11.75</td>\n      <td>0.0</td>\n      <td>351.0</td>\n      <td>75.0</td>\n      <td>-58.0</td>\n      <td>0.135</td>\n      <td>3.626</td>\n      <td>586.0</td>\n      <td>4.0</td>\n      <td>1</td>\n    </tr>\n    <tr>\n      <th>2023-01-26 19:45:00</th>\n      <td>0.666667</td>\n      <td>16.00</td>\n      <td>0.0</td>\n      <td>351.0</td>\n      <td>75.0</td>\n      <td>-58.0</td>\n      <td>0.136</td>\n      <td>3.626</td>\n      <td>586.0</td>\n      <td>4.0</td>\n      <td>1</td>\n    </tr>\n    <tr>\n      <th>2023-01-26 20:00:00</th>\n      <td>0.666667</td>\n      <td>16.00</td>\n      <td>0.0</td>\n      <td>351.0</td>\n      <td>75.0</td>\n      <td>-58.0</td>\n      <td>0.136</td>\n      <td>3.627</td>\n      <td>586.0</td>\n      <td>4.0</td>\n      <td>1</td>\n    </tr>\n  </tbody>\n</table>\n<p>5664 rows × 11 columns</p>\n</div>"
     },
     "execution_count": 103,
     "metadata": {},
     "output_type": "execute_result"
    }
   ],
   "source": [
    "X_new = X[model.get_feature_names_out()]\n",
    "X_new"
   ],
   "metadata": {
    "collapsed": false
   }
  },
  {
   "cell_type": "markdown",
   "source": [
    "## Split dataset into train and test sets"
   ],
   "metadata": {
    "collapsed": false
   }
  },
  {
   "cell_type": "code",
   "execution_count": 104,
   "outputs": [
    {
     "name": "stdout",
     "output_type": "stream",
     "text": [
      "(3964, 11) (1700, 11) (3964,) (1700,)\n"
     ]
    }
   ],
   "source": [
    "# split X and y into training and testing sets\n",
    "X_new_train, X_new_test, y_new_train, y_new_test = train_test_split(X_new, y, test_size=0.30, random_state=42, stratify=y)\n",
    "\n",
    "print(X_new_train.shape, X_new_test.shape, y_new_train.shape, y_new_test.shape)"
   ],
   "metadata": {
    "collapsed": false
   }
  },
  {
   "cell_type": "markdown",
   "source": [
    "## Random Forest (important features)"
   ],
   "metadata": {
    "collapsed": false
   }
  },
  {
   "cell_type": "code",
   "execution_count": 106,
   "outputs": [
    {
     "name": "stdout",
     "output_type": "stream",
     "text": [
      "              precision    recall  f1-score   support\n",
      "\n",
      "           1       1.00      1.00      1.00       670\n",
      "           2       0.93      0.95      0.94       537\n",
      "           3       0.94      0.86      0.90       271\n",
      "           4       0.90      0.92      0.91       222\n",
      "\n",
      "    accuracy                           0.95      1700\n",
      "   macro avg       0.94      0.93      0.94      1700\n",
      "weighted avg       0.95      0.95      0.95      1700\n",
      "\n",
      "Train accuracy:\t 0.9994954591321897\n",
      "Test accuracy:\t 0.9529411764705882\n"
     ]
    },
    {
     "data": {
      "text/plain": "<sklearn.metrics._plot.confusion_matrix.ConfusionMatrixDisplay at 0x184d04af6d0>"
     },
     "execution_count": 106,
     "metadata": {},
     "output_type": "execute_result"
    },
    {
     "data": {
      "text/plain": "<Figure size 432x288 with 2 Axes>",
      "image/png": "[encoded data removed]"
     },
     "metadata": {},
     "output_type": "display_data"
    }
   ],
   "source": [
    "# build random forest classifier\n",
    "model_rfc = RandomForestClassifier()\n",
    "# train random forest\n",
    "model_rfc.fit(X_new_train, y_new_train)\n",
    "\n",
    "# make prediction\n",
    "y_pred_model_rfc = model_rfc.predict(X_new_test)\n",
    "print(classification_report(y_new_test, y_pred_model_rfc))\n",
    "print(f'Train accuracy:\\t {model_rfc.score(X_new_train, y_new_train)}')\n",
    "print(f'Test accuracy:\\t {model_rfc.score(X_new_test, y_new_test)}')\n",
    "\n",
    "ConfusionMatrixDisplay.from_predictions(y_new_test, y_pred_model_rfc, cmap='Blues')"
   ],
   "metadata": {
    "collapsed": false
   }
  },
  {
   "cell_type": "markdown",
   "metadata": {
    "collapsed": false
   },
   "source": [
    "# SelectFromModel"
   ]
  },
  {
   "cell_type": "code",
   "execution_count": null,
   "metadata": {
    "collapsed": false
   },
   "outputs": [
    {
     "name": "stderr",
     "output_type": "stream",
     "text": [
      "C:\\Users\\lemos\\anaconda3\\lib\\site-packages\\sklearn\\linear_model\\_logistic.py:814: ConvergenceWarning: lbfgs failed to converge (status=1):\n",
      "STOP: TOTAL NO. of ITERATIONS REACHED LIMIT.\n",
      "\n",
      "Increase the number of iterations (max_iter) or scale the data as shown in:\n",
      "    https://scikit-learn.org/stable/modules/preprocessing.html\n",
      "Please also refer to the documentation for alternative solver options:\n",
      "    https://scikit-learn.org/stable/modules/linear_model.html#logistic-regression\n",
      "  n_iter_i = _check_optimize_result(\n"
     ]
    },
    {
     "data": {
      "text/plain": "array([[ 0.  , 74.  ],\n       [22.2 , 73.  ],\n       [21.8 , 72.  ],\n       ...,\n       [17.15, 75.  ],\n       [17.15, 75.  ],\n       [17.15, 75.  ]])"
     },
     "execution_count": 100,
     "metadata": {},
     "output_type": "execute_result"
    }
   ],
   "source": [
    "from sklearn.feature_selection import SelectFromModel\n",
    "from sklearn.linear_model import LogisticRegression\n",
    "\n",
    "selector = SelectFromModel(\n",
    "    estimator=LogisticRegression(),\n",
    "    threshold=0.015,\n",
    "    prefit=False,\n",
    "    norm_order=1,\n",
    "    max_features=5\n",
    ").fit(X, y)\n",
    "\n",
    "selector.transform(X)"
   ]
  },
  {
   "cell_type": "markdown",
   "metadata": {
    "collapsed": false
   },
   "source": [
    "# Coeficients"
   ]
  },
  {
   "cell_type": "code",
   "execution_count": 111,
   "metadata": {
    "collapsed": false
   },
   "outputs": [
    {
     "name": "stdout",
     "output_type": "stream",
     "text": [
      "No. of features: 24\n",
      "['active_notification_count', 'battery_level', 'battery_state', 'battery_temperature', 'ble_transmitter', 'device_id', 'last_update_trigger', 'last_used_app', 'light_sensor', 'mobile_rx_gb', 'pressure_sensor', 'proximity_sensor', 'screen_brightness', 'steps_sensor', 'total_rx_gb', 'total_tx_gb', 'volume_level_accessibility', 'volume_level_call', 'volume_level_music', 'volume_level_system', 'wifi_connection', 'wifi_frequency', 'wifi_link_speed', 'wifi_signal_strength']\n"
     ]
    },
    {
     "name": "stderr",
     "output_type": "stream",
     "text": [
      "C:\\Users\\lemos\\anaconda3\\lib\\site-packages\\sklearn\\svm\\_base.py:1206: ConvergenceWarning: Liblinear failed to converge, increase the number of iterations.\n",
      "  warnings.warn(\n",
      "C:\\Users\\lemos\\anaconda3\\lib\\site-packages\\sklearn\\utils\\deprecation.py:87: FutureWarning: Function get_feature_names is deprecated; get_feature_names is deprecated in 1.0 and will be removed in 1.2. Please use get_feature_names_out instead.\n",
      "  warnings.warn(msg, category=FutureWarning)\n"
     ]
    },
    {
     "ename": "IndexError",
     "evalue": "index 45 is out of bounds for axis 0 with size 24",
     "output_type": "error",
     "traceback": [
      "\u001B[1;31m---------------------------------------------------------------------------\u001B[0m",
      "\u001B[1;31mIndexError\u001B[0m                                Traceback (most recent call last)",
      "Input \u001B[1;32mIn [111]\u001B[0m, in \u001B[0;36m<cell line: 27>\u001B[1;34m()\u001B[0m\n\u001B[0;32m     25\u001B[0m svm \u001B[38;5;241m=\u001B[39m LinearSVC()\n\u001B[0;32m     26\u001B[0m svm\u001B[38;5;241m.\u001B[39mfit(X_train, y_train)\n\u001B[1;32m---> 27\u001B[0m \u001B[43mplot_coefficients\u001B[49m\u001B[43m(\u001B[49m\u001B[43msvm\u001B[49m\u001B[43m,\u001B[49m\u001B[43m \u001B[49m\u001B[43mcv\u001B[49m\u001B[38;5;241;43m.\u001B[39;49m\u001B[43mget_feature_names\u001B[49m\u001B[43m(\u001B[49m\u001B[43m)\u001B[49m\u001B[43m)\u001B[49m\n",
      "Input \u001B[1;32mIn [111]\u001B[0m, in \u001B[0;36mplot_coefficients\u001B[1;34m(classifier, feature_names, top_features)\u001B[0m\n\u001B[0;32m     13\u001B[0m plt\u001B[38;5;241m.\u001B[39mbar(np\u001B[38;5;241m.\u001B[39marange(\u001B[38;5;241m2\u001B[39m \u001B[38;5;241m*\u001B[39m top_features), coef[top_coefficients], color\u001B[38;5;241m=\u001B[39mcolors)\n\u001B[0;32m     14\u001B[0m feature_names \u001B[38;5;241m=\u001B[39m np\u001B[38;5;241m.\u001B[39marray(feature_names)\n\u001B[0;32m     15\u001B[0m plt\u001B[38;5;241m.\u001B[39mxticks(\n\u001B[1;32m---> 16\u001B[0m     np\u001B[38;5;241m.\u001B[39marange(\u001B[38;5;241m1\u001B[39m, \u001B[38;5;241m1\u001B[39m \u001B[38;5;241m+\u001B[39m \u001B[38;5;241m2\u001B[39m \u001B[38;5;241m*\u001B[39m top_features), \u001B[43mfeature_names\u001B[49m\u001B[43m[\u001B[49m\u001B[43mtop_coefficients\u001B[49m\u001B[43m]\u001B[49m, rotation\u001B[38;5;241m=\u001B[39m\u001B[38;5;241m60\u001B[39m, ha\u001B[38;5;241m=\u001B[39m\u001B[38;5;124m'\u001B[39m\u001B[38;5;124mright\u001B[39m\u001B[38;5;124m'\u001B[39m\n\u001B[0;32m     17\u001B[0m )\n\u001B[0;32m     18\u001B[0m plt\u001B[38;5;241m.\u001B[39mshow()\n",
      "\u001B[1;31mIndexError\u001B[0m: index 45 is out of bounds for axis 0 with size 24"
     ]
    },
    {
     "data": {
      "text/plain": "<Figure size 1080x360 with 1 Axes>",
      "image/png": "[encoded data removed]"
     },
     "metadata": {},
     "output_type": "display_data"
    }
   ],
   "source": [
    "from sklearn.feature_extraction.text import CountVectorizer\n",
    "from sklearn.svm import LinearSVC\n",
    "import numpy as np\n",
    "\n",
    "def plot_coefficients(classifier, feature_names, top_features=10):\n",
    "    coef = classifier.coef_.ravel()\n",
    "    top_positive_coefficients = np.argsort(coef)[-top_features:]\n",
    "    top_negative_coefficients = np.argsort(coef)[:top_features]\n",
    "    top_coefficients = np.hstack([top_negative_coefficients, top_positive_coefficients])\n",
    "    # create plot\n",
    "    plt.figure(figsize=(15, 5))\n",
    "    colors = ['red' if c < 0 else 'blue' for c in coef[top_coefficients]]\n",
    "    plt.bar(np.arange(2 * top_features), coef[top_coefficients], color=colors)\n",
    "    feature_names = np.array(feature_names)\n",
    "    plt.xticks(\n",
    "        np.arange(1, 1 + 2 * top_features), feature_names[top_coefficients], rotation=60, ha='right'\n",
    "    )\n",
    "    plt.show()\n",
    "\n",
    "cv = CountVectorizer()\n",
    "cv.fit(df_test)\n",
    "print (f'No. of features: {len(cv.vocabulary_)}')\n",
    "print (cv.get_feature_names())\n",
    "\n",
    "svm = LinearSVC()\n",
    "svm.fit(X_train, y_train)\n",
    "plot_coefficients(svm, cv.get_feature_names())"
   ]
  }
 ],
 "metadata": {
  "kernelspec": {
   "display_name": "FD",
   "language": "python",
   "name": "python3"
  },
  "language_info": {
   "codemirror_mode": {
    "name": "ipython",
    "version": 3
   },
   "file_extension": ".py",
   "mimetype": "text/x-python",
   "name": "python",
   "nbconvert_exporter": "python",
   "pygments_lexer": "ipython3",
   "version": "3.8.15"
  },
  "orig_nbformat": 4,
  "vscode": {
   "interpreter": {
    "hash": "361fc55018a8d54345afa37500bfc8496b5fc20eafc0a84f496d715bfbbc1222"
   }
  }
 },
 "nbformat": 4,
 "nbformat_minor": 2
}
